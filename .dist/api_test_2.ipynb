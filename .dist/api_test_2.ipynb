{
 "cells": [
  {
   "attachments": {},
   "cell_type": "markdown",
   "metadata": {},
   "source": [
    "# Data science Project"
   ]
  },
  {
   "attachments": {},
   "cell_type": "markdown",
   "metadata": {},
   "source": [
    "## Intro\n",
    "\n",
    "In this project we going to explor data about ELAL's flight history.\n",
    "The perpose is to explor if we can to predict if ELAL's flight will delayd or canceld\n",
    "\n"
   ]
  },
  {
   "attachments": {},
   "cell_type": "markdown",
   "metadata": {},
   "source": [
    "### Imports"
   ]
  },
  {
   "cell_type": "code",
   "execution_count": 3,
   "metadata": {},
   "outputs": [],
   "source": [
    "import requests\n",
    "import json\n",
    "import pandas as pd\n",
    "import numpy as np\n",
    "from datetime import datetime, timedelta\n",
    "from bs4 import BeautifulSoup\n",
    "import os\n",
    "import time"
   ]
  },
  {
   "attachments": {},
   "cell_type": "markdown",
   "metadata": {},
   "source": [
    "### Const Varibles"
   ]
  },
  {
   "cell_type": "code",
   "execution_count": 4,
   "metadata": {},
   "outputs": [],
   "source": [
    "BASE_URL='https://api.flightstats.com/flex/flightstatus/historical/rest/v3/json/'\n",
    "APP_KEY='1073eea843b49ef65cd3dedce57340e0'\n",
    "APP_ID='a55ccedd'\n",
    "ElAl_AIRCRAFTS_WEB_URL = 'https://www.elal.com/heb/about-elal/our-fleet/all-aircraft'\n",
    "FLIGHTEAR_Base_URL = 'https://www.flightera.net/en/planes/'\n",
    "\n",
    "AIRCRAFTS_DATA_FILE = 'aircrafts.json'\n",
    "FLIGHT_Data_FILE = 'flights_data.json'\n",
    "FLIGHTS_SCAN_METADATA_FILE = 'flights_scan_metadata.json'\n",
    "\n",
    "TAIL_NUMBER_FEILD_NAME = 'tail_number'\n",
    "FIRST_FLIGHT_DATE_FEILD_NAME = 'first_flight_date'\n",
    "LAST_FLIGHT_DATE_FEILD_NAME = 'last-flight_date'\n",
    "SEATS_FEILD_NAME = 'seats'\n",
    "LAST_SCANNED__DATE_FEILD_NAME = 'last_scanned_date'\n"
   ]
  },
  {
   "attachments": {},
   "cell_type": "markdown",
   "metadata": {},
   "source": [
    "Mounths dictianery used to translate month name to numbrr"
   ]
  },
  {
   "cell_type": "code",
   "execution_count": 5,
   "metadata": {},
   "outputs": [],
   "source": [
    "months = {\n",
    "        'jan': 1,\n",
    "        'feb': 2,\n",
    "        'mar': 3,\n",
    "        'apr':4,\n",
    "         'may':5,\n",
    "         'jun':6,\n",
    "         'jul':7,\n",
    "         'aug':8,\n",
    "         'sep':9,\n",
    "         'oct':10,\n",
    "         'nov':11,\n",
    "         'dec':12\n",
    "        }"
   ]
  },
  {
   "attachments": {},
   "cell_type": "markdown",
   "metadata": {},
   "source": [
    "## General functions"
   ]
  },
  {
   "attachments": {},
   "cell_type": "markdown",
   "metadata": {},
   "source": [
    "Functions that store and loads data from files"
   ]
  },
  {
   "cell_type": "code",
   "execution_count": 6,
   "metadata": {},
   "outputs": [],
   "source": [
    "def store_object_to_file(file_name,data):\n",
    "    with open(file_name, 'w') as outfile:\n",
    "        json.dump(data, outfile)"
   ]
  },
  {
   "cell_type": "code",
   "execution_count": 7,
   "metadata": {},
   "outputs": [],
   "source": [
    "def load_object_from_file(filename):\n",
    "    with open(filename) as f:\n",
    "        return json.load(f)"
   ]
  },
  {
   "cell_type": "code",
   "execution_count": 8,
   "metadata": {},
   "outputs": [],
   "source": [
    "def store_data_to_aircrafts_file(tailnumber,feild_name,data):\n",
    "    aircrafts_list = load_object_from_file(AIRCRAFTS_DATA_FILE)\n",
    "    for i,aircraft in enumerate(aircrafts_list):\n",
    "        if(tailnumber == aircraft[TAIL_NUMBER_FEILD_NAME]):\n",
    "            aircrafts_list[i][feild_name] = data\n",
    "            store_object_to_file(AIRCRAFTS_DATA_FILE,aircrafts_list)\n",
    "            return"
   ]
  },
  {
   "cell_type": "code",
   "execution_count": 9,
   "metadata": {},
   "outputs": [],
   "source": [
    "def load_data_from_aircrafts_file(tailnumber,feild_name):\n",
    "    aircrafts_list = load_object_from_file(AIRCRAFTS_DATA_FILE)\n",
    "    for aircraft in aircrafts_list:\n",
    "        if(tailnumber == aircraft[TAIL_NUMBER_FEILD_NAME]):\n",
    "            if feild_name in aircraft:\n",
    "                return aircraft[feild_name]\n",
    "            else:\n",
    "                return None"
   ]
  },
  {
   "attachments": {},
   "cell_type": "markdown",
   "metadata": {},
   "source": [
    "### API functions"
   ]
  },
  {
   "cell_type": "code",
   "execution_count": 44,
   "metadata": {},
   "outputs": [],
   "source": [
    "# \"BASE URL + flight/status/tailNumber/4x-ELA/2015/1/1?appId=b1aa7a60&appKey=ed14bb251c167a18733cccbf86105175\"\n",
    "\n",
    "def get_Flight_by_date_and_tail_number(date,tail_number, days_per_request = 1):\n",
    "    formatted_date = date.strftime(\"%Y/%m/%d\")\n",
    "\n",
    "    #URL = BASE_URL + 'flight/status/tailNumber/' + tail_number + '/' + formatted_date + '?appId=' + APP_KEY + '&appKey=' + API_KEY\n",
    "    URL = BASE_URL+'flight/status/tailNumber/'+tail_number+'/'+formatted_date+'?appId='+APP_ID+'&appKey='+APP_KEY+'&numDays='+str(days_per_request)\n",
    "    response = requests.get(URL)\n",
    "    json_res =  response.json()\n",
    "    if 'flightStatuses' in json_res: return json_res['flightStatuses'] , None\n",
    "    if('error' in json_res): return None , json_res['error']\n",
    "    return None, json_res\n"
   ]
  },
  {
   "attachments": {},
   "cell_type": "markdown",
   "metadata": {},
   "source": [
    "test the api"
   ]
  },
  {
   "cell_type": "code",
   "execution_count": 11,
   "metadata": {},
   "outputs": [
    {
     "data": {
      "text/plain": [
       "(None,\n",
       " {'error': {'httpStatusCode': 403,\n",
       "   'errorId': '8936bde3-52a6-43fa-abed-eed3cbe81453',\n",
       "   'errorMessage': 'usage limits are exceeded'}})"
      ]
     },
     "execution_count": 11,
     "metadata": {},
     "output_type": "execute_result"
    }
   ],
   "source": [
    "res = get_Flight_by_date_and_tail_number(datetime(2019,2,2),'4X-ELA')\n",
    "res"
   ]
  },
  {
   "attachments": {},
   "cell_type": "markdown",
   "metadata": {},
   "source": [
    "## Get information that we need before start to send api requests"
   ]
  },
  {
   "attachments": {},
   "cell_type": "markdown",
   "metadata": {},
   "source": [
    "To send this API request we have to know the aircradt tail number\n",
    "we will get this informaition from elal web side via crouling"
   ]
  },
  {
   "cell_type": "code",
   "execution_count": 12,
   "metadata": {},
   "outputs": [],
   "source": [
    "elal_web_res = requests.get(ElAl_AIRCRAFTS_WEB_URL)"
   ]
  },
  {
   "cell_type": "code",
   "execution_count": 13,
   "metadata": {},
   "outputs": [],
   "source": [
    "\n",
    "elal_soup = BeautifulSoup(elal_web_res.content)"
   ]
  },
  {
   "attachments": {},
   "cell_type": "markdown",
   "metadata": {},
   "source": [
    "Define functios that clean the data\n",
    "\n",
    "\n",
    "The format of right israeli tail number is '4X-' and 3 letters\n",
    "like: '$X-ABC'"
   ]
  },
  {
   "cell_type": "code",
   "execution_count": 14,
   "metadata": {},
   "outputs": [],
   "source": [
    "def clean_tail_numberst(tail_number):\n",
    "    tail_number = tail_number.upper()\n",
    "    first_instance_of_4x = tail_number.find('4X-')\n",
    "    new_tail_number = tail_number[first_instance_of_4x:first_instance_of_4x+6]\n",
    "    return new_tail_number\n",
    "\n"
   ]
  },
  {
   "cell_type": "code",
   "execution_count": 15,
   "metadata": {},
   "outputs": [],
   "source": [
    "def clean_aircraft_name(name):\n",
    "    return str(name.replace('\\u200b',''))"
   ]
  },
  {
   "cell_type": "code",
   "execution_count": 16,
   "metadata": {},
   "outputs": [],
   "source": [
    "def clean_model(model):\n",
    "    model = model.strip()\n",
    "    return model[3:]"
   ]
  },
  {
   "attachments": {},
   "cell_type": "markdown",
   "metadata": {},
   "source": [
    "Define function that return list of aircraft with ther usefull data"
   ]
  },
  {
   "cell_type": "code",
   "execution_count": 17,
   "metadata": {},
   "outputs": [],
   "source": [
    "def get_basic_aircrafts_data_list():\n",
    "    aircrafts_list=[]\n",
    "    tables_list = elal_soup.find_all('tbody')\n",
    "    headers_list = elal_soup.find_all('span',class_ = 'mat-content')\n",
    "    for j,table in enumerate(tables_list):\n",
    "        rows_list = table.findAll('tr')\n",
    "        for row in rows_list[1:]:\n",
    "            cells_list = row.findAll('td')\n",
    "            for i,cell in enumerate(cells_list[1::2]):\n",
    "                aircraft_object = {}\n",
    "                aircraft_object['tail_number'] = clean_tail_numberst(cell.get_text())\n",
    "                aircraft_object['model'] = clean_model(headers_list[j].get_text())\n",
    "                aircraft_object['name'] = clean_aircraft_name(cells_list[i].get_text())\n",
    "                aircrafts_list.append(aircraft_object)      \n",
    "    return aircrafts_list\n",
    "basic_data = get_basic_aircrafts_data_list()\n",
    "if (not os.path.exists(AIRCRAFTS_DATA_FILE)):\n",
    "    store_object_to_file(AIRCRAFTS_DATA_FILE,basic_data)\n",
    "#basic_data\n",
    "\n"
   ]
  },
  {
   "attachments": {},
   "cell_type": "markdown",
   "metadata": {},
   "source": [
    "### Get more Advanced information about aircraft that not exost in ELAL website "
   ]
  },
  {
   "attachments": {},
   "cell_type": "markdown",
   "metadata": {},
   "source": [
    "this dictianery store soap object about each aircraft\n",
    "it use to lower the http get request to flightera website becaue it will block us if we try to request each time we want more information about the same aircraft"
   ]
  },
  {
   "cell_type": "code",
   "execution_count": 18,
   "metadata": {},
   "outputs": [],
   "source": [
    "flightEra_soaps_dict = {}"
   ]
  },
  {
   "attachments": {},
   "cell_type": "markdown",
   "metadata": {},
   "source": [
    "Define function that get flightera soap object of spesific air craft\n",
    "\n",
    "if we also have soap object about this aircraft in the dict we just need to return it\n",
    "else, we create http request, convert it to soap object and store it to the dist. then return it"
   ]
  },
  {
   "cell_type": "code",
   "execution_count": 20,
   "metadata": {},
   "outputs": [],
   "source": [
    "def get_flghtera_soap_by_tail_number(tail_number): \n",
    "    if (tail_number.lower() not in flightEra_soaps_dict):       \n",
    "        URL = FLIGHTEAR_Base_URL + tail_number\n",
    "        flightera_response = requests.get(URL)\n",
    "        if (not flightera_response.status_code == 200):\n",
    "            print('Error resived data about '+tail_number+' from FLightera web sit, error code: ' + str(flightera_response.status_code))\n",
    "            return None\n",
    "        flightEra_soaps_dict[tail_number] =  BeautifulSoup(flightera_response.content)\n",
    "    \n",
    "    return flightEra_soaps_dict[tail_number]"
   ]
  },
  {
   "attachments": {},
   "cell_type": "markdown",
   "metadata": {},
   "source": [
    "## Get first  and last filght date"
   ]
  },
  {
   "attachments": {},
   "cell_type": "markdown",
   "metadata": {},
   "source": [
    "we neet to get the first time that specific aircrat fly.\n",
    "this information help us to reduse the api request we need to do because eithout it we will need to create requests for evwry day in pre known dates range and if we know the first and last flights date of the aircraft we can short the dates range"
   ]
  },
  {
   "attachments": {},
   "cell_type": "markdown",
   "metadata": {},
   "source": [
    "### Get first flight date"
   ]
  },
  {
   "cell_type": "code",
   "execution_count": 21,
   "metadata": {},
   "outputs": [],
   "source": [
    "def get_first_flight_date_from_Cache(tail_number):\n",
    "    return load_data_from_aircrafts_file(tail_number,FIRST_FLIGHT_DATE_FEILD_NAME)"
   ]
  },
  {
   "cell_type": "code",
   "execution_count": 22,
   "metadata": {},
   "outputs": [],
   "source": [
    "def store_first_flight_date_data(tail_number,first_flight_date):\n",
    "    store_data_to_aircrafts_file(tail_number,FIRST_FLIGHT_DATE_FEILD_NAME,first_flight_date)"
   ]
  },
  {
   "cell_type": "code",
   "execution_count": 23,
   "metadata": {},
   "outputs": [],
   "source": [
    "def clean_first_flight_dtate_string(date_str):\n",
    "    clean_str = date_str.replace('\\n', '')\n",
    "    clean_str = clean_str.strip()\n",
    "    clean_str = clean_str[:clean_str.find('(')]\n",
    "    clean_str = clean_str.strip()\n",
    "    return clean_str"
   ]
  },
  {
   "cell_type": "code",
   "execution_count": 24,
   "metadata": {},
   "outputs": [],
   "source": [
    "def convert_daytime_to_dict(date):\n",
    "    if (date == None):\n",
    "         return None\n",
    "    return {\n",
    "        'year' : date.year,\n",
    "        'month' : date.month,\n",
    "        'day' : date.day\n",
    "    }"
   ]
  },
  {
   "cell_type": "code",
   "execution_count": 25,
   "metadata": {},
   "outputs": [],
   "source": [
    "def get_first_flight_date_by_crowling(tail_number):\n",
    "    aircraft_soap = get_flghtera_soap_by_tail_number(tail_number.lower())\n",
    "    if(not aircraft_soap): \n",
    "        return None\n",
    "    try:\n",
    "        for td in flightEra_soaps_dict['4x-eda'].find_all('td'):\n",
    "            if(td.get_text().find('years ago') != -1):\n",
    "                date_string = td.get_text()\n",
    "        date_string = clean_first_flight_dtate_string(date_string)\n",
    "        month , year = date_string.split(' ')\n",
    "        return convert_daytime_to_dict(datetime(int(year),int(months[month.lower()]),27))\n",
    "    except:\n",
    "        return None\n",
    "    return None"
   ]
  },
  {
   "cell_type": "code",
   "execution_count": 26,
   "metadata": {},
   "outputs": [],
   "source": [
    "def get_first_flight_date_by_tailnnumber(tail_number):\n",
    "    cashed_data = get_first_flight_date_from_Cache(tail_number)\n",
    "    \n",
    "    if(cashed_data):\n",
    "        return cashed_data\n",
    "    else: \n",
    "        first_flight_date_data = get_first_flight_date_by_crowling(tail_number)\n",
    "        if(first_flight_date_data):\n",
    "            store_first_flight_date_data(tail_number,first_flight_date_data)\n",
    "            return first_flight_date_data\n",
    "        return None"
   ]
  },
  {
   "attachments": {},
   "cell_type": "markdown",
   "metadata": {},
   "source": [
    "### Get Last flight date"
   ]
  },
  {
   "cell_type": "code",
   "execution_count": 27,
   "metadata": {},
   "outputs": [],
   "source": [
    "def get_last_flight_date_from_Cache(tail_number):\n",
    "    return load_data_from_aircrafts_file(tail_number,LAST_FLIGHT_DATE_FEILD_NAME)"
   ]
  },
  {
   "cell_type": "code",
   "execution_count": 28,
   "metadata": {},
   "outputs": [],
   "source": [
    "def store_last_flight_date_data(tail_number,last_flight_date):\n",
    "    store_data_to_aircrafts_file(tail_number,LAST_FLIGHT_DATE_FEILD_NAME,last_flight_date)"
   ]
  },
  {
   "cell_type": "code",
   "execution_count": 29,
   "metadata": {},
   "outputs": [],
   "source": [
    "def clean_last_flight_month(mnt):\n",
    "    mnt = mnt.replace('\\t','')\n",
    "    mnt = mnt.strip()\n",
    "    mnt = mnt[:3]\n",
    "    return mnt.lower()"
   ]
  },
  {
   "cell_type": "code",
   "execution_count": 30,
   "metadata": {},
   "outputs": [],
   "source": [
    "def get_last_flight_date_by_crowling(tail_number):\n",
    "    aircraft_soap = get_flghtera_soap_by_tail_number(tail_number.lower())\n",
    "    if(not aircraft_soap): return None\n",
    "    try:\n",
    "        year = int(aircraft_soap.find('body').find_all('div',class_='sm:px-6')[4].find_all('dt')[0].get_text())\n",
    "        month = aircraft_soap.find('body').find_all('div',class_='sm:px-6')[4].find_all('dl')[0].find_all('dd')[0].find_all('div')[0].get_text()\n",
    "        month = clean_last_flight_month(month)\n",
    "        \n",
    "        last_flight_date = datetime(year,months[month],1)\n",
    "        return convert_daytime_to_dict(last_flight_date)\n",
    "    except:\n",
    "        return None\n",
    "    return None"
   ]
  },
  {
   "cell_type": "code",
   "execution_count": 31,
   "metadata": {},
   "outputs": [],
   "source": [
    "def get_last_flight_date_by_tailnnumber(tail_number):\n",
    "    cashed_data = get_last_flight_date_from_Cache(tail_number)\n",
    "    if(cashed_data): return cashed_data\n",
    "    else: \n",
    "        last_flight_date_data = get_last_flight_date_by_crowling(tail_number)\n",
    "        if(last_flight_date_data):\n",
    "            store_last_flight_date_data(tail_number,last_flight_date_data)\n",
    "            return last_flight_date_data\n",
    "        return None"
   ]
  },
  {
   "attachments": {},
   "cell_type": "markdown",
   "metadata": {},
   "source": [
    "## Get number of seats per aircraft"
   ]
  },
  {
   "attachments": {},
   "cell_type": "markdown",
   "metadata": {},
   "source": [
    "this information can be usefull to predict the dilay time of flight"
   ]
  },
  {
   "cell_type": "code",
   "execution_count": 32,
   "metadata": {},
   "outputs": [],
   "source": [
    "def store_seats_data(tail_number,seats_object):\n",
    "    store_data_to_aircrafts_file(tail_number,SEATS_FEILD_NAME,seats_object)"
   ]
  },
  {
   "cell_type": "code",
   "execution_count": 33,
   "metadata": {},
   "outputs": [],
   "source": [
    "def get_seats_from_Cache(tail_number):\n",
    "    return load_data_from_aircrafts_file(tail_number,SEATS_FEILD_NAME)"
   ]
  },
  {
   "cell_type": "code",
   "execution_count": 34,
   "metadata": {},
   "outputs": [],
   "source": [
    "def get_seats_by_crowling(tail_number):\n",
    "    aircraft_soap = get_flghtera_soap_by_tail_number(tail_number.lower())\n",
    "    aircraft_seat_object = {}\n",
    "    try:\n",
    "        span_list = aircraft_soap.find_all('dl')[0].find_all('div')[0].find_all('td')[9].find_all('span')\n",
    "    except:\n",
    "        return None\n",
    "    for span in span_list:\n",
    "        content  = span.get_text()\n",
    "        seat , class_ = content.split(' ')\n",
    "        aircraft_seat_object[class_] = str(seat)\n",
    "        \n",
    "    return aircraft_seat_object\n",
    "    "
   ]
  },
  {
   "cell_type": "code",
   "execution_count": 35,
   "metadata": {},
   "outputs": [],
   "source": [
    "def get_seats_by_tail_number(tail_number):\n",
    "    cashed_data = get_seats_from_Cache(tail_number)\n",
    "    if(cashed_data): return cashed_data\n",
    "    else: \n",
    "        seats_data = get_seats_by_crowling(tail_number)\n",
    "        if(seats_data):\n",
    "            store_seats_data(tail_number,seats_data)\n",
    "            return seats_data\n",
    "        return None\n",
    "        "
   ]
  },
  {
   "attachments": {},
   "cell_type": "markdown",
   "metadata": {},
   "source": [
    "### Last scanned date"
   ]
  },
  {
   "attachments": {},
   "cell_type": "markdown",
   "metadata": {},
   "source": [
    "we store the last scanned date,\n",
    "this date is the last date from all the days this air craft was active that we know the flight history of.\n",
    "\n",
    "for example if the aircraft is active from 1/1/2017 untill today and last scanned date is 1/3/2017 it's mean we have all the flights of this aircraft from 1/1/2017 to 1/3/2017.\n",
    "\n",
    "this information help us to avoid duplicate flights in our dataset and minimize the number of api requests"
   ]
  },
  {
   "cell_type": "code",
   "execution_count": 36,
   "metadata": {},
   "outputs": [],
   "source": [
    "def get_last_scanned_date_from_Cache(tail_number):\n",
    "    return load_data_from_aircrafts_file(tail_number,LAST_SCANNED__DATE_FEILD_NAME)\n",
    "    "
   ]
  },
  {
   "cell_type": "code",
   "execution_count": 37,
   "metadata": {},
   "outputs": [],
   "source": [
    "def get_last_scanned_date_of_aircraft(tail_number):\n",
    "    cashed_data = get_last_scanned_date_from_Cache(tail_number)\n",
    "    if(cashed_data): return cashed_data\n",
    "    else: \n",
    "        last_scanned_date = load_data_from_aircrafts_file(tail_number,FIRST_FLIGHT_DATE_FEILD_NAME) \n",
    "        if(last_scanned_date):\n",
    "            store_data_to_aircrafts_file(tail_number,LAST_SCANNED__DATE_FEILD_NAME,last_scanned_date)\n",
    "            return last_scanned_date\n",
    "        return None"
   ]
  },
  {
   "attachments": {},
   "cell_type": "markdown",
   "metadata": {},
   "source": [
    "## Put all this data togeter"
   ]
  },
  {
   "attachments": {},
   "cell_type": "markdown",
   "metadata": {},
   "source": [
    "Define function that get advanced information about eace air crafr\n",
    "this function call to every function that can add information about spesific aircraft"
   ]
  },
  {
   "cell_type": "code",
   "execution_count": 38,
   "metadata": {},
   "outputs": [],
   "source": [
    "def get_aircrafts_full_information():\n",
    "    aircrafts_list = get_basic_aircrafts_data_list()\n",
    "    for aircraft in aircrafts_list:\n",
    "        #Add first flight date information\n",
    "        first_flght_date_data = get_first_flight_date_by_tailnnumber(aircraft[TAIL_NUMBER_FEILD_NAME])\n",
    "        if(first_flght_date_data):\n",
    "            aircraft[FIRST_FLIGHT_DATE_FEILD_NAME] = first_flght_date_data\n",
    "\n",
    "        #Add last flight date information\n",
    "        last_flght_date_data = get_last_flight_date_by_tailnnumber(aircraft[TAIL_NUMBER_FEILD_NAME])\n",
    "        if(last_flght_date_data):\n",
    "            aircraft[LAST_FLIGHT_DATE_FEILD_NAME] = last_flght_date_data\n",
    "\n",
    "        #Add seats to airplanes data\n",
    "        seats_data = get_seats_by_tail_number(aircraft[TAIL_NUMBER_FEILD_NAME])\n",
    "        if(seats_data):\n",
    "            aircraft[SEATS_FEILD_NAME] = seats_data\n",
    "        \n",
    "        last_scanned_daate = get_last_scanned_date_of_aircraft(aircraft[TAIL_NUMBER_FEILD_NAME])\n",
    "        if(last_scanned_daate):\n",
    "            aircraft[LAST_SCANNED__DATE_FEILD_NAME] = last_scanned_daate\n",
    "\n",
    "\n",
    "\n",
    "    return aircrafts_list\n"
   ]
  },
  {
   "attachments": {},
   "cell_type": "markdown",
   "metadata": {},
   "source": [
    "We will add one more feild to the aircraft data that contain the last data that the API Checked"
   ]
  },
  {
   "attachments": {},
   "cell_type": "markdown",
   "metadata": {},
   "source": [
    "## Preview our aircrafts data"
   ]
  },
  {
   "cell_type": "code",
   "execution_count": 47,
   "metadata": {},
   "outputs": [
    {
     "data": {
      "text/html": [
       "<div>\n",
       "<style scoped>\n",
       "    .dataframe tbody tr th:only-of-type {\n",
       "        vertical-align: middle;\n",
       "    }\n",
       "\n",
       "    .dataframe tbody tr th {\n",
       "        vertical-align: top;\n",
       "    }\n",
       "\n",
       "    .dataframe thead th {\n",
       "        text-align: right;\n",
       "    }\n",
       "</style>\n",
       "<table border=\"1\" class=\"dataframe\">\n",
       "  <thead>\n",
       "    <tr style=\"text-align: right;\">\n",
       "      <th></th>\n",
       "      <th>tail_number</th>\n",
       "      <th>model</th>\n",
       "      <th>name</th>\n",
       "      <th>first_flight_date</th>\n",
       "      <th>last-flight_date</th>\n",
       "      <th>seats</th>\n",
       "      <th>last_scanned_date</th>\n",
       "    </tr>\n",
       "  </thead>\n",
       "  <tbody>\n",
       "    <tr>\n",
       "      <th>0</th>\n",
       "      <td>4X-EDA</td>\n",
       "      <td>787</td>\n",
       "      <td>אשדוד</td>\n",
       "      <td>{'year': 2017, 'month': 7, 'day': 27}</td>\n",
       "      <td>{'year': 2023, 'month': 4, 'day': 1}</td>\n",
       "      <td>{'Business': '32', 'Eco+': '28', 'Economy': '2...</td>\n",
       "      <td>{'year': 2022, 'month': 10, 'day': 27}</td>\n",
       "    </tr>\n",
       "    <tr>\n",
       "      <th>1</th>\n",
       "      <td>4X-EDB</td>\n",
       "      <td>787</td>\n",
       "      <td>ראשון לציון</td>\n",
       "      <td>{'year': 2017, 'month': 9, 'day': 27}</td>\n",
       "      <td>{'year': 2023, 'month': 4, 'day': 1}</td>\n",
       "      <td>{'Business': '32', 'Eco+': '28', 'Economy': '2...</td>\n",
       "      <td>{'year': 2022, 'month': 8, 'day': 3}</td>\n",
       "    </tr>\n",
       "    <tr>\n",
       "      <th>2</th>\n",
       "      <td>4X-EDC</td>\n",
       "      <td>787</td>\n",
       "      <td>תל אביב</td>\n",
       "      <td>{'year': 2018, 'month': 1, 'day': 27}</td>\n",
       "      <td>{'year': 2023, 'month': 4, 'day': 1}</td>\n",
       "      <td>{'Business': '32', 'Eco+': '35', 'Economy': '2...</td>\n",
       "      <td>{'year': 2022, 'month': 11, 'day': 23}</td>\n",
       "    </tr>\n",
       "    <tr>\n",
       "      <th>3</th>\n",
       "      <td>4X-EDD</td>\n",
       "      <td>787</td>\n",
       "      <td>חיפה</td>\n",
       "      <td>{'year': 2018, 'month': 2, 'day': 27}</td>\n",
       "      <td>{'year': 2023, 'month': 4, 'day': 1}</td>\n",
       "      <td>{'Business': '32', 'Eco+': '28', 'Economy': '2...</td>\n",
       "      <td>{'year': 2022, 'month': 8, 'day': 21}</td>\n",
       "    </tr>\n",
       "    <tr>\n",
       "      <th>4</th>\n",
       "      <td>4X-EDE</td>\n",
       "      <td>787</td>\n",
       "      <td>בת ים</td>\n",
       "      <td>{'year': 2018, 'month': 6, 'day': 27}</td>\n",
       "      <td>{'year': 2023, 'month': 4, 'day': 1}</td>\n",
       "      <td>{'Business': '32', 'Eco+': '28', 'Economy': '2...</td>\n",
       "      <td>{'year': 2022, 'month': 3, 'day': 28}</td>\n",
       "    </tr>\n",
       "    <tr>\n",
       "      <th>5</th>\n",
       "      <td>4X-EDF</td>\n",
       "      <td>787</td>\n",
       "      <td>רחובות</td>\n",
       "      <td>{'year': 2018, 'month': 7, 'day': 27}</td>\n",
       "      <td>{'year': 2023, 'month': 4, 'day': 1}</td>\n",
       "      <td>{'Business': '32', 'Eco+': '28', 'Economy': '2...</td>\n",
       "      <td>{'year': 2022, 'month': 1, 'day': 28}</td>\n",
       "    </tr>\n",
       "    <tr>\n",
       "      <th>6</th>\n",
       "      <td>4X-EDH</td>\n",
       "      <td>787</td>\n",
       "      <td>באר שבע</td>\n",
       "      <td>{'year': 2018, 'month': 10, 'day': 27}</td>\n",
       "      <td>{'year': 2023, 'month': 4, 'day': 1}</td>\n",
       "      <td>{'Business': '32', 'Eco+': '28', 'Economy': '2...</td>\n",
       "      <td>{'year': 2022, 'month': 4, 'day': 18}</td>\n",
       "    </tr>\n",
       "    <tr>\n",
       "      <th>7</th>\n",
       "      <td>4X-EDI</td>\n",
       "      <td>787</td>\n",
       "      <td>הרצליה</td>\n",
       "      <td>{'year': 2018, 'month': 12, 'day': 27}</td>\n",
       "      <td>{'year': 2023, 'month': 4, 'day': 1}</td>\n",
       "      <td>{'Business': '32', 'Eco+': '28', 'Economy': '2...</td>\n",
       "      <td>{'year': 2022, 'month': 6, 'day': 18}</td>\n",
       "    </tr>\n",
       "    <tr>\n",
       "      <th>8</th>\n",
       "      <td>4X-EDJ</td>\n",
       "      <td>787</td>\n",
       "      <td>כפר סבא</td>\n",
       "      <td>{'year': 2019, 'month': 3, 'day': 27}</td>\n",
       "      <td>{'year': 2023, 'month': 4, 'day': 1}</td>\n",
       "      <td>{'Business': '32', 'Eco+': '28', 'Economy': '2...</td>\n",
       "      <td>{'year': 2022, 'month': 9, 'day': 16}</td>\n",
       "    </tr>\n",
       "    <tr>\n",
       "      <th>9</th>\n",
       "      <td>4X-EDK</td>\n",
       "      <td>787</td>\n",
       "      <td>אילת</td>\n",
       "      <td>{'year': 2019, 'month': 6, 'day': 27}</td>\n",
       "      <td>{'year': 2023, 'month': 4, 'day': 1}</td>\n",
       "      <td>{'Business': '32', 'Eco+': '28', 'Economy': '2...</td>\n",
       "      <td>{'year': 2022, 'month': 12, 'day': 14}</td>\n",
       "    </tr>\n",
       "    <tr>\n",
       "      <th>10</th>\n",
       "      <td>4X-EDL</td>\n",
       "      <td>787</td>\n",
       "      <td>עכו</td>\n",
       "      <td>{'year': 2019, 'month': 7, 'day': 27}</td>\n",
       "      <td>{'year': 2023, 'month': 4, 'day': 1}</td>\n",
       "      <td>{'Business': '32', 'Eco+': '28', 'Economy': '2...</td>\n",
       "      <td>{'year': 2023, 'month': 1, 'day': 11}</td>\n",
       "    </tr>\n",
       "    <tr>\n",
       "      <th>11</th>\n",
       "      <td>4X-EDM</td>\n",
       "      <td>787</td>\n",
       "      <td>ירושלים של זהב</td>\n",
       "      <td>{'year': 2019, 'month': 9, 'day': 27}</td>\n",
       "      <td>{'year': 2023, 'month': 4, 'day': 1}</td>\n",
       "      <td>{'Business': '32', 'Eco+': '28', 'Economy': '2...</td>\n",
       "      <td>{'year': 2023, 'month': 3, 'day': 14}</td>\n",
       "    </tr>\n",
       "    <tr>\n",
       "      <th>12</th>\n",
       "      <td>4X-ERA</td>\n",
       "      <td>787</td>\n",
       "      <td>רמת השרון</td>\n",
       "      <td>{'year': 2019, 'month': 11, 'day': 27}</td>\n",
       "      <td>{'year': 2023, 'month': 4, 'day': 1}</td>\n",
       "      <td>{'Business': '20', 'Eco+': '35', 'Economy': '1...</td>\n",
       "      <td>{'year': 2023, 'month': 3, 'day': 10}</td>\n",
       "    </tr>\n",
       "    <tr>\n",
       "      <th>13</th>\n",
       "      <td>4X-ERB</td>\n",
       "      <td>787</td>\n",
       "      <td>הוד השרון</td>\n",
       "      <td>{'year': 2017, 'month': 7, 'day': 27}</td>\n",
       "      <td>{'year': 2023, 'month': 4, 'day': 1}</td>\n",
       "      <td>{'Business': '20', 'Eco+': '35', 'Economy': '1...</td>\n",
       "      <td>{'year': 2021, 'month': 1, 'day': 6}</td>\n",
       "    </tr>\n",
       "    <tr>\n",
       "      <th>14</th>\n",
       "      <td>4X-ERC</td>\n",
       "      <td>787</td>\n",
       "      <td>דליית אל כרמל</td>\n",
       "      <td>{'year': 2020, 'month': 2, 'day': 27}</td>\n",
       "      <td>{'year': 2023, 'month': 4, 'day': 1}</td>\n",
       "      <td>{'Business': '20', 'Eco+': '35', 'Economy': '1...</td>\n",
       "      <td>{'year': 2023, 'month': 3, 'day': 12}</td>\n",
       "    </tr>\n",
       "    <tr>\n",
       "      <th>15</th>\n",
       "      <td>4X-ECA</td>\n",
       "      <td>777</td>\n",
       "      <td>פתח תקווה</td>\n",
       "      <td>{'year': 2001, 'month': 1, 'day': 27}</td>\n",
       "      <td>{'year': 2020, 'month': 9, 'day': 1}</td>\n",
       "      <td>{'First': '6', 'Business': '35', 'Eco+': '34',...</td>\n",
       "      <td>{'year': 2004, 'month': 7, 'day': 9}</td>\n",
       "    </tr>\n",
       "    <tr>\n",
       "      <th>16</th>\n",
       "      <td>4X-ECB</td>\n",
       "      <td>777</td>\n",
       "      <td>נתניה</td>\n",
       "      <td>{'year': 2001, 'month': 2, 'day': 27}</td>\n",
       "      <td>{'year': 2023, 'month': 4, 'day': 1}</td>\n",
       "      <td>{'First': '6', 'Business': '35', 'Eco+': '34',...</td>\n",
       "      <td>{'year': 2004, 'month': 8, 'day': 9}</td>\n",
       "    </tr>\n",
       "    <tr>\n",
       "      <th>17</th>\n",
       "      <td>4X-ECC</td>\n",
       "      <td>777</td>\n",
       "      <td>חולון</td>\n",
       "      <td>{'year': 2001, 'month': 4, 'day': 27}</td>\n",
       "      <td>{'year': 2020, 'month': 6, 'day': 1}</td>\n",
       "      <td>{'First': '6', 'Business': '35', 'Eco+': '34',...</td>\n",
       "      <td>{'year': 2004, 'month': 10, 'day': 7}</td>\n",
       "    </tr>\n",
       "    <tr>\n",
       "      <th>18</th>\n",
       "      <td>4X-ECD</td>\n",
       "      <td>777</td>\n",
       "      <td>רמת גן</td>\n",
       "      <td>{'year': 2002, 'month': 5, 'day': 27}</td>\n",
       "      <td>{'year': 2023, 'month': 4, 'day': 1}</td>\n",
       "      <td>{'First': '6', 'Business': '35', 'Eco+': '34',...</td>\n",
       "      <td>{'year': 2005, 'month': 11, 'day': 6}</td>\n",
       "    </tr>\n",
       "    <tr>\n",
       "      <th>19</th>\n",
       "      <td>4X-ECE</td>\n",
       "      <td>777</td>\n",
       "      <td>שדרות</td>\n",
       "      <td>{'year': 2007, 'month': 6, 'day': 27}</td>\n",
       "      <td>{'year': 2020, 'month': 7, 'day': 1}</td>\n",
       "      <td>{'First': '6', 'Business': '35', 'Eco+': '34',...</td>\n",
       "      <td>{'year': 2010, 'month': 9, 'day': 8}</td>\n",
       "    </tr>\n",
       "    <tr>\n",
       "      <th>20</th>\n",
       "      <td>4X-ECF</td>\n",
       "      <td>777</td>\n",
       "      <td>קרית שמונה</td>\n",
       "      <td>{'year': 2007, 'month': 8, 'day': 27}</td>\n",
       "      <td>{'year': 2023, 'month': 4, 'day': 1}</td>\n",
       "      <td>{'First': '6', 'Business': '35', 'Eco+': '34',...</td>\n",
       "      <td>{'year': 2010, 'month': 9, 'day': 8}</td>\n",
       "    </tr>\n",
       "    <tr>\n",
       "      <th>21</th>\n",
       "      <td>4X-EKA</td>\n",
       "      <td>737-800</td>\n",
       "      <td>טבריה</td>\n",
       "      <td>{'year': 2017, 'month': 7, 'day': 27}</td>\n",
       "      <td>{'year': 2021, 'month': 9, 'day': 1}</td>\n",
       "      <td>{'Business': '16', 'Economy': '138'}</td>\n",
       "      <td>{'year': 2019, 'month': 9, 'day': 22}</td>\n",
       "    </tr>\n",
       "    <tr>\n",
       "      <th>22</th>\n",
       "      <td>4X-EKB</td>\n",
       "      <td>737-800</td>\n",
       "      <td>אשקלון</td>\n",
       "      <td>{'year': 2017, 'month': 7, 'day': 27}</td>\n",
       "      <td>{'year': 2023, 'month': 4, 'day': 1}</td>\n",
       "      <td>{'Business': '16', 'Economy': '138'}</td>\n",
       "      <td>{'year': 2019, 'month': 9, 'day': 22}</td>\n",
       "    </tr>\n",
       "    <tr>\n",
       "      <th>23</th>\n",
       "      <td>4X-EKC</td>\n",
       "      <td>737-800</td>\n",
       "      <td>בית שאן</td>\n",
       "      <td>{'year': 2017, 'month': 7, 'day': 27}</td>\n",
       "      <td>{'year': 2023, 'month': 4, 'day': 1}</td>\n",
       "      <td>{'Business': '16', 'Economy': '138'}</td>\n",
       "      <td>{'year': 2019, 'month': 9, 'day': 22}</td>\n",
       "    </tr>\n",
       "    <tr>\n",
       "      <th>24</th>\n",
       "      <td>4X-EKF</td>\n",
       "      <td>737-800</td>\n",
       "      <td>כנרת</td>\n",
       "      <td>{'year': 2008, 'month': 12, 'day': 27}</td>\n",
       "      <td>{'year': 2023, 'month': 4, 'day': 1}</td>\n",
       "      <td>{'Business': '16', 'Economy': '138'}</td>\n",
       "      <td>{'year': 2011, 'month': 2, 'day': 22}</td>\n",
       "    </tr>\n",
       "    <tr>\n",
       "      <th>25</th>\n",
       "      <td>4X-EKH</td>\n",
       "      <td>737-800</td>\n",
       "      <td>חדרה</td>\n",
       "      <td>{'year': 2009, 'month': 4, 'day': 27}</td>\n",
       "      <td>{'year': 2023, 'month': 4, 'day': 1}</td>\n",
       "      <td>{'Business': '16', 'Economy': '138'}</td>\n",
       "      <td>{'year': 2011, 'month': 6, 'day': 23}</td>\n",
       "    </tr>\n",
       "    <tr>\n",
       "      <th>26</th>\n",
       "      <td>4X-EKJ</td>\n",
       "      <td>737-800</td>\n",
       "      <td>דגניה</td>\n",
       "      <td>{'year': 2009, 'month': 5, 'day': 27}</td>\n",
       "      <td>{'year': 2023, 'month': 4, 'day': 1}</td>\n",
       "      <td>{'Business': '16', 'Economy': '138'}</td>\n",
       "      <td>{'year': 2011, 'month': 7, 'day': 23}</td>\n",
       "    </tr>\n",
       "    <tr>\n",
       "      <th>27</th>\n",
       "      <td>4X-EKL</td>\n",
       "      <td>737-800</td>\n",
       "      <td>נהלל</td>\n",
       "      <td>{'year': 2009, 'month': 6, 'day': 27}</td>\n",
       "      <td>{'year': 2023, 'month': 4, 'day': 1}</td>\n",
       "      <td>{'Business': '16', 'Economy': '138'}</td>\n",
       "      <td>{'year': 2011, 'month': 8, 'day': 23}</td>\n",
       "    </tr>\n",
       "    <tr>\n",
       "      <th>28</th>\n",
       "      <td>4X-EKT</td>\n",
       "      <td>737-800</td>\n",
       "      <td>בית שמש</td>\n",
       "      <td>{'year': 2006, 'month': 6, 'day': 27}</td>\n",
       "      <td>{'year': 2023, 'month': 4, 'day': 1}</td>\n",
       "      <td>{'Eco+': '36', 'Economy': '144'}</td>\n",
       "      <td>{'year': 2008, 'month': 8, 'day': 22}</td>\n",
       "    </tr>\n",
       "    <tr>\n",
       "      <th>29</th>\n",
       "      <td>4X-EKI</td>\n",
       "      <td>737-800</td>\n",
       "      <td>מודיעין מכבים רעות</td>\n",
       "      <td>{'year': 1999, 'month': 1, 'day': 27}</td>\n",
       "      <td>{'year': 2023, 'month': 4, 'day': 1}</td>\n",
       "      <td>{'Business': '16', 'Economy': '150'}</td>\n",
       "      <td>{'year': 2001, 'month': 3, 'day': 15}</td>\n",
       "    </tr>\n",
       "    <tr>\n",
       "      <th>30</th>\n",
       "      <td>4X-EKO</td>\n",
       "      <td>737-800</td>\n",
       "      <td>לוד</td>\n",
       "      <td>{'year': 2003, 'month': 4, 'day': 27}</td>\n",
       "      <td>{'year': 2023, 'month': 4, 'day': 1}</td>\n",
       "      <td>{'Economy': '180'}</td>\n",
       "      <td>{'year': 2005, 'month': 6, 'day': 12}</td>\n",
       "    </tr>\n",
       "    <tr>\n",
       "      <th>31</th>\n",
       "      <td>4X-EKP</td>\n",
       "      <td>737-800</td>\n",
       "      <td>נהריה</td>\n",
       "      <td>{'year': 2001, 'month': 8, 'day': 27}</td>\n",
       "      <td>{'year': 2023, 'month': 4, 'day': 1}</td>\n",
       "      <td>{'Business': '16', 'Economy': '138'}</td>\n",
       "      <td>{'year': 2003, 'month': 10, 'day': 8}</td>\n",
       "    </tr>\n",
       "    <tr>\n",
       "      <th>32</th>\n",
       "      <td>4X-EKS</td>\n",
       "      <td>737-800</td>\n",
       "      <td>קיסריה</td>\n",
       "      <td>{'year': 2008, 'month': 8, 'day': 27}</td>\n",
       "      <td>{'year': 2023, 'month': 4, 'day': 1}</td>\n",
       "      <td>{'Business': '16', 'Economy': '138'}</td>\n",
       "      <td>{'year': 2010, 'month': 10, 'day': 8}</td>\n",
       "    </tr>\n",
       "    <tr>\n",
       "      <th>33</th>\n",
       "      <td>4X-EKM</td>\n",
       "      <td>737-800</td>\n",
       "      <td>רמלה</td>\n",
       "      <td>{'year': 2000, 'month': 2, 'day': 27}</td>\n",
       "      <td>{'year': 2023, 'month': 4, 'day': 1}</td>\n",
       "      <td>{'Eco+': '36', 'Economy': '144'}</td>\n",
       "      <td>{'year': 2002, 'month': 4, 'day': 9}</td>\n",
       "    </tr>\n",
       "    <tr>\n",
       "      <th>34</th>\n",
       "      <td>4X-EKR</td>\n",
       "      <td>737-800</td>\n",
       "      <td>גבעתיים</td>\n",
       "      <td>{'year': 2000, 'month': 2, 'day': 27}</td>\n",
       "      <td>{'year': 2023, 'month': 4, 'day': 1}</td>\n",
       "      <td>{'Economy': '185'}</td>\n",
       "      <td>{'year': 2002, 'month': 4, 'day': 9}</td>\n",
       "    </tr>\n",
       "    <tr>\n",
       "      <th>35</th>\n",
       "      <td>4X-EKU</td>\n",
       "      <td>737-800</td>\n",
       "      <td>רעננה</td>\n",
       "      <td>{'year': 2006, 'month': 4, 'day': 27}</td>\n",
       "      <td>{'year': 2023, 'month': 4, 'day': 1}</td>\n",
       "      <td>{'Eco+': '36', 'Economy': '144'}</td>\n",
       "      <td>{'year': 2008, 'month': 6, 'day': 7}</td>\n",
       "    </tr>\n",
       "    <tr>\n",
       "      <th>36</th>\n",
       "      <td>4X-EKK</td>\n",
       "      <td>737-800</td>\n",
       "      <td>גבעת שמואל</td>\n",
       "      <td>{'year': 2017, 'month': 7, 'day': 27}</td>\n",
       "      <td>NaN</td>\n",
       "      <td>NaN</td>\n",
       "      <td>{'year': 2019, 'month': 9, 'day': 7}</td>\n",
       "    </tr>\n",
       "    <tr>\n",
       "      <th>37</th>\n",
       "      <td>4X-EHA</td>\n",
       "      <td>737-900</td>\n",
       "      <td>קריית אונו</td>\n",
       "      <td>{'year': 2013, 'month': 9, 'day': 27}</td>\n",
       "      <td>{'year': 2023, 'month': 4, 'day': 1}</td>\n",
       "      <td>{'Business': '16', 'Economy': '156'}</td>\n",
       "      <td>{'year': 2015, 'month': 11, 'day': 8}</td>\n",
       "    </tr>\n",
       "    <tr>\n",
       "      <th>38</th>\n",
       "      <td>4X-EHB</td>\n",
       "      <td>737-900</td>\n",
       "      <td>קריית ביאליק</td>\n",
       "      <td>{'year': 2013, 'month': 11, 'day': 27}</td>\n",
       "      <td>{'year': 2023, 'month': 4, 'day': 1}</td>\n",
       "      <td>{'Business': '16', 'Economy': '156'}</td>\n",
       "      <td>{'year': 2016, 'month': 1, 'day': 8}</td>\n",
       "    </tr>\n",
       "    <tr>\n",
       "      <th>39</th>\n",
       "      <td>4X-EHC</td>\n",
       "      <td>737-900</td>\n",
       "      <td>קריית אתא</td>\n",
       "      <td>{'year': 2014, 'month': 7, 'day': 27}</td>\n",
       "      <td>{'year': 2023, 'month': 4, 'day': 1}</td>\n",
       "      <td>{'Business': '16', 'Economy': '156'}</td>\n",
       "      <td>{'year': 2016, 'month': 9, 'day': 6}</td>\n",
       "    </tr>\n",
       "    <tr>\n",
       "      <th>40</th>\n",
       "      <td>4X-EHD</td>\n",
       "      <td>737-900</td>\n",
       "      <td>קריית גת</td>\n",
       "      <td>{'year': 2015, 'month': 2, 'day': 27}</td>\n",
       "      <td>{'year': 2023, 'month': 4, 'day': 1}</td>\n",
       "      <td>{'Business': '16', 'Economy': '156'}</td>\n",
       "      <td>{'year': 2017, 'month': 4, 'day': 9}</td>\n",
       "    </tr>\n",
       "    <tr>\n",
       "      <th>41</th>\n",
       "      <td>4X-EHE</td>\n",
       "      <td>737-900</td>\n",
       "      <td>קריית טבעון</td>\n",
       "      <td>{'year': 2014, 'month': 3, 'day': 27}</td>\n",
       "      <td>{'year': 2023, 'month': 4, 'day': 1}</td>\n",
       "      <td>{'Business': '16', 'Economy': '156'}</td>\n",
       "      <td>{'year': 2016, 'month': 5, 'day': 7}</td>\n",
       "    </tr>\n",
       "    <tr>\n",
       "      <th>42</th>\n",
       "      <td>4X-EHF</td>\n",
       "      <td>737-900</td>\n",
       "      <td>קריית ים</td>\n",
       "      <td>{'year': 2016, 'month': 2, 'day': 27}</td>\n",
       "      <td>{'year': 2023, 'month': 4, 'day': 1}</td>\n",
       "      <td>{'Business': '16', 'Economy': '159'}</td>\n",
       "      <td>{'year': 2018, 'month': 4, 'day': 9}</td>\n",
       "    </tr>\n",
       "    <tr>\n",
       "      <th>43</th>\n",
       "      <td>4X-EHH</td>\n",
       "      <td>737-900</td>\n",
       "      <td>קריית מוצקין</td>\n",
       "      <td>{'year': 2016, 'month': 2, 'day': 27}</td>\n",
       "      <td>{'year': 2023, 'month': 4, 'day': 1}</td>\n",
       "      <td>{'Business': '16', 'Economy': '156'}</td>\n",
       "      <td>{'year': 2018, 'month': 4, 'day': 9}</td>\n",
       "    </tr>\n",
       "    <tr>\n",
       "      <th>44</th>\n",
       "      <td>4X-EHI</td>\n",
       "      <td>737-900</td>\n",
       "      <td>קריית מלאכי</td>\n",
       "      <td>{'year': 2016, 'month': 3, 'day': 27}</td>\n",
       "      <td>{'year': 2023, 'month': 4, 'day': 1}</td>\n",
       "      <td>{'Business': '16', 'Economy': '156'}</td>\n",
       "      <td>{'year': 2018, 'month': 5, 'day': 8}</td>\n",
       "    </tr>\n",
       "  </tbody>\n",
       "</table>\n",
       "</div>"
      ],
      "text/plain": [
       "   tail_number    model                name  \\\n",
       "0       4X-EDA      787               אשדוד   \n",
       "1       4X-EDB      787         ראשון לציון   \n",
       "2       4X-EDC      787             תל אביב   \n",
       "3       4X-EDD      787                חיפה   \n",
       "4       4X-EDE      787               בת ים   \n",
       "5       4X-EDF      787              רחובות   \n",
       "6       4X-EDH      787             באר שבע   \n",
       "7       4X-EDI      787              הרצליה   \n",
       "8       4X-EDJ      787             כפר סבא   \n",
       "9       4X-EDK      787                אילת   \n",
       "10      4X-EDL      787                 עכו   \n",
       "11      4X-EDM      787      ירושלים של זהב   \n",
       "12      4X-ERA      787           רמת השרון   \n",
       "13      4X-ERB      787           הוד השרון   \n",
       "14      4X-ERC      787       דליית אל כרמל   \n",
       "15      4X-ECA      777           פתח תקווה   \n",
       "16      4X-ECB      777               נתניה   \n",
       "17      4X-ECC      777               חולון   \n",
       "18      4X-ECD      777              רמת גן   \n",
       "19      4X-ECE      777               שדרות   \n",
       "20      4X-ECF      777          קרית שמונה   \n",
       "21      4X-EKA  737-800               טבריה   \n",
       "22      4X-EKB  737-800              אשקלון   \n",
       "23      4X-EKC  737-800             בית שאן   \n",
       "24      4X-EKF  737-800                כנרת   \n",
       "25      4X-EKH  737-800                חדרה   \n",
       "26      4X-EKJ  737-800               דגניה   \n",
       "27      4X-EKL  737-800                נהלל   \n",
       "28      4X-EKT  737-800             בית שמש   \n",
       "29      4X-EKI  737-800  מודיעין מכבים רעות   \n",
       "30      4X-EKO  737-800                 לוד   \n",
       "31      4X-EKP  737-800               נהריה   \n",
       "32      4X-EKS  737-800              קיסריה   \n",
       "33      4X-EKM  737-800                רמלה   \n",
       "34      4X-EKR  737-800             גבעתיים   \n",
       "35      4X-EKU  737-800               רעננה   \n",
       "36      4X-EKK  737-800          גבעת שמואל   \n",
       "37      4X-EHA  737-900          קריית אונו   \n",
       "38      4X-EHB  737-900        קריית ביאליק   \n",
       "39      4X-EHC  737-900           קריית אתא   \n",
       "40      4X-EHD  737-900            קריית גת   \n",
       "41      4X-EHE  737-900         קריית טבעון   \n",
       "42      4X-EHF  737-900            קריית ים   \n",
       "43      4X-EHH  737-900        קריית מוצקין   \n",
       "44      4X-EHI  737-900         קריית מלאכי   \n",
       "\n",
       "                         first_flight_date  \\\n",
       "0    {'year': 2017, 'month': 7, 'day': 27}   \n",
       "1    {'year': 2017, 'month': 9, 'day': 27}   \n",
       "2    {'year': 2018, 'month': 1, 'day': 27}   \n",
       "3    {'year': 2018, 'month': 2, 'day': 27}   \n",
       "4    {'year': 2018, 'month': 6, 'day': 27}   \n",
       "5    {'year': 2018, 'month': 7, 'day': 27}   \n",
       "6   {'year': 2018, 'month': 10, 'day': 27}   \n",
       "7   {'year': 2018, 'month': 12, 'day': 27}   \n",
       "8    {'year': 2019, 'month': 3, 'day': 27}   \n",
       "9    {'year': 2019, 'month': 6, 'day': 27}   \n",
       "10   {'year': 2019, 'month': 7, 'day': 27}   \n",
       "11   {'year': 2019, 'month': 9, 'day': 27}   \n",
       "12  {'year': 2019, 'month': 11, 'day': 27}   \n",
       "13   {'year': 2017, 'month': 7, 'day': 27}   \n",
       "14   {'year': 2020, 'month': 2, 'day': 27}   \n",
       "15   {'year': 2001, 'month': 1, 'day': 27}   \n",
       "16   {'year': 2001, 'month': 2, 'day': 27}   \n",
       "17   {'year': 2001, 'month': 4, 'day': 27}   \n",
       "18   {'year': 2002, 'month': 5, 'day': 27}   \n",
       "19   {'year': 2007, 'month': 6, 'day': 27}   \n",
       "20   {'year': 2007, 'month': 8, 'day': 27}   \n",
       "21   {'year': 2017, 'month': 7, 'day': 27}   \n",
       "22   {'year': 2017, 'month': 7, 'day': 27}   \n",
       "23   {'year': 2017, 'month': 7, 'day': 27}   \n",
       "24  {'year': 2008, 'month': 12, 'day': 27}   \n",
       "25   {'year': 2009, 'month': 4, 'day': 27}   \n",
       "26   {'year': 2009, 'month': 5, 'day': 27}   \n",
       "27   {'year': 2009, 'month': 6, 'day': 27}   \n",
       "28   {'year': 2006, 'month': 6, 'day': 27}   \n",
       "29   {'year': 1999, 'month': 1, 'day': 27}   \n",
       "30   {'year': 2003, 'month': 4, 'day': 27}   \n",
       "31   {'year': 2001, 'month': 8, 'day': 27}   \n",
       "32   {'year': 2008, 'month': 8, 'day': 27}   \n",
       "33   {'year': 2000, 'month': 2, 'day': 27}   \n",
       "34   {'year': 2000, 'month': 2, 'day': 27}   \n",
       "35   {'year': 2006, 'month': 4, 'day': 27}   \n",
       "36   {'year': 2017, 'month': 7, 'day': 27}   \n",
       "37   {'year': 2013, 'month': 9, 'day': 27}   \n",
       "38  {'year': 2013, 'month': 11, 'day': 27}   \n",
       "39   {'year': 2014, 'month': 7, 'day': 27}   \n",
       "40   {'year': 2015, 'month': 2, 'day': 27}   \n",
       "41   {'year': 2014, 'month': 3, 'day': 27}   \n",
       "42   {'year': 2016, 'month': 2, 'day': 27}   \n",
       "43   {'year': 2016, 'month': 2, 'day': 27}   \n",
       "44   {'year': 2016, 'month': 3, 'day': 27}   \n",
       "\n",
       "                        last-flight_date  \\\n",
       "0   {'year': 2023, 'month': 4, 'day': 1}   \n",
       "1   {'year': 2023, 'month': 4, 'day': 1}   \n",
       "2   {'year': 2023, 'month': 4, 'day': 1}   \n",
       "3   {'year': 2023, 'month': 4, 'day': 1}   \n",
       "4   {'year': 2023, 'month': 4, 'day': 1}   \n",
       "5   {'year': 2023, 'month': 4, 'day': 1}   \n",
       "6   {'year': 2023, 'month': 4, 'day': 1}   \n",
       "7   {'year': 2023, 'month': 4, 'day': 1}   \n",
       "8   {'year': 2023, 'month': 4, 'day': 1}   \n",
       "9   {'year': 2023, 'month': 4, 'day': 1}   \n",
       "10  {'year': 2023, 'month': 4, 'day': 1}   \n",
       "11  {'year': 2023, 'month': 4, 'day': 1}   \n",
       "12  {'year': 2023, 'month': 4, 'day': 1}   \n",
       "13  {'year': 2023, 'month': 4, 'day': 1}   \n",
       "14  {'year': 2023, 'month': 4, 'day': 1}   \n",
       "15  {'year': 2020, 'month': 9, 'day': 1}   \n",
       "16  {'year': 2023, 'month': 4, 'day': 1}   \n",
       "17  {'year': 2020, 'month': 6, 'day': 1}   \n",
       "18  {'year': 2023, 'month': 4, 'day': 1}   \n",
       "19  {'year': 2020, 'month': 7, 'day': 1}   \n",
       "20  {'year': 2023, 'month': 4, 'day': 1}   \n",
       "21  {'year': 2021, 'month': 9, 'day': 1}   \n",
       "22  {'year': 2023, 'month': 4, 'day': 1}   \n",
       "23  {'year': 2023, 'month': 4, 'day': 1}   \n",
       "24  {'year': 2023, 'month': 4, 'day': 1}   \n",
       "25  {'year': 2023, 'month': 4, 'day': 1}   \n",
       "26  {'year': 2023, 'month': 4, 'day': 1}   \n",
       "27  {'year': 2023, 'month': 4, 'day': 1}   \n",
       "28  {'year': 2023, 'month': 4, 'day': 1}   \n",
       "29  {'year': 2023, 'month': 4, 'day': 1}   \n",
       "30  {'year': 2023, 'month': 4, 'day': 1}   \n",
       "31  {'year': 2023, 'month': 4, 'day': 1}   \n",
       "32  {'year': 2023, 'month': 4, 'day': 1}   \n",
       "33  {'year': 2023, 'month': 4, 'day': 1}   \n",
       "34  {'year': 2023, 'month': 4, 'day': 1}   \n",
       "35  {'year': 2023, 'month': 4, 'day': 1}   \n",
       "36                                   NaN   \n",
       "37  {'year': 2023, 'month': 4, 'day': 1}   \n",
       "38  {'year': 2023, 'month': 4, 'day': 1}   \n",
       "39  {'year': 2023, 'month': 4, 'day': 1}   \n",
       "40  {'year': 2023, 'month': 4, 'day': 1}   \n",
       "41  {'year': 2023, 'month': 4, 'day': 1}   \n",
       "42  {'year': 2023, 'month': 4, 'day': 1}   \n",
       "43  {'year': 2023, 'month': 4, 'day': 1}   \n",
       "44  {'year': 2023, 'month': 4, 'day': 1}   \n",
       "\n",
       "                                                seats  \\\n",
       "0   {'Business': '32', 'Eco+': '28', 'Economy': '2...   \n",
       "1   {'Business': '32', 'Eco+': '28', 'Economy': '2...   \n",
       "2   {'Business': '32', 'Eco+': '35', 'Economy': '2...   \n",
       "3   {'Business': '32', 'Eco+': '28', 'Economy': '2...   \n",
       "4   {'Business': '32', 'Eco+': '28', 'Economy': '2...   \n",
       "5   {'Business': '32', 'Eco+': '28', 'Economy': '2...   \n",
       "6   {'Business': '32', 'Eco+': '28', 'Economy': '2...   \n",
       "7   {'Business': '32', 'Eco+': '28', 'Economy': '2...   \n",
       "8   {'Business': '32', 'Eco+': '28', 'Economy': '2...   \n",
       "9   {'Business': '32', 'Eco+': '28', 'Economy': '2...   \n",
       "10  {'Business': '32', 'Eco+': '28', 'Economy': '2...   \n",
       "11  {'Business': '32', 'Eco+': '28', 'Economy': '2...   \n",
       "12  {'Business': '20', 'Eco+': '35', 'Economy': '1...   \n",
       "13  {'Business': '20', 'Eco+': '35', 'Economy': '1...   \n",
       "14  {'Business': '20', 'Eco+': '35', 'Economy': '1...   \n",
       "15  {'First': '6', 'Business': '35', 'Eco+': '34',...   \n",
       "16  {'First': '6', 'Business': '35', 'Eco+': '34',...   \n",
       "17  {'First': '6', 'Business': '35', 'Eco+': '34',...   \n",
       "18  {'First': '6', 'Business': '35', 'Eco+': '34',...   \n",
       "19  {'First': '6', 'Business': '35', 'Eco+': '34',...   \n",
       "20  {'First': '6', 'Business': '35', 'Eco+': '34',...   \n",
       "21               {'Business': '16', 'Economy': '138'}   \n",
       "22               {'Business': '16', 'Economy': '138'}   \n",
       "23               {'Business': '16', 'Economy': '138'}   \n",
       "24               {'Business': '16', 'Economy': '138'}   \n",
       "25               {'Business': '16', 'Economy': '138'}   \n",
       "26               {'Business': '16', 'Economy': '138'}   \n",
       "27               {'Business': '16', 'Economy': '138'}   \n",
       "28                   {'Eco+': '36', 'Economy': '144'}   \n",
       "29               {'Business': '16', 'Economy': '150'}   \n",
       "30                                 {'Economy': '180'}   \n",
       "31               {'Business': '16', 'Economy': '138'}   \n",
       "32               {'Business': '16', 'Economy': '138'}   \n",
       "33                   {'Eco+': '36', 'Economy': '144'}   \n",
       "34                                 {'Economy': '185'}   \n",
       "35                   {'Eco+': '36', 'Economy': '144'}   \n",
       "36                                                NaN   \n",
       "37               {'Business': '16', 'Economy': '156'}   \n",
       "38               {'Business': '16', 'Economy': '156'}   \n",
       "39               {'Business': '16', 'Economy': '156'}   \n",
       "40               {'Business': '16', 'Economy': '156'}   \n",
       "41               {'Business': '16', 'Economy': '156'}   \n",
       "42               {'Business': '16', 'Economy': '159'}   \n",
       "43               {'Business': '16', 'Economy': '156'}   \n",
       "44               {'Business': '16', 'Economy': '156'}   \n",
       "\n",
       "                         last_scanned_date  \n",
       "0   {'year': 2022, 'month': 10, 'day': 27}  \n",
       "1     {'year': 2022, 'month': 8, 'day': 3}  \n",
       "2   {'year': 2022, 'month': 11, 'day': 23}  \n",
       "3    {'year': 2022, 'month': 8, 'day': 21}  \n",
       "4    {'year': 2022, 'month': 3, 'day': 28}  \n",
       "5    {'year': 2022, 'month': 1, 'day': 28}  \n",
       "6    {'year': 2022, 'month': 4, 'day': 18}  \n",
       "7    {'year': 2022, 'month': 6, 'day': 18}  \n",
       "8    {'year': 2022, 'month': 9, 'day': 16}  \n",
       "9   {'year': 2022, 'month': 12, 'day': 14}  \n",
       "10   {'year': 2023, 'month': 1, 'day': 11}  \n",
       "11   {'year': 2023, 'month': 3, 'day': 14}  \n",
       "12   {'year': 2023, 'month': 3, 'day': 10}  \n",
       "13    {'year': 2021, 'month': 1, 'day': 6}  \n",
       "14   {'year': 2023, 'month': 3, 'day': 12}  \n",
       "15    {'year': 2004, 'month': 7, 'day': 9}  \n",
       "16    {'year': 2004, 'month': 8, 'day': 9}  \n",
       "17   {'year': 2004, 'month': 10, 'day': 7}  \n",
       "18   {'year': 2005, 'month': 11, 'day': 6}  \n",
       "19    {'year': 2010, 'month': 9, 'day': 8}  \n",
       "20    {'year': 2010, 'month': 9, 'day': 8}  \n",
       "21   {'year': 2019, 'month': 9, 'day': 22}  \n",
       "22   {'year': 2019, 'month': 9, 'day': 22}  \n",
       "23   {'year': 2019, 'month': 9, 'day': 22}  \n",
       "24   {'year': 2011, 'month': 2, 'day': 22}  \n",
       "25   {'year': 2011, 'month': 6, 'day': 23}  \n",
       "26   {'year': 2011, 'month': 7, 'day': 23}  \n",
       "27   {'year': 2011, 'month': 8, 'day': 23}  \n",
       "28   {'year': 2008, 'month': 8, 'day': 22}  \n",
       "29   {'year': 2001, 'month': 3, 'day': 15}  \n",
       "30   {'year': 2005, 'month': 6, 'day': 12}  \n",
       "31   {'year': 2003, 'month': 10, 'day': 8}  \n",
       "32   {'year': 2010, 'month': 10, 'day': 8}  \n",
       "33    {'year': 2002, 'month': 4, 'day': 9}  \n",
       "34    {'year': 2002, 'month': 4, 'day': 9}  \n",
       "35    {'year': 2008, 'month': 6, 'day': 7}  \n",
       "36    {'year': 2019, 'month': 9, 'day': 7}  \n",
       "37   {'year': 2015, 'month': 11, 'day': 8}  \n",
       "38    {'year': 2016, 'month': 1, 'day': 8}  \n",
       "39    {'year': 2016, 'month': 9, 'day': 6}  \n",
       "40    {'year': 2017, 'month': 4, 'day': 9}  \n",
       "41    {'year': 2016, 'month': 5, 'day': 7}  \n",
       "42    {'year': 2018, 'month': 4, 'day': 9}  \n",
       "43    {'year': 2018, 'month': 4, 'day': 9}  \n",
       "44    {'year': 2018, 'month': 5, 'day': 8}  "
      ]
     },
     "execution_count": 47,
     "metadata": {},
     "output_type": "execute_result"
    }
   ],
   "source": [
    "def get_airrcrafts_data_as_dataframe():\n",
    "    aircrafts_list = get_aircrafts_full_information()\n",
    "    df = pd.DataFrame(aircrafts_list)\n",
    "    return df\n",
    "aircrafts_df = get_airrcrafts_data_as_dataframe()\n",
    "aircrafts_df"
   ]
  },
  {
   "attachments": {},
   "cell_type": "markdown",
   "metadata": {},
   "source": [
    "## Start to collect data about flight "
   ]
  },
  {
   "attachments": {},
   "cell_type": "markdown",
   "metadata": {},
   "source": [
    "Define function that collect data about aircraft between 2 dates"
   ]
  },
  {
   "attachments": {},
   "cell_type": "markdown",
   "metadata": {},
   "source": [
    "we use date as dict in the formate:\n",
    "{\n",
    "    'year' : YYYY,\n",
    "    'month' : MM,\n",
    "    'day' : DD\n",
    "}"
   ]
  },
  {
   "cell_type": "code",
   "execution_count": 40,
   "metadata": {},
   "outputs": [],
   "source": [
    "def get_dates_between(start_date, end_date):\n",
    "    delta = end_date - start_date      \n",
    "    date_list = []                     \n",
    "    \n",
    "    for i in range(delta.days + 1):     \n",
    "        date_list.append(start_date + timedelta(days=i))   \n",
    "    \n",
    "    return date_list"
   ]
  },
  {
   "cell_type": "code",
   "execution_count": 41,
   "metadata": {},
   "outputs": [],
   "source": [
    "def get_new_aircraft_flights(tail_number,max_number_of_days,limit_date = None,days_per_request = 1):\n",
    "    aircrafts_list = get_aircrafts_full_information()\n",
    "    flights_list = []\n",
    "    if(os.path.exists(FLIGHT_Data_FILE)):\n",
    "        flights_list = load_object_from_file(FLIGHT_Data_FILE)\n",
    "    print('Collectiong '+tail_number+' flights')\n",
    "    for aircraft in aircrafts_list:\n",
    "        if(aircraft[TAIL_NUMBER_FEILD_NAME] == tail_number):\n",
    "            first_flight_date_dict = None\n",
    "            last_flight_date_dict = None\n",
    "            first_flight_date = datetime(2000,1,27)\n",
    "            last_flight_date = datetime.today()\n",
    "            \n",
    "            if(LAST_SCANNED__DATE_FEILD_NAME in aircraft):\n",
    "                first_flight_date_dict = aircraft[LAST_SCANNED__DATE_FEILD_NAME]\n",
    "\n",
    "            if(limit_date):\n",
    "                last_flight_date = limit_date\n",
    "\n",
    "            elif(LAST_FLIGHT_DATE_FEILD_NAME in aircraft):\n",
    "                last_flight_date_dict = aircraft[LAST_FLIGHT_DATE_FEILD_NAME]\n",
    "\n",
    "            if(first_flight_date_dict):\n",
    "                first_flight_date = datetime(int(first_flight_date_dict['year']), int(first_flight_date_dict['month']),int(first_flight_date_dict['day']) )\n",
    "            \n",
    "            if(last_flight_date_dict):\n",
    "                last_flight_date = datetime(int(last_flight_date_dict['year']),int(last_flight_date_dict['month']),int(last_flight_date_dict['day']) )\n",
    "            \n",
    "            for current_date in get_dates_between(first_flight_date,last_flight_date)[:max_number_of_days:days_per_request]:\n",
    "                print(tail_number+' '+str(current_date))\n",
    "                new_flights , error = get_Flight_by_date_and_tail_number(current_date,tail_number.upper(),days_per_request)\n",
    "                if(new_flights):\n",
    "                    flights_list.extend(new_flights)\n",
    "                    store_data_to_aircrafts_file(aircraft[TAIL_NUMBER_FEILD_NAME],LAST_SCANNED__DATE_FEILD_NAME,convert_daytime_to_dict(current_date + timedelta(1)))\n",
    "                    store_object_to_file(FLIGHT_Data_FILE,flights_list)\n",
    "                else:\n",
    "                    return flights_list , error\n",
    "                    \n",
    "            return flights_list , None\n",
    "\n"
   ]
  },
  {
   "cell_type": "code",
   "execution_count": 42,
   "metadata": {},
   "outputs": [],
   "source": [
    "def get_all_aricrafts_flights(max_number_of_days,days_per_request):\n",
    "    aircrafts_list = get_aircrafts_full_information()\n",
    "    for aircraft in aircrafts_list:\n",
    "        flights , error =get_new_aircraft_flights(aircraft[TAIL_NUMBER_FEILD_NAME],max_number_of_days,days_per_request=days_per_request)\n",
    "        if(error):\n",
    "            print(error)\n",
    "            break\n",
    "    return load_object_from_file(FLIGHT_Data_FILE)"
   ]
  },
  {
   "cell_type": "code",
   "execution_count": 46,
   "metadata": {},
   "outputs": [
    {
     "name": "stdout",
     "output_type": "stream",
     "text": [
      "Collectiong 4X-EDA flights\n",
      "4X-EDA 2022-10-27 00:00:00\n",
      "{'httpStatusCode': 403, 'errorId': '9fa12874-f19d-4aba-b72d-890dc9b8b6d6', 'errorMessage': 'usage limits are exceeded'}\n"
     ]
    },
    {
     "data": {
      "text/plain": [
       "37380"
      ]
     },
     "execution_count": 46,
     "metadata": {},
     "output_type": "execute_result"
    }
   ],
   "source": [
    "list = get_all_aricrafts_flights(400,30)\n",
    "len(list*30*2)"
   ]
  },
  {
   "attachments": {},
   "cell_type": "markdown",
   "metadata": {},
   "source": [
    "# Data Exporation"
   ]
  },
  {
   "attachments": {},
   "cell_type": "markdown",
   "metadata": {},
   "source": [
    "## Intert all flights data into dataframe"
   ]
  },
  {
   "cell_type": "code",
   "execution_count": null,
   "metadata": {},
   "outputs": [],
   "source": [
    "def get_all_flights_dataframe():\n",
    "    flights = load_object_from_file(FLIGHT_Data_FILE)\n",
    "    return pd.DataFrame(flights)\n"
   ]
  },
  {
   "attachments": {},
   "cell_type": "markdown",
   "metadata": {},
   "source": [
    "## Preview the fights data"
   ]
  },
  {
   "cell_type": "code",
   "execution_count": null,
   "metadata": {},
   "outputs": [],
   "source": [
    "flights_df = get_all_flights_dataframe()"
   ]
  },
  {
   "cell_type": "code",
   "execution_count": null,
   "metadata": {},
   "outputs": [],
   "source": [
    "\n",
    "flights_df.head()"
   ]
  },
  {
   "cell_type": "code",
   "execution_count": null,
   "metadata": {},
   "outputs": [],
   "source": [
    "flights_df.info()"
   ]
  },
  {
   "cell_type": "code",
   "execution_count": null,
   "metadata": {},
   "outputs": [],
   "source": [
    "df.describe()"
   ]
  },
  {
   "attachments": {},
   "cell_type": "markdown",
   "metadata": {},
   "source": [
    "## Add aircraft data into flights data"
   ]
  },
  {
   "attachments": {},
   "cell_type": "markdown",
   "metadata": {},
   "source": [
    "We can add more information ablur each flight if we merge out air craft data with the aircraft used in the spesific flight\n",
    "\n",
    "the next function add the air craft seats number dictionary as flight feature"
   ]
  },
  {
   "cell_type": "code",
   "execution_count": null,
   "metadata": {},
   "outputs": [],
   "source": [
    "def add_aircraft_seats_number_to_flight(flights_df, aircrafts_df):\n",
    "    flights_df[SEATS_FEILD_NAME] = aircrafts_df[SEATS_FEILD_NAME]\n",
    "    return flights_df"
   ]
  },
  {
   "cell_type": "code",
   "execution_count": null,
   "metadata": {},
   "outputs": [],
   "source": [
    "flights_df =  add_aircraft_seats_number_to_flight(flights_df,aircrafts_df)\n",
    "flights_df"
   ]
  }
 ],
 "metadata": {
  "kernelspec": {
   "display_name": "Python 3",
   "language": "python",
   "name": "python3"
  },
  "language_info": {
   "codemirror_mode": {
    "name": "ipython",
    "version": 3
   },
   "file_extension": ".py",
   "mimetype": "text/x-python",
   "name": "python",
   "nbconvert_exporter": "python",
   "pygments_lexer": "ipython3",
   "version": "3.7.9"
  },
  "orig_nbformat": 4
 },
 "nbformat": 4,
 "nbformat_minor": 2
}
