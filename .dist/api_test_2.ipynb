{
 "cells": [
  {
   "attachments": {},
   "cell_type": "markdown",
   "metadata": {},
   "source": [
    "# Data science Project"
   ]
  },
  {
   "attachments": {},
   "cell_type": "markdown",
   "metadata": {},
   "source": [
    "## Intro\n",
    "\n",
    "In this project we going to explor data about ELAL's flight history.\n",
    "The perpose is to explor if we can to predict if ELAL's flight will delayd or canceld\n",
    "\n"
   ]
  },
  {
   "attachments": {},
   "cell_type": "markdown",
   "metadata": {},
   "source": [
    "### Imports"
   ]
  },
  {
   "cell_type": "code",
   "execution_count": 3,
   "metadata": {},
   "outputs": [],
   "source": [
    "import requests\n",
    "import json\n",
    "import pandas as pd\n",
    "import numpy as np\n",
    "from datetime import datetime, timedelta\n",
    "from bs4 import BeautifulSoup\n",
    "import os\n",
    "import time"
   ]
  },
  {
   "attachments": {},
   "cell_type": "markdown",
   "metadata": {},
   "source": [
    "### Const Varibles"
   ]
  },
  {
   "cell_type": "code",
   "execution_count": 4,
   "metadata": {},
   "outputs": [],
   "source": [
    "BASE_URL='https://api.flightstats.com/flex/flightstatus/historical/rest/v3/json/'\n",
    "APP_KEY='1073eea843b49ef65cd3dedce57340e0'\n",
    "APP_ID='a55ccedd'\n",
    "ElAl_AIRCRAFTS_WEB_URL = 'https://www.elal.com/heb/about-elal/our-fleet/all-aircraft'\n",
    "FLIGHTEAR_Base_URL = 'https://www.flightera.net/en/planes/'\n",
    "\n",
    "AIRCRAFTS_DATA_FILE = 'aircrafts.json'\n",
    "FLIGHT_Data_FILE = 'flights_data.json'\n",
    "FLIGHTS_SCAN_METADATA_FILE = 'flights_scan_metadata.json'\n",
    "\n",
    "TAIL_NUMBER_FEILD_NAME = 'tail_number'\n",
    "FIRST_FLIGHT_DATE_FEILD_NAME = 'first_flight_date'\n",
    "LAST_FLIGHT_DATE_FEILD_NAME = 'last-flight_date'\n",
    "SEATS_FEILD_NAME = 'seats'\n",
    "LAST_SCANNED__DATE_FEILD_NAME = 'last_scanned_date'\n"
   ]
  },
  {
   "attachments": {},
   "cell_type": "markdown",
   "metadata": {},
   "source": [
    "Mounths dictianery used to translate month name to numbrr"
   ]
  },
  {
   "cell_type": "code",
   "execution_count": 5,
   "metadata": {},
   "outputs": [],
   "source": [
    "months = {\n",
    "        'jan': 1,\n",
    "        'feb': 2,\n",
    "        'mar': 3,\n",
    "        'apr':4,\n",
    "         'may':5,\n",
    "         'jun':6,\n",
    "         'jul':7,\n",
    "         'aug':8,\n",
    "         'sep':9,\n",
    "         'oct':10,\n",
    "         'nov':11,\n",
    "         'dec':12\n",
    "        }"
   ]
  },
  {
   "attachments": {},
   "cell_type": "markdown",
   "metadata": {},
   "source": [
    "## General functions"
   ]
  },
  {
   "attachments": {},
   "cell_type": "markdown",
   "metadata": {},
   "source": [
    "Functions that store and loads data from files"
   ]
  },
  {
   "cell_type": "code",
   "execution_count": 6,
   "metadata": {},
   "outputs": [],
   "source": [
    "def store_object_to_file(file_name,data):\n",
    "    with open(file_name, 'w') as outfile:\n",
    "        json.dump(data, outfile)"
   ]
  },
  {
   "cell_type": "code",
   "execution_count": 69,
   "metadata": {},
   "outputs": [],
   "source": [
    "def load_object_from_file(filename):\n",
    "    if(not os.path.exists(filename)):\n",
    "        return None\n",
    "    with open(filename) as f:\n",
    "        return json.load(f)"
   ]
  },
  {
   "cell_type": "code",
   "execution_count": 71,
   "metadata": {},
   "outputs": [],
   "source": [
    "def store_data_to_aircrafts_file(tailnumber,feild_name,data):\n",
    "    aircrafts_list = load_object_from_file(AIRCRAFTS_DATA_FILE)\n",
    "    if(not aircrafts_list):\n",
    "        aircrafts_list = []\n",
    "    for i,aircraft in enumerate(aircrafts_list):\n",
    "        if(tailnumber == aircraft[TAIL_NUMBER_FEILD_NAME]):\n",
    "            aircrafts_list[i][feild_name] = data\n",
    "            store_object_to_file(AIRCRAFTS_DATA_FILE,aircrafts_list)\n",
    "            return"
   ]
  },
  {
   "cell_type": "code",
   "execution_count": 67,
   "metadata": {},
   "outputs": [],
   "source": [
    "def load_data_from_aircrafts_file(tailnumber,feild_name):\n",
    "    if(not os.path.exists(AIRCRAFTS_DATA_FILE)):\n",
    "        return None\n",
    "    aircrafts_list = load_object_from_file(AIRCRAFTS_DATA_FILE)\n",
    "    for aircraft in aircrafts_list:\n",
    "        if(tailnumber == aircraft[TAIL_NUMBER_FEILD_NAME]):\n",
    "            if feild_name in aircraft:\n",
    "                return aircraft[feild_name]\n",
    "            else:\n",
    "                return None"
   ]
  },
  {
   "attachments": {},
   "cell_type": "markdown",
   "metadata": {},
   "source": [
    "### API functions"
   ]
  },
  {
   "cell_type": "code",
   "execution_count": 44,
   "metadata": {},
   "outputs": [],
   "source": [
    "# \"BASE URL + flight/status/tailNumber/4x-ELA/2015/1/1?appId=b1aa7a60&appKey=ed14bb251c167a18733cccbf86105175\"\n",
    "\n",
    "def get_Flight_by_date_and_tail_number(date,tail_number, days_per_request = 1):\n",
    "    formatted_date = date.strftime(\"%Y/%m/%d\")\n",
    "\n",
    "    #URL = BASE_URL + 'flight/status/tailNumber/' + tail_number + '/' + formatted_date + '?appId=' + APP_KEY + '&appKey=' + API_KEY\n",
    "    URL = BASE_URL+'flight/status/tailNumber/'+tail_number+'/'+formatted_date+'?appId='+APP_ID+'&appKey='+APP_KEY+'&numDays='+str(days_per_request)\n",
    "    response = requests.get(URL)\n",
    "    json_res =  response.json()\n",
    "    if 'flightStatuses' in json_res: return json_res['flightStatuses'] , None\n",
    "    if('error' in json_res): return None , json_res['error']\n",
    "    return None, json_res\n"
   ]
  },
  {
   "attachments": {},
   "cell_type": "markdown",
   "metadata": {},
   "source": [
    "test the api"
   ]
  },
  {
   "cell_type": "code",
   "execution_count": 11,
   "metadata": {},
   "outputs": [
    {
     "data": {
      "text/plain": [
       "(None,\n",
       " {'error': {'httpStatusCode': 403,\n",
       "   'errorId': '8936bde3-52a6-43fa-abed-eed3cbe81453',\n",
       "   'errorMessage': 'usage limits are exceeded'}})"
      ]
     },
     "execution_count": 11,
     "metadata": {},
     "output_type": "execute_result"
    }
   ],
   "source": [
    "res = get_Flight_by_date_and_tail_number(datetime(2019,2,2),'4X-ELA')\n",
    "res"
   ]
  },
  {
   "attachments": {},
   "cell_type": "markdown",
   "metadata": {},
   "source": [
    "## Get information that we need before start to send api requests"
   ]
  },
  {
   "attachments": {},
   "cell_type": "markdown",
   "metadata": {},
   "source": [
    "To send this API request we have to know the aircradt tail number\n",
    "we will get this informaition from elal web side via crouling"
   ]
  },
  {
   "cell_type": "code",
   "execution_count": 12,
   "metadata": {},
   "outputs": [],
   "source": [
    "elal_web_res = requests.get(ElAl_AIRCRAFTS_WEB_URL)"
   ]
  },
  {
   "cell_type": "code",
   "execution_count": 13,
   "metadata": {},
   "outputs": [],
   "source": [
    "\n",
    "elal_soup = BeautifulSoup(elal_web_res.content)"
   ]
  },
  {
   "attachments": {},
   "cell_type": "markdown",
   "metadata": {},
   "source": [
    "Define functios that clean the data\n",
    "\n",
    "\n",
    "The format of right israeli tail number is '4X-' and 3 letters\n",
    "like: '$X-ABC'"
   ]
  },
  {
   "cell_type": "code",
   "execution_count": 14,
   "metadata": {},
   "outputs": [],
   "source": [
    "def clean_tail_numberst(tail_number):\n",
    "    tail_number = tail_number.upper()\n",
    "    first_instance_of_4x = tail_number.find('4X-')\n",
    "    new_tail_number = tail_number[first_instance_of_4x:first_instance_of_4x+6]\n",
    "    return new_tail_number\n",
    "\n"
   ]
  },
  {
   "cell_type": "code",
   "execution_count": 15,
   "metadata": {},
   "outputs": [],
   "source": [
    "def clean_aircraft_name(name):\n",
    "    return str(name.replace('\\u200b',''))"
   ]
  },
  {
   "cell_type": "code",
   "execution_count": 16,
   "metadata": {},
   "outputs": [],
   "source": [
    "def clean_model(model):\n",
    "    model = model.strip()\n",
    "    return model[3:]"
   ]
  },
  {
   "attachments": {},
   "cell_type": "markdown",
   "metadata": {},
   "source": [
    "Define function that return list of aircraft with ther usefull data"
   ]
  },
  {
   "cell_type": "code",
   "execution_count": 74,
   "metadata": {},
   "outputs": [],
   "source": [
    "def get_basic_aircrafts_data_list():\n",
    "    if(os.path.exists(AIRCRAFTS_DATA_FILE)):\n",
    "        return load_object_from_file(AIRCRAFTS_DATA_FILE)\n",
    "    \n",
    "    aircrafts_list=[]\n",
    "    tables_list = elal_soup.find_all('tbody')\n",
    "    headers_list = elal_soup.find_all('span',class_ = 'mat-content')\n",
    "    for j,table in enumerate(tables_list):\n",
    "        rows_list = table.findAll('tr')\n",
    "        for row in rows_list[1:]:\n",
    "            cells_list = row.findAll('td')\n",
    "            for i,cell in enumerate(cells_list[1::2]):\n",
    "                aircraft_object = {}\n",
    "                aircraft_object['tail_number'] = clean_tail_numberst(cell.get_text())\n",
    "                aircraft_object['model'] = clean_model(headers_list[j].get_text())\n",
    "                aircraft_object['name'] = clean_aircraft_name(cells_list[i].get_text())\n",
    "                aircrafts_list.append(aircraft_object) \n",
    "\n",
    "    if (not os.path.exists(AIRCRAFTS_DATA_FILE)):\n",
    "        store_object_to_file(AIRCRAFTS_DATA_FILE,aircrafts_list)   \n",
    "    return aircrafts_list\n",
    "\n",
    "#basic_data\n",
    "\n"
   ]
  },
  {
   "attachments": {},
   "cell_type": "markdown",
   "metadata": {},
   "source": [
    "### Get more Advanced information about aircraft that not exost in ELAL website "
   ]
  },
  {
   "attachments": {},
   "cell_type": "markdown",
   "metadata": {},
   "source": [
    "this dictianery store soap object about each aircraft\n",
    "it use to lower the http get request to flightera website becaue it will block us if we try to request each time we want more information about the same aircraft"
   ]
  },
  {
   "cell_type": "code",
   "execution_count": 18,
   "metadata": {},
   "outputs": [],
   "source": [
    "flightEra_soaps_dict = {}"
   ]
  },
  {
   "attachments": {},
   "cell_type": "markdown",
   "metadata": {},
   "source": [
    "Define function that get flightera soap object of spesific air craft\n",
    "\n",
    "if we also have soap object about this aircraft in the dict we just need to return it\n",
    "else, we create http request, convert it to soap object and store it to the dist. then return it"
   ]
  },
  {
   "cell_type": "code",
   "execution_count": 20,
   "metadata": {},
   "outputs": [],
   "source": [
    "def get_flghtera_soap_by_tail_number(tail_number): \n",
    "    if (tail_number.lower() not in flightEra_soaps_dict):       \n",
    "        URL = FLIGHTEAR_Base_URL + tail_number\n",
    "        flightera_response = requests.get(URL)\n",
    "        if (not flightera_response.status_code == 200):\n",
    "            print('Error resived data about '+tail_number+' from FLightera web sit, error code: ' + str(flightera_response.status_code))\n",
    "            return None\n",
    "        flightEra_soaps_dict[tail_number] =  BeautifulSoup(flightera_response.content)\n",
    "    \n",
    "    return flightEra_soaps_dict[tail_number]"
   ]
  },
  {
   "attachments": {},
   "cell_type": "markdown",
   "metadata": {},
   "source": [
    "## Get first  and last filght date"
   ]
  },
  {
   "attachments": {},
   "cell_type": "markdown",
   "metadata": {},
   "source": [
    "we neet to get the first time that specific aircrat fly.\n",
    "this information help us to reduse the api request we need to do because eithout it we will need to create requests for evwry day in pre known dates range and if we know the first and last flights date of the aircraft we can short the dates range"
   ]
  },
  {
   "attachments": {},
   "cell_type": "markdown",
   "metadata": {},
   "source": [
    "### Get first flight date"
   ]
  },
  {
   "cell_type": "code",
   "execution_count": 21,
   "metadata": {},
   "outputs": [],
   "source": [
    "def get_first_flight_date_from_Cache(tail_number):\n",
    "    return load_data_from_aircrafts_file(tail_number,FIRST_FLIGHT_DATE_FEILD_NAME)"
   ]
  },
  {
   "cell_type": "code",
   "execution_count": 22,
   "metadata": {},
   "outputs": [],
   "source": [
    "def store_first_flight_date_data(tail_number,first_flight_date):\n",
    "    store_data_to_aircrafts_file(tail_number,FIRST_FLIGHT_DATE_FEILD_NAME,first_flight_date)"
   ]
  },
  {
   "cell_type": "code",
   "execution_count": 23,
   "metadata": {},
   "outputs": [],
   "source": [
    "def clean_first_flight_dtate_string(date_str):\n",
    "    clean_str = date_str.replace('\\n', '')\n",
    "    clean_str = clean_str.strip()\n",
    "    clean_str = clean_str[:clean_str.find('(')]\n",
    "    clean_str = clean_str.strip()\n",
    "    return clean_str"
   ]
  },
  {
   "cell_type": "code",
   "execution_count": 24,
   "metadata": {},
   "outputs": [],
   "source": [
    "def convert_daytime_to_dict(date):\n",
    "    if (date == None):\n",
    "         return None\n",
    "    return {\n",
    "        'year' : date.year,\n",
    "        'month' : date.month,\n",
    "        'day' : date.day\n",
    "    }"
   ]
  },
  {
   "cell_type": "code",
   "execution_count": 61,
   "metadata": {},
   "outputs": [],
   "source": [
    "def get_first_flight_date_by_crowling(tail_number):\n",
    "    aircraft_soap = get_flghtera_soap_by_tail_number(tail_number.lower())\n",
    "    if(not aircraft_soap): \n",
    "        return None\n",
    "    try:\n",
    "        for td in aircraft_soap.find_all('td'):\n",
    "            if(td.get_text().find('years ago') != -1):\n",
    "                date_string = td.get_text()\n",
    "        date_string = clean_first_flight_dtate_string(date_string)\n",
    "        month , year = date_string.split(' ')\n",
    "        return convert_daytime_to_dict(datetime(int(year),int(months[month.lower()]),27))\n",
    "    except:\n",
    "        return None\n",
    "    return None"
   ]
  },
  {
   "cell_type": "code",
   "execution_count": 26,
   "metadata": {},
   "outputs": [],
   "source": [
    "def get_first_flight_date_by_tailnnumber(tail_number):\n",
    "    cashed_data = get_first_flight_date_from_Cache(tail_number)\n",
    "    \n",
    "    if(cashed_data):\n",
    "        return cashed_data\n",
    "    else: \n",
    "        first_flight_date_data = get_first_flight_date_by_crowling(tail_number)\n",
    "        if(first_flight_date_data):\n",
    "            store_first_flight_date_data(tail_number,first_flight_date_data)\n",
    "            return first_flight_date_data\n",
    "        return None"
   ]
  },
  {
   "attachments": {},
   "cell_type": "markdown",
   "metadata": {},
   "source": [
    "### Get Last flight date"
   ]
  },
  {
   "cell_type": "code",
   "execution_count": 27,
   "metadata": {},
   "outputs": [],
   "source": [
    "def get_last_flight_date_from_Cache(tail_number):\n",
    "    return load_data_from_aircrafts_file(tail_number,LAST_FLIGHT_DATE_FEILD_NAME)"
   ]
  },
  {
   "cell_type": "code",
   "execution_count": 28,
   "metadata": {},
   "outputs": [],
   "source": [
    "def store_last_flight_date_data(tail_number,last_flight_date):\n",
    "    store_data_to_aircrafts_file(tail_number,LAST_FLIGHT_DATE_FEILD_NAME,last_flight_date)"
   ]
  },
  {
   "cell_type": "code",
   "execution_count": 29,
   "metadata": {},
   "outputs": [],
   "source": [
    "def clean_last_flight_month(mnt):\n",
    "    mnt = mnt.replace('\\t','')\n",
    "    mnt = mnt.strip()\n",
    "    mnt = mnt[:3]\n",
    "    return mnt.lower()"
   ]
  },
  {
   "cell_type": "code",
   "execution_count": 30,
   "metadata": {},
   "outputs": [],
   "source": [
    "def get_last_flight_date_by_crowling(tail_number):\n",
    "    aircraft_soap = get_flghtera_soap_by_tail_number(tail_number.lower())\n",
    "    if(not aircraft_soap): return None\n",
    "    try:\n",
    "        year = int(aircraft_soap.find('body').find_all('div',class_='sm:px-6')[4].find_all('dt')[0].get_text())\n",
    "        month = aircraft_soap.find('body').find_all('div',class_='sm:px-6')[4].find_all('dl')[0].find_all('dd')[0].find_all('div')[0].get_text()\n",
    "        month = clean_last_flight_month(month)\n",
    "        \n",
    "        last_flight_date = datetime(year,months[month],1)\n",
    "        return convert_daytime_to_dict(last_flight_date)\n",
    "    except:\n",
    "        return None\n",
    "    return None"
   ]
  },
  {
   "cell_type": "code",
   "execution_count": 31,
   "metadata": {},
   "outputs": [],
   "source": [
    "def get_last_flight_date_by_tailnnumber(tail_number):\n",
    "    cashed_data = get_last_flight_date_from_Cache(tail_number)\n",
    "    if(cashed_data): return cashed_data\n",
    "    else: \n",
    "        last_flight_date_data = get_last_flight_date_by_crowling(tail_number)\n",
    "        if(last_flight_date_data):\n",
    "            store_last_flight_date_data(tail_number,last_flight_date_data)\n",
    "            return last_flight_date_data\n",
    "        return None"
   ]
  },
  {
   "attachments": {},
   "cell_type": "markdown",
   "metadata": {},
   "source": [
    "## Get number of seats per aircraft"
   ]
  },
  {
   "attachments": {},
   "cell_type": "markdown",
   "metadata": {},
   "source": [
    "this information can be usefull to predict the dilay time of flight"
   ]
  },
  {
   "cell_type": "code",
   "execution_count": 32,
   "metadata": {},
   "outputs": [],
   "source": [
    "def store_seats_data(tail_number,seats_object):\n",
    "    store_data_to_aircrafts_file(tail_number,SEATS_FEILD_NAME,seats_object)"
   ]
  },
  {
   "cell_type": "code",
   "execution_count": 33,
   "metadata": {},
   "outputs": [],
   "source": [
    "def get_seats_from_Cache(tail_number):\n",
    "    return load_data_from_aircrafts_file(tail_number,SEATS_FEILD_NAME)"
   ]
  },
  {
   "cell_type": "code",
   "execution_count": 101,
   "metadata": {},
   "outputs": [
    {
     "name": "stdout",
     "output_type": "stream",
     "text": [
      "['35 Business', '34 Eco+', '204 Economy']\n"
     ]
    }
   ],
   "source": [
    "\n",
    "\n",
    "for td in flightEra_soaps_dict['4x-ecf'].find_all('td'):\n",
    "    if(td.get_text().find('seats') != -1):\n",
    "        strings = td.get_text().split('\\n')\n",
    "        print(strings[-4:-1])"
   ]
  },
  {
   "cell_type": "code",
   "execution_count": 125,
   "metadata": {},
   "outputs": [],
   "source": [
    "def get_seats_by_crowling(tail_number):\n",
    "    aircraft_soap = get_flghtera_soap_by_tail_number(tail_number.lower())\n",
    "    aircraft_seat_object = {}\n",
    "    strings = []\n",
    "    try:\n",
    "        for td in aircraft_soap.find_all('td'):\n",
    "            if(td.get_text().find('seats') != -1):\n",
    "                strings = td.get_text().split('\\n')\n",
    "                \n",
    "    except:\n",
    "        return None\n",
    "    i=0\n",
    "    for i,s in enumerate(strings):\n",
    "        if(s.find('seats') != -1):\n",
    "            break\n",
    "    for content in strings[i+1:-1]:\n",
    "        seat , class_ = content.split(' ')\n",
    "        aircraft_seat_object[class_] = str(seat)\n",
    "        print(aircraft_seat_object)\n",
    "\n",
    "    return aircraft_seat_object\n",
    "    "
   ]
  },
  {
   "cell_type": "code",
   "execution_count": 35,
   "metadata": {},
   "outputs": [],
   "source": [
    "def get_seats_by_tail_number(tail_number):\n",
    "    cashed_data = get_seats_from_Cache(tail_number)\n",
    "    if(cashed_data): return cashed_data\n",
    "    else: \n",
    "        seats_data = get_seats_by_crowling(tail_number)\n",
    "        if(seats_data):\n",
    "            store_seats_data(tail_number,seats_data)\n",
    "            return seats_data\n",
    "        return None\n",
    "        "
   ]
  },
  {
   "attachments": {},
   "cell_type": "markdown",
   "metadata": {},
   "source": [
    "### Last scanned date"
   ]
  },
  {
   "attachments": {},
   "cell_type": "markdown",
   "metadata": {},
   "source": [
    "we store the last scanned date,\n",
    "this date is the last date from all the days this air craft was active that we know the flight history of.\n",
    "\n",
    "for example if the aircraft is active from 1/1/2017 untill today and last scanned date is 1/3/2017 it's mean we have all the flights of this aircraft from 1/1/2017 to 1/3/2017.\n",
    "\n",
    "this information help us to avoid duplicate flights in our dataset and minimize the number of api requests"
   ]
  },
  {
   "cell_type": "code",
   "execution_count": 36,
   "metadata": {},
   "outputs": [],
   "source": [
    "def get_last_scanned_date_from_Cache(tail_number):\n",
    "    return load_data_from_aircrafts_file(tail_number,LAST_SCANNED__DATE_FEILD_NAME)\n",
    "    "
   ]
  },
  {
   "cell_type": "code",
   "execution_count": 37,
   "metadata": {},
   "outputs": [],
   "source": [
    "def get_last_scanned_date_of_aircraft(tail_number):\n",
    "    cashed_data = get_last_scanned_date_from_Cache(tail_number)\n",
    "    if(cashed_data): return cashed_data\n",
    "    else: \n",
    "        last_scanned_date = load_data_from_aircrafts_file(tail_number,FIRST_FLIGHT_DATE_FEILD_NAME) \n",
    "        if(last_scanned_date):\n",
    "            store_data_to_aircrafts_file(tail_number,LAST_SCANNED__DATE_FEILD_NAME,last_scanned_date)\n",
    "            return last_scanned_date\n",
    "        return None"
   ]
  },
  {
   "attachments": {},
   "cell_type": "markdown",
   "metadata": {},
   "source": [
    "## Put all this data togeter"
   ]
  },
  {
   "attachments": {},
   "cell_type": "markdown",
   "metadata": {},
   "source": [
    "Define function that get advanced information about eace air crafr\n",
    "this function call to every function that can add information about spesific aircraft"
   ]
  },
  {
   "cell_type": "code",
   "execution_count": 75,
   "metadata": {},
   "outputs": [],
   "source": [
    "def get_aircrafts_full_information():\n",
    "    aircrafts_list = get_basic_aircrafts_data_list()\n",
    "    for aircraft in aircrafts_list:\n",
    "        #Add first flight date information\n",
    "        first_flght_date_data = get_first_flight_date_by_tailnnumber(aircraft[TAIL_NUMBER_FEILD_NAME])\n",
    "        if(first_flght_date_data):\n",
    "            aircraft[FIRST_FLIGHT_DATE_FEILD_NAME] = first_flght_date_data\n",
    "\n",
    "        #Add last flight date information\n",
    "        last_flght_date_data = get_last_flight_date_by_tailnnumber(aircraft[TAIL_NUMBER_FEILD_NAME])\n",
    "        if(last_flght_date_data):\n",
    "            aircraft[LAST_FLIGHT_DATE_FEILD_NAME] = last_flght_date_data\n",
    "\n",
    "        #Add seats to airplanes data\n",
    "        seats_data = get_seats_by_tail_number(aircraft[TAIL_NUMBER_FEILD_NAME])\n",
    "        if(seats_data):\n",
    "            aircraft[SEATS_FEILD_NAME] = seats_data\n",
    "        \n",
    "        last_scanned_daate = get_last_scanned_date_of_aircraft(aircraft[TAIL_NUMBER_FEILD_NAME])\n",
    "        if(last_scanned_daate):\n",
    "            aircraft[LAST_SCANNED__DATE_FEILD_NAME] = last_scanned_daate\n",
    "\n",
    "\n",
    "\n",
    "    return aircrafts_list\n"
   ]
  },
  {
   "attachments": {},
   "cell_type": "markdown",
   "metadata": {},
   "source": [
    "We will add one more feild to the aircraft data that contain the last data that the API Checked"
   ]
  },
  {
   "attachments": {},
   "cell_type": "markdown",
   "metadata": {},
   "source": [
    "## Preview our aircrafts data"
   ]
  },
  {
   "cell_type": "code",
   "execution_count": 126,
   "metadata": {},
   "outputs": [
    {
     "ename": "TypeError",
     "evalue": "'str' object is not callable",
     "output_type": "error",
     "traceback": [
      "\u001b[1;31m---------------------------------------------------------------------------\u001b[0m",
      "\u001b[1;31mTypeError\u001b[0m                                 Traceback (most recent call last)",
      "\u001b[1;32m~\\AppData\\Local\\Temp\\ipykernel_12064\\2071124871.py\u001b[0m in \u001b[0;36m<module>\u001b[1;34m\u001b[0m\n\u001b[0;32m      3\u001b[0m     \u001b[0mdf\u001b[0m \u001b[1;33m=\u001b[0m \u001b[0mpd\u001b[0m\u001b[1;33m.\u001b[0m\u001b[0mDataFrame\u001b[0m\u001b[1;33m(\u001b[0m\u001b[0maircrafts_list\u001b[0m\u001b[1;33m)\u001b[0m\u001b[1;33m\u001b[0m\u001b[1;33m\u001b[0m\u001b[0m\n\u001b[0;32m      4\u001b[0m     \u001b[1;32mreturn\u001b[0m \u001b[0mdf\u001b[0m\u001b[1;33m\u001b[0m\u001b[1;33m\u001b[0m\u001b[0m\n\u001b[1;32m----> 5\u001b[1;33m \u001b[0maircrafts_df\u001b[0m \u001b[1;33m=\u001b[0m \u001b[0mget_airrcrafts_data_as_dataframe\u001b[0m\u001b[1;33m(\u001b[0m\u001b[1;33m)\u001b[0m\u001b[1;33m\u001b[0m\u001b[1;33m\u001b[0m\u001b[0m\n\u001b[0m\u001b[0;32m      6\u001b[0m \u001b[0maircrafts_df\u001b[0m\u001b[1;33m\u001b[0m\u001b[1;33m\u001b[0m\u001b[0m\n",
      "\u001b[1;32m~\\AppData\\Local\\Temp\\ipykernel_12064\\2071124871.py\u001b[0m in \u001b[0;36mget_airrcrafts_data_as_dataframe\u001b[1;34m()\u001b[0m\n\u001b[0;32m      1\u001b[0m \u001b[1;32mdef\u001b[0m \u001b[0mget_airrcrafts_data_as_dataframe\u001b[0m\u001b[1;33m(\u001b[0m\u001b[1;33m)\u001b[0m\u001b[1;33m:\u001b[0m\u001b[1;33m\u001b[0m\u001b[1;33m\u001b[0m\u001b[0m\n\u001b[1;32m----> 2\u001b[1;33m     \u001b[0maircrafts_list\u001b[0m \u001b[1;33m=\u001b[0m \u001b[0mget_aircrafts_full_information\u001b[0m\u001b[1;33m(\u001b[0m\u001b[1;33m)\u001b[0m\u001b[1;33m\u001b[0m\u001b[1;33m\u001b[0m\u001b[0m\n\u001b[0m\u001b[0;32m      3\u001b[0m     \u001b[0mdf\u001b[0m \u001b[1;33m=\u001b[0m \u001b[0mpd\u001b[0m\u001b[1;33m.\u001b[0m\u001b[0mDataFrame\u001b[0m\u001b[1;33m(\u001b[0m\u001b[0maircrafts_list\u001b[0m\u001b[1;33m)\u001b[0m\u001b[1;33m\u001b[0m\u001b[1;33m\u001b[0m\u001b[0m\n\u001b[0;32m      4\u001b[0m     \u001b[1;32mreturn\u001b[0m \u001b[0mdf\u001b[0m\u001b[1;33m\u001b[0m\u001b[1;33m\u001b[0m\u001b[0m\n\u001b[0;32m      5\u001b[0m \u001b[0maircrafts_df\u001b[0m \u001b[1;33m=\u001b[0m \u001b[0mget_airrcrafts_data_as_dataframe\u001b[0m\u001b[1;33m(\u001b[0m\u001b[1;33m)\u001b[0m\u001b[1;33m\u001b[0m\u001b[1;33m\u001b[0m\u001b[0m\n",
      "\u001b[1;32m~\\AppData\\Local\\Temp\\ipykernel_12064\\3275041699.py\u001b[0m in \u001b[0;36mget_aircrafts_full_information\u001b[1;34m()\u001b[0m\n\u001b[0;32m     13\u001b[0m \u001b[1;33m\u001b[0m\u001b[0m\n\u001b[0;32m     14\u001b[0m         \u001b[1;31m#Add seats to airplanes data\u001b[0m\u001b[1;33m\u001b[0m\u001b[1;33m\u001b[0m\u001b[1;33m\u001b[0m\u001b[0m\n\u001b[1;32m---> 15\u001b[1;33m         \u001b[0mseats_data\u001b[0m \u001b[1;33m=\u001b[0m \u001b[0mget_seats_by_tail_number\u001b[0m\u001b[1;33m(\u001b[0m\u001b[0maircraft\u001b[0m\u001b[1;33m[\u001b[0m\u001b[0mTAIL_NUMBER_FEILD_NAME\u001b[0m\u001b[1;33m]\u001b[0m\u001b[1;33m)\u001b[0m\u001b[1;33m\u001b[0m\u001b[1;33m\u001b[0m\u001b[0m\n\u001b[0m\u001b[0;32m     16\u001b[0m         \u001b[1;32mif\u001b[0m\u001b[1;33m(\u001b[0m\u001b[0mseats_data\u001b[0m\u001b[1;33m)\u001b[0m\u001b[1;33m:\u001b[0m\u001b[1;33m\u001b[0m\u001b[1;33m\u001b[0m\u001b[0m\n\u001b[0;32m     17\u001b[0m             \u001b[0maircraft\u001b[0m\u001b[1;33m[\u001b[0m\u001b[0mSEATS_FEILD_NAME\u001b[0m\u001b[1;33m]\u001b[0m \u001b[1;33m=\u001b[0m \u001b[0mseats_data\u001b[0m\u001b[1;33m\u001b[0m\u001b[1;33m\u001b[0m\u001b[0m\n",
      "\u001b[1;32m~\\AppData\\Local\\Temp\\ipykernel_12064\\978348589.py\u001b[0m in \u001b[0;36mget_seats_by_tail_number\u001b[1;34m(tail_number)\u001b[0m\n\u001b[0;32m      3\u001b[0m     \u001b[1;32mif\u001b[0m\u001b[1;33m(\u001b[0m\u001b[0mcashed_data\u001b[0m\u001b[1;33m)\u001b[0m\u001b[1;33m:\u001b[0m \u001b[1;32mreturn\u001b[0m \u001b[0mcashed_data\u001b[0m\u001b[1;33m\u001b[0m\u001b[1;33m\u001b[0m\u001b[0m\n\u001b[0;32m      4\u001b[0m     \u001b[1;32melse\u001b[0m\u001b[1;33m:\u001b[0m\u001b[1;33m\u001b[0m\u001b[1;33m\u001b[0m\u001b[0m\n\u001b[1;32m----> 5\u001b[1;33m         \u001b[0mseats_data\u001b[0m \u001b[1;33m=\u001b[0m \u001b[0mget_seats_by_crowling\u001b[0m\u001b[1;33m(\u001b[0m\u001b[0mtail_number\u001b[0m\u001b[1;33m)\u001b[0m\u001b[1;33m\u001b[0m\u001b[1;33m\u001b[0m\u001b[0m\n\u001b[0m\u001b[0;32m      6\u001b[0m         \u001b[1;32mif\u001b[0m\u001b[1;33m(\u001b[0m\u001b[0mseats_data\u001b[0m\u001b[1;33m)\u001b[0m\u001b[1;33m:\u001b[0m\u001b[1;33m\u001b[0m\u001b[1;33m\u001b[0m\u001b[0m\n\u001b[0;32m      7\u001b[0m             \u001b[0mstore_seats_data\u001b[0m\u001b[1;33m(\u001b[0m\u001b[0mtail_number\u001b[0m\u001b[1;33m,\u001b[0m\u001b[0mseats_data\u001b[0m\u001b[1;33m)\u001b[0m\u001b[1;33m\u001b[0m\u001b[1;33m\u001b[0m\u001b[0m\n",
      "\u001b[1;32m~\\AppData\\Local\\Temp\\ipykernel_12064\\3816101417.py\u001b[0m in \u001b[0;36mget_seats_by_crowling\u001b[1;34m(tail_number)\u001b[0m\n\u001b[0;32m     16\u001b[0m     \u001b[1;32mfor\u001b[0m \u001b[0mcontent\u001b[0m \u001b[1;32min\u001b[0m \u001b[0mstrings\u001b[0m\u001b[1;33m[\u001b[0m\u001b[0mi\u001b[0m\u001b[1;33m+\u001b[0m\u001b[1;36m1\u001b[0m\u001b[1;33m:\u001b[0m\u001b[1;33m-\u001b[0m\u001b[1;36m1\u001b[0m\u001b[1;33m]\u001b[0m\u001b[1;33m:\u001b[0m\u001b[1;33m\u001b[0m\u001b[1;33m\u001b[0m\u001b[0m\n\u001b[0;32m     17\u001b[0m         \u001b[0mseat\u001b[0m \u001b[1;33m,\u001b[0m \u001b[0mclass_\u001b[0m \u001b[1;33m=\u001b[0m \u001b[0mcontent\u001b[0m\u001b[1;33m.\u001b[0m\u001b[0msplit\u001b[0m\u001b[1;33m(\u001b[0m\u001b[1;34m' '\u001b[0m\u001b[1;33m)\u001b[0m\u001b[1;33m\u001b[0m\u001b[1;33m\u001b[0m\u001b[0m\n\u001b[1;32m---> 18\u001b[1;33m         \u001b[0maircraft_seat_object\u001b[0m\u001b[1;33m[\u001b[0m\u001b[0mclass_\u001b[0m\u001b[1;33m]\u001b[0m \u001b[1;33m=\u001b[0m \u001b[0mstr\u001b[0m\u001b[1;33m(\u001b[0m\u001b[0mseat\u001b[0m\u001b[1;33m)\u001b[0m\u001b[1;33m\u001b[0m\u001b[1;33m\u001b[0m\u001b[0m\n\u001b[0m\u001b[0;32m     19\u001b[0m         \u001b[0mprint\u001b[0m\u001b[1;33m(\u001b[0m\u001b[0maircraft_seat_object\u001b[0m\u001b[1;33m)\u001b[0m\u001b[1;33m\u001b[0m\u001b[1;33m\u001b[0m\u001b[0m\n\u001b[0;32m     20\u001b[0m \u001b[1;33m\u001b[0m\u001b[0m\n",
      "\u001b[1;31mTypeError\u001b[0m: 'str' object is not callable"
     ]
    }
   ],
   "source": [
    "def get_airrcrafts_data_as_dataframe():\n",
    "    aircrafts_list = get_aircrafts_full_information()\n",
    "    df = pd.DataFrame(aircrafts_list)\n",
    "    return df\n",
    "aircrafts_df = get_airrcrafts_data_as_dataframe()\n",
    "aircrafts_df"
   ]
  },
  {
   "attachments": {},
   "cell_type": "markdown",
   "metadata": {},
   "source": [
    "## Start to collect data about flight "
   ]
  },
  {
   "attachments": {},
   "cell_type": "markdown",
   "metadata": {},
   "source": [
    "Define function that collect data about aircraft between 2 dates"
   ]
  },
  {
   "attachments": {},
   "cell_type": "markdown",
   "metadata": {},
   "source": [
    "we use date as dict in the formate:\n",
    "{\n",
    "    'year' : YYYY,\n",
    "    'month' : MM,\n",
    "    'day' : DD\n",
    "}"
   ]
  },
  {
   "cell_type": "code",
   "execution_count": 40,
   "metadata": {},
   "outputs": [],
   "source": [
    "def get_dates_between(start_date, end_date):\n",
    "    delta = end_date - start_date      \n",
    "    date_list = []                     \n",
    "    \n",
    "    for i in range(delta.days + 1):     \n",
    "        date_list.append(start_date + timedelta(days=i))   \n",
    "    \n",
    "    return date_list"
   ]
  },
  {
   "cell_type": "code",
   "execution_count": 41,
   "metadata": {},
   "outputs": [],
   "source": [
    "def get_new_aircraft_flights(tail_number,max_number_of_days,limit_date = None,days_per_request = 1):\n",
    "    aircrafts_list = get_aircrafts_full_information()\n",
    "    flights_list = []\n",
    "    if(os.path.exists(FLIGHT_Data_FILE)):\n",
    "        flights_list = load_object_from_file(FLIGHT_Data_FILE)\n",
    "    print('Collectiong '+tail_number+' flights')\n",
    "    for aircraft in aircrafts_list:\n",
    "        if(aircraft[TAIL_NUMBER_FEILD_NAME] == tail_number):\n",
    "            first_flight_date_dict = None\n",
    "            last_flight_date_dict = None\n",
    "            first_flight_date = datetime(2000,1,27)\n",
    "            last_flight_date = datetime.today()\n",
    "            \n",
    "            if(LAST_SCANNED__DATE_FEILD_NAME in aircraft):\n",
    "                first_flight_date_dict = aircraft[LAST_SCANNED__DATE_FEILD_NAME]\n",
    "\n",
    "            if(limit_date):\n",
    "                last_flight_date = limit_date\n",
    "\n",
    "            elif(LAST_FLIGHT_DATE_FEILD_NAME in aircraft):\n",
    "                last_flight_date_dict = aircraft[LAST_FLIGHT_DATE_FEILD_NAME]\n",
    "\n",
    "            if(first_flight_date_dict):\n",
    "                first_flight_date = datetime(int(first_flight_date_dict['year']), int(first_flight_date_dict['month']),int(first_flight_date_dict['day']) )\n",
    "            \n",
    "            if(last_flight_date_dict):\n",
    "                last_flight_date = datetime(int(last_flight_date_dict['year']),int(last_flight_date_dict['month']),int(last_flight_date_dict['day']) )\n",
    "            \n",
    "            for current_date in get_dates_between(first_flight_date,last_flight_date)[:max_number_of_days:days_per_request]:\n",
    "                print(tail_number+' '+str(current_date))\n",
    "                new_flights , error = get_Flight_by_date_and_tail_number(current_date,tail_number.upper(),days_per_request)\n",
    "                if(new_flights):\n",
    "                    flights_list.extend(new_flights)\n",
    "                    store_data_to_aircrafts_file(aircraft[TAIL_NUMBER_FEILD_NAME],LAST_SCANNED__DATE_FEILD_NAME,convert_daytime_to_dict(current_date + timedelta(1)))\n",
    "                    store_object_to_file(FLIGHT_Data_FILE,flights_list)\n",
    "                else:\n",
    "                    return flights_list , error\n",
    "                    \n",
    "            return flights_list , None\n",
    "\n"
   ]
  },
  {
   "cell_type": "code",
   "execution_count": 42,
   "metadata": {},
   "outputs": [],
   "source": [
    "def get_all_aricrafts_flights(max_number_of_days,days_per_request):\n",
    "    aircrafts_list = get_aircrafts_full_information()\n",
    "    for aircraft in aircrafts_list:\n",
    "        flights , error =get_new_aircraft_flights(aircraft[TAIL_NUMBER_FEILD_NAME],max_number_of_days,days_per_request=days_per_request)\n",
    "        if(error):\n",
    "            print(error)\n",
    "            break\n",
    "    return load_object_from_file(FLIGHT_Data_FILE)"
   ]
  },
  {
   "cell_type": "code",
   "execution_count": 46,
   "metadata": {},
   "outputs": [
    {
     "name": "stdout",
     "output_type": "stream",
     "text": [
      "Collectiong 4X-EDA flights\n",
      "4X-EDA 2022-10-27 00:00:00\n",
      "{'httpStatusCode': 403, 'errorId': '9fa12874-f19d-4aba-b72d-890dc9b8b6d6', 'errorMessage': 'usage limits are exceeded'}\n"
     ]
    },
    {
     "data": {
      "text/plain": [
       "37380"
      ]
     },
     "execution_count": 46,
     "metadata": {},
     "output_type": "execute_result"
    }
   ],
   "source": [
    "list = get_all_aricrafts_flights(400,30)\n",
    "len(list*30*2)"
   ]
  },
  {
   "attachments": {},
   "cell_type": "markdown",
   "metadata": {},
   "source": [
    "# Data Exporation"
   ]
  },
  {
   "attachments": {},
   "cell_type": "markdown",
   "metadata": {},
   "source": [
    "## Intert all flights data into dataframe"
   ]
  },
  {
   "cell_type": "code",
   "execution_count": null,
   "metadata": {},
   "outputs": [],
   "source": [
    "def get_all_flights_dataframe():\n",
    "    flights = load_object_from_file(FLIGHT_Data_FILE)\n",
    "    return pd.DataFrame(flights)\n"
   ]
  },
  {
   "attachments": {},
   "cell_type": "markdown",
   "metadata": {},
   "source": [
    "## Preview the fights data"
   ]
  },
  {
   "cell_type": "code",
   "execution_count": null,
   "metadata": {},
   "outputs": [],
   "source": [
    "flights_df = get_all_flights_dataframe()"
   ]
  },
  {
   "cell_type": "code",
   "execution_count": null,
   "metadata": {},
   "outputs": [],
   "source": [
    "\n",
    "flights_df.head()"
   ]
  },
  {
   "cell_type": "code",
   "execution_count": null,
   "metadata": {},
   "outputs": [],
   "source": [
    "flights_df.info()"
   ]
  },
  {
   "cell_type": "code",
   "execution_count": null,
   "metadata": {},
   "outputs": [],
   "source": [
    "df.describe()"
   ]
  },
  {
   "attachments": {},
   "cell_type": "markdown",
   "metadata": {},
   "source": [
    "## Add aircraft data into flights data"
   ]
  },
  {
   "attachments": {},
   "cell_type": "markdown",
   "metadata": {},
   "source": [
    "We can add more information ablur each flight if we merge out air craft data with the aircraft used in the spesific flight\n",
    "\n",
    "the next function add the air craft seats number dictionary as flight feature"
   ]
  },
  {
   "cell_type": "code",
   "execution_count": null,
   "metadata": {},
   "outputs": [],
   "source": [
    "def add_aircraft_seats_number_to_flight(flights_df, aircrafts_df):\n",
    "    flights_df[SEATS_FEILD_NAME] = aircrafts_df[SEATS_FEILD_NAME]\n",
    "    return flights_df"
   ]
  },
  {
   "cell_type": "code",
   "execution_count": null,
   "metadata": {},
   "outputs": [],
   "source": [
    "flights_df =  add_aircraft_seats_number_to_flight(flights_df,aircrafts_df)\n",
    "flights_df"
   ]
  }
 ],
 "metadata": {
  "kernelspec": {
   "display_name": "Python 3",
   "language": "python",
   "name": "python3"
  },
  "language_info": {
   "codemirror_mode": {
    "name": "ipython",
    "version": 3
   },
   "file_extension": ".py",
   "mimetype": "text/x-python",
   "name": "python",
   "nbconvert_exporter": "python",
   "pygments_lexer": "ipython3",
   "version": "3.7.9"
  },
  "orig_nbformat": 4
 },
 "nbformat": 4,
 "nbformat_minor": 2
}
