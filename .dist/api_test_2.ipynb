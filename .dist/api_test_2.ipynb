{
 "cells": [
  {
   "attachments": {},
   "cell_type": "markdown",
   "metadata": {},
   "source": [
    "# Data science Project"
   ]
  },
  {
   "attachments": {},
   "cell_type": "markdown",
   "metadata": {},
   "source": [
    "## Intro\n",
    "\n",
    "In this project we going to explor data about ELAL's flight history.\n",
    "The perpose is to explor if we can to predict if ELAL's flight will delayd or canceld\n",
    "\n"
   ]
  },
  {
   "attachments": {},
   "cell_type": "markdown",
   "metadata": {},
   "source": [
    "### Imports"
   ]
  },
  {
   "cell_type": "code",
   "execution_count": 173,
   "metadata": {},
   "outputs": [],
   "source": [
    "import requests\n",
    "import json\n",
    "import pandas as pd\n",
    "import numpy as np\n",
    "from datetime import datetime, timedelta\n",
    "from bs4 import BeautifulSoup\n",
    "import os\n",
    "import time"
   ]
  },
  {
   "attachments": {},
   "cell_type": "markdown",
   "metadata": {},
   "source": [
    "### Const Varibles"
   ]
  },
  {
   "cell_type": "code",
   "execution_count": 174,
   "metadata": {},
   "outputs": [],
   "source": [
    "BASE_URL='https://api.flightstats.com/flex/flightstatus/historical/rest/v3/json/'\n",
    "APP_KEY='1073eea843b49ef65cd3dedce57340e0'\n",
    "APP_ID='a55ccedd'\n",
    "ElAl_AIRCRAFTS_WEB_URL = 'https://www.elal.com/heb/about-elal/our-fleet/all-aircraft'\n",
    "FLIGHTEAR_Base_URL = 'https://www.flightera.net/en/planes/'\n",
    "\n",
    "AIRCRAFTS_DATA_FILE = 'aircrafts.json'\n",
    "FLIGHT_Data_FILE = 'flights_data.json'\n",
    "FLIGHTS_SCAN_METADATA_FILE = 'flights_scan_metadata.json'\n",
    "\n",
    "TAIL_NUMBER_FEILD_NAME = 'tail_number'\n",
    "FIRST_FLIGHT_DATE_FEILD_NAME = 'first_flight_date'\n",
    "LAST_FLIGHT_DATE_FEILD_NAME = 'last-flight_date'\n",
    "SEATS_FEILD_NAME = 'seats'\n",
    "LAST_SCANNED__DATE_FEILD_NAME = 'last_scanned_date'\n"
   ]
  },
  {
   "cell_type": "code",
   "execution_count": 175,
   "metadata": {},
   "outputs": [],
   "source": [
    "months = {\n",
    "        'jan': 1,\n",
    "        'feb': 2,\n",
    "        'mar': 3,\n",
    "        'apr':4,\n",
    "         'may':5,\n",
    "         'jun':6,\n",
    "         'jul':7,\n",
    "         'aug':8,\n",
    "         'sep':9,\n",
    "         'oct':10,\n",
    "         'nov':11,\n",
    "         'dec':12\n",
    "        }"
   ]
  },
  {
   "attachments": {},
   "cell_type": "markdown",
   "metadata": {},
   "source": [
    "Functions that store and loads data from files"
   ]
  },
  {
   "cell_type": "code",
   "execution_count": 176,
   "metadata": {},
   "outputs": [],
   "source": [
    "def store_object_to_file(file_name,data):\n",
    "    with open(file_name, 'w') as outfile:\n",
    "        json.dump(data, outfile)"
   ]
  },
  {
   "cell_type": "code",
   "execution_count": 177,
   "metadata": {},
   "outputs": [],
   "source": [
    "def load_object_from_file(filename):\n",
    "    with open(filename) as f:\n",
    "        return json.load(f)"
   ]
  },
  {
   "cell_type": "code",
   "execution_count": 178,
   "metadata": {},
   "outputs": [],
   "source": [
    "def store_data_to_aircrafts_file(tailnumber,feild_name,data):\n",
    "    aircrafts_list = load_object_from_file(AIRCRAFTS_DATA_FILE)\n",
    "    for i,aircraft in enumerate(aircrafts_list):\n",
    "        if(tailnumber == aircraft[TAIL_NUMBER_FEILD_NAME]):\n",
    "            aircrafts_list[i][feild_name] = data\n",
    "            store_object_to_file(AIRCRAFTS_DATA_FILE,aircrafts_list)\n",
    "            return"
   ]
  },
  {
   "cell_type": "code",
   "execution_count": 179,
   "metadata": {},
   "outputs": [],
   "source": [
    "def load_data_from_aircrafts_file(tailnumber,feild_name):\n",
    "    aircrafts_list = load_object_from_file(AIRCRAFTS_DATA_FILE)\n",
    "    for aircraft in aircrafts_list:\n",
    "        if(tailnumber == aircraft[TAIL_NUMBER_FEILD_NAME]):\n",
    "            if feild_name in aircraft:\n",
    "                return aircraft[feild_name]\n",
    "            else:\n",
    "                return None"
   ]
  },
  {
   "attachments": {},
   "cell_type": "markdown",
   "metadata": {},
   "source": [
    "### Test the API"
   ]
  },
  {
   "attachments": {},
   "cell_type": "markdown",
   "metadata": {},
   "source": [
    "Define function that get all required filds for the api request"
   ]
  },
  {
   "cell_type": "code",
   "execution_count": 180,
   "metadata": {},
   "outputs": [],
   "source": [
    "# \"BASE URL + flight/status/tailNumber/4x-ELA/2015/1/1?appId=b1aa7a60&appKey=ed14bb251c167a18733cccbf86105175\"\n",
    "\n",
    "def get_Flight_by_date_and_tail_number(date,tail_number):\n",
    "    formatted_date = date.strftime(\"%Y/%m/%d\")\n",
    "\n",
    "    #URL = BASE_URL + 'flight/status/tailNumber/' + tail_number + '/' + formatted_date + '?appId=' + APP_KEY + '&appKey=' + API_KEY\n",
    "    URL = BASE_URL+'flight/status/tailNumber/'+tail_number+'/'+formatted_date+'?appId='+APP_ID+'&appKey='+APP_KEY\n",
    "    response = requests.get(URL)\n",
    "    json_res =  response.json()\n",
    "    if 'flightStatuses' in json_res: return json_res['flightStatuses']\n",
    "    return json_res"
   ]
  },
  {
   "cell_type": "code",
   "execution_count": 181,
   "metadata": {},
   "outputs": [
    {
     "data": {
      "text/plain": [
       "{'error': {'httpStatusCode': 403,\n",
       "  'errorId': '6adb5a0a-b505-44f8-8595-9f17bd6fcff2',\n",
       "  'errorMessage': 'usage limits are exceeded'}}"
      ]
     },
     "execution_count": 181,
     "metadata": {},
     "output_type": "execute_result"
    }
   ],
   "source": [
    "res = get_Flight_by_date_and_tail_number(datetime(2019,2,2),'4X-ELA')\n",
    "res"
   ]
  },
  {
   "attachments": {},
   "cell_type": "markdown",
   "metadata": {},
   "source": [
    "## Get information that we need before start to send api requests"
   ]
  },
  {
   "attachments": {},
   "cell_type": "markdown",
   "metadata": {},
   "source": [
    "To send this API request we have to know the aircradt tail number\n",
    "we will get this informaition from elal web side via crouling"
   ]
  },
  {
   "cell_type": "code",
   "execution_count": 182,
   "metadata": {},
   "outputs": [],
   "source": [
    "elal_web_res = requests.get(ElAl_AIRCRAFTS_WEB_URL)"
   ]
  },
  {
   "cell_type": "code",
   "execution_count": 183,
   "metadata": {},
   "outputs": [],
   "source": [
    "\n",
    "elal_soup = BeautifulSoup(elal_web_res.content)"
   ]
  },
  {
   "attachments": {},
   "cell_type": "markdown",
   "metadata": {},
   "source": [
    "Define functios that clean the data\n",
    "\n",
    "\n",
    "The format of right israeli tail number is '4X-' and 3 letters\n",
    "like: '$X-ABC'"
   ]
  },
  {
   "cell_type": "code",
   "execution_count": 184,
   "metadata": {},
   "outputs": [],
   "source": [
    "def clean_tail_numberst(tail_number):\n",
    "    tail_number = tail_number.upper()\n",
    "    first_instance_of_4x = tail_number.find('4X-')\n",
    "    new_tail_number = tail_number[first_instance_of_4x:first_instance_of_4x+6]\n",
    "    return new_tail_number\n",
    "\n"
   ]
  },
  {
   "cell_type": "code",
   "execution_count": 185,
   "metadata": {},
   "outputs": [],
   "source": [
    "def clean_aircraft_name(name):\n",
    "    return str(name.replace('\\u200b',''))"
   ]
  },
  {
   "cell_type": "code",
   "execution_count": 186,
   "metadata": {},
   "outputs": [],
   "source": [
    "def clean_model(model):\n",
    "    model = model.strip()\n",
    "    return model[3:]"
   ]
  },
  {
   "attachments": {},
   "cell_type": "markdown",
   "metadata": {},
   "source": [
    "Define function that return list of aircraft with ther usefull data"
   ]
  },
  {
   "cell_type": "code",
   "execution_count": 187,
   "metadata": {},
   "outputs": [],
   "source": [
    "def get_basic_aircrafts_data_list():\n",
    "    aircrafts_list=[]\n",
    "    tables_list = elal_soup.find_all('tbody')\n",
    "    headers_list = elal_soup.find_all('span',class_ = 'mat-content')\n",
    "    for j,table in enumerate(tables_list):\n",
    "        rows_list = table.findAll('tr')\n",
    "        for row in rows_list[1:]:\n",
    "            cells_list = row.findAll('td')\n",
    "            for i,cell in enumerate(cells_list[1::2]):\n",
    "                aircraft_object = {}\n",
    "                aircraft_object['tail_number'] = clean_tail_numberst(cell.get_text())\n",
    "                aircraft_object['model'] = clean_model(headers_list[j].get_text())\n",
    "                aircraft_object['name'] = clean_aircraft_name(cells_list[i].get_text())\n",
    "                aircrafts_list.append(aircraft_object)      \n",
    "    return aircrafts_list\n",
    "basic_data = get_basic_aircrafts_data_list()\n",
    "if (not os.path.exists(AIRCRAFTS_DATA_FILE)):\n",
    "    store_object_to_file(AIRCRAFTS_DATA_FILE,basic_data)\n",
    "#basic_data\n",
    "\n"
   ]
  },
  {
   "attachments": {},
   "cell_type": "markdown",
   "metadata": {},
   "source": [
    "## WE also want to know more advanced and usefulll information like number of seats in the aircraft "
   ]
  },
  {
   "attachments": {},
   "cell_type": "markdown",
   "metadata": {},
   "source": [
    "Define function that get flightera soap object of spesific air craft"
   ]
  },
  {
   "cell_type": "code",
   "execution_count": 188,
   "metadata": {},
   "outputs": [],
   "source": [
    "flightEra_soaps_dict = {}"
   ]
  },
  {
   "cell_type": "code",
   "execution_count": 189,
   "metadata": {},
   "outputs": [],
   "source": [
    "def get_flghtera_soap_by_tail_number(tail_number): \n",
    "    if (tail_number not in flightEra_soaps_dict):       \n",
    "        URL = FLIGHTEAR_Base_URL + tail_number\n",
    "        flightera_response = requests.get(URL)\n",
    "        if (not flightera_response.status_code == 200):\n",
    "            print('Error resived data about '+tail_number+' from FLightera web sit, error code: ' + str(flightera_response.status_code))\n",
    "            return None\n",
    "        flightEra_soaps_dict[tail_number] =  BeautifulSoup(flightera_response.content)\n",
    "    return flightEra_soaps_dict[tail_number]"
   ]
  },
  {
   "attachments": {},
   "cell_type": "markdown",
   "metadata": {},
   "source": [
    "### Get First filght date"
   ]
  },
  {
   "cell_type": "code",
   "execution_count": 190,
   "metadata": {},
   "outputs": [],
   "source": [
    "def get_first_flight_date_from_Cache(tail_number):\n",
    "    return load_data_from_aircrafts_file(tail_number,FIRST_FLIGHT_DATE_FEILD_NAME)"
   ]
  },
  {
   "cell_type": "code",
   "execution_count": 191,
   "metadata": {},
   "outputs": [],
   "source": [
    "def store_first_flight_date_data(tail_number,first_flight_date):\n",
    "    store_data_to_aircrafts_file(tail_number,FIRST_FLIGHT_DATE_FEILD_NAME,first_flight_date)"
   ]
  },
  {
   "cell_type": "code",
   "execution_count": 192,
   "metadata": {},
   "outputs": [],
   "source": [
    "def clean_first_flight_dtate_string(date_str):\n",
    "    clean_str = date_str.replace('\\n', '')\n",
    "    clean_str = clean_str.strip()\n",
    "    clean_str = clean_str[:clean_str.find('(')]\n",
    "    clean_str = clean_str.strip()\n",
    "    return clean_str"
   ]
  },
  {
   "cell_type": "code",
   "execution_count": 193,
   "metadata": {},
   "outputs": [],
   "source": [
    "def convert_daytime_to_dict(date):\n",
    "    if (date == None):\n",
    "         return None\n",
    "    return {\n",
    "        'year' : date.year,\n",
    "        'month' : date.month,\n",
    "        'day' : date.day\n",
    "    }"
   ]
  },
  {
   "cell_type": "code",
   "execution_count": 194,
   "metadata": {},
   "outputs": [],
   "source": [
    "def get_first_flight_date_by_crowling(tail_number):\n",
    "    aircraft_soap = get_flghtera_soap_by_tail_number(tail_number.lower())\n",
    "    if(not aircraft_soap): return None\n",
    "    try:\n",
    "        date_string = aircraft_soap.find_all('dl')[0].find_all('div')[2].find_all('tr')[2].find_all('td')[1].get_text()\n",
    "        date_string = clean_first_flight_dtate_string(date_string)\n",
    "        month , year = date_string.split(' ')\n",
    "        return convert_daytime_to_dict(datetime(int(year),int(months[month.lower()]),27))\n",
    "    except:\n",
    "        return None\n",
    "    return None"
   ]
  },
  {
   "cell_type": "code",
   "execution_count": 195,
   "metadata": {},
   "outputs": [],
   "source": [
    "def get_first_flight_date_by_tailnnumber(tail_number):\n",
    "    cashed_data = get_first_flight_date_from_Cache(tail_number)\n",
    "    \n",
    "    if(cashed_data):\n",
    "        return cashed_data\n",
    "    else: \n",
    "        first_flight_date_data = get_first_flight_date_by_crowling(tail_number)\n",
    "        if(first_flight_date_data):\n",
    "            store_first_flight_date_data(tail_number,first_flight_date_data)\n",
    "            return first_flight_date_data\n",
    "        return None"
   ]
  },
  {
   "attachments": {},
   "cell_type": "markdown",
   "metadata": {},
   "source": [
    "### Get Last flight date"
   ]
  },
  {
   "cell_type": "code",
   "execution_count": 196,
   "metadata": {},
   "outputs": [],
   "source": [
    "def get_last_flight_date_from_Cache(tail_number):\n",
    "    return load_data_from_aircrafts_file(tail_number,LAST_FLIGHT_DATE_FEILD_NAME)"
   ]
  },
  {
   "cell_type": "code",
   "execution_count": 197,
   "metadata": {},
   "outputs": [],
   "source": [
    "def store_last_flight_date_data(tail_number,last_flight_date):\n",
    "    store_data_to_aircrafts_file(tail_number,LAST_FLIGHT_DATE_FEILD_NAME,last_flight_date)"
   ]
  },
  {
   "cell_type": "code",
   "execution_count": 198,
   "metadata": {},
   "outputs": [],
   "source": [
    "def clean_last_flight_month(mnt):\n",
    "    mnt = mnt.replace('\\t','')\n",
    "    mnt = mnt.strip()\n",
    "    mnt = mnt[:3]\n",
    "    return mnt.lower()"
   ]
  },
  {
   "cell_type": "code",
   "execution_count": 199,
   "metadata": {},
   "outputs": [],
   "source": [
    "def get_last_flight_date_by_crowling(tail_number):\n",
    "    aircraft_soap = get_flghtera_soap_by_tail_number(tail_number.lower())\n",
    "    if(not aircraft_soap): return None\n",
    "    try:\n",
    "        year = int(aircraft_soap.find('body').find_all('div',class_='sm:px-6')[4].find_all('dt')[0].get_text())\n",
    "        month = aircraft_soap.find('body').find_all('div',class_='sm:px-6')[4].find_all('dl')[0].find_all('dd')[0].find_all('div')[0].get_text()\n",
    "        month = clean_last_flight_month(month)\n",
    "        \n",
    "        last_flight_date = datetime(year,months[month],1)\n",
    "        return convert_daytime_to_dict(last_flight_date)\n",
    "    except:\n",
    "        return None\n",
    "    return None"
   ]
  },
  {
   "cell_type": "code",
   "execution_count": 200,
   "metadata": {},
   "outputs": [],
   "source": [
    "def get_last_flight_date_by_tailnnumber(tail_number):\n",
    "    cashed_data = get_last_flight_date_from_Cache(tail_number)\n",
    "    if(cashed_data): return cashed_data\n",
    "    else: \n",
    "        last_flight_date_data = get_last_flight_date_by_crowling(tail_number)\n",
    "        if(last_flight_date_data):\n",
    "            store_last_flight_date_data(tail_number,last_flight_date_data)\n",
    "            return last_flight_date_data\n",
    "        return None"
   ]
  },
  {
   "attachments": {},
   "cell_type": "markdown",
   "metadata": {},
   "source": [
    "### Get number of seats per aircraft"
   ]
  },
  {
   "cell_type": "code",
   "execution_count": 201,
   "metadata": {},
   "outputs": [],
   "source": [
    "def store_seats_data(tail_number,seats_object):\n",
    "    store_data_to_aircrafts_file(tail_number,SEATS_FEILD_NAME,seats_object)"
   ]
  },
  {
   "cell_type": "code",
   "execution_count": 202,
   "metadata": {},
   "outputs": [],
   "source": [
    "def get_seats_from_Cache(tail_number):\n",
    "    return load_data_from_aircrafts_file(tail_number,SEATS_FEILD_NAME)"
   ]
  },
  {
   "cell_type": "code",
   "execution_count": 203,
   "metadata": {},
   "outputs": [],
   "source": [
    "def get_seats_by_crowling(tail_number):\n",
    "    aircraft_soap = get_flghtera_soap_by_tail_number(tail_number.lower())\n",
    "    aircraft_seat_object = {}\n",
    "    try:\n",
    "        span_list = aircraft_soap.find_all('dl')[0].find_all('div')[0].find_all('td')[9].find_all('span')\n",
    "    except:\n",
    "        return None\n",
    "    for span in span_list:\n",
    "        content  = span.get_text()\n",
    "        seat , class_ = content.split(' ')\n",
    "        aircraft_seat_object[class_] = str(seat)\n",
    "        \n",
    "    return aircraft_seat_object\n",
    "    "
   ]
  },
  {
   "cell_type": "code",
   "execution_count": 204,
   "metadata": {},
   "outputs": [],
   "source": [
    "def get_seats_by_tail_number(tail_number):\n",
    "    cashed_data = get_seats_from_Cache(tail_number)\n",
    "    if(cashed_data): return cashed_data\n",
    "    else: \n",
    "        seats_data = get_seats_by_crowling(tail_number)\n",
    "        if(seats_data):\n",
    "            store_seats_data(tail_number,seats_data)\n",
    "            return seats_data\n",
    "        return None\n",
    "        "
   ]
  },
  {
   "attachments": {},
   "cell_type": "markdown",
   "metadata": {},
   "source": [
    "add last scanned flight to aircraft attributes"
   ]
  },
  {
   "cell_type": "code",
   "execution_count": 218,
   "metadata": {},
   "outputs": [],
   "source": [
    "def get_last_scanned_date_from_Cache(tail_number):\n",
    "    return load_data_from_aircrafts_file(tail_number,LAST_SCANNED__DATE_FEILD_NAME)\n",
    "    "
   ]
  },
  {
   "cell_type": "code",
   "execution_count": 213,
   "metadata": {},
   "outputs": [],
   "source": [
    "def get_last_scanned_date_of_aircraft(tail_number):\n",
    "    cashed_data = get_last_scanned_date_from_Cache(tail_number)\n",
    "    if(cashed_data): return cashed_data\n",
    "    else: \n",
    "        last_scanned_date = load_data_from_aircrafts_file(tail_number,FIRST_FLIGHT_DATE_FEILD_NAME) \n",
    "        if(last_scanned_date):\n",
    "            store_data_to_aircrafts_file(tail_number,LAST_SCANNED__DATE_FEILD_NAME,last_scanned_date)\n",
    "            return last_scanned_date\n",
    "        return None"
   ]
  },
  {
   "attachments": {},
   "cell_type": "markdown",
   "metadata": {},
   "source": [
    "Define function that get advanced information about eace air crafr\n",
    "this function call to every function that can add information about spesific aircraft"
   ]
  },
  {
   "cell_type": "code",
   "execution_count": 207,
   "metadata": {},
   "outputs": [],
   "source": [
    "def get_aircrafts_full_information():\n",
    "    aircrafts_list = get_basic_aircrafts_data_list()\n",
    "    for aircraft in aircrafts_list:\n",
    "        #Add first flight date information\n",
    "        first_flght_date_data = get_first_flight_date_by_tailnnumber(aircraft[TAIL_NUMBER_FEILD_NAME])\n",
    "        if(first_flght_date_data):\n",
    "            aircraft[FIRST_FLIGHT_DATE_FEILD_NAME] = first_flght_date_data\n",
    "\n",
    "        #Add last flight date information\n",
    "        last_flght_date_data = get_last_flight_date_by_tailnnumber(aircraft[TAIL_NUMBER_FEILD_NAME])\n",
    "        if(last_flght_date_data):\n",
    "            aircraft[LAST_FLIGHT_DATE_FEILD_NAME] = last_flght_date_data\n",
    "\n",
    "        #Add seats to airplanes data\n",
    "        seats_data = get_seats_by_tail_number(aircraft[TAIL_NUMBER_FEILD_NAME])\n",
    "        if(seats_data):\n",
    "            aircraft[SEATS_FEILD_NAME] = seats_data\n",
    "        \n",
    "        last_scanned_daate = get_last_scanned_date_of_aircraft(aircraft[TAIL_NUMBER_FEILD_NAME])\n",
    "        if(last_scanned_daate):\n",
    "            aircraft[LAST_SCANNED__DATE_FEILD_NAME] = last_scanned_daate\n",
    "\n",
    "\n",
    "\n",
    "    return aircrafts_list\n"
   ]
  },
  {
   "attachments": {},
   "cell_type": "markdown",
   "metadata": {},
   "source": [
    "We will add one more feild to the aircraft data that contain the last data that the API Checked"
   ]
  },
  {
   "attachments": {},
   "cell_type": "markdown",
   "metadata": {},
   "source": [
    "## Start to collect data about flight "
   ]
  },
  {
   "attachments": {},
   "cell_type": "markdown",
   "metadata": {},
   "source": [
    "Define function that collect data about aircraft between 2 dates"
   ]
  },
  {
   "attachments": {},
   "cell_type": "markdown",
   "metadata": {},
   "source": [
    "we use date as dict in the formate:\n",
    "{\n",
    "    'year' : YYYY,\n",
    "    'month' : MM,\n",
    "    'day' : DD\n",
    "}"
   ]
  },
  {
   "cell_type": "code",
   "execution_count": 208,
   "metadata": {},
   "outputs": [],
   "source": [
    "def get_dates_between(start_date, end_date):\n",
    "    delta = end_date - start_date      \n",
    "    date_list = []                     \n",
    "    \n",
    "    for i in range(delta.days + 1):     \n",
    "        date_list.append(start_date + timedelta(days=i))   \n",
    "    \n",
    "    return date_list"
   ]
  },
  {
   "cell_type": "code",
   "execution_count": 216,
   "metadata": {},
   "outputs": [],
   "source": [
    "def get_all_aircraft_flights(tail_number,max_number_of_days):\n",
    "    aircrafts_list = get_aircrafts_full_information()\n",
    "    flights_list = []\n",
    "    for aircraft in aircrafts_list:\n",
    "        if(aircraft[TAIL_NUMBER_FEILD_NAME] == tail_number):\n",
    "            first_flight_date_dict = None\n",
    "            last_flight_date_dict = None\n",
    "            first_flight_date = datetime(2000,1,27)\n",
    "            last_flight_date = datetime.today()\n",
    "            \n",
    "            if(LAST_SCANNED__DATE_FEILD_NAME in aircraft):\n",
    "                first_flight_date_dict = aircraft[LAST_SCANNED__DATE_FEILD_NAME]\n",
    "                print(first_flight_date_dict)\n",
    "\n",
    "            if(LAST_FLIGHT_DATE_FEILD_NAME in aircraft):\n",
    "                last_flight_date_dict = aircraft[LAST_FLIGHT_DATE_FEILD_NAME]\n",
    "\n",
    "            if(first_flight_date_dict):\n",
    "                first_flight_date = datetime(int(first_flight_date_dict['year']), int(first_flight_date_dict['month']),int(first_flight_date_dict['day']) )\n",
    "            \n",
    "            if(last_flight_date_dict):\n",
    "                last_flight_date = datetime(int(last_flight_date_dict['year']),int(last_flight_date_dict['month']),int(last_flight_date_dict['day']) )\n",
    "                \n",
    "            for current_date in get_dates_between(first_flight_date,last_flight_date)[:max_number_of_days]:\n",
    "                flights_list.extend(get_Flight_by_date_and_tail_number(current_date,tail_number.upper()))\n",
    "                store_data_to_aircrafts_file(aircraft[TAIL_NUMBER_FEILD_NAME],LAST_SCANNED__DATE_FEILD_NAME,convert_daytime_to_dict(current_date + timedelta(1)))\n",
    "            return flights_list\n",
    "\n"
   ]
  },
  {
   "cell_type": "code",
   "execution_count": 210,
   "metadata": {},
   "outputs": [],
   "source": [
    "def get_all_aricrafts_flights(max_number_of_days):\n",
    "    aircrafts_list = get_aircrafts_full_information()\n",
    "    for aircraft in aircrafts_list:\n",
    "        if (os.path.exists(FLIGHT_Data_FILE)):\n",
    "            old_flight_list = load_object_from_file(FLIGHT_Data_FILE)\n",
    "        else:\n",
    "            old_flight_list = []\n",
    "\n",
    "        new_flight_list = get_all_aircraft_flights(aircraft[TAIL_NUMBER_FEILD_NAME],max_number_of_days)\n",
    "        old_flight_list.extend(new_flight_list)\n",
    "        store_object_to_file(FLIGHT_Data_FILE,old_flight_list)\n",
    "\n",
    "    return load_object_from_file(FLIGHT_Data_FILE)"
   ]
  },
  {
   "cell_type": "code",
   "execution_count": 217,
   "metadata": {},
   "outputs": [
    {
     "name": "stdout",
     "output_type": "stream",
     "text": [
      "2222\n",
      "2222\n",
      "2222\n",
      "2222\n",
      "2222\n",
      "2222\n",
      "2222\n",
      "2222\n",
      "2222\n",
      "2222\n",
      "2222\n",
      "2222\n",
      "2222\n",
      "2222\n",
      "2222\n",
      "2222\n",
      "2222\n",
      "2222\n",
      "2222\n",
      "2222\n",
      "2222\n",
      "2222\n",
      "2222\n",
      "2222\n",
      "2222\n",
      "2222\n",
      "2222\n",
      "2222\n",
      "2222\n",
      "2222\n",
      "2222\n",
      "2222\n",
      "2222\n",
      "2222\n",
      "2222\n",
      "2222\n",
      "2222\n",
      "2222\n",
      "2222\n",
      "2222\n",
      "2222\n",
      "2222\n",
      "2222\n",
      "2222\n",
      "2222\n",
      "{'year': 2017, 'month': 7, 'day': 27}\n"
     ]
    },
    {
     "data": {
      "text/plain": [
       "['error', 'error', 'error']"
      ]
     },
     "execution_count": 217,
     "metadata": {},
     "output_type": "execute_result"
    }
   ],
   "source": [
    "#flights = get_all_aricrafts_flights(10)\n",
    "#flights\n",
    "get_all_aircraft_flights('4X-EDA',3)\n"
   ]
  }
 ],
 "metadata": {
  "kernelspec": {
   "display_name": "Python 3",
   "language": "python",
   "name": "python3"
  },
  "language_info": {
   "codemirror_mode": {
    "name": "ipython",
    "version": 3
   },
   "file_extension": ".py",
   "mimetype": "text/x-python",
   "name": "python",
   "nbconvert_exporter": "python",
   "pygments_lexer": "ipython3",
   "version": "3.7.9"
  },
  "orig_nbformat": 4
 },
 "nbformat": 4,
 "nbformat_minor": 2
}
