{
 "cells": [
  {
   "attachments": {},
   "cell_type": "markdown",
   "metadata": {},
   "source": [
    "# Data science Project"
   ]
  },
  {
   "attachments": {},
   "cell_type": "markdown",
   "metadata": {},
   "source": [
    "## Intro\n",
    "\n",
    "In this project we going to explor data about ELAL's flight history.\n",
    "The perpose is to explor if we can to predict if ELAL's flight will delayd or canceld\n",
    "\n"
   ]
  },
  {
   "attachments": {},
   "cell_type": "markdown",
   "metadata": {},
   "source": [
    "### Imports"
   ]
  },
  {
   "cell_type": "code",
   "execution_count": 247,
   "metadata": {},
   "outputs": [],
   "source": [
    "import requests\n",
    "import json\n",
    "import pandas as pd\n",
    "import numpy as np\n",
    "from datetime import datetime, timedelta\n",
    "from bs4 import BeautifulSoup\n",
    "import os\n",
    "import time"
   ]
  },
  {
   "attachments": {},
   "cell_type": "markdown",
   "metadata": {},
   "source": [
    "### Const Varibles"
   ]
  },
  {
   "cell_type": "code",
   "execution_count": 248,
   "metadata": {},
   "outputs": [],
   "source": [
    "BASE_URL='https://api.flightstats.com/flex/flightstatus/historical/rest/v3/json/'\n",
    "\n",
    "\n",
    "# APP_KEY='1073eea843b49ef65cd3dedce57340e0'\n",
    "# APP_ID='a55ccedd'\n",
    "\n",
    "# APP_KEY='9981b617cba5bb3f32d90ba0da4e2af4'\n",
    "# APP_ID='65c679ae'\n",
    "\n",
    "APP_KEY= '9fb822148287f2805212cc61c199d8f8'\n",
    "APP_ID = 'd7585437'\n",
    "\n",
    "\n",
    "ElAl_AIRCRAFTS_WEB_URL = 'https://www.elal.com/heb/about-elal/our-fleet/all-aircraft'\n",
    "FLIGHTEAR_Base_URL = 'https://www.flightera.net/en/planes/'\n",
    "\n",
    "AIRCRAFTS_DATA_FILE = 'aircrafts.json'\n",
    "FLIGHT_Data_FILE = 'flights_data.json'\n",
    "FLIGHTS_SCAN_METADATA_FILE = 'flights_scan_metadata.json'\n",
    "\n",
    "TAIL_NUMBER_FEILD_NAME = 'tail_number'\n",
    "FIRST_FLIGHT_DATE_FEILD_NAME = 'first_flight_date'\n",
    "LAST_FLIGHT_DATE_FEILD_NAME = 'last-flight_date'\n",
    "SEATS_FEILD_NAME = 'seats'\n",
    "LAST_SCANNED__DATE_FEILD_NAME = 'last_scanned_date'\n"
   ]
  },
  {
   "attachments": {},
   "cell_type": "markdown",
   "metadata": {},
   "source": [
    "Mounths dictianery used to translate month name to numbrr"
   ]
  },
  {
   "cell_type": "code",
   "execution_count": 249,
   "metadata": {},
   "outputs": [],
   "source": [
    "months = {\n",
    "        'jan': 1,\n",
    "        'feb': 2,\n",
    "        'mar': 3,\n",
    "        'apr':4,\n",
    "         'may':5,\n",
    "         'jun':6,\n",
    "         'jul':7,\n",
    "         'aug':8,\n",
    "         'sep':9,\n",
    "         'oct':10,\n",
    "         'nov':11,\n",
    "         'dec':12\n",
    "        }\n"
   ]
  },
  {
   "attachments": {},
   "cell_type": "markdown",
   "metadata": {},
   "source": [
    "## General functions"
   ]
  },
  {
   "attachments": {},
   "cell_type": "markdown",
   "metadata": {},
   "source": [
    "Functions that store and loads data from files"
   ]
  },
  {
   "cell_type": "code",
   "execution_count": 250,
   "metadata": {},
   "outputs": [],
   "source": [
    "def store_object_to_file(file_name,data):\n",
    "    with open(file_name, 'w') as outfile:\n",
    "        json.dump(data, outfile)"
   ]
  },
  {
   "cell_type": "code",
   "execution_count": 251,
   "metadata": {},
   "outputs": [],
   "source": [
    "def load_object_from_file(filename):\n",
    "    if(not os.path.exists(filename)):\n",
    "        return None\n",
    "    with open(filename) as f:\n",
    "        return json.load(f)"
   ]
  },
  {
   "cell_type": "code",
   "execution_count": 252,
   "metadata": {},
   "outputs": [],
   "source": [
    "def store_data_to_aircrafts_file(tailnumber,feild_name,data):\n",
    "    aircrafts_list = load_object_from_file(AIRCRAFTS_DATA_FILE)\n",
    "    if(not aircrafts_list):\n",
    "        aircrafts_list = []\n",
    "    for i,aircraft in enumerate(aircrafts_list):\n",
    "        if(tailnumber == aircraft[TAIL_NUMBER_FEILD_NAME]):\n",
    "            aircrafts_list[i][feild_name] = data\n",
    "            store_object_to_file(AIRCRAFTS_DATA_FILE,aircrafts_list)\n",
    "            return"
   ]
  },
  {
   "cell_type": "code",
   "execution_count": 253,
   "metadata": {},
   "outputs": [],
   "source": [
    "def load_data_from_aircrafts_file(tailnumber,feild_name):\n",
    "    if(not os.path.exists(AIRCRAFTS_DATA_FILE)):\n",
    "        return None\n",
    "    aircrafts_list = load_object_from_file(AIRCRAFTS_DATA_FILE)\n",
    "    for aircraft in aircrafts_list:\n",
    "        if(tailnumber == aircraft[TAIL_NUMBER_FEILD_NAME]):\n",
    "            if feild_name in aircraft:\n",
    "                return aircraft[feild_name]\n",
    "            else:\n",
    "                return None"
   ]
  },
  {
   "attachments": {},
   "cell_type": "markdown",
   "metadata": {},
   "source": [
    "### API functions"
   ]
  },
  {
   "cell_type": "code",
   "execution_count": 254,
   "metadata": {},
   "outputs": [],
   "source": [
    "# \"BASE URL + flight/status/tailNumber/4x-ELA/2015/1/1?appId=b1aa7a60&appKey=ed14bb251c167a18733cccbf86105175\"\n",
    "\n",
    "def get_Flight_by_date_and_tail_number(date,tail_number, days_per_request):\n",
    "    formatted_date = date.strftime(\"%Y/%m/%d\")\n",
    "\n",
    "    #URL = BASE_URL + 'flight/status/tailNumber/' + tail_number + '/' + formatted_date + '?appId=' + APP_KEY + '&appKey=' + API_KEY\n",
    "    URL = BASE_URL+'flight/status/tailNumber/'+tail_number+'/'+formatted_date+'?appId='+APP_ID+'&appKey='+APP_KEY+'&numDays='+str(days_per_request)\n",
    "    response = requests.get(URL)\n",
    "    json_res =  response.json()\n",
    "    if 'flightStatuses' in json_res: return json_res['flightStatuses'] , None\n",
    "    if('error' in json_res): return None , json_res['error']\n",
    "    return None, json_res\n"
   ]
  },
  {
   "attachments": {},
   "cell_type": "markdown",
   "metadata": {},
   "source": [
    "test the api"
   ]
  },
  {
   "cell_type": "code",
   "execution_count": 255,
   "metadata": {},
   "outputs": [],
   "source": [
    "# res = get_Flight_by_date_and_tail_number(datetime(2017,9,28),'4X-EDA',days_per_request=30)\n",
    "# res"
   ]
  },
  {
   "attachments": {},
   "cell_type": "markdown",
   "metadata": {},
   "source": [
    "## Get information that we need before start to send api requests"
   ]
  },
  {
   "attachments": {},
   "cell_type": "markdown",
   "metadata": {},
   "source": [
    "To send this API request we have to know the aircradt tail number\n",
    "we will get this informaition from elal web side via crouling"
   ]
  },
  {
   "cell_type": "code",
   "execution_count": 256,
   "metadata": {},
   "outputs": [],
   "source": [
    "elal_web_res = requests.get(ElAl_AIRCRAFTS_WEB_URL)"
   ]
  },
  {
   "cell_type": "code",
   "execution_count": 257,
   "metadata": {},
   "outputs": [],
   "source": [
    "\n",
    "elal_soup = BeautifulSoup(elal_web_res.content)"
   ]
  },
  {
   "attachments": {},
   "cell_type": "markdown",
   "metadata": {},
   "source": [
    "Define functios that clean the data\n",
    "\n",
    "\n",
    "The format of right israeli tail number is '4X-' and 3 letters\n",
    "like: '$X-ABC'"
   ]
  },
  {
   "cell_type": "code",
   "execution_count": 258,
   "metadata": {},
   "outputs": [],
   "source": [
    "def clean_tail_numberst(tail_number):\n",
    "    tail_number = tail_number.upper()\n",
    "    first_instance_of_4x = tail_number.find('4X-')\n",
    "    new_tail_number = tail_number[first_instance_of_4x:first_instance_of_4x+6]\n",
    "    return new_tail_number\n",
    "\n"
   ]
  },
  {
   "cell_type": "code",
   "execution_count": 259,
   "metadata": {},
   "outputs": [],
   "source": [
    "def clean_aircraft_name(name):\n",
    "    return str(name.replace('\\u200b',''))"
   ]
  },
  {
   "cell_type": "code",
   "execution_count": 260,
   "metadata": {},
   "outputs": [],
   "source": [
    "def clean_model(model):\n",
    "    model = model.strip()\n",
    "    return model[3:]"
   ]
  },
  {
   "attachments": {},
   "cell_type": "markdown",
   "metadata": {},
   "source": [
    "Define function that return list of aircraft with ther usefull data"
   ]
  },
  {
   "cell_type": "code",
   "execution_count": 261,
   "metadata": {},
   "outputs": [],
   "source": [
    "def get_basic_aircrafts_data_list():\n",
    "    if(os.path.exists(AIRCRAFTS_DATA_FILE)):\n",
    "        return load_object_from_file(AIRCRAFTS_DATA_FILE)\n",
    "    \n",
    "    aircrafts_list=[]\n",
    "    tables_list = elal_soup.find_all('tbody')\n",
    "    headers_list = elal_soup.find_all('span',class_ = 'mat-content')\n",
    "    for j,table in enumerate(tables_list):\n",
    "        rows_list = table.findAll('tr')\n",
    "        for row in rows_list[1:]:\n",
    "            cells_list = row.findAll('td')\n",
    "            for i,cell in enumerate(cells_list[1::2]):\n",
    "                aircraft_object = {}\n",
    "                aircraft_object['tail_number'] = clean_tail_numberst(cell.get_text())\n",
    "                aircraft_object['model'] = clean_model(headers_list[j].get_text())\n",
    "                aircraft_object['name'] = clean_aircraft_name(cells_list[i].get_text())\n",
    "                aircrafts_list.append(aircraft_object) \n",
    "\n",
    "    if (not os.path.exists(AIRCRAFTS_DATA_FILE)):\n",
    "        store_object_to_file(AIRCRAFTS_DATA_FILE,aircrafts_list)   \n",
    "    return aircrafts_list\n",
    "\n",
    "#basic_data\n",
    "\n"
   ]
  },
  {
   "attachments": {},
   "cell_type": "markdown",
   "metadata": {},
   "source": [
    "### Get more Advanced information about aircraft that not exost in ELAL website "
   ]
  },
  {
   "attachments": {},
   "cell_type": "markdown",
   "metadata": {},
   "source": [
    "this dictianery store soap object about each aircraft\n",
    "it use to lower the http get request to flightera website becaue it will block us if we try to request each time we want more information about the same aircraft"
   ]
  },
  {
   "cell_type": "code",
   "execution_count": 262,
   "metadata": {},
   "outputs": [],
   "source": [
    "flightEra_soaps_dict = {}"
   ]
  },
  {
   "attachments": {},
   "cell_type": "markdown",
   "metadata": {},
   "source": [
    "Define function that get flightera soap object of spesific air craft\n",
    "\n",
    "if we also have soap object about this aircraft in the dict we just need to return it\n",
    "else, we create http request, convert it to soap object and store it to the dist. then return it"
   ]
  },
  {
   "cell_type": "code",
   "execution_count": 263,
   "metadata": {},
   "outputs": [],
   "source": [
    "def get_flghtera_soap_by_tail_number(tail_number): \n",
    "    if (tail_number.lower() not in flightEra_soaps_dict):       \n",
    "        URL = FLIGHTEAR_Base_URL + tail_number\n",
    "        flightera_response = requests.get(URL)\n",
    "        if (not flightera_response.status_code == 200):\n",
    "            print('Error resived data about '+tail_number+' from FLightera web sit, error code: ' + str(flightera_response.status_code))\n",
    "            return None\n",
    "        flightEra_soaps_dict[tail_number] =  BeautifulSoup(flightera_response.content)\n",
    "    \n",
    "    return flightEra_soaps_dict[tail_number]"
   ]
  },
  {
   "attachments": {},
   "cell_type": "markdown",
   "metadata": {},
   "source": [
    "## Get first  and last filght date"
   ]
  },
  {
   "attachments": {},
   "cell_type": "markdown",
   "metadata": {},
   "source": [
    "we neet to get the first time that specific aircrat fly.\n",
    "this information help us to reduse the api request we need to do because eithout it we will need to create requests for evwry day in pre known dates range and if we know the first and last flights date of the aircraft we can short the dates range"
   ]
  },
  {
   "attachments": {},
   "cell_type": "markdown",
   "metadata": {},
   "source": [
    "### Get first flight date"
   ]
  },
  {
   "cell_type": "code",
   "execution_count": 264,
   "metadata": {},
   "outputs": [],
   "source": [
    "def get_first_flight_date_from_Cache(tail_number):\n",
    "    return load_data_from_aircrafts_file(tail_number,FIRST_FLIGHT_DATE_FEILD_NAME)"
   ]
  },
  {
   "cell_type": "code",
   "execution_count": 265,
   "metadata": {},
   "outputs": [],
   "source": [
    "def store_first_flight_date_data(tail_number,first_flight_date):\n",
    "    store_data_to_aircrafts_file(tail_number,FIRST_FLIGHT_DATE_FEILD_NAME,first_flight_date)"
   ]
  },
  {
   "cell_type": "code",
   "execution_count": 266,
   "metadata": {},
   "outputs": [],
   "source": [
    "def clean_first_flight_dtate_string(date_str):\n",
    "    clean_str = date_str.replace('\\n', '')\n",
    "    clean_str = clean_str.strip()\n",
    "    clean_str = clean_str[:clean_str.find('(')]\n",
    "    clean_str = clean_str.strip()\n",
    "    return clean_str"
   ]
  },
  {
   "cell_type": "code",
   "execution_count": 267,
   "metadata": {},
   "outputs": [],
   "source": [
    "def convert_daytime_to_dict(date):\n",
    "    if (date == None):\n",
    "         return None\n",
    "    return {\n",
    "        'year' : date.year,\n",
    "        'month' : date.month,\n",
    "        'day' : date.day\n",
    "    }"
   ]
  },
  {
   "cell_type": "code",
   "execution_count": 268,
   "metadata": {},
   "outputs": [],
   "source": [
    "def get_first_flight_date_by_crowling(tail_number):\n",
    "    aircraft_soap = get_flghtera_soap_by_tail_number(tail_number.lower())\n",
    "    if(not aircraft_soap): \n",
    "        return None\n",
    "    try:\n",
    "        for td in aircraft_soap.find_all('td'):\n",
    "            if(td.get_text().find('years ago') != -1):\n",
    "                date_string = td.get_text()\n",
    "        date_string = clean_first_flight_dtate_string(date_string)\n",
    "        month , year = date_string.split(' ')\n",
    "        return convert_daytime_to_dict(datetime(int(year),int(months[month.lower()]),27))\n",
    "    except:\n",
    "        return None\n",
    "    return None"
   ]
  },
  {
   "cell_type": "code",
   "execution_count": 269,
   "metadata": {},
   "outputs": [],
   "source": [
    "def get_first_flight_date_by_tailnnumber(tail_number):\n",
    "    cashed_data = get_first_flight_date_from_Cache(tail_number)\n",
    "    \n",
    "    if(cashed_data):\n",
    "        return cashed_data\n",
    "    else: \n",
    "        first_flight_date_data = get_first_flight_date_by_crowling(tail_number)\n",
    "        if(first_flight_date_data):\n",
    "            store_first_flight_date_data(tail_number,first_flight_date_data)\n",
    "            return first_flight_date_data\n",
    "        return None"
   ]
  },
  {
   "attachments": {},
   "cell_type": "markdown",
   "metadata": {},
   "source": [
    "### Get Last flight date"
   ]
  },
  {
   "cell_type": "code",
   "execution_count": 270,
   "metadata": {},
   "outputs": [],
   "source": [
    "def get_last_flight_date_from_Cache(tail_number):\n",
    "    return load_data_from_aircrafts_file(tail_number,LAST_FLIGHT_DATE_FEILD_NAME)"
   ]
  },
  {
   "cell_type": "code",
   "execution_count": 271,
   "metadata": {},
   "outputs": [],
   "source": [
    "def store_last_flight_date_data(tail_number,last_flight_date):\n",
    "    store_data_to_aircrafts_file(tail_number,LAST_FLIGHT_DATE_FEILD_NAME,last_flight_date)"
   ]
  },
  {
   "cell_type": "code",
   "execution_count": 272,
   "metadata": {},
   "outputs": [],
   "source": [
    "def clean_last_flight_month(mnt):\n",
    "    mnt = mnt.replace('\\t','')\n",
    "    mnt = mnt.strip()\n",
    "    mnt = mnt[:3]\n",
    "    return mnt.lower()"
   ]
  },
  {
   "cell_type": "code",
   "execution_count": 273,
   "metadata": {},
   "outputs": [],
   "source": [
    "def get_last_flight_date_by_crowling(tail_number):\n",
    "    aircraft_soap = get_flghtera_soap_by_tail_number(tail_number.lower())\n",
    "    if(not aircraft_soap): return None\n",
    "    try:\n",
    "        year = int(aircraft_soap.find('body').find_all('div',class_='sm:px-6')[4].find_all('dt')[0].get_text())\n",
    "        month = aircraft_soap.find('body').find_all('div',class_='sm:px-6')[4].find_all('dl')[0].find_all('dd')[0].find_all('div')[0].get_text()\n",
    "        month = clean_last_flight_month(month)\n",
    "        \n",
    "        last_flight_date = datetime(year,months[month],1)\n",
    "        return convert_daytime_to_dict(last_flight_date)\n",
    "    except:\n",
    "        return None\n",
    "    return None"
   ]
  },
  {
   "cell_type": "code",
   "execution_count": 274,
   "metadata": {},
   "outputs": [],
   "source": [
    "def get_last_flight_date_by_tailnnumber(tail_number):\n",
    "    cashed_data = get_last_flight_date_from_Cache(tail_number)\n",
    "    if(cashed_data): return cashed_data\n",
    "    else: \n",
    "        last_flight_date_data = get_last_flight_date_by_crowling(tail_number)\n",
    "        if(last_flight_date_data):\n",
    "            store_last_flight_date_data(tail_number,last_flight_date_data)\n",
    "            return last_flight_date_data\n",
    "        return None"
   ]
  },
  {
   "attachments": {},
   "cell_type": "markdown",
   "metadata": {},
   "source": [
    "## Get number of seats per aircraft"
   ]
  },
  {
   "attachments": {},
   "cell_type": "markdown",
   "metadata": {},
   "source": [
    "this information can be usefull to predict the dilay time of flight"
   ]
  },
  {
   "cell_type": "code",
   "execution_count": 275,
   "metadata": {},
   "outputs": [],
   "source": [
    "def store_seats_data(tail_number,seats_object):\n",
    "    store_data_to_aircrafts_file(tail_number,SEATS_FEILD_NAME,seats_object)"
   ]
  },
  {
   "cell_type": "code",
   "execution_count": 276,
   "metadata": {},
   "outputs": [],
   "source": [
    "def get_seats_from_Cache(tail_number):\n",
    "    return load_data_from_aircrafts_file(tail_number,SEATS_FEILD_NAME)"
   ]
  },
  {
   "cell_type": "code",
   "execution_count": 277,
   "metadata": {},
   "outputs": [],
   "source": [
    "def get_seats_by_crowling(tail_number):\n",
    "    aircraft_soap = get_flghtera_soap_by_tail_number(tail_number.lower())\n",
    "    aircraft_seat_object = {}\n",
    "    strings = []\n",
    "    try:\n",
    "        for td in aircraft_soap.find_all('td'):\n",
    "            if(td.get_text().find('seats') != -1):\n",
    "                strings = td.get_text().split('\\n')\n",
    "                \n",
    "    except:\n",
    "        return None\n",
    "    i=0\n",
    "    for i,s in enumerate(strings):\n",
    "        if(s.find('seats') != -1):\n",
    "            break\n",
    "    for content in strings[i+1:-1]:\n",
    "        seat , class_ = content.split(' ')\n",
    "        aircraft_seat_object[class_] = str(seat)\n",
    "        print(aircraft_seat_object)\n",
    "\n",
    "    return aircraft_seat_object\n",
    "    "
   ]
  },
  {
   "cell_type": "code",
   "execution_count": 278,
   "metadata": {},
   "outputs": [],
   "source": [
    "def get_seats_by_tail_number(tail_number):\n",
    "    cashed_data = get_seats_from_Cache(tail_number)\n",
    "    if(cashed_data): return cashed_data\n",
    "    else: \n",
    "        seats_data = get_seats_by_crowling(tail_number)\n",
    "        if(seats_data):\n",
    "            store_seats_data(tail_number,seats_data)\n",
    "            return seats_data\n",
    "        return None\n",
    "        "
   ]
  },
  {
   "attachments": {},
   "cell_type": "markdown",
   "metadata": {},
   "source": [
    "### Last scanned date"
   ]
  },
  {
   "attachments": {},
   "cell_type": "markdown",
   "metadata": {},
   "source": [
    "we store the last scanned date,\n",
    "this date is the last date from all the days this air craft was active that we know the flight history of.\n",
    "\n",
    "for example if the aircraft is active from 1/1/2017 untill today and last scanned date is 1/3/2017 it's mean we have all the flights of this aircraft from 1/1/2017 to 1/3/2017.\n",
    "\n",
    "this information help us to avoid duplicate flights in our dataset and minimize the number of api requests"
   ]
  },
  {
   "cell_type": "code",
   "execution_count": 279,
   "metadata": {},
   "outputs": [],
   "source": [
    "def get_last_scanned_date_from_Cache(tail_number):\n",
    "    return load_data_from_aircrafts_file(tail_number,LAST_SCANNED__DATE_FEILD_NAME)\n",
    "    "
   ]
  },
  {
   "cell_type": "code",
   "execution_count": 280,
   "metadata": {},
   "outputs": [],
   "source": [
    "def get_last_scanned_date_of_aircraft(tail_number):\n",
    "    cashed_data = get_last_scanned_date_from_Cache(tail_number)\n",
    "    if(cashed_data): return cashed_data\n",
    "    else: \n",
    "        last_scanned_date = load_data_from_aircrafts_file(tail_number,FIRST_FLIGHT_DATE_FEILD_NAME) \n",
    "        if(last_scanned_date):\n",
    "            store_data_to_aircrafts_file(tail_number,LAST_SCANNED__DATE_FEILD_NAME,last_scanned_date)\n",
    "            return last_scanned_date\n",
    "        return None"
   ]
  },
  {
   "attachments": {},
   "cell_type": "markdown",
   "metadata": {},
   "source": [
    "## Put all this data togeter"
   ]
  },
  {
   "attachments": {},
   "cell_type": "markdown",
   "metadata": {},
   "source": [
    "Define function that get advanced information about eace air crafr\n",
    "this function call to every function that can add information about spesific aircraft"
   ]
  },
  {
   "cell_type": "code",
   "execution_count": 281,
   "metadata": {},
   "outputs": [],
   "source": [
    "def get_aircrafts_full_information():\n",
    "    aircrafts_list = get_basic_aircrafts_data_list()\n",
    "    for aircraft in aircrafts_list:\n",
    "        #Add first flight date information\n",
    "        first_flght_date_data = get_first_flight_date_by_tailnnumber(aircraft[TAIL_NUMBER_FEILD_NAME])\n",
    "        if(first_flght_date_data):\n",
    "            aircraft[FIRST_FLIGHT_DATE_FEILD_NAME] = first_flght_date_data\n",
    "\n",
    "        #Add last flight date information\n",
    "        last_flght_date_data = get_last_flight_date_by_tailnnumber(aircraft[TAIL_NUMBER_FEILD_NAME])\n",
    "        if(last_flght_date_data):\n",
    "            aircraft[LAST_FLIGHT_DATE_FEILD_NAME] = last_flght_date_data\n",
    "\n",
    "        #Add seats to airplanes data\n",
    "        seats_data = get_seats_by_tail_number(aircraft[TAIL_NUMBER_FEILD_NAME])\n",
    "        if(seats_data):\n",
    "            aircraft[SEATS_FEILD_NAME] = seats_data\n",
    "        \n",
    "        last_scanned_daate = get_last_scanned_date_of_aircraft(aircraft[TAIL_NUMBER_FEILD_NAME])\n",
    "        if(last_scanned_daate):\n",
    "            aircraft[LAST_SCANNED__DATE_FEILD_NAME] = last_scanned_daate\n",
    "\n",
    "\n",
    "\n",
    "    return aircrafts_list\n"
   ]
  },
  {
   "attachments": {},
   "cell_type": "markdown",
   "metadata": {},
   "source": [
    "We will add one more feild to the aircraft data that contain the last data that the API Checked"
   ]
  },
  {
   "attachments": {},
   "cell_type": "markdown",
   "metadata": {},
   "source": [
    "## Preview our aircrafts data"
   ]
  },
  {
   "cell_type": "code",
   "execution_count": 284,
   "metadata": {},
   "outputs": [
    {
     "ename": "TypeError",
     "evalue": "'str' object is not callable",
     "output_type": "error",
     "traceback": [
      "\u001b[1;31m---------------------------------------------------------------------------\u001b[0m",
      "\u001b[1;31mTypeError\u001b[0m                                 Traceback (most recent call last)",
      "\u001b[1;32m~\\AppData\\Local\\Temp\\ipykernel_8800\\2071124871.py\u001b[0m in \u001b[0;36m<module>\u001b[1;34m\u001b[0m\n\u001b[0;32m      3\u001b[0m     \u001b[0mdf\u001b[0m \u001b[1;33m=\u001b[0m \u001b[0mpd\u001b[0m\u001b[1;33m.\u001b[0m\u001b[0mDataFrame\u001b[0m\u001b[1;33m(\u001b[0m\u001b[0maircrafts_list\u001b[0m\u001b[1;33m)\u001b[0m\u001b[1;33m\u001b[0m\u001b[1;33m\u001b[0m\u001b[0m\n\u001b[0;32m      4\u001b[0m     \u001b[1;32mreturn\u001b[0m \u001b[0mdf\u001b[0m\u001b[1;33m\u001b[0m\u001b[1;33m\u001b[0m\u001b[0m\n\u001b[1;32m----> 5\u001b[1;33m \u001b[0maircrafts_df\u001b[0m \u001b[1;33m=\u001b[0m \u001b[0mget_airrcrafts_data_as_dataframe\u001b[0m\u001b[1;33m(\u001b[0m\u001b[1;33m)\u001b[0m\u001b[1;33m\u001b[0m\u001b[1;33m\u001b[0m\u001b[0m\n\u001b[0m\u001b[0;32m      6\u001b[0m \u001b[0maircrafts_df\u001b[0m\u001b[1;33m\u001b[0m\u001b[1;33m\u001b[0m\u001b[0m\n",
      "\u001b[1;32m~\\AppData\\Local\\Temp\\ipykernel_8800\\2071124871.py\u001b[0m in \u001b[0;36mget_airrcrafts_data_as_dataframe\u001b[1;34m()\u001b[0m\n\u001b[0;32m      1\u001b[0m \u001b[1;32mdef\u001b[0m \u001b[0mget_airrcrafts_data_as_dataframe\u001b[0m\u001b[1;33m(\u001b[0m\u001b[1;33m)\u001b[0m\u001b[1;33m:\u001b[0m\u001b[1;33m\u001b[0m\u001b[1;33m\u001b[0m\u001b[0m\n\u001b[1;32m----> 2\u001b[1;33m     \u001b[0maircrafts_list\u001b[0m \u001b[1;33m=\u001b[0m \u001b[0mget_aircrafts_full_information\u001b[0m\u001b[1;33m(\u001b[0m\u001b[1;33m)\u001b[0m\u001b[1;33m\u001b[0m\u001b[1;33m\u001b[0m\u001b[0m\n\u001b[0m\u001b[0;32m      3\u001b[0m     \u001b[0mdf\u001b[0m \u001b[1;33m=\u001b[0m \u001b[0mpd\u001b[0m\u001b[1;33m.\u001b[0m\u001b[0mDataFrame\u001b[0m\u001b[1;33m(\u001b[0m\u001b[0maircrafts_list\u001b[0m\u001b[1;33m)\u001b[0m\u001b[1;33m\u001b[0m\u001b[1;33m\u001b[0m\u001b[0m\n\u001b[0;32m      4\u001b[0m     \u001b[1;32mreturn\u001b[0m \u001b[0mdf\u001b[0m\u001b[1;33m\u001b[0m\u001b[1;33m\u001b[0m\u001b[0m\n\u001b[0;32m      5\u001b[0m \u001b[0maircrafts_df\u001b[0m \u001b[1;33m=\u001b[0m \u001b[0mget_airrcrafts_data_as_dataframe\u001b[0m\u001b[1;33m(\u001b[0m\u001b[1;33m)\u001b[0m\u001b[1;33m\u001b[0m\u001b[1;33m\u001b[0m\u001b[0m\n",
      "\u001b[1;32m~\\AppData\\Local\\Temp\\ipykernel_8800\\3275041699.py\u001b[0m in \u001b[0;36mget_aircrafts_full_information\u001b[1;34m()\u001b[0m\n\u001b[0;32m      8\u001b[0m \u001b[1;33m\u001b[0m\u001b[0m\n\u001b[0;32m      9\u001b[0m         \u001b[1;31m#Add last flight date information\u001b[0m\u001b[1;33m\u001b[0m\u001b[1;33m\u001b[0m\u001b[1;33m\u001b[0m\u001b[0m\n\u001b[1;32m---> 10\u001b[1;33m         \u001b[0mlast_flght_date_data\u001b[0m \u001b[1;33m=\u001b[0m \u001b[0mget_last_flight_date_by_tailnnumber\u001b[0m\u001b[1;33m(\u001b[0m\u001b[0maircraft\u001b[0m\u001b[1;33m[\u001b[0m\u001b[0mTAIL_NUMBER_FEILD_NAME\u001b[0m\u001b[1;33m]\u001b[0m\u001b[1;33m)\u001b[0m\u001b[1;33m\u001b[0m\u001b[1;33m\u001b[0m\u001b[0m\n\u001b[0m\u001b[0;32m     11\u001b[0m         \u001b[1;32mif\u001b[0m\u001b[1;33m(\u001b[0m\u001b[0mlast_flght_date_data\u001b[0m\u001b[1;33m)\u001b[0m\u001b[1;33m:\u001b[0m\u001b[1;33m\u001b[0m\u001b[1;33m\u001b[0m\u001b[0m\n\u001b[0;32m     12\u001b[0m             \u001b[0maircraft\u001b[0m\u001b[1;33m[\u001b[0m\u001b[0mLAST_FLIGHT_DATE_FEILD_NAME\u001b[0m\u001b[1;33m]\u001b[0m \u001b[1;33m=\u001b[0m \u001b[0mlast_flght_date_data\u001b[0m\u001b[1;33m\u001b[0m\u001b[1;33m\u001b[0m\u001b[0m\n",
      "\u001b[1;32m~\\AppData\\Local\\Temp\\ipykernel_8800\\670342356.py\u001b[0m in \u001b[0;36mget_last_flight_date_by_tailnnumber\u001b[1;34m(tail_number)\u001b[0m\n\u001b[0;32m      3\u001b[0m     \u001b[1;32mif\u001b[0m\u001b[1;33m(\u001b[0m\u001b[0mcashed_data\u001b[0m\u001b[1;33m)\u001b[0m\u001b[1;33m:\u001b[0m \u001b[1;32mreturn\u001b[0m \u001b[0mcashed_data\u001b[0m\u001b[1;33m\u001b[0m\u001b[1;33m\u001b[0m\u001b[0m\n\u001b[0;32m      4\u001b[0m     \u001b[1;32melse\u001b[0m\u001b[1;33m:\u001b[0m\u001b[1;33m\u001b[0m\u001b[1;33m\u001b[0m\u001b[0m\n\u001b[1;32m----> 5\u001b[1;33m         \u001b[0mlast_flight_date_data\u001b[0m \u001b[1;33m=\u001b[0m \u001b[0mget_last_flight_date_by_crowling\u001b[0m\u001b[1;33m(\u001b[0m\u001b[0mtail_number\u001b[0m\u001b[1;33m)\u001b[0m\u001b[1;33m\u001b[0m\u001b[1;33m\u001b[0m\u001b[0m\n\u001b[0m\u001b[0;32m      6\u001b[0m         \u001b[1;32mif\u001b[0m\u001b[1;33m(\u001b[0m\u001b[0mlast_flight_date_data\u001b[0m\u001b[1;33m)\u001b[0m\u001b[1;33m:\u001b[0m\u001b[1;33m\u001b[0m\u001b[1;33m\u001b[0m\u001b[0m\n\u001b[0;32m      7\u001b[0m             \u001b[0mstore_last_flight_date_data\u001b[0m\u001b[1;33m(\u001b[0m\u001b[0mtail_number\u001b[0m\u001b[1;33m,\u001b[0m\u001b[0mlast_flight_date_data\u001b[0m\u001b[1;33m)\u001b[0m\u001b[1;33m\u001b[0m\u001b[1;33m\u001b[0m\u001b[0m\n",
      "\u001b[1;32m~\\AppData\\Local\\Temp\\ipykernel_8800\\2702524983.py\u001b[0m in \u001b[0;36mget_last_flight_date_by_crowling\u001b[1;34m(tail_number)\u001b[0m\n\u001b[0;32m      1\u001b[0m \u001b[1;32mdef\u001b[0m \u001b[0mget_last_flight_date_by_crowling\u001b[0m\u001b[1;33m(\u001b[0m\u001b[0mtail_number\u001b[0m\u001b[1;33m)\u001b[0m\u001b[1;33m:\u001b[0m\u001b[1;33m\u001b[0m\u001b[1;33m\u001b[0m\u001b[0m\n\u001b[1;32m----> 2\u001b[1;33m     \u001b[0maircraft_soap\u001b[0m \u001b[1;33m=\u001b[0m \u001b[0mget_flghtera_soap_by_tail_number\u001b[0m\u001b[1;33m(\u001b[0m\u001b[0mtail_number\u001b[0m\u001b[1;33m.\u001b[0m\u001b[0mlower\u001b[0m\u001b[1;33m(\u001b[0m\u001b[1;33m)\u001b[0m\u001b[1;33m)\u001b[0m\u001b[1;33m\u001b[0m\u001b[1;33m\u001b[0m\u001b[0m\n\u001b[0m\u001b[0;32m      3\u001b[0m     \u001b[1;32mif\u001b[0m\u001b[1;33m(\u001b[0m\u001b[1;32mnot\u001b[0m \u001b[0maircraft_soap\u001b[0m\u001b[1;33m)\u001b[0m\u001b[1;33m:\u001b[0m \u001b[1;32mreturn\u001b[0m \u001b[1;32mNone\u001b[0m\u001b[1;33m\u001b[0m\u001b[1;33m\u001b[0m\u001b[0m\n\u001b[0;32m      4\u001b[0m     \u001b[1;32mtry\u001b[0m\u001b[1;33m:\u001b[0m\u001b[1;33m\u001b[0m\u001b[1;33m\u001b[0m\u001b[0m\n\u001b[0;32m      5\u001b[0m         \u001b[0myear\u001b[0m \u001b[1;33m=\u001b[0m \u001b[0mint\u001b[0m\u001b[1;33m(\u001b[0m\u001b[0maircraft_soap\u001b[0m\u001b[1;33m.\u001b[0m\u001b[0mfind\u001b[0m\u001b[1;33m(\u001b[0m\u001b[1;34m'body'\u001b[0m\u001b[1;33m)\u001b[0m\u001b[1;33m.\u001b[0m\u001b[0mfind_all\u001b[0m\u001b[1;33m(\u001b[0m\u001b[1;34m'div'\u001b[0m\u001b[1;33m,\u001b[0m\u001b[0mclass_\u001b[0m\u001b[1;33m=\u001b[0m\u001b[1;34m'sm:px-6'\u001b[0m\u001b[1;33m)\u001b[0m\u001b[1;33m[\u001b[0m\u001b[1;36m4\u001b[0m\u001b[1;33m]\u001b[0m\u001b[1;33m.\u001b[0m\u001b[0mfind_all\u001b[0m\u001b[1;33m(\u001b[0m\u001b[1;34m'dt'\u001b[0m\u001b[1;33m)\u001b[0m\u001b[1;33m[\u001b[0m\u001b[1;36m0\u001b[0m\u001b[1;33m]\u001b[0m\u001b[1;33m.\u001b[0m\u001b[0mget_text\u001b[0m\u001b[1;33m(\u001b[0m\u001b[1;33m)\u001b[0m\u001b[1;33m)\u001b[0m\u001b[1;33m\u001b[0m\u001b[1;33m\u001b[0m\u001b[0m\n",
      "\u001b[1;32m~\\AppData\\Local\\Temp\\ipykernel_8800\\2866490728.py\u001b[0m in \u001b[0;36mget_flghtera_soap_by_tail_number\u001b[1;34m(tail_number)\u001b[0m\n\u001b[0;32m      4\u001b[0m         \u001b[0mflightera_response\u001b[0m \u001b[1;33m=\u001b[0m \u001b[0mrequests\u001b[0m\u001b[1;33m.\u001b[0m\u001b[0mget\u001b[0m\u001b[1;33m(\u001b[0m\u001b[0mURL\u001b[0m\u001b[1;33m)\u001b[0m\u001b[1;33m\u001b[0m\u001b[1;33m\u001b[0m\u001b[0m\n\u001b[0;32m      5\u001b[0m         \u001b[1;32mif\u001b[0m \u001b[1;33m(\u001b[0m\u001b[1;32mnot\u001b[0m \u001b[0mflightera_response\u001b[0m\u001b[1;33m.\u001b[0m\u001b[0mstatus_code\u001b[0m \u001b[1;33m==\u001b[0m \u001b[1;36m200\u001b[0m\u001b[1;33m)\u001b[0m\u001b[1;33m:\u001b[0m\u001b[1;33m\u001b[0m\u001b[1;33m\u001b[0m\u001b[0m\n\u001b[1;32m----> 6\u001b[1;33m             \u001b[0mprint\u001b[0m\u001b[1;33m(\u001b[0m\u001b[1;34m'Error resived data about '\u001b[0m\u001b[1;33m+\u001b[0m\u001b[0mtail_number\u001b[0m\u001b[1;33m+\u001b[0m\u001b[1;34m' from FLightera web sit, error code: '\u001b[0m \u001b[1;33m+\u001b[0m \u001b[0mstr\u001b[0m\u001b[1;33m(\u001b[0m\u001b[0mflightera_response\u001b[0m\u001b[1;33m.\u001b[0m\u001b[0mstatus_code\u001b[0m\u001b[1;33m)\u001b[0m\u001b[1;33m)\u001b[0m\u001b[1;33m\u001b[0m\u001b[1;33m\u001b[0m\u001b[0m\n\u001b[0m\u001b[0;32m      7\u001b[0m             \u001b[1;32mreturn\u001b[0m \u001b[1;32mNone\u001b[0m\u001b[1;33m\u001b[0m\u001b[1;33m\u001b[0m\u001b[0m\n\u001b[0;32m      8\u001b[0m         \u001b[0mflightEra_soaps_dict\u001b[0m\u001b[1;33m[\u001b[0m\u001b[0mtail_number\u001b[0m\u001b[1;33m]\u001b[0m \u001b[1;33m=\u001b[0m  \u001b[0mBeautifulSoup\u001b[0m\u001b[1;33m(\u001b[0m\u001b[0mflightera_response\u001b[0m\u001b[1;33m.\u001b[0m\u001b[0mcontent\u001b[0m\u001b[1;33m)\u001b[0m\u001b[1;33m\u001b[0m\u001b[1;33m\u001b[0m\u001b[0m\n",
      "\u001b[1;31mTypeError\u001b[0m: 'str' object is not callable"
     ]
    }
   ],
   "source": [
    "def get_airrcrafts_data_as_dataframe():\n",
    "    aircrafts_list = get_aircrafts_full_information()\n",
    "    df = pd.DataFrame(aircrafts_list)\n",
    "    return df\n",
    "aircrafts_df = get_airrcrafts_data_as_dataframe()\n",
    "aircrafts_df"
   ]
  },
  {
   "attachments": {},
   "cell_type": "markdown",
   "metadata": {},
   "source": [
    "## Start to collect data about flight "
   ]
  },
  {
   "attachments": {},
   "cell_type": "markdown",
   "metadata": {},
   "source": [
    "Define function that collect data about aircraft between 2 dates"
   ]
  },
  {
   "attachments": {},
   "cell_type": "markdown",
   "metadata": {},
   "source": [
    "we use date as dict in the formate:\n",
    "{\n",
    "    'year' : YYYY,\n",
    "    'month' : MM,\n",
    "    'day' : DD\n",
    "}"
   ]
  },
  {
   "cell_type": "code",
   "execution_count": null,
   "metadata": {},
   "outputs": [],
   "source": [
    "def get_dates_between(start_date, end_date):\n",
    "    delta = end_date - start_date      \n",
    "    date_list = []                     \n",
    "    \n",
    "    for i in range(delta.days + 1):     \n",
    "        date_list.append(start_date + timedelta(days=i))   \n",
    "    \n",
    "    return date_list"
   ]
  },
  {
   "cell_type": "code",
   "execution_count": null,
   "metadata": {},
   "outputs": [],
   "source": [
    "def get_aircraft_flights_from_api(tail_number,max_number_of_days,days_per_request,limit_date = None,):\n",
    "    aircrafts_list = get_aircrafts_full_information()\n",
    "    flights_list = []\n",
    "    if(os.path.exists(FLIGHT_Data_FILE)):\n",
    "        flights_list = load_object_from_file(FLIGHT_Data_FILE)\n",
    "    print('Collectiong '+tail_number+' flights')\n",
    "    for aircraft in aircrafts_list:\n",
    "        if(aircraft[TAIL_NUMBER_FEILD_NAME] == tail_number):\n",
    "            first_flight_date_dict = None\n",
    "            last_flight_date_dict = None\n",
    "            first_flight_date = datetime(2000,1,27)\n",
    "            last_flight_date = datetime.today()\n",
    "            \n",
    "            if(LAST_SCANNED__DATE_FEILD_NAME in aircraft):\n",
    "                first_flight_date_dict = aircraft[LAST_SCANNED__DATE_FEILD_NAME]\n",
    "\n",
    "            if(limit_date):\n",
    "                last_flight_date = limit_date\n",
    "\n",
    "            elif(LAST_FLIGHT_DATE_FEILD_NAME in aircraft):\n",
    "                last_flight_date_dict = aircraft[LAST_FLIGHT_DATE_FEILD_NAME]\n",
    "\n",
    "            if(first_flight_date_dict):\n",
    "                first_flight_date = datetime(int(first_flight_date_dict['year']), int(first_flight_date_dict['month']),int(first_flight_date_dict['day']) )\n",
    "            \n",
    "            if(last_flight_date_dict):\n",
    "                last_flight_date = datetime(int(last_flight_date_dict['year']),int(last_flight_date_dict['month']),int(last_flight_date_dict['day']) )\n",
    "            for current_date in (get_dates_between(first_flight_date,last_flight_date)[:max_number_of_days:days_per_request]):\n",
    "                print(tail_number+' '+str(current_date))\n",
    "                new_flights , error = get_Flight_by_date_and_tail_number(current_date,tail_number.upper(),days_per_request)\n",
    "                if(new_flights != None):\n",
    "                    flights_list.extend(new_flights)\n",
    "                    store_data_to_aircrafts_file(aircraft[TAIL_NUMBER_FEILD_NAME],LAST_SCANNED__DATE_FEILD_NAME,convert_daytime_to_dict(current_date + timedelta(1)))\n",
    "                    store_object_to_file(FLIGHT_Data_FILE,flights_list)\n",
    "                else:\n",
    "                    store_object_to_file(FLIGHT_Data_FILE,flights_list)\n",
    "                    return flights_list , error\n",
    "                    \n",
    "            return flights_list , error\n",
    "\n"
   ]
  },
  {
   "cell_type": "code",
   "execution_count": null,
   "metadata": {},
   "outputs": [],
   "source": [
    "def get_all_aricrafts_flights(max_number_of_days,days_per_request):\n",
    "    aircrafts_list = get_aircrafts_full_information()\n",
    "    for aircraft in aircrafts_list:\n",
    "        flights , error =get_aircraft_flights_from_api(aircraft[TAIL_NUMBER_FEILD_NAME],max_number_of_days,days_per_request)\n",
    "        if(error):\n",
    "            print(error)\n",
    "            break\n",
    "    return load_object_from_file(FLIGHT_Data_FILE)"
   ]
  },
  {
   "cell_type": "code",
   "execution_count": null,
   "metadata": {},
   "outputs": [
    {
     "name": "stdout",
     "output_type": "stream",
     "text": [
      "Collectiong 4X-EDK flights\n",
      "4X-EDK 2021-09-27 00:00:00\n",
      "{'httpStatusCode': 403, 'errorId': 'e35e544a-e05f-440c-b1e9-e965ec521925', 'errorMessage': 'usage limits are exceeded'}\n"
     ]
    },
    {
     "data": {
      "text/plain": [
       "506"
      ]
     },
     "execution_count": 41,
     "metadata": {},
     "output_type": "execute_result"
    }
   ],
   "source": [
    "flights_list = get_all_aricrafts_flights(max_number_of_days=400,days_per_request=30)\n",
    "len(flights_list)"
   ]
  },
  {
   "attachments": {},
   "cell_type": "markdown",
   "metadata": {},
   "source": [
    "# Data Exporation"
   ]
  },
  {
   "attachments": {},
   "cell_type": "markdown",
   "metadata": {},
   "source": [
    "## Intert all flights data into dataframe"
   ]
  },
  {
   "cell_type": "code",
   "execution_count": null,
   "metadata": {},
   "outputs": [],
   "source": [
    "def get_flights_dataframe():\n",
    "    flights = load_object_from_file(FLIGHT_Data_FILE)\n",
    "    return pd.DataFrame(flights)\n"
   ]
  },
  {
   "attachments": {},
   "cell_type": "markdown",
   "metadata": {},
   "source": [
    "## Preview the fights data"
   ]
  },
  {
   "cell_type": "code",
   "execution_count": null,
   "metadata": {},
   "outputs": [],
   "source": [
    "flights_df = get_flights_dataframe()"
   ]
  },
  {
   "cell_type": "code",
   "execution_count": null,
   "metadata": {},
   "outputs": [
    {
     "data": {
      "text/html": [
       "<div>\n",
       "<style scoped>\n",
       "    .dataframe tbody tr th:only-of-type {\n",
       "        vertical-align: middle;\n",
       "    }\n",
       "\n",
       "    .dataframe tbody tr th {\n",
       "        vertical-align: top;\n",
       "    }\n",
       "\n",
       "    .dataframe thead th {\n",
       "        text-align: right;\n",
       "    }\n",
       "</style>\n",
       "<table border=\"1\" class=\"dataframe\">\n",
       "  <thead>\n",
       "    <tr style=\"text-align: right;\">\n",
       "      <th></th>\n",
       "      <th>flightId</th>\n",
       "      <th>carrierFsCode</th>\n",
       "      <th>operatingCarrierFsCode</th>\n",
       "      <th>primaryCarrierFsCode</th>\n",
       "      <th>flightNumber</th>\n",
       "      <th>departureAirportFsCode</th>\n",
       "      <th>arrivalAirportFsCode</th>\n",
       "      <th>departureDate</th>\n",
       "      <th>arrivalDate</th>\n",
       "      <th>status</th>\n",
       "      <th>schedule</th>\n",
       "      <th>operationalTimes</th>\n",
       "      <th>codeshares</th>\n",
       "      <th>delays</th>\n",
       "      <th>flightDurations</th>\n",
       "      <th>airportResources</th>\n",
       "      <th>flightEquipment</th>\n",
       "      <th>irregularOperations</th>\n",
       "      <th>divertedAirportFsCode</th>\n",
       "    </tr>\n",
       "  </thead>\n",
       "  <tbody>\n",
       "    <tr>\n",
       "      <th>0</th>\n",
       "      <td>930925122</td>\n",
       "      <td>LY</td>\n",
       "      <td>LY</td>\n",
       "      <td>LY</td>\n",
       "      <td>1789</td>\n",
       "      <td>PAE</td>\n",
       "      <td>TLV</td>\n",
       "      <td>{'dateUtc': '2017-08-22T18:15:00.000Z', 'dateL...</td>\n",
       "      <td>{'dateUtc': '2017-08-23T06:55:00.000Z', 'dateL...</td>\n",
       "      <td>L</td>\n",
       "      <td>{'flightType': 'P', 'serviceClasses': 'RJY', '...</td>\n",
       "      <td>{'publishedDeparture': {'dateUtc': '2017-08-22...</td>\n",
       "      <td>[]</td>\n",
       "      <td>{}</td>\n",
       "      <td>{'scheduledBlockMinutes': 760, 'airMinutes': 748}</td>\n",
       "      <td>{'arrivalTerminal': '3'}</td>\n",
       "      <td>{'scheduledEquipmentIataCode': '789', 'actualE...</td>\n",
       "      <td>[]</td>\n",
       "      <td>NaN</td>\n",
       "    </tr>\n",
       "    <tr>\n",
       "      <th>1</th>\n",
       "      <td>932368916</td>\n",
       "      <td>LY</td>\n",
       "      <td>LY</td>\n",
       "      <td>LY</td>\n",
       "      <td>215</td>\n",
       "      <td>TLV</td>\n",
       "      <td>LHR</td>\n",
       "      <td>{'dateUtc': '2017-09-04T08:35:00.000Z', 'dateL...</td>\n",
       "      <td>{'dateUtc': '2017-09-04T13:55:00.000Z', 'dateL...</td>\n",
       "      <td>L</td>\n",
       "      <td>{'flightType': 'P', 'serviceClasses': 'RJY', '...</td>\n",
       "      <td>{'publishedDeparture': {'dateUtc': '2017-09-04...</td>\n",
       "      <td>[]</td>\n",
       "      <td>{}</td>\n",
       "      <td>{'scheduledBlockMinutes': 320, 'airMinutes': 289}</td>\n",
       "      <td>{'departureTerminal': '3', 'arrivalTerminal': ...</td>\n",
       "      <td>{'scheduledEquipmentIataCode': '789', 'tailNum...</td>\n",
       "      <td>[]</td>\n",
       "      <td>NaN</td>\n",
       "    </tr>\n",
       "    <tr>\n",
       "      <th>2</th>\n",
       "      <td>932368962</td>\n",
       "      <td>LY</td>\n",
       "      <td>LY</td>\n",
       "      <td>LY</td>\n",
       "      <td>216</td>\n",
       "      <td>LHR</td>\n",
       "      <td>TLV</td>\n",
       "      <td>{'dateUtc': '2017-09-04T16:00:00.000Z', 'dateL...</td>\n",
       "      <td>{'dateUtc': '2017-09-04T20:50:00.000Z', 'dateL...</td>\n",
       "      <td>L</td>\n",
       "      <td>{'flightType': 'P', 'serviceClasses': 'RJY', '...</td>\n",
       "      <td>{'publishedDeparture': {'dateUtc': '2017-09-04...</td>\n",
       "      <td>[]</td>\n",
       "      <td>{}</td>\n",
       "      <td>{'scheduledBlockMinutes': 290, 'airMinutes': 248}</td>\n",
       "      <td>{'departureTerminal': '4', 'arrivalTerminal': ...</td>\n",
       "      <td>{'scheduledEquipmentIataCode': '789', 'tailNum...</td>\n",
       "      <td>[]</td>\n",
       "      <td>NaN</td>\n",
       "    </tr>\n",
       "    <tr>\n",
       "      <th>3</th>\n",
       "      <td>932586208</td>\n",
       "      <td>LY</td>\n",
       "      <td>LY</td>\n",
       "      <td>LY</td>\n",
       "      <td>225</td>\n",
       "      <td>TLV</td>\n",
       "      <td>CDG</td>\n",
       "      <td>{'dateUtc': '2017-09-06T16:15:00.000Z', 'dateL...</td>\n",
       "      <td>{'dateUtc': '2017-09-06T21:10:00.000Z', 'dateL...</td>\n",
       "      <td>L</td>\n",
       "      <td>{'flightType': 'P', 'serviceClasses': 'RJY', '...</td>\n",
       "      <td>{'publishedDeparture': {'dateUtc': '2017-09-06...</td>\n",
       "      <td>[]</td>\n",
       "      <td>{}</td>\n",
       "      <td>{'scheduledBlockMinutes': 295}</td>\n",
       "      <td>{'departureTerminal': '3', 'arrivalTerminal': ...</td>\n",
       "      <td>{'scheduledEquipmentIataCode': '789', 'tailNum...</td>\n",
       "      <td>[]</td>\n",
       "      <td>NaN</td>\n",
       "    </tr>\n",
       "    <tr>\n",
       "      <th>4</th>\n",
       "      <td>932696349</td>\n",
       "      <td>LY</td>\n",
       "      <td>LY</td>\n",
       "      <td>LY</td>\n",
       "      <td>226</td>\n",
       "      <td>CDG</td>\n",
       "      <td>TLV</td>\n",
       "      <td>{'dateUtc': '2017-09-06T23:10:00.000Z', 'dateL...</td>\n",
       "      <td>{'dateUtc': '2017-09-07T03:35:00.000Z', 'dateL...</td>\n",
       "      <td>L</td>\n",
       "      <td>{'flightType': 'P', 'serviceClasses': 'RJY', '...</td>\n",
       "      <td>{'publishedDeparture': {'dateUtc': '2017-09-06...</td>\n",
       "      <td>[]</td>\n",
       "      <td>{}</td>\n",
       "      <td>{'scheduledBlockMinutes': 265}</td>\n",
       "      <td>{'departureTerminal': '2A', 'arrivalTerminal':...</td>\n",
       "      <td>{'scheduledEquipmentIataCode': '789', 'tailNum...</td>\n",
       "      <td>[]</td>\n",
       "      <td>NaN</td>\n",
       "    </tr>\n",
       "  </tbody>\n",
       "</table>\n",
       "</div>"
      ],
      "text/plain": [
       "    flightId carrierFsCode operatingCarrierFsCode primaryCarrierFsCode  \\\n",
       "0  930925122            LY                     LY                   LY   \n",
       "1  932368916            LY                     LY                   LY   \n",
       "2  932368962            LY                     LY                   LY   \n",
       "3  932586208            LY                     LY                   LY   \n",
       "4  932696349            LY                     LY                   LY   \n",
       "\n",
       "  flightNumber departureAirportFsCode arrivalAirportFsCode  \\\n",
       "0         1789                    PAE                  TLV   \n",
       "1          215                    TLV                  LHR   \n",
       "2          216                    LHR                  TLV   \n",
       "3          225                    TLV                  CDG   \n",
       "4          226                    CDG                  TLV   \n",
       "\n",
       "                                       departureDate  \\\n",
       "0  {'dateUtc': '2017-08-22T18:15:00.000Z', 'dateL...   \n",
       "1  {'dateUtc': '2017-09-04T08:35:00.000Z', 'dateL...   \n",
       "2  {'dateUtc': '2017-09-04T16:00:00.000Z', 'dateL...   \n",
       "3  {'dateUtc': '2017-09-06T16:15:00.000Z', 'dateL...   \n",
       "4  {'dateUtc': '2017-09-06T23:10:00.000Z', 'dateL...   \n",
       "\n",
       "                                         arrivalDate status  \\\n",
       "0  {'dateUtc': '2017-08-23T06:55:00.000Z', 'dateL...      L   \n",
       "1  {'dateUtc': '2017-09-04T13:55:00.000Z', 'dateL...      L   \n",
       "2  {'dateUtc': '2017-09-04T20:50:00.000Z', 'dateL...      L   \n",
       "3  {'dateUtc': '2017-09-06T21:10:00.000Z', 'dateL...      L   \n",
       "4  {'dateUtc': '2017-09-07T03:35:00.000Z', 'dateL...      L   \n",
       "\n",
       "                                            schedule  \\\n",
       "0  {'flightType': 'P', 'serviceClasses': 'RJY', '...   \n",
       "1  {'flightType': 'P', 'serviceClasses': 'RJY', '...   \n",
       "2  {'flightType': 'P', 'serviceClasses': 'RJY', '...   \n",
       "3  {'flightType': 'P', 'serviceClasses': 'RJY', '...   \n",
       "4  {'flightType': 'P', 'serviceClasses': 'RJY', '...   \n",
       "\n",
       "                                    operationalTimes codeshares delays  \\\n",
       "0  {'publishedDeparture': {'dateUtc': '2017-08-22...         []     {}   \n",
       "1  {'publishedDeparture': {'dateUtc': '2017-09-04...         []     {}   \n",
       "2  {'publishedDeparture': {'dateUtc': '2017-09-04...         []     {}   \n",
       "3  {'publishedDeparture': {'dateUtc': '2017-09-06...         []     {}   \n",
       "4  {'publishedDeparture': {'dateUtc': '2017-09-06...         []     {}   \n",
       "\n",
       "                                     flightDurations  \\\n",
       "0  {'scheduledBlockMinutes': 760, 'airMinutes': 748}   \n",
       "1  {'scheduledBlockMinutes': 320, 'airMinutes': 289}   \n",
       "2  {'scheduledBlockMinutes': 290, 'airMinutes': 248}   \n",
       "3                     {'scheduledBlockMinutes': 295}   \n",
       "4                     {'scheduledBlockMinutes': 265}   \n",
       "\n",
       "                                    airportResources  \\\n",
       "0                           {'arrivalTerminal': '3'}   \n",
       "1  {'departureTerminal': '3', 'arrivalTerminal': ...   \n",
       "2  {'departureTerminal': '4', 'arrivalTerminal': ...   \n",
       "3  {'departureTerminal': '3', 'arrivalTerminal': ...   \n",
       "4  {'departureTerminal': '2A', 'arrivalTerminal':...   \n",
       "\n",
       "                                     flightEquipment irregularOperations  \\\n",
       "0  {'scheduledEquipmentIataCode': '789', 'actualE...                  []   \n",
       "1  {'scheduledEquipmentIataCode': '789', 'tailNum...                  []   \n",
       "2  {'scheduledEquipmentIataCode': '789', 'tailNum...                  []   \n",
       "3  {'scheduledEquipmentIataCode': '789', 'tailNum...                  []   \n",
       "4  {'scheduledEquipmentIataCode': '789', 'tailNum...                  []   \n",
       "\n",
       "  divertedAirportFsCode  \n",
       "0                   NaN  \n",
       "1                   NaN  \n",
       "2                   NaN  \n",
       "3                   NaN  \n",
       "4                   NaN  "
      ]
     },
     "execution_count": 44,
     "metadata": {},
     "output_type": "execute_result"
    }
   ],
   "source": [
    "\n",
    "flights_df.head()"
   ]
  },
  {
   "cell_type": "code",
   "execution_count": null,
   "metadata": {},
   "outputs": [
    {
     "name": "stdout",
     "output_type": "stream",
     "text": [
      "<class 'pandas.core.frame.DataFrame'>\n",
      "RangeIndex: 506 entries, 0 to 505\n",
      "Data columns (total 19 columns):\n",
      " #   Column                  Non-Null Count  Dtype \n",
      "---  ------                  --------------  ----- \n",
      " 0   flightId                506 non-null    int64 \n",
      " 1   carrierFsCode           506 non-null    object\n",
      " 2   operatingCarrierFsCode  506 non-null    object\n",
      " 3   primaryCarrierFsCode    506 non-null    object\n",
      " 4   flightNumber            506 non-null    object\n",
      " 5   departureAirportFsCode  506 non-null    object\n",
      " 6   arrivalAirportFsCode    506 non-null    object\n",
      " 7   departureDate           506 non-null    object\n",
      " 8   arrivalDate             506 non-null    object\n",
      " 9   status                  506 non-null    object\n",
      " 10  schedule                496 non-null    object\n",
      " 11  operationalTimes        506 non-null    object\n",
      " 12  codeshares              506 non-null    object\n",
      " 13  delays                  506 non-null    object\n",
      " 14  flightDurations         506 non-null    object\n",
      " 15  airportResources        506 non-null    object\n",
      " 16  flightEquipment         506 non-null    object\n",
      " 17  irregularOperations     506 non-null    object\n",
      " 18  divertedAirportFsCode   1 non-null      object\n",
      "dtypes: int64(1), object(18)\n",
      "memory usage: 75.2+ KB\n"
     ]
    }
   ],
   "source": [
    "flights_df.info()"
   ]
  },
  {
   "cell_type": "code",
   "execution_count": null,
   "metadata": {},
   "outputs": [
    {
     "data": {
      "text/html": [
       "<div>\n",
       "<style scoped>\n",
       "    .dataframe tbody tr th:only-of-type {\n",
       "        vertical-align: middle;\n",
       "    }\n",
       "\n",
       "    .dataframe tbody tr th {\n",
       "        vertical-align: top;\n",
       "    }\n",
       "\n",
       "    .dataframe thead th {\n",
       "        text-align: right;\n",
       "    }\n",
       "</style>\n",
       "<table border=\"1\" class=\"dataframe\">\n",
       "  <thead>\n",
       "    <tr style=\"text-align: right;\">\n",
       "      <th></th>\n",
       "      <th>flightId</th>\n",
       "    </tr>\n",
       "  </thead>\n",
       "  <tbody>\n",
       "    <tr>\n",
       "      <th>count</th>\n",
       "      <td>5.060000e+02</td>\n",
       "    </tr>\n",
       "    <tr>\n",
       "      <th>mean</th>\n",
       "      <td>9.729771e+08</td>\n",
       "    </tr>\n",
       "    <tr>\n",
       "      <th>std</th>\n",
       "      <td>3.892853e+07</td>\n",
       "    </tr>\n",
       "    <tr>\n",
       "      <th>min</th>\n",
       "      <td>9.309251e+08</td>\n",
       "    </tr>\n",
       "    <tr>\n",
       "      <th>25%</th>\n",
       "      <td>9.385527e+08</td>\n",
       "    </tr>\n",
       "    <tr>\n",
       "      <th>50%</th>\n",
       "      <td>9.465548e+08</td>\n",
       "    </tr>\n",
       "    <tr>\n",
       "      <th>75%</th>\n",
       "      <td>1.015956e+09</td>\n",
       "    </tr>\n",
       "    <tr>\n",
       "      <th>max</th>\n",
       "      <td>1.026543e+09</td>\n",
       "    </tr>\n",
       "  </tbody>\n",
       "</table>\n",
       "</div>"
      ],
      "text/plain": [
       "           flightId\n",
       "count  5.060000e+02\n",
       "mean   9.729771e+08\n",
       "std    3.892853e+07\n",
       "min    9.309251e+08\n",
       "25%    9.385527e+08\n",
       "50%    9.465548e+08\n",
       "75%    1.015956e+09\n",
       "max    1.026543e+09"
      ]
     },
     "execution_count": 46,
     "metadata": {},
     "output_type": "execute_result"
    }
   ],
   "source": [
    "flights_df.describe()"
   ]
  },
  {
   "attachments": {},
   "cell_type": "markdown",
   "metadata": {},
   "source": [
    "## Add aircraft data into flights data"
   ]
  },
  {
   "attachments": {},
   "cell_type": "markdown",
   "metadata": {},
   "source": [
    "We can add more information ablur each flight if we merge out air craft data with the aircraft used in the spesific flight\n",
    "\n",
    "the next function add the air craft seats number dictionary as flight feature"
   ]
  },
  {
   "cell_type": "code",
   "execution_count": null,
   "metadata": {},
   "outputs": [],
   "source": [
    "def add_aircraft_seats_number_to_flight(flights_df, aircrafts_df):\n",
    "    flights_df[SEATS_FEILD_NAME] = aircrafts_df[SEATS_FEILD_NAME]\n",
    "    return flights_df"
   ]
  },
  {
   "cell_type": "code",
   "execution_count": null,
   "metadata": {},
   "outputs": [
    {
     "data": {
      "text/html": [
       "<div>\n",
       "<style scoped>\n",
       "    .dataframe tbody tr th:only-of-type {\n",
       "        vertical-align: middle;\n",
       "    }\n",
       "\n",
       "    .dataframe tbody tr th {\n",
       "        vertical-align: top;\n",
       "    }\n",
       "\n",
       "    .dataframe thead th {\n",
       "        text-align: right;\n",
       "    }\n",
       "</style>\n",
       "<table border=\"1\" class=\"dataframe\">\n",
       "  <thead>\n",
       "    <tr style=\"text-align: right;\">\n",
       "      <th></th>\n",
       "      <th>flightId</th>\n",
       "      <th>carrierFsCode</th>\n",
       "      <th>operatingCarrierFsCode</th>\n",
       "      <th>primaryCarrierFsCode</th>\n",
       "      <th>flightNumber</th>\n",
       "      <th>departureAirportFsCode</th>\n",
       "      <th>arrivalAirportFsCode</th>\n",
       "      <th>departureDate</th>\n",
       "      <th>arrivalDate</th>\n",
       "      <th>status</th>\n",
       "      <th>schedule</th>\n",
       "      <th>operationalTimes</th>\n",
       "      <th>codeshares</th>\n",
       "      <th>delays</th>\n",
       "      <th>flightDurations</th>\n",
       "      <th>airportResources</th>\n",
       "      <th>flightEquipment</th>\n",
       "      <th>irregularOperations</th>\n",
       "      <th>divertedAirportFsCode</th>\n",
       "      <th>seats</th>\n",
       "    </tr>\n",
       "  </thead>\n",
       "  <tbody>\n",
       "    <tr>\n",
       "      <th>0</th>\n",
       "      <td>930925122</td>\n",
       "      <td>LY</td>\n",
       "      <td>LY</td>\n",
       "      <td>LY</td>\n",
       "      <td>1789</td>\n",
       "      <td>PAE</td>\n",
       "      <td>TLV</td>\n",
       "      <td>{'dateUtc': '2017-08-22T18:15:00.000Z', 'dateL...</td>\n",
       "      <td>{'dateUtc': '2017-08-23T06:55:00.000Z', 'dateL...</td>\n",
       "      <td>L</td>\n",
       "      <td>{'flightType': 'P', 'serviceClasses': 'RJY', '...</td>\n",
       "      <td>{'publishedDeparture': {'dateUtc': '2017-08-22...</td>\n",
       "      <td>[]</td>\n",
       "      <td>{}</td>\n",
       "      <td>{'scheduledBlockMinutes': 760, 'airMinutes': 748}</td>\n",
       "      <td>{'arrivalTerminal': '3'}</td>\n",
       "      <td>{'scheduledEquipmentIataCode': '789', 'actualE...</td>\n",
       "      <td>[]</td>\n",
       "      <td>NaN</td>\n",
       "      <td>{'Business': '32', 'Eco+': '28', 'Economy': '2...</td>\n",
       "    </tr>\n",
       "    <tr>\n",
       "      <th>1</th>\n",
       "      <td>932368916</td>\n",
       "      <td>LY</td>\n",
       "      <td>LY</td>\n",
       "      <td>LY</td>\n",
       "      <td>215</td>\n",
       "      <td>TLV</td>\n",
       "      <td>LHR</td>\n",
       "      <td>{'dateUtc': '2017-09-04T08:35:00.000Z', 'dateL...</td>\n",
       "      <td>{'dateUtc': '2017-09-04T13:55:00.000Z', 'dateL...</td>\n",
       "      <td>L</td>\n",
       "      <td>{'flightType': 'P', 'serviceClasses': 'RJY', '...</td>\n",
       "      <td>{'publishedDeparture': {'dateUtc': '2017-09-04...</td>\n",
       "      <td>[]</td>\n",
       "      <td>{}</td>\n",
       "      <td>{'scheduledBlockMinutes': 320, 'airMinutes': 289}</td>\n",
       "      <td>{'departureTerminal': '3', 'arrivalTerminal': ...</td>\n",
       "      <td>{'scheduledEquipmentIataCode': '789', 'tailNum...</td>\n",
       "      <td>[]</td>\n",
       "      <td>NaN</td>\n",
       "      <td>{'Business': '32', 'Eco+': '28', 'Economy': '2...</td>\n",
       "    </tr>\n",
       "    <tr>\n",
       "      <th>2</th>\n",
       "      <td>932368962</td>\n",
       "      <td>LY</td>\n",
       "      <td>LY</td>\n",
       "      <td>LY</td>\n",
       "      <td>216</td>\n",
       "      <td>LHR</td>\n",
       "      <td>TLV</td>\n",
       "      <td>{'dateUtc': '2017-09-04T16:00:00.000Z', 'dateL...</td>\n",
       "      <td>{'dateUtc': '2017-09-04T20:50:00.000Z', 'dateL...</td>\n",
       "      <td>L</td>\n",
       "      <td>{'flightType': 'P', 'serviceClasses': 'RJY', '...</td>\n",
       "      <td>{'publishedDeparture': {'dateUtc': '2017-09-04...</td>\n",
       "      <td>[]</td>\n",
       "      <td>{}</td>\n",
       "      <td>{'scheduledBlockMinutes': 290, 'airMinutes': 248}</td>\n",
       "      <td>{'departureTerminal': '4', 'arrivalTerminal': ...</td>\n",
       "      <td>{'scheduledEquipmentIataCode': '789', 'tailNum...</td>\n",
       "      <td>[]</td>\n",
       "      <td>NaN</td>\n",
       "      <td>{'Business': '32', 'Eco+': '28', 'Economy': '2...</td>\n",
       "    </tr>\n",
       "    <tr>\n",
       "      <th>3</th>\n",
       "      <td>932586208</td>\n",
       "      <td>LY</td>\n",
       "      <td>LY</td>\n",
       "      <td>LY</td>\n",
       "      <td>225</td>\n",
       "      <td>TLV</td>\n",
       "      <td>CDG</td>\n",
       "      <td>{'dateUtc': '2017-09-06T16:15:00.000Z', 'dateL...</td>\n",
       "      <td>{'dateUtc': '2017-09-06T21:10:00.000Z', 'dateL...</td>\n",
       "      <td>L</td>\n",
       "      <td>{'flightType': 'P', 'serviceClasses': 'RJY', '...</td>\n",
       "      <td>{'publishedDeparture': {'dateUtc': '2017-09-06...</td>\n",
       "      <td>[]</td>\n",
       "      <td>{}</td>\n",
       "      <td>{'scheduledBlockMinutes': 295}</td>\n",
       "      <td>{'departureTerminal': '3', 'arrivalTerminal': ...</td>\n",
       "      <td>{'scheduledEquipmentIataCode': '789', 'tailNum...</td>\n",
       "      <td>[]</td>\n",
       "      <td>NaN</td>\n",
       "      <td>{'Business': '20', 'Eco+': '35', 'Economy': '1...</td>\n",
       "    </tr>\n",
       "    <tr>\n",
       "      <th>4</th>\n",
       "      <td>932696349</td>\n",
       "      <td>LY</td>\n",
       "      <td>LY</td>\n",
       "      <td>LY</td>\n",
       "      <td>226</td>\n",
       "      <td>CDG</td>\n",
       "      <td>TLV</td>\n",
       "      <td>{'dateUtc': '2017-09-06T23:10:00.000Z', 'dateL...</td>\n",
       "      <td>{'dateUtc': '2017-09-07T03:35:00.000Z', 'dateL...</td>\n",
       "      <td>L</td>\n",
       "      <td>{'flightType': 'P', 'serviceClasses': 'RJY', '...</td>\n",
       "      <td>{'publishedDeparture': {'dateUtc': '2017-09-06...</td>\n",
       "      <td>[]</td>\n",
       "      <td>{}</td>\n",
       "      <td>{'scheduledBlockMinutes': 265}</td>\n",
       "      <td>{'departureTerminal': '2A', 'arrivalTerminal':...</td>\n",
       "      <td>{'scheduledEquipmentIataCode': '789', 'tailNum...</td>\n",
       "      <td>[]</td>\n",
       "      <td>NaN</td>\n",
       "      <td>{'Business': '20', 'Eco+': '35', 'Economy': '1...</td>\n",
       "    </tr>\n",
       "    <tr>\n",
       "      <th>...</th>\n",
       "      <td>...</td>\n",
       "      <td>...</td>\n",
       "      <td>...</td>\n",
       "      <td>...</td>\n",
       "      <td>...</td>\n",
       "      <td>...</td>\n",
       "      <td>...</td>\n",
       "      <td>...</td>\n",
       "      <td>...</td>\n",
       "      <td>...</td>\n",
       "      <td>...</td>\n",
       "      <td>...</td>\n",
       "      <td>...</td>\n",
       "      <td>...</td>\n",
       "      <td>...</td>\n",
       "      <td>...</td>\n",
       "      <td>...</td>\n",
       "      <td>...</td>\n",
       "      <td>...</td>\n",
       "      <td>...</td>\n",
       "    </tr>\n",
       "    <tr>\n",
       "      <th>501</th>\n",
       "      <td>1026334413</td>\n",
       "      <td>LY</td>\n",
       "      <td>LY</td>\n",
       "      <td>LY</td>\n",
       "      <td>28</td>\n",
       "      <td>EWR</td>\n",
       "      <td>TLV</td>\n",
       "      <td>{'dateUtc': '2019-12-31T18:15:00.000Z', 'dateL...</td>\n",
       "      <td>{'dateUtc': '2020-01-01T04:35:00.000Z', 'dateL...</td>\n",
       "      <td>L</td>\n",
       "      <td>{'flightType': 'J', 'serviceClasses': 'RFJY', ...</td>\n",
       "      <td>{'publishedDeparture': {'dateUtc': '2019-12-31...</td>\n",
       "      <td>[]</td>\n",
       "      <td>{'arrivalGateDelayMinutes': 1}</td>\n",
       "      <td>{'scheduledBlockMinutes': 620, 'blockMinutes':...</td>\n",
       "      <td>{'departureTerminal': 'B', 'arrivalTerminal': ...</td>\n",
       "      <td>{'scheduledEquipmentIataCode': '789', 'actualE...</td>\n",
       "      <td>[]</td>\n",
       "      <td>NaN</td>\n",
       "      <td>NaN</td>\n",
       "    </tr>\n",
       "    <tr>\n",
       "      <th>502</th>\n",
       "      <td>1026433928</td>\n",
       "      <td>LY</td>\n",
       "      <td>LY</td>\n",
       "      <td>LY</td>\n",
       "      <td>315</td>\n",
       "      <td>TLV</td>\n",
       "      <td>LHR</td>\n",
       "      <td>{'dateUtc': '2020-01-01T07:05:00.000Z', 'dateL...</td>\n",
       "      <td>{'dateUtc': '2020-01-01T12:35:00.000Z', 'dateL...</td>\n",
       "      <td>L</td>\n",
       "      <td>{'flightType': 'J', 'serviceClasses': 'RFJY', ...</td>\n",
       "      <td>{'publishedDeparture': {'dateUtc': '2020-01-01...</td>\n",
       "      <td>[{'fsCode': 'AA', 'flightNumber': '8371', 'rel...</td>\n",
       "      <td>{}</td>\n",
       "      <td>{'scheduledBlockMinutes': 330, 'blockMinutes':...</td>\n",
       "      <td>{'departureTerminal': '3', 'arrivalTerminal': ...</td>\n",
       "      <td>{'scheduledEquipmentIataCode': '789', 'actualE...</td>\n",
       "      <td>[]</td>\n",
       "      <td>NaN</td>\n",
       "      <td>NaN</td>\n",
       "    </tr>\n",
       "    <tr>\n",
       "      <th>503</th>\n",
       "      <td>1026434009</td>\n",
       "      <td>LY</td>\n",
       "      <td>LY</td>\n",
       "      <td>LY</td>\n",
       "      <td>316</td>\n",
       "      <td>LHR</td>\n",
       "      <td>TLV</td>\n",
       "      <td>{'dateUtc': '2020-01-01T14:20:00.000Z', 'dateL...</td>\n",
       "      <td>{'dateUtc': '2020-01-01T19:05:00.000Z', 'dateL...</td>\n",
       "      <td>L</td>\n",
       "      <td>{'flightType': 'J', 'serviceClasses': 'RFJY', ...</td>\n",
       "      <td>{'publishedDeparture': {'dateUtc': '2020-01-01...</td>\n",
       "      <td>[{'fsCode': 'AA', 'flightNumber': '8372', 'rel...</td>\n",
       "      <td>{}</td>\n",
       "      <td>{'scheduledBlockMinutes': 285, 'blockMinutes':...</td>\n",
       "      <td>{'departureTerminal': '4', 'departureGate': '3...</td>\n",
       "      <td>{'scheduledEquipmentIataCode': '789', 'actualE...</td>\n",
       "      <td>[]</td>\n",
       "      <td>NaN</td>\n",
       "      <td>NaN</td>\n",
       "    </tr>\n",
       "    <tr>\n",
       "      <th>504</th>\n",
       "      <td>1026542917</td>\n",
       "      <td>LY</td>\n",
       "      <td>LY</td>\n",
       "      <td>LY</td>\n",
       "      <td>1</td>\n",
       "      <td>TLV</td>\n",
       "      <td>JFK</td>\n",
       "      <td>{'dateUtc': '2020-01-01T22:30:00.000Z', 'dateL...</td>\n",
       "      <td>{'dateUtc': '2020-01-02T10:30:00.000Z', 'dateL...</td>\n",
       "      <td>L</td>\n",
       "      <td>{'flightType': 'J', 'serviceClasses': 'RFJY', ...</td>\n",
       "      <td>{'publishedDeparture': {'dateUtc': '2020-01-01...</td>\n",
       "      <td>[{'fsCode': 'AR', 'flightNumber': '7853', 'rel...</td>\n",
       "      <td>{'departureRunwayDelayMinutes': 6}</td>\n",
       "      <td>{'scheduledBlockMinutes': 720, 'blockMinutes':...</td>\n",
       "      <td>{'departureTerminal': '3', 'arrivalTerminal': ...</td>\n",
       "      <td>{'scheduledEquipmentIataCode': '789', 'actualE...</td>\n",
       "      <td>[]</td>\n",
       "      <td>NaN</td>\n",
       "      <td>NaN</td>\n",
       "    </tr>\n",
       "    <tr>\n",
       "      <th>505</th>\n",
       "      <td>1026542937</td>\n",
       "      <td>LY</td>\n",
       "      <td>LY</td>\n",
       "      <td>LY</td>\n",
       "      <td>2</td>\n",
       "      <td>JFK</td>\n",
       "      <td>TLV</td>\n",
       "      <td>{'dateUtc': '2020-01-02T22:00:00.000Z', 'dateL...</td>\n",
       "      <td>{'dateUtc': '2020-01-03T08:20:00.000Z', 'dateL...</td>\n",
       "      <td>L</td>\n",
       "      <td>{'flightType': 'J', 'serviceClasses': 'RFJY', ...</td>\n",
       "      <td>{'publishedDeparture': {'dateUtc': '2020-01-02...</td>\n",
       "      <td>[{'fsCode': 'AM', 'flightNumber': '7868', 'rel...</td>\n",
       "      <td>{'arrivalGateDelayMinutes': 4}</td>\n",
       "      <td>{'scheduledBlockMinutes': 620, 'blockMinutes':...</td>\n",
       "      <td>{'departureTerminal': '4', 'arrivalTerminal': ...</td>\n",
       "      <td>{'scheduledEquipmentIataCode': '789', 'actualE...</td>\n",
       "      <td>[]</td>\n",
       "      <td>NaN</td>\n",
       "      <td>NaN</td>\n",
       "    </tr>\n",
       "  </tbody>\n",
       "</table>\n",
       "<p>506 rows × 20 columns</p>\n",
       "</div>"
      ],
      "text/plain": [
       "       flightId carrierFsCode operatingCarrierFsCode primaryCarrierFsCode  \\\n",
       "0     930925122            LY                     LY                   LY   \n",
       "1     932368916            LY                     LY                   LY   \n",
       "2     932368962            LY                     LY                   LY   \n",
       "3     932586208            LY                     LY                   LY   \n",
       "4     932696349            LY                     LY                   LY   \n",
       "..          ...           ...                    ...                  ...   \n",
       "501  1026334413            LY                     LY                   LY   \n",
       "502  1026433928            LY                     LY                   LY   \n",
       "503  1026434009            LY                     LY                   LY   \n",
       "504  1026542917            LY                     LY                   LY   \n",
       "505  1026542937            LY                     LY                   LY   \n",
       "\n",
       "    flightNumber departureAirportFsCode arrivalAirportFsCode  \\\n",
       "0           1789                    PAE                  TLV   \n",
       "1            215                    TLV                  LHR   \n",
       "2            216                    LHR                  TLV   \n",
       "3            225                    TLV                  CDG   \n",
       "4            226                    CDG                  TLV   \n",
       "..           ...                    ...                  ...   \n",
       "501           28                    EWR                  TLV   \n",
       "502          315                    TLV                  LHR   \n",
       "503          316                    LHR                  TLV   \n",
       "504            1                    TLV                  JFK   \n",
       "505            2                    JFK                  TLV   \n",
       "\n",
       "                                         departureDate  \\\n",
       "0    {'dateUtc': '2017-08-22T18:15:00.000Z', 'dateL...   \n",
       "1    {'dateUtc': '2017-09-04T08:35:00.000Z', 'dateL...   \n",
       "2    {'dateUtc': '2017-09-04T16:00:00.000Z', 'dateL...   \n",
       "3    {'dateUtc': '2017-09-06T16:15:00.000Z', 'dateL...   \n",
       "4    {'dateUtc': '2017-09-06T23:10:00.000Z', 'dateL...   \n",
       "..                                                 ...   \n",
       "501  {'dateUtc': '2019-12-31T18:15:00.000Z', 'dateL...   \n",
       "502  {'dateUtc': '2020-01-01T07:05:00.000Z', 'dateL...   \n",
       "503  {'dateUtc': '2020-01-01T14:20:00.000Z', 'dateL...   \n",
       "504  {'dateUtc': '2020-01-01T22:30:00.000Z', 'dateL...   \n",
       "505  {'dateUtc': '2020-01-02T22:00:00.000Z', 'dateL...   \n",
       "\n",
       "                                           arrivalDate status  \\\n",
       "0    {'dateUtc': '2017-08-23T06:55:00.000Z', 'dateL...      L   \n",
       "1    {'dateUtc': '2017-09-04T13:55:00.000Z', 'dateL...      L   \n",
       "2    {'dateUtc': '2017-09-04T20:50:00.000Z', 'dateL...      L   \n",
       "3    {'dateUtc': '2017-09-06T21:10:00.000Z', 'dateL...      L   \n",
       "4    {'dateUtc': '2017-09-07T03:35:00.000Z', 'dateL...      L   \n",
       "..                                                 ...    ...   \n",
       "501  {'dateUtc': '2020-01-01T04:35:00.000Z', 'dateL...      L   \n",
       "502  {'dateUtc': '2020-01-01T12:35:00.000Z', 'dateL...      L   \n",
       "503  {'dateUtc': '2020-01-01T19:05:00.000Z', 'dateL...      L   \n",
       "504  {'dateUtc': '2020-01-02T10:30:00.000Z', 'dateL...      L   \n",
       "505  {'dateUtc': '2020-01-03T08:20:00.000Z', 'dateL...      L   \n",
       "\n",
       "                                              schedule  \\\n",
       "0    {'flightType': 'P', 'serviceClasses': 'RJY', '...   \n",
       "1    {'flightType': 'P', 'serviceClasses': 'RJY', '...   \n",
       "2    {'flightType': 'P', 'serviceClasses': 'RJY', '...   \n",
       "3    {'flightType': 'P', 'serviceClasses': 'RJY', '...   \n",
       "4    {'flightType': 'P', 'serviceClasses': 'RJY', '...   \n",
       "..                                                 ...   \n",
       "501  {'flightType': 'J', 'serviceClasses': 'RFJY', ...   \n",
       "502  {'flightType': 'J', 'serviceClasses': 'RFJY', ...   \n",
       "503  {'flightType': 'J', 'serviceClasses': 'RFJY', ...   \n",
       "504  {'flightType': 'J', 'serviceClasses': 'RFJY', ...   \n",
       "505  {'flightType': 'J', 'serviceClasses': 'RFJY', ...   \n",
       "\n",
       "                                      operationalTimes  \\\n",
       "0    {'publishedDeparture': {'dateUtc': '2017-08-22...   \n",
       "1    {'publishedDeparture': {'dateUtc': '2017-09-04...   \n",
       "2    {'publishedDeparture': {'dateUtc': '2017-09-04...   \n",
       "3    {'publishedDeparture': {'dateUtc': '2017-09-06...   \n",
       "4    {'publishedDeparture': {'dateUtc': '2017-09-06...   \n",
       "..                                                 ...   \n",
       "501  {'publishedDeparture': {'dateUtc': '2019-12-31...   \n",
       "502  {'publishedDeparture': {'dateUtc': '2020-01-01...   \n",
       "503  {'publishedDeparture': {'dateUtc': '2020-01-01...   \n",
       "504  {'publishedDeparture': {'dateUtc': '2020-01-01...   \n",
       "505  {'publishedDeparture': {'dateUtc': '2020-01-02...   \n",
       "\n",
       "                                            codeshares  \\\n",
       "0                                                   []   \n",
       "1                                                   []   \n",
       "2                                                   []   \n",
       "3                                                   []   \n",
       "4                                                   []   \n",
       "..                                                 ...   \n",
       "501                                                 []   \n",
       "502  [{'fsCode': 'AA', 'flightNumber': '8371', 'rel...   \n",
       "503  [{'fsCode': 'AA', 'flightNumber': '8372', 'rel...   \n",
       "504  [{'fsCode': 'AR', 'flightNumber': '7853', 'rel...   \n",
       "505  [{'fsCode': 'AM', 'flightNumber': '7868', 'rel...   \n",
       "\n",
       "                                 delays  \\\n",
       "0                                    {}   \n",
       "1                                    {}   \n",
       "2                                    {}   \n",
       "3                                    {}   \n",
       "4                                    {}   \n",
       "..                                  ...   \n",
       "501      {'arrivalGateDelayMinutes': 1}   \n",
       "502                                  {}   \n",
       "503                                  {}   \n",
       "504  {'departureRunwayDelayMinutes': 6}   \n",
       "505      {'arrivalGateDelayMinutes': 4}   \n",
       "\n",
       "                                       flightDurations  \\\n",
       "0    {'scheduledBlockMinutes': 760, 'airMinutes': 748}   \n",
       "1    {'scheduledBlockMinutes': 320, 'airMinutes': 289}   \n",
       "2    {'scheduledBlockMinutes': 290, 'airMinutes': 248}   \n",
       "3                       {'scheduledBlockMinutes': 295}   \n",
       "4                       {'scheduledBlockMinutes': 265}   \n",
       "..                                                 ...   \n",
       "501  {'scheduledBlockMinutes': 620, 'blockMinutes':...   \n",
       "502  {'scheduledBlockMinutes': 330, 'blockMinutes':...   \n",
       "503  {'scheduledBlockMinutes': 285, 'blockMinutes':...   \n",
       "504  {'scheduledBlockMinutes': 720, 'blockMinutes':...   \n",
       "505  {'scheduledBlockMinutes': 620, 'blockMinutes':...   \n",
       "\n",
       "                                      airportResources  \\\n",
       "0                             {'arrivalTerminal': '3'}   \n",
       "1    {'departureTerminal': '3', 'arrivalTerminal': ...   \n",
       "2    {'departureTerminal': '4', 'arrivalTerminal': ...   \n",
       "3    {'departureTerminal': '3', 'arrivalTerminal': ...   \n",
       "4    {'departureTerminal': '2A', 'arrivalTerminal':...   \n",
       "..                                                 ...   \n",
       "501  {'departureTerminal': 'B', 'arrivalTerminal': ...   \n",
       "502  {'departureTerminal': '3', 'arrivalTerminal': ...   \n",
       "503  {'departureTerminal': '4', 'departureGate': '3...   \n",
       "504  {'departureTerminal': '3', 'arrivalTerminal': ...   \n",
       "505  {'departureTerminal': '4', 'arrivalTerminal': ...   \n",
       "\n",
       "                                       flightEquipment irregularOperations  \\\n",
       "0    {'scheduledEquipmentIataCode': '789', 'actualE...                  []   \n",
       "1    {'scheduledEquipmentIataCode': '789', 'tailNum...                  []   \n",
       "2    {'scheduledEquipmentIataCode': '789', 'tailNum...                  []   \n",
       "3    {'scheduledEquipmentIataCode': '789', 'tailNum...                  []   \n",
       "4    {'scheduledEquipmentIataCode': '789', 'tailNum...                  []   \n",
       "..                                                 ...                 ...   \n",
       "501  {'scheduledEquipmentIataCode': '789', 'actualE...                  []   \n",
       "502  {'scheduledEquipmentIataCode': '789', 'actualE...                  []   \n",
       "503  {'scheduledEquipmentIataCode': '789', 'actualE...                  []   \n",
       "504  {'scheduledEquipmentIataCode': '789', 'actualE...                  []   \n",
       "505  {'scheduledEquipmentIataCode': '789', 'actualE...                  []   \n",
       "\n",
       "    divertedAirportFsCode                                              seats  \n",
       "0                     NaN  {'Business': '32', 'Eco+': '28', 'Economy': '2...  \n",
       "1                     NaN  {'Business': '32', 'Eco+': '28', 'Economy': '2...  \n",
       "2                     NaN  {'Business': '32', 'Eco+': '28', 'Economy': '2...  \n",
       "3                     NaN  {'Business': '20', 'Eco+': '35', 'Economy': '1...  \n",
       "4                     NaN  {'Business': '20', 'Eco+': '35', 'Economy': '1...  \n",
       "..                    ...                                                ...  \n",
       "501                   NaN                                                NaN  \n",
       "502                   NaN                                                NaN  \n",
       "503                   NaN                                                NaN  \n",
       "504                   NaN                                                NaN  \n",
       "505                   NaN                                                NaN  \n",
       "\n",
       "[506 rows x 20 columns]"
      ]
     },
     "execution_count": 48,
     "metadata": {},
     "output_type": "execute_result"
    }
   ],
   "source": [
    "flights_df =  add_aircraft_seats_number_to_flight(flights_df,aircrafts_df)\n",
    "flights_df"
   ]
  },
  {
   "cell_type": "code",
   "execution_count": 285,
   "metadata": {},
   "outputs": [],
   "source": [
    "def get_arrivalGateDelayMinutes(delays_dict,feild):\n",
    "    if feild in delays_dict:\n",
    "        return delays_dict[feild]\n",
    "    else:\n",
    "        return np.NAN"
   ]
  },
  {
   "attachments": {},
   "cell_type": "markdown",
   "metadata": {},
   "source": [
    "Calculate the delay time  as sum of gate delay and runway delay\n",
    "if after this calc there is na value we need drop it"
   ]
  },
  {
   "cell_type": "code",
   "execution_count": 296,
   "metadata": {},
   "outputs": [],
   "source": [
    "def proccess_delay_column(df):\n",
    "    df['departureRunwayDelayMinutes'] = df['delays'].apply(lambda dict: get_arrivalGateDelayMinutes(dict,'departureRunwayDelayMinutes'))\n",
    "    df['departureGateDelayMinutes'] = df['delays'].apply(lambda dict: get_arrivalGateDelayMinutes(dict,'departureGateDelayMinutes'))\n",
    "    # df['arrivalGateDelayMinutes'] = df['delays'].apply(lambda dict: get_arrivalGateDelayMinutes(dict,'arrivalGateDelayMinutes'))\n",
    "    # df['arrivalRunwayDelayMinutes'] = df['delays'].apply(lambda dict: get_arrivalGateDelayMinutes(dict,'arrivalRunwayDelayMinutes'))\n",
    "    df['delay_time'] = df['departureRunwayDelayMinutes'] + df['departureGateDelayMinutes']\n",
    "    #df['delay_time']=df['delay_time'].fillna(0)\n",
    "\n",
    "    df = df.drop('departureRunwayDelayMinutes',axis = 1)\n",
    "    df = df.drop('departureGateDelayMinutes',axis = 1)\n",
    "    df= df.drop('delays',axis = 1)\n",
    "    return df"
   ]
  },
  {
   "cell_type": "code",
   "execution_count": 287,
   "metadata": {},
   "outputs": [],
   "source": [
    "def get_flightModel(dict):\n",
    "    if 'actualEquipmentIataCode' in dict:\n",
    "        return dict['actualEquipmentIataCode']\n",
    "    elif 'scheduledEquipmentIataCode' in dict:\n",
    "        return dict['scheduledEquipmentIataCode']\n",
    "    return np.nan"
   ]
  },
  {
   "cell_type": "code",
   "execution_count": 288,
   "metadata": {},
   "outputs": [],
   "source": [
    "def get_tailnumber(dict):\n",
    "    if 'tailNumber' in dict:\n",
    "        return dict['tailNumber']\n",
    "    return np.nan"
   ]
  },
  {
   "cell_type": "code",
   "execution_count": 289,
   "metadata": {},
   "outputs": [],
   "source": [
    "def get_flight_time(dict):\n",
    "    if 'airMinutes' in dict:\n",
    "        return dict['airMinutes']\n",
    "    return np.nan"
   ]
  },
  {
   "cell_type": "code",
   "execution_count": 290,
   "metadata": {},
   "outputs": [],
   "source": [
    "def get_departure_terminal(dict):\n",
    "    if 'departureTerminal' in dict:\n",
    "        return dict['departureTerminal']\n",
    "    return np.nan"
   ]
  },
  {
   "cell_type": "code",
   "execution_count": 291,
   "metadata": {},
   "outputs": [],
   "source": [
    "def get_arival_terminal(dict):\n",
    "    if 'arrivalTerminal' in dict:\n",
    "        return dict['arrivalTerminal']\n",
    "    return np.nan"
   ]
  },
  {
   "cell_type": "code",
   "execution_count": 292,
   "metadata": {},
   "outputs": [],
   "source": [
    "def get_dataframe_after_prossess(df):\n",
    "    df = proccess_delay_column(df)\n",
    "    df = df.drop('status',axis = 1)\n",
    "    df = df.drop('operatingCarrierFsCode',axis = 1)\n",
    "    df = df.drop('primaryCarrierFsCode',axis = 1)\n",
    "    df = df.drop('carrierFsCode',axis = 1)\n",
    "    df = df.drop('flightId',axis = 1)\n",
    "    df = df.drop('codeshares',axis = 1)\n",
    "    df = df.drop('operationalTimes',axis = 1)\n",
    "    df = df.drop('schedule',axis = 1)\n",
    "    df = df.drop('irregularOperations',axis = 1)\n",
    "    df = df.drop('divertedAirportFsCode', axis = 1)\n",
    "    df['aircraft_model'] = df['flightEquipment'].apply(lambda x: get_flightModel(x))\n",
    "    df['tailnumber'] = df['flightEquipment'].apply(lambda x: get_tailnumber(x))\n",
    "    df = df.drop('flightEquipment',axis=1)\n",
    "    df['flights_time'] = df['flightDurations'].apply(lambda x: get_flight_time(x))\n",
    "    df = df.drop('flightDurations',axis = 1)\n",
    "    df['departureTerminal'] = df['airportResources'].apply(lambda x: get_departure_terminal(x))\n",
    "    df['arrivalTerminal'] = df['airportResources'].apply(lambda x: get_arival_terminal(x))\n",
    "    df = df.drop('airportResources',axis=1)\n",
    "\n",
    "    return df"
   ]
  },
  {
   "cell_type": "code",
   "execution_count": 293,
   "metadata": {},
   "outputs": [],
   "source": [
    "df = get_dataframe_after_prossess(flights_df)"
   ]
  },
  {
   "cell_type": "code",
   "execution_count": 301,
   "metadata": {},
   "outputs": [
    {
     "data": {
      "text/html": [
       "<div>\n",
       "<style scoped>\n",
       "    .dataframe tbody tr th:only-of-type {\n",
       "        vertical-align: middle;\n",
       "    }\n",
       "\n",
       "    .dataframe tbody tr th {\n",
       "        vertical-align: top;\n",
       "    }\n",
       "\n",
       "    .dataframe thead th {\n",
       "        text-align: right;\n",
       "    }\n",
       "</style>\n",
       "<table border=\"1\" class=\"dataframe\">\n",
       "  <thead>\n",
       "    <tr style=\"text-align: right;\">\n",
       "      <th></th>\n",
       "      <th>flightNumber</th>\n",
       "      <th>departureAirportFsCode</th>\n",
       "      <th>arrivalAirportFsCode</th>\n",
       "      <th>departureDate</th>\n",
       "      <th>arrivalDate</th>\n",
       "      <th>delay_time</th>\n",
       "      <th>aircraft_model</th>\n",
       "      <th>tailnumber</th>\n",
       "      <th>flights_time</th>\n",
       "      <th>departureTerminal</th>\n",
       "      <th>arrivalTerminal</th>\n",
       "    </tr>\n",
       "  </thead>\n",
       "  <tbody>\n",
       "  </tbody>\n",
       "</table>\n",
       "</div>"
      ],
      "text/plain": [
       "Empty DataFrame\n",
       "Columns: [flightNumber, departureAirportFsCode, arrivalAirportFsCode, departureDate, arrivalDate, delay_time, aircraft_model, tailnumber, flights_time, departureTerminal, arrivalTerminal]\n",
       "Index: []"
      ]
     },
     "execution_count": 301,
     "metadata": {},
     "output_type": "execute_result"
    }
   ],
   "source": [
    "df[df['departureAirportFsCode'] == 'RMZ']"
   ]
  },
  {
   "cell_type": "code",
   "execution_count": null,
   "metadata": {},
   "outputs": [
    {
     "data": {
      "text/plain": [
       "'2017-08-22T18:15:00.000Z'"
      ]
     },
     "execution_count": 233,
     "metadata": {},
     "output_type": "execute_result"
    }
   ],
   "source": [
    "\n",
    "date = df['departureDate'][0]['dateUtc']\n",
    "date"
   ]
  },
  {
   "cell_type": "code",
   "execution_count": null,
   "metadata": {},
   "outputs": [
    {
     "ename": "TypeError",
     "evalue": "descriptor 'strftime' requires a 'datetime.date' object but received a 'str'",
     "output_type": "error",
     "traceback": [
      "\u001b[1;31m---------------------------------------------------------------------------\u001b[0m",
      "\u001b[1;31mTypeError\u001b[0m                                 Traceback (most recent call last)",
      "\u001b[1;32m~\\AppData\\Local\\Temp\\ipykernel_8800\\525734138.py\u001b[0m in \u001b[0;36m<module>\u001b[1;34m\u001b[0m\n\u001b[1;32m----> 1\u001b[1;33m \u001b[0mdate\u001b[0m \u001b[1;33m=\u001b[0m \u001b[0mdatetime\u001b[0m\u001b[1;33m.\u001b[0m\u001b[0mstrftime\u001b[0m\u001b[1;33m(\u001b[0m\u001b[0mdate\u001b[0m\u001b[1;33m,\u001b[0m\u001b[1;34m'%Y-%m-%dT%H:%M:%S.%f'\u001b[0m\u001b[1;33m)\u001b[0m\u001b[1;33m\u001b[0m\u001b[1;33m\u001b[0m\u001b[0m\n\u001b[0m",
      "\u001b[1;31mTypeError\u001b[0m: descriptor 'strftime' requires a 'datetime.date' object but received a 'str'"
     ]
    }
   ],
   "source": [
    "date = datetime.strftime(date,'%Y-%m-%dT%H:%M:%S.%f')"
   ]
  }
 ],
 "metadata": {
  "kernelspec": {
   "display_name": "Python 3",
   "language": "python",
   "name": "python3"
  },
  "language_info": {
   "codemirror_mode": {
    "name": "ipython",
    "version": 3
   },
   "file_extension": ".py",
   "mimetype": "text/x-python",
   "name": "python",
   "nbconvert_exporter": "python",
   "pygments_lexer": "ipython3",
   "version": "3.7.9"
  },
  "orig_nbformat": 4
 },
 "nbformat": 4,
 "nbformat_minor": 2
}
