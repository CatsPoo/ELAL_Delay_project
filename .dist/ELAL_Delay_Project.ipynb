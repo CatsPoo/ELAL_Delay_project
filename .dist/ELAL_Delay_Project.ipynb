{
 "cells": [
  {
   "attachments": {},
   "cell_type": "markdown",
   "metadata": {},
   "source": [
    "# Data science Project"
   ]
  },
  {
   "attachments": {},
   "cell_type": "markdown",
   "metadata": {},
   "source": [
    "## Intro\n",
    "\n",
    "In this project we going to explor data about ELAL's flight history.\n",
    "The perpose is to explor if we can to predict if ELAL's flight will delayd or canceld\n",
    "\n"
   ]
  },
  {
   "attachments": {},
   "cell_type": "markdown",
   "metadata": {},
   "source": [
    "### Imports"
   ]
  },
  {
   "cell_type": "code",
   "execution_count": 1920,
   "metadata": {},
   "outputs": [],
   "source": [
    "import requests\n",
    "import json\n",
    "import pandas as pd\n",
    "import numpy as np\n",
    "from datetime import datetime, timedelta\n",
    "from bs4 import BeautifulSoup\n",
    "import seaborn as sns\n",
    "import os\n",
    "import time\n",
    "from time import sleep\n",
    "from dateutil.relativedelta import relativedelta, MO\n",
    "from dateutil.easter import easter\n",
    "import jewish\n",
    "import calendar\n",
    "import matplotlib.pyplot as plt\n",
    "from sklearn import linear_model\n",
    "from sklearn.preprocessing import StandardScaler\n",
    "from sklearn.preprocessing import MinMaxScaler\n",
    "from sklearn.ensemble import RandomForestClassifier\n",
    "from sklearn.model_selection import train_test_split\n",
    "from sklearn.metrics import accuracy_score\n",
    "from sklearn.linear_model import LinearRegression\n",
    "from sklearn.model_selection import train_test_split\n",
    "from sklearn.metrics import mean_squared_error\n",
    "from sklearn.model_selection import cross_val_score\n",
    "%matplotlib inline  \n",
    "# Credit to https://github.com/emosenkis/jewish/blob/master/LICENSE"
   ]
  },
  {
   "attachments": {},
   "cell_type": "markdown",
   "metadata": {},
   "source": [
    "### Const Varibles"
   ]
  },
  {
   "cell_type": "code",
   "execution_count": 1921,
   "metadata": {},
   "outputs": [],
   "source": [
    "BASE_URL='https://api.flightstats.com/flex/flightstatus/historical/rest/v3/json/'\n",
    "\n",
    "\n",
    "# APP_KEY='1073eea843b49ef65cd3dedce57340e0'\n",
    "# APP_ID='a55ccedd'\n",
    "\n",
    "# APP_KEY='9981b617cba5bb3f32d90ba0da4e2af4'\n",
    "# APP_ID='65c679ae'\n",
    "\n",
    "# APP_KEY= '9fb822148287f2805212cc61c199d8f8'\n",
    "# APP_ID = 'd7585437'\n",
    "\n",
    "# APP_KEY = 'eca188e5f3d730ee5d28907112889342'\n",
    "# APP_ID = '4176580c'\n",
    "\n",
    "# APP_KEY = '37512902d28a8deac5ec0325e9f40a56'\n",
    "# APP_ID = 'bfeb4319'\n",
    "\n",
    "APP_KEY = '838de104ed9b72554e810d417ec8f528'\n",
    "APP_ID = '62e0f779'\n",
    "\n",
    "ElAl_AIRCRAFTS_WEB_URL = 'https://www.elal.com/heb/about-elal/our-fleet/all-aircraft'\n",
    "FLIGHTEAR_Base_URL = 'https://www.flightera.net/en/planes/'\n",
    "\n",
    "AIRCRAFTS_DATA_FILE = 'aircrafts.json'\n",
    "FLIGHT_Data_FILE = 'flights_data.json'\n",
    "FLIGHTS_SCAN_METADATA_FILE = 'flights_scan_metadata.json'\n",
    "\n",
    "TAIL_NUMBER_FEILD_NAME = 'tail_number'\n",
    "FIRST_FLIGHT_DATE_FEILD_NAME = 'first_flight_date'\n",
    "LAST_FLIGHT_DATE_FEILD_NAME = 'last-flight_date'\n",
    "SEATS_FEILD_NAME = 'seats'\n",
    "LAST_SCANNED__DATE_FEILD_NAME = 'last_scanned_date'\n"
   ]
  },
  {
   "attachments": {},
   "cell_type": "markdown",
   "metadata": {},
   "source": [
    "## General files and json functions"
   ]
  },
  {
   "attachments": {},
   "cell_type": "markdown",
   "metadata": {},
   "source": [
    "Functions that store and loads data from files"
   ]
  },
  {
   "cell_type": "code",
   "execution_count": 1922,
   "metadata": {},
   "outputs": [],
   "source": [
    "def store_object_to_file(file_name,data):\n",
    "    with open(file_name, 'w') as outfile:\n",
    "        json.dump(data, outfile)"
   ]
  },
  {
   "cell_type": "code",
   "execution_count": 1923,
   "metadata": {},
   "outputs": [],
   "source": [
    "def load_object_from_file(filename):\n",
    "    if(not os.path.exists(filename)):\n",
    "        return None\n",
    "    with open(filename) as f:\n",
    "        return json.load(f)"
   ]
  },
  {
   "cell_type": "code",
   "execution_count": 1924,
   "metadata": {},
   "outputs": [],
   "source": [
    "def store_data_to_aircrafts_file(tailnumber,feild_name,data):\n",
    "    aircrafts_list = load_object_from_file(AIRCRAFTS_DATA_FILE)\n",
    "    if(not aircrafts_list):\n",
    "        aircrafts_list = []\n",
    "    for i,aircraft in enumerate(aircrafts_list):\n",
    "        if(tailnumber == aircraft[TAIL_NUMBER_FEILD_NAME]):\n",
    "            aircrafts_list[i][feild_name] = data\n",
    "            store_object_to_file(AIRCRAFTS_DATA_FILE,aircrafts_list)\n",
    "            return"
   ]
  },
  {
   "cell_type": "code",
   "execution_count": 1925,
   "metadata": {},
   "outputs": [],
   "source": [
    "def load_data_from_aircrafts_file(tailnumber,feild_name):\n",
    "    if(not os.path.exists(AIRCRAFTS_DATA_FILE)):\n",
    "        return None\n",
    "    aircrafts_list = load_object_from_file(AIRCRAFTS_DATA_FILE)\n",
    "    for aircraft in aircrafts_list:\n",
    "        if(tailnumber == aircraft[TAIL_NUMBER_FEILD_NAME]):\n",
    "            if feild_name in aircraft:\n",
    "                return aircraft[feild_name]\n",
    "            else:\n",
    "                return None"
   ]
  },
  {
   "attachments": {},
   "cell_type": "markdown",
   "metadata": {},
   "source": [
    "## Dates and holidays calculations"
   ]
  },
  {
   "attachments": {},
   "cell_type": "markdown",
   "metadata": {},
   "source": [
    "Mounths dictianery used to translate month name to numbrr"
   ]
  },
  {
   "cell_type": "code",
   "execution_count": 1926,
   "metadata": {},
   "outputs": [],
   "source": [
    "months = {\n",
    "        'jan': 1,\n",
    "        'feb': 2,\n",
    "        'mar': 3,\n",
    "        'apr':4,\n",
    "         'may':5,\n",
    "         'jun':6,\n",
    "         'jul':7,\n",
    "         'aug':8,\n",
    "         'sep':9,\n",
    "         'oct':10,\n",
    "         'nov':11,\n",
    "         'dec':12\n",
    "        }\n"
   ]
  },
  {
   "attachments": {},
   "cell_type": "markdown",
   "metadata": {},
   "source": [
    "Check if some date is crestian holiday"
   ]
  },
  {
   "cell_type": "code",
   "execution_count": 1927,
   "metadata": {},
   "outputs": [],
   "source": [
    "def is_christian_holiday(date):\n",
    "    easter_date = easter(date.year)\n",
    "    easter_sunday = datetime.strptime(easter_date.strftime('%m/%d/%Y'), '%m/%d/%Y').date()\n",
    "    easter_monday = easter_sunday + relativedelta(weekday=MO)\n",
    "    good_friday = easter_sunday - relativedelta(days=2)\n",
    "    christmas_day = datetime(year=date.year, month=12, day=25).date()\n",
    "    holidays = [easter_sunday, easter_monday, good_friday, christmas_day]\n",
    "    return int(date in holidays)"
   ]
  },
  {
   "cell_type": "code",
   "execution_count": 1928,
   "metadata": {},
   "outputs": [],
   "source": [
    "def is_jewish_holiday(date):\n",
    "    jewish_date = jewish.JewishDate.from_date(date)\n",
    "\n",
    "    #rosh hashana\n",
    "    if(jewish_date.day == 1 and jewish_date.month == 1): return 1\n",
    "    #yom kipur\n",
    "    if(jewish_date.day == 10 and jewish_date.month == 1): return 1\n",
    "    #sukot\n",
    "    if(jewish_date.month == 1 and (jewish_date.day >= 16 and jewish_date.day <= 21)): return 1\n",
    "    #hanuka\n",
    "    if(jewish_date.month == 3 and (jewish_date.day >= 23 and jewish_date.day <= 29)): return 1\n",
    "    #passover\n",
    "    if(jewish_date.month == 7 and (jewish_date.day >= 14 and jewish_date.day <= 22)): return 1\n",
    "\n",
    "    return 0\n",
    "\n"
   ]
  },
  {
   "attachments": {},
   "cell_type": "markdown",
   "metadata": {},
   "source": [
    "### API functions"
   ]
  },
  {
   "cell_type": "code",
   "execution_count": 1929,
   "metadata": {},
   "outputs": [],
   "source": [
    "# \"BASE URL + flight/status/tailNumber/4x-ELA/2015/1/1?appId=b1aa7a60&appKey=ed14bb251c167a18733cccbf86105175\"\n",
    "\n",
    "def get_Flight_by_date_and_tail_number(date,tail_number, days_per_request):\n",
    "    formatted_date = date.strftime(\"%Y/%m/%d\")\n",
    "\n",
    "    #URL = BASE_URL + 'flight/status/tailNumber/' + tail_number + '/' + formatted_date + '?appId=' + APP_KEY + '&appKey=' + API_KEY\n",
    "    URL = BASE_URL+'flight/status/tailNumber/'+tail_number+'/'+formatted_date+'?appId='+APP_ID+'&appKey='+APP_KEY+'&numDays=30'#+str(days_per_request)\n",
    "    response = requests.get(URL)\n",
    "    json_res =  response.json()\n",
    "    if 'flightStatuses' in json_res: return json_res['flightStatuses'] , None\n",
    "    if('error' in json_res): return None , json_res['error']\n",
    "    return None, json_res[0]\n"
   ]
  },
  {
   "attachments": {},
   "cell_type": "markdown",
   "metadata": {},
   "source": [
    "test the api"
   ]
  },
  {
   "cell_type": "code",
   "execution_count": 1930,
   "metadata": {},
   "outputs": [],
   "source": [
    "# res = get_Flight_by_date_and_tail_number(datetime(2017,9,28),'4X-EDA',days_per_request=30)\n",
    "# res"
   ]
  },
  {
   "attachments": {},
   "cell_type": "markdown",
   "metadata": {},
   "source": [
    "## Get information that we need before start to send api requests"
   ]
  },
  {
   "attachments": {},
   "cell_type": "markdown",
   "metadata": {},
   "source": [
    "To send this API request we have to know the aircradt tail number\n",
    "we will get this informaition from elal web side via crouling"
   ]
  },
  {
   "cell_type": "code",
   "execution_count": 1931,
   "metadata": {},
   "outputs": [],
   "source": [
    "elal_web_res = requests.get(ElAl_AIRCRAFTS_WEB_URL)"
   ]
  },
  {
   "cell_type": "code",
   "execution_count": 1932,
   "metadata": {},
   "outputs": [],
   "source": [
    "\n",
    "elal_soup = BeautifulSoup(elal_web_res.content)"
   ]
  },
  {
   "attachments": {},
   "cell_type": "markdown",
   "metadata": {},
   "source": [
    "Define functios that clean the data\n",
    "\n",
    "\n",
    "The format of right israeli tail number is '4X-' and 3 letters\n",
    "like: '$X-ABC'"
   ]
  },
  {
   "cell_type": "code",
   "execution_count": 1933,
   "metadata": {},
   "outputs": [],
   "source": [
    "def clean_tail_numberst(tail_number):\n",
    "    tail_number = tail_number.upper()\n",
    "    first_instance_of_4x = tail_number.find('4X-')\n",
    "    new_tail_number = tail_number[first_instance_of_4x:first_instance_of_4x+6]\n",
    "    return new_tail_number\n",
    "\n"
   ]
  },
  {
   "cell_type": "code",
   "execution_count": 1934,
   "metadata": {},
   "outputs": [],
   "source": [
    "def clean_aircraft_name(name):\n",
    "    return str(name.replace('\\u200b',''))"
   ]
  },
  {
   "cell_type": "code",
   "execution_count": 1935,
   "metadata": {},
   "outputs": [],
   "source": [
    "def clean_model(model):\n",
    "    model = model.strip()\n",
    "    return model[3:]"
   ]
  },
  {
   "attachments": {},
   "cell_type": "markdown",
   "metadata": {},
   "source": [
    "Define function that return list of aircraft with ther usefull data"
   ]
  },
  {
   "cell_type": "code",
   "execution_count": 1936,
   "metadata": {},
   "outputs": [],
   "source": [
    "def get_basic_aircrafts_data_list():\n",
    "    if(os.path.exists(AIRCRAFTS_DATA_FILE)):\n",
    "        return load_object_from_file(AIRCRAFTS_DATA_FILE)\n",
    "    \n",
    "    aircrafts_list=[]\n",
    "    tables_list = elal_soup.find_all('tbody')\n",
    "    headers_list = elal_soup.find_all('span',class_ = 'mat-content')\n",
    "    for j,table in enumerate(tables_list):\n",
    "        rows_list = table.findAll('tr')\n",
    "        for row in rows_list[1:]:\n",
    "            cells_list = row.findAll('td')\n",
    "            for i,cell in enumerate(cells_list[1::2]):\n",
    "                aircraft_object = {}\n",
    "                aircraft_object['tail_number'] = clean_tail_numberst(cell.get_text())\n",
    "                aircraft_object['model'] = clean_model(headers_list[j].get_text())\n",
    "                aircraft_object['name'] = clean_aircraft_name(cells_list[i].get_text())\n",
    "                aircrafts_list.append(aircraft_object) \n",
    "\n",
    "    if (not os.path.exists(AIRCRAFTS_DATA_FILE)):\n",
    "        store_object_to_file(AIRCRAFTS_DATA_FILE,aircrafts_list)   \n",
    "    return aircrafts_list\n",
    "\n",
    "#basic_data\n",
    "\n"
   ]
  },
  {
   "attachments": {},
   "cell_type": "markdown",
   "metadata": {},
   "source": [
    "### Get more Advanced information about aircraft that not exost in ELAL website "
   ]
  },
  {
   "attachments": {},
   "cell_type": "markdown",
   "metadata": {},
   "source": [
    "this dictianery store soap object about each aircraft\n",
    "it use to lower the http get request to flightera website becaue it will block us if we try to request each time we want more information about the same aircraft"
   ]
  },
  {
   "cell_type": "code",
   "execution_count": 1937,
   "metadata": {},
   "outputs": [],
   "source": [
    "flightEra_soaps_dict = {}"
   ]
  },
  {
   "attachments": {},
   "cell_type": "markdown",
   "metadata": {},
   "source": [
    "Define function that get flightera soap object of spesific air craft\n",
    "\n",
    "if we also have soap object about this aircraft in the dict we just need to return it\n",
    "else, we create http request, convert it to soap object and store it to the dist. then return it"
   ]
  },
  {
   "cell_type": "code",
   "execution_count": null,
   "metadata": {},
   "outputs": [],
   "source": []
  },
  {
   "cell_type": "code",
   "execution_count": 1938,
   "metadata": {},
   "outputs": [],
   "source": [
    "def get_flghtera_soap_by_tail_number(tail_number): \n",
    "    if (tail_number.lower() not in flightEra_soaps_dict):       \n",
    "        URL = FLIGHTEAR_Base_URL + tail_number\n",
    "        flightera_response = requests.get(URL)\n",
    "        if (not flightera_response.status_code == 200):\n",
    "            print('Error resived data about '+tail_number+' from FLightera web sit, error code: ' + str(flightera_response.status_code))\n",
    "            return None\n",
    "        flightEra_soaps_dict[tail_number] =  BeautifulSoup(flightera_response.content)\n",
    "    \n",
    "    return flightEra_soaps_dict[tail_number]"
   ]
  },
  {
   "cell_type": "code",
   "execution_count": 1939,
   "metadata": {},
   "outputs": [
    {
     "name": "stdout",
     "output_type": "stream",
     "text": [
      "Error resived data about 4x-elk from FLightera web sit, error code: 403\n"
     ]
    }
   ],
   "source": [
    "x = get_flghtera_soap_by_tail_number('4x-elk')\n",
    "x"
   ]
  },
  {
   "attachments": {},
   "cell_type": "markdown",
   "metadata": {},
   "source": [
    "## Get first  and last filght date"
   ]
  },
  {
   "attachments": {},
   "cell_type": "markdown",
   "metadata": {},
   "source": [
    "we neet to get the first time that specific aircrat fly.\n",
    "this information help us to reduse the api request we need to do because eithout it we will need to create requests for evwry day in pre known dates range and if we know the first and last flights date of the aircraft we can short the dates range"
   ]
  },
  {
   "attachments": {},
   "cell_type": "markdown",
   "metadata": {},
   "source": [
    "### Get first flight date"
   ]
  },
  {
   "cell_type": "code",
   "execution_count": 1940,
   "metadata": {},
   "outputs": [],
   "source": [
    "def get_first_flight_date_from_Cache(tail_number):\n",
    "    return load_data_from_aircrafts_file(tail_number,FIRST_FLIGHT_DATE_FEILD_NAME)"
   ]
  },
  {
   "cell_type": "code",
   "execution_count": 1941,
   "metadata": {},
   "outputs": [],
   "source": [
    "def store_first_flight_date_data(tail_number,first_flight_date):\n",
    "    store_data_to_aircrafts_file(tail_number,FIRST_FLIGHT_DATE_FEILD_NAME,first_flight_date)"
   ]
  },
  {
   "cell_type": "code",
   "execution_count": 1942,
   "metadata": {},
   "outputs": [],
   "source": [
    "def clean_first_flight_dtate_string(date_str):\n",
    "    clean_str = date_str.replace('\\n', '')\n",
    "    clean_str = clean_str.strip()\n",
    "    clean_str = clean_str[:clean_str.find('(')]\n",
    "    clean_str = clean_str.strip()\n",
    "    return clean_str"
   ]
  },
  {
   "cell_type": "code",
   "execution_count": 1943,
   "metadata": {},
   "outputs": [],
   "source": [
    "def convert_daytime_to_dict(date):\n",
    "    if (date == None):\n",
    "         return None\n",
    "    return {\n",
    "        'year' : date.year,\n",
    "        'month' : date.month,\n",
    "        'day' : date.day\n",
    "    }"
   ]
  },
  {
   "cell_type": "code",
   "execution_count": 1944,
   "metadata": {},
   "outputs": [],
   "source": [
    "def get_first_flight_date_by_crowling(tail_number):\n",
    "    aircraft_soap = get_flghtera_soap_by_tail_number(tail_number.lower())\n",
    "    if(not aircraft_soap): \n",
    "        return None\n",
    "    try:\n",
    "        for td in aircraft_soap.find_all('td'):\n",
    "            if(td.get_text().find('years ago') != -1):\n",
    "                date_string = td.get_text()\n",
    "        date_string = clean_first_flight_dtate_string(date_string)\n",
    "        month , year = date_string.split(' ')\n",
    "        return convert_daytime_to_dict(datetime(int(year),int(months[month.lower()]),27))\n",
    "    except:\n",
    "        return None\n",
    "    return None"
   ]
  },
  {
   "cell_type": "code",
   "execution_count": 1945,
   "metadata": {},
   "outputs": [],
   "source": [
    "def get_first_flight_date_by_tailnnumber(tail_number):\n",
    "    cashed_data = get_first_flight_date_from_Cache(tail_number)\n",
    "    \n",
    "    if(cashed_data):\n",
    "        return cashed_data\n",
    "    else: \n",
    "        first_flight_date_data = get_first_flight_date_by_crowling(tail_number)\n",
    "        if(first_flight_date_data):\n",
    "            store_first_flight_date_data(tail_number,first_flight_date_data)\n",
    "            return first_flight_date_data\n",
    "        return None"
   ]
  },
  {
   "attachments": {},
   "cell_type": "markdown",
   "metadata": {},
   "source": [
    "### Get Last flight date"
   ]
  },
  {
   "cell_type": "code",
   "execution_count": 1946,
   "metadata": {},
   "outputs": [],
   "source": [
    "def get_last_flight_date_from_Cache(tail_number):\n",
    "    return load_data_from_aircrafts_file(tail_number,LAST_FLIGHT_DATE_FEILD_NAME)"
   ]
  },
  {
   "cell_type": "code",
   "execution_count": 1947,
   "metadata": {},
   "outputs": [],
   "source": [
    "def store_last_flight_date_data(tail_number,last_flight_date):\n",
    "    store_data_to_aircrafts_file(tail_number,LAST_FLIGHT_DATE_FEILD_NAME,last_flight_date)"
   ]
  },
  {
   "cell_type": "code",
   "execution_count": 1948,
   "metadata": {},
   "outputs": [],
   "source": [
    "def clean_last_flight_month(mnt):\n",
    "    mnt = mnt.replace('\\t','')\n",
    "    mnt = mnt.strip()\n",
    "    mnt = mnt[:3]\n",
    "    return mnt.lower()"
   ]
  },
  {
   "cell_type": "code",
   "execution_count": 1949,
   "metadata": {},
   "outputs": [],
   "source": [
    "def get_last_flight_date_by_crowling(tail_number):\n",
    "    aircraft_soap = get_flghtera_soap_by_tail_number(tail_number.lower())\n",
    "    if(not aircraft_soap): return None\n",
    "    try:\n",
    "        year = int(aircraft_soap.find('body').find_all('div',class_='sm:px-6')[4].find_all('dt')[0].get_text())\n",
    "        month = aircraft_soap.find('body').find_all('div',class_='sm:px-6')[4].find_all('dl')[0].find_all('dd')[0].find_all('div')[0].get_text()\n",
    "        month = clean_last_flight_month(month)\n",
    "        \n",
    "        last_flight_date = datetime(year,months[month],1)\n",
    "        return convert_daytime_to_dict(last_flight_date)\n",
    "    except:\n",
    "        return None\n",
    "    return None"
   ]
  },
  {
   "cell_type": "code",
   "execution_count": 1950,
   "metadata": {},
   "outputs": [],
   "source": [
    "def get_last_flight_date_by_tailnnumber(tail_number):\n",
    "    cashed_data = get_last_flight_date_from_Cache(tail_number)\n",
    "    if(cashed_data): return cashed_data\n",
    "    else: \n",
    "        last_flight_date_data = get_last_flight_date_by_crowling(tail_number)\n",
    "        if(last_flight_date_data):\n",
    "            store_last_flight_date_data(tail_number,last_flight_date_data)\n",
    "            return last_flight_date_data\n",
    "        return None"
   ]
  },
  {
   "attachments": {},
   "cell_type": "markdown",
   "metadata": {},
   "source": [
    "## Get number of seats per aircraft"
   ]
  },
  {
   "attachments": {},
   "cell_type": "markdown",
   "metadata": {},
   "source": [
    "this information can be usefull to predict the dilay time of flight"
   ]
  },
  {
   "cell_type": "code",
   "execution_count": 1951,
   "metadata": {},
   "outputs": [],
   "source": [
    "def store_seats_data(tail_number,seats_object):\n",
    "    store_data_to_aircrafts_file(tail_number,SEATS_FEILD_NAME,seats_object)"
   ]
  },
  {
   "cell_type": "code",
   "execution_count": 1952,
   "metadata": {},
   "outputs": [],
   "source": [
    "def get_seats_from_Cache(tail_number):\n",
    "    return load_data_from_aircrafts_file(tail_number,SEATS_FEILD_NAME)"
   ]
  },
  {
   "cell_type": "code",
   "execution_count": 1953,
   "metadata": {},
   "outputs": [],
   "source": [
    "def get_seats_by_crowling(tail_number):\n",
    "    aircraft_soap = get_flghtera_soap_by_tail_number(tail_number.lower())\n",
    "    aircraft_seat_object = {}\n",
    "    strings = []\n",
    "    try:\n",
    "        for td in aircraft_soap.find_all('td'):\n",
    "            if(td.get_text().find('seats') != -1):\n",
    "                strings = td.get_text().split('\\n')\n",
    "                \n",
    "    except:\n",
    "        return None\n",
    "    i=0\n",
    "    for i,s in enumerate(strings):\n",
    "        if(s.find('seats') != -1):\n",
    "            break\n",
    "    for content in strings[i+1:-1]:\n",
    "        seat , class_ = content.split(' ')\n",
    "        aircraft_seat_object[class_] = str(seat)\n",
    "        print(aircraft_seat_object)\n",
    "\n",
    "    return aircraft_seat_object\n",
    "    "
   ]
  },
  {
   "cell_type": "code",
   "execution_count": 1954,
   "metadata": {},
   "outputs": [],
   "source": [
    "def get_seats_by_tail_number(tail_number):\n",
    "    cashed_data = get_seats_from_Cache(tail_number)\n",
    "    if(cashed_data): return cashed_data\n",
    "    else: \n",
    "        seats_data = get_seats_by_crowling(tail_number)\n",
    "        if(seats_data):\n",
    "            store_seats_data(tail_number,seats_data)\n",
    "            return seats_data\n",
    "        return None\n",
    "        "
   ]
  },
  {
   "attachments": {},
   "cell_type": "markdown",
   "metadata": {},
   "source": [
    "### Last scanned date"
   ]
  },
  {
   "attachments": {},
   "cell_type": "markdown",
   "metadata": {},
   "source": [
    "we store the last scanned date,\n",
    "this date is the last date from all the days this air craft was active that we know the flight history of.\n",
    "\n",
    "for example if the aircraft is active from 1/1/2017 untill today and last scanned date is 1/3/2017 it's mean we have all the flights of this aircraft from 1/1/2017 to 1/3/2017.\n",
    "\n",
    "this information help us to avoid duplicate flights in our dataset and minimize the number of api requests"
   ]
  },
  {
   "cell_type": "code",
   "execution_count": 1955,
   "metadata": {},
   "outputs": [],
   "source": [
    "def get_last_scanned_date_from_Cache(tail_number):\n",
    "    return load_data_from_aircrafts_file(tail_number,LAST_SCANNED__DATE_FEILD_NAME)\n",
    "    "
   ]
  },
  {
   "cell_type": "code",
   "execution_count": 1956,
   "metadata": {},
   "outputs": [],
   "source": [
    "def get_last_scanned_date_of_aircraft(tail_number):\n",
    "    cashed_data = get_last_scanned_date_from_Cache(tail_number)\n",
    "    if(cashed_data): return cashed_data\n",
    "    else: \n",
    "        last_scanned_date = load_data_from_aircrafts_file(tail_number,FIRST_FLIGHT_DATE_FEILD_NAME) \n",
    "        if(last_scanned_date):\n",
    "            store_data_to_aircrafts_file(tail_number,LAST_SCANNED__DATE_FEILD_NAME,last_scanned_date)\n",
    "            return last_scanned_date\n",
    "        return None"
   ]
  },
  {
   "attachments": {},
   "cell_type": "markdown",
   "metadata": {},
   "source": [
    "## Put all this data togeter"
   ]
  },
  {
   "attachments": {},
   "cell_type": "markdown",
   "metadata": {},
   "source": [
    "Define function that get advanced information about eace air crafr\n",
    "this function call to every function that can add information about spesific aircraft"
   ]
  },
  {
   "cell_type": "code",
   "execution_count": 1957,
   "metadata": {},
   "outputs": [],
   "source": [
    "def get_aircrafts_full_information():\n",
    "    if (os.path.exists(AIRCRAFTS_DATA_FILE)):\n",
    "        return load_object_from_file(AIRCRAFTS_DATA_FILE)\n",
    "    \n",
    "    aircrafts_list = get_basic_aircrafts_data_list()\n",
    "    for aircraft in aircrafts_list:\n",
    "        #Add first flight date information\n",
    "        first_flght_date_data = get_first_flight_date_by_tailnnumber(aircraft[TAIL_NUMBER_FEILD_NAME])\n",
    "        if(first_flght_date_data):\n",
    "            aircraft[FIRST_FLIGHT_DATE_FEILD_NAME] = first_flght_date_data\n",
    "\n",
    "        #Add last flight date information\n",
    "        last_flght_date_data = get_last_flight_date_by_tailnnumber(aircraft[TAIL_NUMBER_FEILD_NAME])\n",
    "        if(last_flght_date_data):\n",
    "            aircraft[LAST_FLIGHT_DATE_FEILD_NAME] = last_flght_date_data\n",
    "\n",
    "        #Add seats to airplanes data\n",
    "        seats_data = get_seats_by_tail_number(aircraft[TAIL_NUMBER_FEILD_NAME])\n",
    "        if(seats_data):\n",
    "            aircraft[SEATS_FEILD_NAME] = seats_data\n",
    "        \n",
    "        last_scanned_daate = get_last_scanned_date_of_aircraft(aircraft[TAIL_NUMBER_FEILD_NAME])\n",
    "        if(last_scanned_daate):\n",
    "            aircraft[LAST_SCANNED__DATE_FEILD_NAME] = last_scanned_daate\n",
    "\n",
    "\n",
    "    store_object_to_file(AIRCRAFTS_DATA_FILE,aircrafts_list)\n",
    "    return aircrafts_list\n"
   ]
  },
  {
   "attachments": {},
   "cell_type": "markdown",
   "metadata": {},
   "source": [
    "We will add one more feild to the aircraft data that contain the last data that the API Checked"
   ]
  },
  {
   "attachments": {},
   "cell_type": "markdown",
   "metadata": {},
   "source": [
    "## Preview our aircrafts data"
   ]
  },
  {
   "cell_type": "code",
   "execution_count": 1958,
   "metadata": {},
   "outputs": [
    {
     "data": {
      "text/html": [
       "<div>\n",
       "<style scoped>\n",
       "    .dataframe tbody tr th:only-of-type {\n",
       "        vertical-align: middle;\n",
       "    }\n",
       "\n",
       "    .dataframe tbody tr th {\n",
       "        vertical-align: top;\n",
       "    }\n",
       "\n",
       "    .dataframe thead th {\n",
       "        text-align: right;\n",
       "    }\n",
       "</style>\n",
       "<table border=\"1\" class=\"dataframe\">\n",
       "  <thead>\n",
       "    <tr style=\"text-align: right;\">\n",
       "      <th></th>\n",
       "      <th>tail_number</th>\n",
       "      <th>model</th>\n",
       "      <th>name</th>\n",
       "      <th>first_flight_date</th>\n",
       "      <th>last-flight_date</th>\n",
       "      <th>seats</th>\n",
       "      <th>last_scanned_date</th>\n",
       "    </tr>\n",
       "  </thead>\n",
       "  <tbody>\n",
       "    <tr>\n",
       "      <th>0</th>\n",
       "      <td>4X-EKH</td>\n",
       "      <td>737-800</td>\n",
       "      <td>חדרה</td>\n",
       "      <td>{'year': 2009, 'month': 4, 'day': 27}</td>\n",
       "      <td>{'year': 2023, 'month': 5, 'day': 1}</td>\n",
       "      <td>{'Business': '16', 'Economy': '138'}</td>\n",
       "      <td>{'year': 2016, 'month': 6, 'day': 25}</td>\n",
       "    </tr>\n",
       "    <tr>\n",
       "      <th>1</th>\n",
       "      <td>4X-EKJ</td>\n",
       "      <td>737-800</td>\n",
       "      <td>דגניה</td>\n",
       "      <td>{'year': 2009, 'month': 5, 'day': 27}</td>\n",
       "      <td>{'year': 2023, 'month': 5, 'day': 1}</td>\n",
       "      <td>{'Business': '16', 'Economy': '138'}</td>\n",
       "      <td>{'year': 2016, 'month': 9, 'day': 26}</td>\n",
       "    </tr>\n",
       "    <tr>\n",
       "      <th>2</th>\n",
       "      <td>4X-EKL</td>\n",
       "      <td>737-800</td>\n",
       "      <td>נהלל</td>\n",
       "      <td>{'year': 2009, 'month': 6, 'day': 27}</td>\n",
       "      <td>{'year': 2023, 'month': 5, 'day': 1}</td>\n",
       "      <td>{'Business': '16', 'Economy': '138'}</td>\n",
       "      <td>{'year': 2016, 'month': 10, 'day': 27}</td>\n",
       "    </tr>\n",
       "    <tr>\n",
       "      <th>3</th>\n",
       "      <td>4X-EKT</td>\n",
       "      <td>737-800</td>\n",
       "      <td>בית שמש</td>\n",
       "      <td>{'year': 2006, 'month': 6, 'day': 27}</td>\n",
       "      <td>{'year': 2023, 'month': 5, 'day': 1}</td>\n",
       "      <td>{'Eco+': '36', 'Economy': '144'}</td>\n",
       "      <td>{'year': 2016, 'month': 10, 'day': 27}</td>\n",
       "    </tr>\n",
       "    <tr>\n",
       "      <th>4</th>\n",
       "      <td>4X-EKI</td>\n",
       "      <td>737-800</td>\n",
       "      <td>מודיעין מכבים רעות</td>\n",
       "      <td>{'year': 1999, 'month': 1, 'day': 27}</td>\n",
       "      <td>{'year': 2023, 'month': 4, 'day': 1}</td>\n",
       "      <td>{'Business': '16', 'Economy': '150'}</td>\n",
       "      <td>{'year': 2017, 'month': 5, 'day': 26}</td>\n",
       "    </tr>\n",
       "    <tr>\n",
       "      <th>5</th>\n",
       "      <td>4X-EKO</td>\n",
       "      <td>737-800</td>\n",
       "      <td>לוד</td>\n",
       "      <td>{'year': 2003, 'month': 4, 'day': 27}</td>\n",
       "      <td>{'year': 2023, 'month': 5, 'day': 1}</td>\n",
       "      <td>{'Economy': '180'}</td>\n",
       "      <td>{'year': 2017, 'month': 8, 'day': 24}</td>\n",
       "    </tr>\n",
       "    <tr>\n",
       "      <th>6</th>\n",
       "      <td>4X-EKP</td>\n",
       "      <td>737-800</td>\n",
       "      <td>נהריה</td>\n",
       "      <td>{'year': 2001, 'month': 8, 'day': 27}</td>\n",
       "      <td>{'year': 2023, 'month': 5, 'day': 1}</td>\n",
       "      <td>{'Business': '16', 'Economy': '138'}</td>\n",
       "      <td>{'year': 2016, 'month': 12, 'day': 27}</td>\n",
       "    </tr>\n",
       "    <tr>\n",
       "      <th>7</th>\n",
       "      <td>4X-EKS</td>\n",
       "      <td>737-800</td>\n",
       "      <td>קיסריה</td>\n",
       "      <td>{'year': 2008, 'month': 8, 'day': 27}</td>\n",
       "      <td>{'year': 2023, 'month': 5, 'day': 1}</td>\n",
       "      <td>{'Business': '16', 'Economy': '138'}</td>\n",
       "      <td>{'year': 2016, 'month': 4, 'day': 1}</td>\n",
       "    </tr>\n",
       "    <tr>\n",
       "      <th>8</th>\n",
       "      <td>4X-EKM</td>\n",
       "      <td>737-800</td>\n",
       "      <td>רמלה</td>\n",
       "      <td>{'year': 2000, 'month': 2, 'day': 27}</td>\n",
       "      <td>{'year': 2023, 'month': 5, 'day': 1}</td>\n",
       "      <td>{'Eco+': '36', 'Economy': '144'}</td>\n",
       "      <td>{'year': 2015, 'month': 6, 'day': 4}</td>\n",
       "    </tr>\n",
       "    <tr>\n",
       "      <th>9</th>\n",
       "      <td>4X-EKR</td>\n",
       "      <td>737-800</td>\n",
       "      <td>גבעתיים</td>\n",
       "      <td>{'year': 2000, 'month': 2, 'day': 27}</td>\n",
       "      <td>{'year': 2023, 'month': 5, 'day': 1}</td>\n",
       "      <td>{'Economy': '185'}</td>\n",
       "      <td>{'year': 2015, 'month': 6, 'day': 4}</td>\n",
       "    </tr>\n",
       "    <tr>\n",
       "      <th>10</th>\n",
       "      <td>4X-EKU</td>\n",
       "      <td>737-800</td>\n",
       "      <td>רעננה</td>\n",
       "      <td>{'year': 2006, 'month': 4, 'day': 27}</td>\n",
       "      <td>{'year': 2023, 'month': 5, 'day': 1}</td>\n",
       "      <td>{'Eco+': '36', 'Economy': '144'}</td>\n",
       "      <td>{'year': 2015, 'month': 8, 'day': 2}</td>\n",
       "    </tr>\n",
       "    <tr>\n",
       "      <th>11</th>\n",
       "      <td>4X-EKK</td>\n",
       "      <td>737-800</td>\n",
       "      <td>גבעת שמואל</td>\n",
       "      <td>{'year': 2014, 'month': 12, 'day': 27}</td>\n",
       "      <td>NaN</td>\n",
       "      <td>{'Business': '16', 'Economy': '150'}</td>\n",
       "      <td>{'year': 2016, 'month': 4, 'day': 2}</td>\n",
       "    </tr>\n",
       "    <tr>\n",
       "      <th>12</th>\n",
       "      <td>4X-EHA</td>\n",
       "      <td>737-900</td>\n",
       "      <td>קריית אונו</td>\n",
       "      <td>{'year': 2013, 'month': 9, 'day': 27}</td>\n",
       "      <td>{'year': 2023, 'month': 5, 'day': 1}</td>\n",
       "      <td>{'Business': '16', 'Economy': '156'}</td>\n",
       "      <td>{'year': 2016, 'month': 1, 'day': 2}</td>\n",
       "    </tr>\n",
       "    <tr>\n",
       "      <th>13</th>\n",
       "      <td>4X-EHB</td>\n",
       "      <td>737-900</td>\n",
       "      <td>קריית ביאליק</td>\n",
       "      <td>{'year': 2013, 'month': 11, 'day': 27}</td>\n",
       "      <td>{'year': 2023, 'month': 5, 'day': 1}</td>\n",
       "      <td>{'Business': '16', 'Economy': '156'}</td>\n",
       "      <td>{'year': 2016, 'month': 3, 'day': 3}</td>\n",
       "    </tr>\n",
       "    <tr>\n",
       "      <th>14</th>\n",
       "      <td>4X-EHC</td>\n",
       "      <td>737-900</td>\n",
       "      <td>קריית אתא</td>\n",
       "      <td>{'year': 2014, 'month': 7, 'day': 27}</td>\n",
       "      <td>{'year': 2023, 'month': 5, 'day': 1}</td>\n",
       "      <td>{'Business': '16', 'Economy': '156'}</td>\n",
       "      <td>{'year': 2015, 'month': 11, 'day': 1}</td>\n",
       "    </tr>\n",
       "    <tr>\n",
       "      <th>15</th>\n",
       "      <td>4X-EHD</td>\n",
       "      <td>737-900</td>\n",
       "      <td>קריית גת</td>\n",
       "      <td>{'year': 2015, 'month': 2, 'day': 27}</td>\n",
       "      <td>{'year': 2023, 'month': 5, 'day': 1}</td>\n",
       "      <td>{'Business': '16', 'Economy': '156'}</td>\n",
       "      <td>{'year': 2015, 'month': 6, 'day': 4}</td>\n",
       "    </tr>\n",
       "    <tr>\n",
       "      <th>16</th>\n",
       "      <td>4X-EHE</td>\n",
       "      <td>737-900</td>\n",
       "      <td>קריית טבעון</td>\n",
       "      <td>{'year': 2014, 'month': 3, 'day': 27}</td>\n",
       "      <td>{'year': 2023, 'month': 5, 'day': 1}</td>\n",
       "      <td>{'Business': '16', 'Economy': '156'}</td>\n",
       "      <td>{'year': 2015, 'month': 7, 'day': 3}</td>\n",
       "    </tr>\n",
       "    <tr>\n",
       "      <th>17</th>\n",
       "      <td>4X-EHF</td>\n",
       "      <td>737-900</td>\n",
       "      <td>קריית ים</td>\n",
       "      <td>{'year': 2016, 'month': 2, 'day': 27}</td>\n",
       "      <td>{'year': 2023, 'month': 5, 'day': 1}</td>\n",
       "      <td>{'Business': '16', 'Economy': '159'}</td>\n",
       "      <td>{'year': 2016, 'month': 6, 'day': 4}</td>\n",
       "    </tr>\n",
       "    <tr>\n",
       "      <th>18</th>\n",
       "      <td>4X-EHH</td>\n",
       "      <td>737-900</td>\n",
       "      <td>קריית מוצקין</td>\n",
       "      <td>{'year': 2016, 'month': 2, 'day': 27}</td>\n",
       "      <td>{'year': 2023, 'month': 5, 'day': 1}</td>\n",
       "      <td>{'Business': '16', 'Economy': '156'}</td>\n",
       "      <td>{'year': 2016, 'month': 6, 'day': 4}</td>\n",
       "    </tr>\n",
       "    <tr>\n",
       "      <th>19</th>\n",
       "      <td>4X-EHI</td>\n",
       "      <td>737-900</td>\n",
       "      <td>קריית מלאכי</td>\n",
       "      <td>{'year': 2016, 'month': 3, 'day': 27}</td>\n",
       "      <td>{'year': 2023, 'month': 5, 'day': 1}</td>\n",
       "      <td>{'Business': '16', 'Economy': '156'}</td>\n",
       "      <td>{'year': 2016, 'month': 7, 'day': 3}</td>\n",
       "    </tr>\n",
       "    <tr>\n",
       "      <th>20</th>\n",
       "      <td>4X-ELA</td>\n",
       "      <td>747</td>\n",
       "      <td></td>\n",
       "      <td>{'year': 1994, 'month': 4, 'day': 27}</td>\n",
       "      <td>{'year': 2019, 'month': 10, 'day': 1}</td>\n",
       "      <td>{'First': '8', 'Business': '47', 'Eco+': '34',...</td>\n",
       "      <td>{'year': 2015, 'month': 8, 'day': 4}</td>\n",
       "    </tr>\n",
       "    <tr>\n",
       "      <th>21</th>\n",
       "      <td>4X-ELB</td>\n",
       "      <td>747</td>\n",
       "      <td></td>\n",
       "      <td>{'year': 1994, 'month': 5, 'day': 27}</td>\n",
       "      <td>{'year': 2019, 'month': 7, 'day': 1}</td>\n",
       "      <td>{'First': '8', 'Business': '47', 'Eco+': '34',...</td>\n",
       "      <td>{'year': 2015, 'month': 9, 'day': 3}</td>\n",
       "    </tr>\n",
       "    <tr>\n",
       "      <th>22</th>\n",
       "      <td>4X-ELC</td>\n",
       "      <td>747</td>\n",
       "      <td></td>\n",
       "      <td>{'year': 1995, 'month': 5, 'day': 27}</td>\n",
       "      <td>{'year': 2019, 'month': 11, 'day': 1}</td>\n",
       "      <td>{'First': '8', 'Business': '47', 'Eco+': '34',...</td>\n",
       "      <td>{'year': 2015, 'month': 9, 'day': 3}</td>\n",
       "    </tr>\n",
       "    <tr>\n",
       "      <th>23</th>\n",
       "      <td>4X-EDK</td>\n",
       "      <td>787</td>\n",
       "      <td>אילת</td>\n",
       "      <td>{'year': 2019, 'month': 6, 'day': 27}</td>\n",
       "      <td>{'year': 2023, 'month': 5, 'day': 1}</td>\n",
       "      <td>{'Business': '32', 'Eco+': '28', 'Economy': '2...</td>\n",
       "      <td>{'year': 2019, 'month': 7, 'day': 5}</td>\n",
       "    </tr>\n",
       "    <tr>\n",
       "      <th>24</th>\n",
       "      <td>4X-EDL</td>\n",
       "      <td>787</td>\n",
       "      <td>עכו</td>\n",
       "      <td>{'year': 2019, 'month': 7, 'day': 27}</td>\n",
       "      <td>{'year': 2023, 'month': 5, 'day': 1}</td>\n",
       "      <td>{'Business': '32', 'Eco+': '28', 'Economy': '2...</td>\n",
       "      <td>{'year': 2019, 'month': 8, 'day': 4}</td>\n",
       "    </tr>\n",
       "    <tr>\n",
       "      <th>25</th>\n",
       "      <td>4X-EDM</td>\n",
       "      <td>787</td>\n",
       "      <td>ירושלים של זהב</td>\n",
       "      <td>{'year': 2019, 'month': 9, 'day': 27}</td>\n",
       "      <td>{'year': 2023, 'month': 5, 'day': 1}</td>\n",
       "      <td>{'Business': '32', 'Eco+': '28', 'Economy': '2...</td>\n",
       "      <td>{'year': 2019, 'month': 10, 'day': 5}</td>\n",
       "    </tr>\n",
       "    <tr>\n",
       "      <th>26</th>\n",
       "      <td>4X-ERA</td>\n",
       "      <td>787</td>\n",
       "      <td>רמת השרון</td>\n",
       "      <td>{'year': 2019, 'month': 11, 'day': 27}</td>\n",
       "      <td>{'year': 2023, 'month': 5, 'day': 1}</td>\n",
       "      <td>{'Business': '20', 'Eco+': '35', 'Economy': '1...</td>\n",
       "      <td>{'year': 2019, 'month': 12, 'day': 5}</td>\n",
       "    </tr>\n",
       "    <tr>\n",
       "      <th>27</th>\n",
       "      <td>4X-ERB</td>\n",
       "      <td>787</td>\n",
       "      <td>הוד השרון</td>\n",
       "      <td>{'year': 2019, 'month': 12, 'day': 27}</td>\n",
       "      <td>{'year': 2023, 'month': 5, 'day': 1}</td>\n",
       "      <td>{'Business': '20', 'Eco+': '35', 'Economy': '1...</td>\n",
       "      <td>{'year': 2020, 'month': 1, 'day': 4}</td>\n",
       "    </tr>\n",
       "    <tr>\n",
       "      <th>28</th>\n",
       "      <td>4X-ERC</td>\n",
       "      <td>787</td>\n",
       "      <td>דליית אל כרמל</td>\n",
       "      <td>{'year': 2020, 'month': 2, 'day': 27}</td>\n",
       "      <td>{'year': 2023, 'month': 5, 'day': 1}</td>\n",
       "      <td>{'Business': '20', 'Eco+': '35', 'Economy': '1...</td>\n",
       "      <td>{'year': 2015, 'month': 3, 'day': 6}</td>\n",
       "    </tr>\n",
       "    <tr>\n",
       "      <th>29</th>\n",
       "      <td>4X-ECA</td>\n",
       "      <td>777</td>\n",
       "      <td>פתח תקווה</td>\n",
       "      <td>{'year': 2001, 'month': 1, 'day': 27}</td>\n",
       "      <td>{'year': 2020, 'month': 9, 'day': 1}</td>\n",
       "      <td>{'First': '6', 'Business': '35', 'Eco+': '34',...</td>\n",
       "      <td>{'year': 2015, 'month': 2, 'day': 3}</td>\n",
       "    </tr>\n",
       "    <tr>\n",
       "      <th>30</th>\n",
       "      <td>4X-ECB</td>\n",
       "      <td>777</td>\n",
       "      <td>נתניה</td>\n",
       "      <td>{'year': 2001, 'month': 2, 'day': 27}</td>\n",
       "      <td>{'year': 2023, 'month': 5, 'day': 1}</td>\n",
       "      <td>{'First': '6', 'Business': '35', 'Eco+': '34',...</td>\n",
       "      <td>{'year': 2015, 'month': 3, 'day': 6}</td>\n",
       "    </tr>\n",
       "    <tr>\n",
       "      <th>31</th>\n",
       "      <td>4X-ECC</td>\n",
       "      <td>777</td>\n",
       "      <td>חולון</td>\n",
       "      <td>{'year': 2001, 'month': 4, 'day': 27}</td>\n",
       "      <td>{'year': 2020, 'month': 6, 'day': 1}</td>\n",
       "      <td>{'First': '6', 'Business': '35', 'Eco+': '34',...</td>\n",
       "      <td>{'year': 2015, 'month': 5, 'day': 4}</td>\n",
       "    </tr>\n",
       "    <tr>\n",
       "      <th>32</th>\n",
       "      <td>4X-ECD</td>\n",
       "      <td>777</td>\n",
       "      <td>רמת גן</td>\n",
       "      <td>{'year': 2002, 'month': 5, 'day': 27}</td>\n",
       "      <td>{'year': 2023, 'month': 5, 'day': 1}</td>\n",
       "      <td>{'First': '6', 'Business': '35', 'Eco+': '34',...</td>\n",
       "      <td>{'year': 2015, 'month': 6, 'day': 3}</td>\n",
       "    </tr>\n",
       "    <tr>\n",
       "      <th>33</th>\n",
       "      <td>4X-ECE</td>\n",
       "      <td>777</td>\n",
       "      <td>שדרות</td>\n",
       "      <td>{'year': 2007, 'month': 6, 'day': 27}</td>\n",
       "      <td>{'year': 2020, 'month': 7, 'day': 1}</td>\n",
       "      <td>{'First': '6', 'Business': '35', 'Eco+': '34',...</td>\n",
       "      <td>{'year': 2015, 'month': 7, 'day': 4}</td>\n",
       "    </tr>\n",
       "    <tr>\n",
       "      <th>34</th>\n",
       "      <td>4X-ECF</td>\n",
       "      <td>777</td>\n",
       "      <td>קרית שמונה</td>\n",
       "      <td>{'year': 2007, 'month': 8, 'day': 27}</td>\n",
       "      <td>{'year': 2023, 'month': 5, 'day': 1}</td>\n",
       "      <td>{'First': '6', 'Business': '35', 'Eco+': '34',...</td>\n",
       "      <td>{'year': 2015, 'month': 9, 'day': 3}</td>\n",
       "    </tr>\n",
       "    <tr>\n",
       "      <th>35</th>\n",
       "      <td>4X-EKA</td>\n",
       "      <td>737-800</td>\n",
       "      <td>טבריה</td>\n",
       "      <td>{'year': 1999, 'month': 1, 'day': 27}</td>\n",
       "      <td>{'year': 2021, 'month': 9, 'day': 1}</td>\n",
       "      <td>{'Business': '16', 'Economy': '138'}</td>\n",
       "      <td>{'year': 2015, 'month': 2, 'day': 3}</td>\n",
       "    </tr>\n",
       "    <tr>\n",
       "      <th>36</th>\n",
       "      <td>4X-EKB</td>\n",
       "      <td>737-800</td>\n",
       "      <td>אשקלון</td>\n",
       "      <td>{'year': 1999, 'month': 4, 'day': 27}</td>\n",
       "      <td>{'year': 2023, 'month': 5, 'day': 1}</td>\n",
       "      <td>{'Business': '16', 'Economy': '138'}</td>\n",
       "      <td>{'year': 2015, 'month': 5, 'day': 5}</td>\n",
       "    </tr>\n",
       "    <tr>\n",
       "      <th>37</th>\n",
       "      <td>4X-EKC</td>\n",
       "      <td>737-800</td>\n",
       "      <td>בית שאן</td>\n",
       "      <td>{'year': 1999, 'month': 6, 'day': 27}</td>\n",
       "      <td>{'year': 2023, 'month': 4, 'day': 1}</td>\n",
       "      <td>{'Business': '16', 'Economy': '138'}</td>\n",
       "      <td>{'year': 2015, 'month': 7, 'day': 6}</td>\n",
       "    </tr>\n",
       "    <tr>\n",
       "      <th>38</th>\n",
       "      <td>4X-EKF</td>\n",
       "      <td>737-800</td>\n",
       "      <td>כנרת</td>\n",
       "      <td>{'year': 2008, 'month': 12, 'day': 27}</td>\n",
       "      <td>{'year': 2023, 'month': 5, 'day': 1}</td>\n",
       "      <td>{'Business': '16', 'Economy': '138'}</td>\n",
       "      <td>{'year': 2016, 'month': 1, 'day': 5}</td>\n",
       "    </tr>\n",
       "    <tr>\n",
       "      <th>39</th>\n",
       "      <td>4X-ELD</td>\n",
       "      <td>747</td>\n",
       "      <td></td>\n",
       "      <td>{'year': 1999, 'month': 5, 'day': 27}</td>\n",
       "      <td>{'year': 2019, 'month': 9, 'day': 1}</td>\n",
       "      <td>{'First': '8', 'Business': '47', 'Eco+': '34',...</td>\n",
       "      <td>{'year': 2015, 'month': 6, 'day': 6}</td>\n",
       "    </tr>\n",
       "    <tr>\n",
       "      <th>40</th>\n",
       "      <td>4X-ELE</td>\n",
       "      <td>747</td>\n",
       "      <td></td>\n",
       "      <td>{'year': 1994, 'month': 10, 'day': 27}</td>\n",
       "      <td>{'year': 2017, 'month': 12, 'day': 1}</td>\n",
       "      <td>{'First': '12', 'Business': '50', 'Eco+': '39'...</td>\n",
       "      <td>{'year': 2015, 'month': 11, 'day': 6}</td>\n",
       "    </tr>\n",
       "    <tr>\n",
       "      <th>41</th>\n",
       "      <td>4X-ELF</td>\n",
       "      <td>747</td>\n",
       "      <td></td>\n",
       "      <td>{'year': 1994, 'month': 7, 'day': 27}</td>\n",
       "      <td>{'year': 2019, 'month': 7, 'day': 1}</td>\n",
       "      <td>NaN</td>\n",
       "      <td>{'year': 2015, 'month': 8, 'day': 6}</td>\n",
       "    </tr>\n",
       "    <tr>\n",
       "      <th>42</th>\n",
       "      <td>4X-EDA</td>\n",
       "      <td>787</td>\n",
       "      <td>אשדוד</td>\n",
       "      <td>{'year': 2017, 'month': 7, 'day': 27}</td>\n",
       "      <td>{'year': 2023, 'month': 5, 'day': 1}</td>\n",
       "      <td>{'Business': '32', 'Eco+': '28', 'Economy': '2...</td>\n",
       "      <td>{'year': 2017, 'month': 8, 'day': 6}</td>\n",
       "    </tr>\n",
       "    <tr>\n",
       "      <th>43</th>\n",
       "      <td>4X-EDB</td>\n",
       "      <td>787</td>\n",
       "      <td>ראשון לציון</td>\n",
       "      <td>{'year': 2017, 'month': 9, 'day': 27}</td>\n",
       "      <td>{'year': 2023, 'month': 5, 'day': 1}</td>\n",
       "      <td>{'Business': '32', 'Eco+': '28', 'Economy': '2...</td>\n",
       "      <td>{'year': 2017, 'month': 10, 'day': 7}</td>\n",
       "    </tr>\n",
       "    <tr>\n",
       "      <th>44</th>\n",
       "      <td>4X-EDC</td>\n",
       "      <td>787</td>\n",
       "      <td>תל אביב</td>\n",
       "      <td>{'year': 2018, 'month': 1, 'day': 27}</td>\n",
       "      <td>{'year': 2023, 'month': 5, 'day': 1}</td>\n",
       "      <td>{'Business': '32', 'Eco+': '35', 'Economy': '2...</td>\n",
       "      <td>{'year': 2018, 'month': 2, 'day': 6}</td>\n",
       "    </tr>\n",
       "    <tr>\n",
       "      <th>45</th>\n",
       "      <td>4X-EDD</td>\n",
       "      <td>787</td>\n",
       "      <td>חיפה</td>\n",
       "      <td>{'year': 2018, 'month': 2, 'day': 27}</td>\n",
       "      <td>{'year': 2023, 'month': 5, 'day': 1}</td>\n",
       "      <td>{'Business': '32', 'Eco+': '28', 'Economy': '2...</td>\n",
       "      <td>{'year': 2018, 'month': 3, 'day': 9}</td>\n",
       "    </tr>\n",
       "    <tr>\n",
       "      <th>46</th>\n",
       "      <td>4X-EDE</td>\n",
       "      <td>787</td>\n",
       "      <td>בת ים</td>\n",
       "      <td>{'year': 2018, 'month': 6, 'day': 27}</td>\n",
       "      <td>{'year': 2023, 'month': 5, 'day': 1}</td>\n",
       "      <td>{'Business': '32', 'Eco+': '28', 'Economy': '2...</td>\n",
       "      <td>{'year': 2018, 'month': 7, 'day': 7}</td>\n",
       "    </tr>\n",
       "    <tr>\n",
       "      <th>47</th>\n",
       "      <td>4X-EDF</td>\n",
       "      <td>787</td>\n",
       "      <td>רחובות</td>\n",
       "      <td>{'year': 2018, 'month': 7, 'day': 27}</td>\n",
       "      <td>{'year': 2023, 'month': 5, 'day': 1}</td>\n",
       "      <td>{'Business': '32', 'Eco+': '28', 'Economy': '2...</td>\n",
       "      <td>{'year': 2018, 'month': 8, 'day': 7}</td>\n",
       "    </tr>\n",
       "    <tr>\n",
       "      <th>48</th>\n",
       "      <td>4X-EDH</td>\n",
       "      <td>787</td>\n",
       "      <td>באר שבע</td>\n",
       "      <td>{'year': 2018, 'month': 10, 'day': 27}</td>\n",
       "      <td>{'year': 2023, 'month': 5, 'day': 1}</td>\n",
       "      <td>{'Business': '32', 'Eco+': '28', 'Economy': '2...</td>\n",
       "      <td>{'year': 2018, 'month': 11, 'day': 7}</td>\n",
       "    </tr>\n",
       "    <tr>\n",
       "      <th>49</th>\n",
       "      <td>4X-EDI</td>\n",
       "      <td>787</td>\n",
       "      <td>הרצליה</td>\n",
       "      <td>{'year': 2018, 'month': 12, 'day': 27}</td>\n",
       "      <td>{'year': 2023, 'month': 5, 'day': 1}</td>\n",
       "      <td>{'Business': '32', 'Eco+': '28', 'Economy': '2...</td>\n",
       "      <td>{'year': 2019, 'month': 1, 'day': 7}</td>\n",
       "    </tr>\n",
       "    <tr>\n",
       "      <th>50</th>\n",
       "      <td>4X-EDJ</td>\n",
       "      <td>787</td>\n",
       "      <td>כפר סבא</td>\n",
       "      <td>{'year': 2019, 'month': 3, 'day': 27}</td>\n",
       "      <td>{'year': 2023, 'month': 5, 'day': 1}</td>\n",
       "      <td>{'Business': '32', 'Eco+': '28', 'Economy': '2...</td>\n",
       "      <td>{'year': 2019, 'month': 4, 'day': 8}</td>\n",
       "    </tr>\n",
       "  </tbody>\n",
       "</table>\n",
       "</div>"
      ],
      "text/plain": [
       "   tail_number    model                name  \\\n",
       "0       4X-EKH  737-800                חדרה   \n",
       "1       4X-EKJ  737-800               דגניה   \n",
       "2       4X-EKL  737-800                נהלל   \n",
       "3       4X-EKT  737-800             בית שמש   \n",
       "4       4X-EKI  737-800  מודיעין מכבים רעות   \n",
       "5       4X-EKO  737-800                 לוד   \n",
       "6       4X-EKP  737-800               נהריה   \n",
       "7       4X-EKS  737-800              קיסריה   \n",
       "8       4X-EKM  737-800                רמלה   \n",
       "9       4X-EKR  737-800             גבעתיים   \n",
       "10      4X-EKU  737-800               רעננה   \n",
       "11      4X-EKK  737-800          גבעת שמואל   \n",
       "12      4X-EHA  737-900          קריית אונו   \n",
       "13      4X-EHB  737-900        קריית ביאליק   \n",
       "14      4X-EHC  737-900           קריית אתא   \n",
       "15      4X-EHD  737-900            קריית גת   \n",
       "16      4X-EHE  737-900         קריית טבעון   \n",
       "17      4X-EHF  737-900            קריית ים   \n",
       "18      4X-EHH  737-900        קריית מוצקין   \n",
       "19      4X-EHI  737-900         קריית מלאכי   \n",
       "20      4X-ELA      747                       \n",
       "21      4X-ELB      747                       \n",
       "22      4X-ELC      747                       \n",
       "23      4X-EDK      787                אילת   \n",
       "24      4X-EDL      787                 עכו   \n",
       "25      4X-EDM      787      ירושלים של זהב   \n",
       "26      4X-ERA      787           רמת השרון   \n",
       "27      4X-ERB      787           הוד השרון   \n",
       "28      4X-ERC      787       דליית אל כרמל   \n",
       "29      4X-ECA      777           פתח תקווה   \n",
       "30      4X-ECB      777               נתניה   \n",
       "31      4X-ECC      777               חולון   \n",
       "32      4X-ECD      777              רמת גן   \n",
       "33      4X-ECE      777               שדרות   \n",
       "34      4X-ECF      777          קרית שמונה   \n",
       "35      4X-EKA  737-800               טבריה   \n",
       "36      4X-EKB  737-800              אשקלון   \n",
       "37      4X-EKC  737-800             בית שאן   \n",
       "38      4X-EKF  737-800                כנרת   \n",
       "39      4X-ELD      747                       \n",
       "40      4X-ELE      747                       \n",
       "41      4X-ELF      747                       \n",
       "42      4X-EDA      787               אשדוד   \n",
       "43      4X-EDB      787         ראשון לציון   \n",
       "44      4X-EDC      787             תל אביב   \n",
       "45      4X-EDD      787                חיפה   \n",
       "46      4X-EDE      787               בת ים   \n",
       "47      4X-EDF      787              רחובות   \n",
       "48      4X-EDH      787             באר שבע   \n",
       "49      4X-EDI      787              הרצליה   \n",
       "50      4X-EDJ      787             כפר סבא   \n",
       "\n",
       "                         first_flight_date  \\\n",
       "0    {'year': 2009, 'month': 4, 'day': 27}   \n",
       "1    {'year': 2009, 'month': 5, 'day': 27}   \n",
       "2    {'year': 2009, 'month': 6, 'day': 27}   \n",
       "3    {'year': 2006, 'month': 6, 'day': 27}   \n",
       "4    {'year': 1999, 'month': 1, 'day': 27}   \n",
       "5    {'year': 2003, 'month': 4, 'day': 27}   \n",
       "6    {'year': 2001, 'month': 8, 'day': 27}   \n",
       "7    {'year': 2008, 'month': 8, 'day': 27}   \n",
       "8    {'year': 2000, 'month': 2, 'day': 27}   \n",
       "9    {'year': 2000, 'month': 2, 'day': 27}   \n",
       "10   {'year': 2006, 'month': 4, 'day': 27}   \n",
       "11  {'year': 2014, 'month': 12, 'day': 27}   \n",
       "12   {'year': 2013, 'month': 9, 'day': 27}   \n",
       "13  {'year': 2013, 'month': 11, 'day': 27}   \n",
       "14   {'year': 2014, 'month': 7, 'day': 27}   \n",
       "15   {'year': 2015, 'month': 2, 'day': 27}   \n",
       "16   {'year': 2014, 'month': 3, 'day': 27}   \n",
       "17   {'year': 2016, 'month': 2, 'day': 27}   \n",
       "18   {'year': 2016, 'month': 2, 'day': 27}   \n",
       "19   {'year': 2016, 'month': 3, 'day': 27}   \n",
       "20   {'year': 1994, 'month': 4, 'day': 27}   \n",
       "21   {'year': 1994, 'month': 5, 'day': 27}   \n",
       "22   {'year': 1995, 'month': 5, 'day': 27}   \n",
       "23   {'year': 2019, 'month': 6, 'day': 27}   \n",
       "24   {'year': 2019, 'month': 7, 'day': 27}   \n",
       "25   {'year': 2019, 'month': 9, 'day': 27}   \n",
       "26  {'year': 2019, 'month': 11, 'day': 27}   \n",
       "27  {'year': 2019, 'month': 12, 'day': 27}   \n",
       "28   {'year': 2020, 'month': 2, 'day': 27}   \n",
       "29   {'year': 2001, 'month': 1, 'day': 27}   \n",
       "30   {'year': 2001, 'month': 2, 'day': 27}   \n",
       "31   {'year': 2001, 'month': 4, 'day': 27}   \n",
       "32   {'year': 2002, 'month': 5, 'day': 27}   \n",
       "33   {'year': 2007, 'month': 6, 'day': 27}   \n",
       "34   {'year': 2007, 'month': 8, 'day': 27}   \n",
       "35   {'year': 1999, 'month': 1, 'day': 27}   \n",
       "36   {'year': 1999, 'month': 4, 'day': 27}   \n",
       "37   {'year': 1999, 'month': 6, 'day': 27}   \n",
       "38  {'year': 2008, 'month': 12, 'day': 27}   \n",
       "39   {'year': 1999, 'month': 5, 'day': 27}   \n",
       "40  {'year': 1994, 'month': 10, 'day': 27}   \n",
       "41   {'year': 1994, 'month': 7, 'day': 27}   \n",
       "42   {'year': 2017, 'month': 7, 'day': 27}   \n",
       "43   {'year': 2017, 'month': 9, 'day': 27}   \n",
       "44   {'year': 2018, 'month': 1, 'day': 27}   \n",
       "45   {'year': 2018, 'month': 2, 'day': 27}   \n",
       "46   {'year': 2018, 'month': 6, 'day': 27}   \n",
       "47   {'year': 2018, 'month': 7, 'day': 27}   \n",
       "48  {'year': 2018, 'month': 10, 'day': 27}   \n",
       "49  {'year': 2018, 'month': 12, 'day': 27}   \n",
       "50   {'year': 2019, 'month': 3, 'day': 27}   \n",
       "\n",
       "                         last-flight_date  \\\n",
       "0    {'year': 2023, 'month': 5, 'day': 1}   \n",
       "1    {'year': 2023, 'month': 5, 'day': 1}   \n",
       "2    {'year': 2023, 'month': 5, 'day': 1}   \n",
       "3    {'year': 2023, 'month': 5, 'day': 1}   \n",
       "4    {'year': 2023, 'month': 4, 'day': 1}   \n",
       "5    {'year': 2023, 'month': 5, 'day': 1}   \n",
       "6    {'year': 2023, 'month': 5, 'day': 1}   \n",
       "7    {'year': 2023, 'month': 5, 'day': 1}   \n",
       "8    {'year': 2023, 'month': 5, 'day': 1}   \n",
       "9    {'year': 2023, 'month': 5, 'day': 1}   \n",
       "10   {'year': 2023, 'month': 5, 'day': 1}   \n",
       "11                                    NaN   \n",
       "12   {'year': 2023, 'month': 5, 'day': 1}   \n",
       "13   {'year': 2023, 'month': 5, 'day': 1}   \n",
       "14   {'year': 2023, 'month': 5, 'day': 1}   \n",
       "15   {'year': 2023, 'month': 5, 'day': 1}   \n",
       "16   {'year': 2023, 'month': 5, 'day': 1}   \n",
       "17   {'year': 2023, 'month': 5, 'day': 1}   \n",
       "18   {'year': 2023, 'month': 5, 'day': 1}   \n",
       "19   {'year': 2023, 'month': 5, 'day': 1}   \n",
       "20  {'year': 2019, 'month': 10, 'day': 1}   \n",
       "21   {'year': 2019, 'month': 7, 'day': 1}   \n",
       "22  {'year': 2019, 'month': 11, 'day': 1}   \n",
       "23   {'year': 2023, 'month': 5, 'day': 1}   \n",
       "24   {'year': 2023, 'month': 5, 'day': 1}   \n",
       "25   {'year': 2023, 'month': 5, 'day': 1}   \n",
       "26   {'year': 2023, 'month': 5, 'day': 1}   \n",
       "27   {'year': 2023, 'month': 5, 'day': 1}   \n",
       "28   {'year': 2023, 'month': 5, 'day': 1}   \n",
       "29   {'year': 2020, 'month': 9, 'day': 1}   \n",
       "30   {'year': 2023, 'month': 5, 'day': 1}   \n",
       "31   {'year': 2020, 'month': 6, 'day': 1}   \n",
       "32   {'year': 2023, 'month': 5, 'day': 1}   \n",
       "33   {'year': 2020, 'month': 7, 'day': 1}   \n",
       "34   {'year': 2023, 'month': 5, 'day': 1}   \n",
       "35   {'year': 2021, 'month': 9, 'day': 1}   \n",
       "36   {'year': 2023, 'month': 5, 'day': 1}   \n",
       "37   {'year': 2023, 'month': 4, 'day': 1}   \n",
       "38   {'year': 2023, 'month': 5, 'day': 1}   \n",
       "39   {'year': 2019, 'month': 9, 'day': 1}   \n",
       "40  {'year': 2017, 'month': 12, 'day': 1}   \n",
       "41   {'year': 2019, 'month': 7, 'day': 1}   \n",
       "42   {'year': 2023, 'month': 5, 'day': 1}   \n",
       "43   {'year': 2023, 'month': 5, 'day': 1}   \n",
       "44   {'year': 2023, 'month': 5, 'day': 1}   \n",
       "45   {'year': 2023, 'month': 5, 'day': 1}   \n",
       "46   {'year': 2023, 'month': 5, 'day': 1}   \n",
       "47   {'year': 2023, 'month': 5, 'day': 1}   \n",
       "48   {'year': 2023, 'month': 5, 'day': 1}   \n",
       "49   {'year': 2023, 'month': 5, 'day': 1}   \n",
       "50   {'year': 2023, 'month': 5, 'day': 1}   \n",
       "\n",
       "                                                seats  \\\n",
       "0                {'Business': '16', 'Economy': '138'}   \n",
       "1                {'Business': '16', 'Economy': '138'}   \n",
       "2                {'Business': '16', 'Economy': '138'}   \n",
       "3                    {'Eco+': '36', 'Economy': '144'}   \n",
       "4                {'Business': '16', 'Economy': '150'}   \n",
       "5                                  {'Economy': '180'}   \n",
       "6                {'Business': '16', 'Economy': '138'}   \n",
       "7                {'Business': '16', 'Economy': '138'}   \n",
       "8                    {'Eco+': '36', 'Economy': '144'}   \n",
       "9                                  {'Economy': '185'}   \n",
       "10                   {'Eco+': '36', 'Economy': '144'}   \n",
       "11               {'Business': '16', 'Economy': '150'}   \n",
       "12               {'Business': '16', 'Economy': '156'}   \n",
       "13               {'Business': '16', 'Economy': '156'}   \n",
       "14               {'Business': '16', 'Economy': '156'}   \n",
       "15               {'Business': '16', 'Economy': '156'}   \n",
       "16               {'Business': '16', 'Economy': '156'}   \n",
       "17               {'Business': '16', 'Economy': '159'}   \n",
       "18               {'Business': '16', 'Economy': '156'}   \n",
       "19               {'Business': '16', 'Economy': '156'}   \n",
       "20  {'First': '8', 'Business': '47', 'Eco+': '34',...   \n",
       "21  {'First': '8', 'Business': '47', 'Eco+': '34',...   \n",
       "22  {'First': '8', 'Business': '47', 'Eco+': '34',...   \n",
       "23  {'Business': '32', 'Eco+': '28', 'Economy': '2...   \n",
       "24  {'Business': '32', 'Eco+': '28', 'Economy': '2...   \n",
       "25  {'Business': '32', 'Eco+': '28', 'Economy': '2...   \n",
       "26  {'Business': '20', 'Eco+': '35', 'Economy': '1...   \n",
       "27  {'Business': '20', 'Eco+': '35', 'Economy': '1...   \n",
       "28  {'Business': '20', 'Eco+': '35', 'Economy': '1...   \n",
       "29  {'First': '6', 'Business': '35', 'Eco+': '34',...   \n",
       "30  {'First': '6', 'Business': '35', 'Eco+': '34',...   \n",
       "31  {'First': '6', 'Business': '35', 'Eco+': '34',...   \n",
       "32  {'First': '6', 'Business': '35', 'Eco+': '34',...   \n",
       "33  {'First': '6', 'Business': '35', 'Eco+': '34',...   \n",
       "34  {'First': '6', 'Business': '35', 'Eco+': '34',...   \n",
       "35               {'Business': '16', 'Economy': '138'}   \n",
       "36               {'Business': '16', 'Economy': '138'}   \n",
       "37               {'Business': '16', 'Economy': '138'}   \n",
       "38               {'Business': '16', 'Economy': '138'}   \n",
       "39  {'First': '8', 'Business': '47', 'Eco+': '34',...   \n",
       "40  {'First': '12', 'Business': '50', 'Eco+': '39'...   \n",
       "41                                                NaN   \n",
       "42  {'Business': '32', 'Eco+': '28', 'Economy': '2...   \n",
       "43  {'Business': '32', 'Eco+': '28', 'Economy': '2...   \n",
       "44  {'Business': '32', 'Eco+': '35', 'Economy': '2...   \n",
       "45  {'Business': '32', 'Eco+': '28', 'Economy': '2...   \n",
       "46  {'Business': '32', 'Eco+': '28', 'Economy': '2...   \n",
       "47  {'Business': '32', 'Eco+': '28', 'Economy': '2...   \n",
       "48  {'Business': '32', 'Eco+': '28', 'Economy': '2...   \n",
       "49  {'Business': '32', 'Eco+': '28', 'Economy': '2...   \n",
       "50  {'Business': '32', 'Eco+': '28', 'Economy': '2...   \n",
       "\n",
       "                         last_scanned_date  \n",
       "0    {'year': 2016, 'month': 6, 'day': 25}  \n",
       "1    {'year': 2016, 'month': 9, 'day': 26}  \n",
       "2   {'year': 2016, 'month': 10, 'day': 27}  \n",
       "3   {'year': 2016, 'month': 10, 'day': 27}  \n",
       "4    {'year': 2017, 'month': 5, 'day': 26}  \n",
       "5    {'year': 2017, 'month': 8, 'day': 24}  \n",
       "6   {'year': 2016, 'month': 12, 'day': 27}  \n",
       "7     {'year': 2016, 'month': 4, 'day': 1}  \n",
       "8     {'year': 2015, 'month': 6, 'day': 4}  \n",
       "9     {'year': 2015, 'month': 6, 'day': 4}  \n",
       "10    {'year': 2015, 'month': 8, 'day': 2}  \n",
       "11    {'year': 2016, 'month': 4, 'day': 2}  \n",
       "12    {'year': 2016, 'month': 1, 'day': 2}  \n",
       "13    {'year': 2016, 'month': 3, 'day': 3}  \n",
       "14   {'year': 2015, 'month': 11, 'day': 1}  \n",
       "15    {'year': 2015, 'month': 6, 'day': 4}  \n",
       "16    {'year': 2015, 'month': 7, 'day': 3}  \n",
       "17    {'year': 2016, 'month': 6, 'day': 4}  \n",
       "18    {'year': 2016, 'month': 6, 'day': 4}  \n",
       "19    {'year': 2016, 'month': 7, 'day': 3}  \n",
       "20    {'year': 2015, 'month': 8, 'day': 4}  \n",
       "21    {'year': 2015, 'month': 9, 'day': 3}  \n",
       "22    {'year': 2015, 'month': 9, 'day': 3}  \n",
       "23    {'year': 2019, 'month': 7, 'day': 5}  \n",
       "24    {'year': 2019, 'month': 8, 'day': 4}  \n",
       "25   {'year': 2019, 'month': 10, 'day': 5}  \n",
       "26   {'year': 2019, 'month': 12, 'day': 5}  \n",
       "27    {'year': 2020, 'month': 1, 'day': 4}  \n",
       "28    {'year': 2015, 'month': 3, 'day': 6}  \n",
       "29    {'year': 2015, 'month': 2, 'day': 3}  \n",
       "30    {'year': 2015, 'month': 3, 'day': 6}  \n",
       "31    {'year': 2015, 'month': 5, 'day': 4}  \n",
       "32    {'year': 2015, 'month': 6, 'day': 3}  \n",
       "33    {'year': 2015, 'month': 7, 'day': 4}  \n",
       "34    {'year': 2015, 'month': 9, 'day': 3}  \n",
       "35    {'year': 2015, 'month': 2, 'day': 3}  \n",
       "36    {'year': 2015, 'month': 5, 'day': 5}  \n",
       "37    {'year': 2015, 'month': 7, 'day': 6}  \n",
       "38    {'year': 2016, 'month': 1, 'day': 5}  \n",
       "39    {'year': 2015, 'month': 6, 'day': 6}  \n",
       "40   {'year': 2015, 'month': 11, 'day': 6}  \n",
       "41    {'year': 2015, 'month': 8, 'day': 6}  \n",
       "42    {'year': 2017, 'month': 8, 'day': 6}  \n",
       "43   {'year': 2017, 'month': 10, 'day': 7}  \n",
       "44    {'year': 2018, 'month': 2, 'day': 6}  \n",
       "45    {'year': 2018, 'month': 3, 'day': 9}  \n",
       "46    {'year': 2018, 'month': 7, 'day': 7}  \n",
       "47    {'year': 2018, 'month': 8, 'day': 7}  \n",
       "48   {'year': 2018, 'month': 11, 'day': 7}  \n",
       "49    {'year': 2019, 'month': 1, 'day': 7}  \n",
       "50    {'year': 2019, 'month': 4, 'day': 8}  "
      ]
     },
     "execution_count": 1958,
     "metadata": {},
     "output_type": "execute_result"
    }
   ],
   "source": [
    "def get_airrcrafts_data_as_dataframe():\n",
    "    aircrafts_list = get_aircrafts_full_information()\n",
    "    df = pd.DataFrame(aircrafts_list)\n",
    "    return df\n",
    "aircrafts_df = get_airrcrafts_data_as_dataframe()\n",
    "aircrafts_df"
   ]
  },
  {
   "attachments": {},
   "cell_type": "markdown",
   "metadata": {},
   "source": [
    "## Start to collect data about flight "
   ]
  },
  {
   "attachments": {},
   "cell_type": "markdown",
   "metadata": {},
   "source": [
    "Define function that collect data about aircraft between 2 dates"
   ]
  },
  {
   "attachments": {},
   "cell_type": "markdown",
   "metadata": {},
   "source": [
    "we use date as dict in the formate:\n",
    "{\n",
    "    'year' : YYYY,\n",
    "    'month' : MM,\n",
    "    'day' : DD\n",
    "}"
   ]
  },
  {
   "cell_type": "code",
   "execution_count": 1959,
   "metadata": {},
   "outputs": [],
   "source": [
    "def get_dates_between(start_date, end_date):\n",
    "    delta = end_date - start_date      \n",
    "    date_list = []                     \n",
    "    \n",
    "    for i in range(delta.days + 1):     \n",
    "        date_list.append(start_date + timedelta(days=i))   \n",
    "    \n",
    "    return date_list"
   ]
  },
  {
   "cell_type": "code",
   "execution_count": 1960,
   "metadata": {},
   "outputs": [],
   "source": [
    "def get_aircraft_flights_from_api(tail_number,max_number_of_days,days_per_request,limit_date = None,):\n",
    "    aircrafts_list = get_aircrafts_full_information()\n",
    "    flights_list = []\n",
    "    if(os.path.exists(FLIGHT_Data_FILE)):\n",
    "        flights_list = load_object_from_file(FLIGHT_Data_FILE)\n",
    "    print('Collectiong '+tail_number+' flights')\n",
    "    for aircraft in aircrafts_list:\n",
    "        if(aircraft[TAIL_NUMBER_FEILD_NAME] == tail_number):\n",
    "            first_flight_date_dict = None\n",
    "            last_flight_date_dict = None\n",
    "            first_flight_date = datetime(2000,1,27)\n",
    "            last_flight_date = datetime.today()\n",
    "            \n",
    "            if(LAST_SCANNED__DATE_FEILD_NAME in aircraft):\n",
    "                first_flight_date_dict = aircraft[LAST_SCANNED__DATE_FEILD_NAME]\n",
    "\n",
    "            if(limit_date):\n",
    "                last_flight_date = limit_date\n",
    "\n",
    "            elif(LAST_FLIGHT_DATE_FEILD_NAME in aircraft):\n",
    "                last_flight_date_dict = aircraft[LAST_FLIGHT_DATE_FEILD_NAME]\n",
    "\n",
    "            if(first_flight_date_dict):\n",
    "                first_flight_date = datetime(int(first_flight_date_dict['year']), int(first_flight_date_dict['month']),int(first_flight_date_dict['day']) )\n",
    "            \n",
    "            if(last_flight_date_dict):\n",
    "                last_flight_date = datetime(int(last_flight_date_dict['year']),int(last_flight_date_dict['month']),int(last_flight_date_dict['day']) )\n",
    "            for current_date in (get_dates_between(first_flight_date,last_flight_date)[:max_number_of_days:days_per_request]):\n",
    "                #print(tail_number+' '+str(current_date))\n",
    "                new_flights , error = get_Flight_by_date_and_tail_number(current_date,tail_number.upper(),days_per_request)\n",
    "                if(new_flights != None):\n",
    "                    flights_list = load_object_from_file(FLIGHT_Data_FILE)\n",
    "                    flights_list.extend(new_flights)\n",
    "                    store_data_to_aircrafts_file(aircraft[TAIL_NUMBER_FEILD_NAME],LAST_SCANNED__DATE_FEILD_NAME,convert_daytime_to_dict(current_date + timedelta(1)))\n",
    "                    store_object_to_file(FLIGHT_Data_FILE,flights_list)\n",
    "                else:\n",
    "                    store_object_to_file(FLIGHT_Data_FILE,flights_list)\n",
    "                    return flights_list , error\n",
    "                    \n",
    "            return flights_list , error\n",
    "\n"
   ]
  },
  {
   "cell_type": "code",
   "execution_count": 1961,
   "metadata": {},
   "outputs": [],
   "source": [
    "def get_all_aricrafts_flights(max_number_of_days,days_per_request):\n",
    "    aircrafts_list = get_aircrafts_full_information()\n",
    "    for aircraft in aircrafts_list:\n",
    "        flights , error =get_aircraft_flights_from_api(aircraft[TAIL_NUMBER_FEILD_NAME],max_number_of_days,days_per_request)\n",
    "        if(error):\n",
    "            print(error)\n",
    "            break\n",
    "    return load_object_from_file(FLIGHT_Data_FILE)"
   ]
  },
  {
   "cell_type": "code",
   "execution_count": 1962,
   "metadata": {},
   "outputs": [],
   "source": [
    "# for i in range(1):\n",
    "#     flights_list = get_all_aricrafts_flights(max_number_of_days=30,days_per_request=30)\n",
    "#     len(flights_list)"
   ]
  },
  {
   "cell_type": "code",
   "execution_count": 1963,
   "metadata": {},
   "outputs": [],
   "source": [
    "# t = load_object_from_file(AIRCRAFTS_DATA_FILE)\n",
    "# for ac in t:\n",
    "#     ac[LAST_SCANNED__DATE_FEILD_NAME] = ac[FIRST_FLIGHT_DATE_FEILD_NAME]\n",
    "# store_object_to_file(AIRCRAFTS_DATA_FILE,t)"
   ]
  },
  {
   "attachments": {},
   "cell_type": "markdown",
   "metadata": {},
   "source": [
    "# Data Exporation"
   ]
  },
  {
   "attachments": {},
   "cell_type": "markdown",
   "metadata": {},
   "source": [
    "## Intert all flights data into dataframe"
   ]
  },
  {
   "cell_type": "code",
   "execution_count": 1964,
   "metadata": {},
   "outputs": [],
   "source": [
    "def get_flights_dataframe():\n",
    "    flights = load_object_from_file(FLIGHT_Data_FILE)\n",
    "    return pd.DataFrame(flights)\n"
   ]
  },
  {
   "attachments": {},
   "cell_type": "markdown",
   "metadata": {},
   "source": [
    "## Preview the fights data"
   ]
  },
  {
   "cell_type": "code",
   "execution_count": 1965,
   "metadata": {},
   "outputs": [],
   "source": [
    "flights_df = get_flights_dataframe()"
   ]
  },
  {
   "cell_type": "code",
   "execution_count": 1966,
   "metadata": {},
   "outputs": [
    {
     "data": {
      "text/html": [
       "<div>\n",
       "<style scoped>\n",
       "    .dataframe tbody tr th:only-of-type {\n",
       "        vertical-align: middle;\n",
       "    }\n",
       "\n",
       "    .dataframe tbody tr th {\n",
       "        vertical-align: top;\n",
       "    }\n",
       "\n",
       "    .dataframe thead th {\n",
       "        text-align: right;\n",
       "    }\n",
       "</style>\n",
       "<table border=\"1\" class=\"dataframe\">\n",
       "  <thead>\n",
       "    <tr style=\"text-align: right;\">\n",
       "      <th></th>\n",
       "      <th>flightId</th>\n",
       "      <th>carrierFsCode</th>\n",
       "      <th>operatingCarrierFsCode</th>\n",
       "      <th>primaryCarrierFsCode</th>\n",
       "      <th>flightNumber</th>\n",
       "      <th>departureAirportFsCode</th>\n",
       "      <th>arrivalAirportFsCode</th>\n",
       "      <th>departureDate</th>\n",
       "      <th>arrivalDate</th>\n",
       "      <th>status</th>\n",
       "      <th>schedule</th>\n",
       "      <th>operationalTimes</th>\n",
       "      <th>codeshares</th>\n",
       "      <th>delays</th>\n",
       "      <th>flightDurations</th>\n",
       "      <th>airportResources</th>\n",
       "      <th>flightEquipment</th>\n",
       "      <th>irregularOperations</th>\n",
       "      <th>divertedAirportFsCode</th>\n",
       "    </tr>\n",
       "  </thead>\n",
       "  <tbody>\n",
       "    <tr>\n",
       "      <th>0</th>\n",
       "      <td>733567496</td>\n",
       "      <td>LY</td>\n",
       "      <td>LY</td>\n",
       "      <td>LY</td>\n",
       "      <td>381</td>\n",
       "      <td>TLV</td>\n",
       "      <td>MXP</td>\n",
       "      <td>{'dateUtc': '2016-06-24T04:45:00.000Z', 'dateL...</td>\n",
       "      <td>{'dateUtc': '2016-06-24T09:00:00.000Z', 'dateL...</td>\n",
       "      <td>L</td>\n",
       "      <td>{'flightType': 'J', 'serviceClasses': 'RJY', '...</td>\n",
       "      <td>{'publishedDeparture': {'dateUtc': '2016-06-24...</td>\n",
       "      <td>[{'fsCode': 'AA', 'flightNumber': '8385', 'rel...</td>\n",
       "      <td>{'arrivalGateDelayMinutes': 22}</td>\n",
       "      <td>{'scheduledBlockMinutes': 255, 'airMinutes': 2...</td>\n",
       "      <td>{'departureTerminal': '3', 'arrivalTerminal': ...</td>\n",
       "      <td>{'scheduledEquipmentIataCode': '738', 'actualE...</td>\n",
       "      <td>[]</td>\n",
       "      <td>NaN</td>\n",
       "    </tr>\n",
       "    <tr>\n",
       "      <th>1</th>\n",
       "      <td>733541284</td>\n",
       "      <td>LY</td>\n",
       "      <td>LY</td>\n",
       "      <td>LY</td>\n",
       "      <td>382</td>\n",
       "      <td>MXP</td>\n",
       "      <td>TLV</td>\n",
       "      <td>{'dateUtc': '2016-06-24T10:05:00.000Z', 'dateL...</td>\n",
       "      <td>{'dateUtc': '2016-06-24T13:55:00.000Z', 'dateL...</td>\n",
       "      <td>L</td>\n",
       "      <td>{'flightType': 'J', 'serviceClasses': 'RJY', '...</td>\n",
       "      <td>{'publishedDeparture': {'dateUtc': '2016-06-24...</td>\n",
       "      <td>[]</td>\n",
       "      <td>{'departureGateDelayMinutes': 20}</td>\n",
       "      <td>{'scheduledBlockMinutes': 230, 'airMinutes': 2...</td>\n",
       "      <td>{'departureTerminal': '1', 'departureGate': 'B...</td>\n",
       "      <td>{'scheduledEquipmentIataCode': '738', 'actualE...</td>\n",
       "      <td>[]</td>\n",
       "      <td>NaN</td>\n",
       "    </tr>\n",
       "    <tr>\n",
       "      <th>2</th>\n",
       "      <td>734066084</td>\n",
       "      <td>LY</td>\n",
       "      <td>LY</td>\n",
       "      <td>LY</td>\n",
       "      <td>553</td>\n",
       "      <td>TLV</td>\n",
       "      <td>SOF</td>\n",
       "      <td>{'dateUtc': '2016-06-25T18:30:00.000Z', 'dateL...</td>\n",
       "      <td>{'dateUtc': '2016-06-25T21:15:00.000Z', 'dateL...</td>\n",
       "      <td>L</td>\n",
       "      <td>{'flightType': 'J', 'serviceClasses': 'RJY', '...</td>\n",
       "      <td>{'publishedDeparture': {'dateUtc': '2016-06-25...</td>\n",
       "      <td>[]</td>\n",
       "      <td>{}</td>\n",
       "      <td>{'scheduledBlockMinutes': 165, 'blockMinutes':...</td>\n",
       "      <td>{'departureTerminal': '3', 'arrivalTerminal': ...</td>\n",
       "      <td>{'scheduledEquipmentIataCode': '738', 'actualE...</td>\n",
       "      <td>[]</td>\n",
       "      <td>NaN</td>\n",
       "    </tr>\n",
       "    <tr>\n",
       "      <th>3</th>\n",
       "      <td>734572239</td>\n",
       "      <td>LY</td>\n",
       "      <td>LY</td>\n",
       "      <td>LY</td>\n",
       "      <td>554</td>\n",
       "      <td>SOF</td>\n",
       "      <td>TLV</td>\n",
       "      <td>{'dateUtc': '2016-06-25T22:15:00.000Z', 'dateL...</td>\n",
       "      <td>{'dateUtc': '2016-06-26T00:40:00.000Z', 'dateL...</td>\n",
       "      <td>L</td>\n",
       "      <td>{'flightType': 'J', 'serviceClasses': 'RJY', '...</td>\n",
       "      <td>{'publishedDeparture': {'dateUtc': '2016-06-25...</td>\n",
       "      <td>[]</td>\n",
       "      <td>{'departureGateDelayMinutes': 3, 'arrivalGateD...</td>\n",
       "      <td>{'scheduledBlockMinutes': 145, 'blockMinutes':...</td>\n",
       "      <td>{'departureTerminal': '2', 'departureGate': 'A...</td>\n",
       "      <td>{'scheduledEquipmentIataCode': '738', 'actualE...</td>\n",
       "      <td>[]</td>\n",
       "      <td>NaN</td>\n",
       "    </tr>\n",
       "    <tr>\n",
       "      <th>4</th>\n",
       "      <td>734577241</td>\n",
       "      <td>LY</td>\n",
       "      <td>LY</td>\n",
       "      <td>LY</td>\n",
       "      <td>381</td>\n",
       "      <td>TLV</td>\n",
       "      <td>MXP</td>\n",
       "      <td>{'dateUtc': '2016-06-26T04:45:00.000Z', 'dateL...</td>\n",
       "      <td>{'dateUtc': '2016-06-26T09:00:00.000Z', 'dateL...</td>\n",
       "      <td>L</td>\n",
       "      <td>{'flightType': 'J', 'serviceClasses': 'RJY', '...</td>\n",
       "      <td>{'publishedDeparture': {'dateUtc': '2016-06-26...</td>\n",
       "      <td>[{'fsCode': 'AA', 'flightNumber': '8385', 'rel...</td>\n",
       "      <td>{'arrivalGateDelayMinutes': 188}</td>\n",
       "      <td>{'scheduledBlockMinutes': 255}</td>\n",
       "      <td>{'departureTerminal': '3', 'arrivalTerminal': ...</td>\n",
       "      <td>{'scheduledEquipmentIataCode': '738', 'actualE...</td>\n",
       "      <td>[]</td>\n",
       "      <td>NaN</td>\n",
       "    </tr>\n",
       "  </tbody>\n",
       "</table>\n",
       "</div>"
      ],
      "text/plain": [
       "    flightId carrierFsCode operatingCarrierFsCode primaryCarrierFsCode  \\\n",
       "0  733567496            LY                     LY                   LY   \n",
       "1  733541284            LY                     LY                   LY   \n",
       "2  734066084            LY                     LY                   LY   \n",
       "3  734572239            LY                     LY                   LY   \n",
       "4  734577241            LY                     LY                   LY   \n",
       "\n",
       "  flightNumber departureAirportFsCode arrivalAirportFsCode  \\\n",
       "0          381                    TLV                  MXP   \n",
       "1          382                    MXP                  TLV   \n",
       "2          553                    TLV                  SOF   \n",
       "3          554                    SOF                  TLV   \n",
       "4          381                    TLV                  MXP   \n",
       "\n",
       "                                       departureDate  \\\n",
       "0  {'dateUtc': '2016-06-24T04:45:00.000Z', 'dateL...   \n",
       "1  {'dateUtc': '2016-06-24T10:05:00.000Z', 'dateL...   \n",
       "2  {'dateUtc': '2016-06-25T18:30:00.000Z', 'dateL...   \n",
       "3  {'dateUtc': '2016-06-25T22:15:00.000Z', 'dateL...   \n",
       "4  {'dateUtc': '2016-06-26T04:45:00.000Z', 'dateL...   \n",
       "\n",
       "                                         arrivalDate status  \\\n",
       "0  {'dateUtc': '2016-06-24T09:00:00.000Z', 'dateL...      L   \n",
       "1  {'dateUtc': '2016-06-24T13:55:00.000Z', 'dateL...      L   \n",
       "2  {'dateUtc': '2016-06-25T21:15:00.000Z', 'dateL...      L   \n",
       "3  {'dateUtc': '2016-06-26T00:40:00.000Z', 'dateL...      L   \n",
       "4  {'dateUtc': '2016-06-26T09:00:00.000Z', 'dateL...      L   \n",
       "\n",
       "                                            schedule  \\\n",
       "0  {'flightType': 'J', 'serviceClasses': 'RJY', '...   \n",
       "1  {'flightType': 'J', 'serviceClasses': 'RJY', '...   \n",
       "2  {'flightType': 'J', 'serviceClasses': 'RJY', '...   \n",
       "3  {'flightType': 'J', 'serviceClasses': 'RJY', '...   \n",
       "4  {'flightType': 'J', 'serviceClasses': 'RJY', '...   \n",
       "\n",
       "                                    operationalTimes  \\\n",
       "0  {'publishedDeparture': {'dateUtc': '2016-06-24...   \n",
       "1  {'publishedDeparture': {'dateUtc': '2016-06-24...   \n",
       "2  {'publishedDeparture': {'dateUtc': '2016-06-25...   \n",
       "3  {'publishedDeparture': {'dateUtc': '2016-06-25...   \n",
       "4  {'publishedDeparture': {'dateUtc': '2016-06-26...   \n",
       "\n",
       "                                          codeshares  \\\n",
       "0  [{'fsCode': 'AA', 'flightNumber': '8385', 'rel...   \n",
       "1                                                 []   \n",
       "2                                                 []   \n",
       "3                                                 []   \n",
       "4  [{'fsCode': 'AA', 'flightNumber': '8385', 'rel...   \n",
       "\n",
       "                                              delays  \\\n",
       "0                    {'arrivalGateDelayMinutes': 22}   \n",
       "1                  {'departureGateDelayMinutes': 20}   \n",
       "2                                                 {}   \n",
       "3  {'departureGateDelayMinutes': 3, 'arrivalGateD...   \n",
       "4                   {'arrivalGateDelayMinutes': 188}   \n",
       "\n",
       "                                     flightDurations  \\\n",
       "0  {'scheduledBlockMinutes': 255, 'airMinutes': 2...   \n",
       "1  {'scheduledBlockMinutes': 230, 'airMinutes': 2...   \n",
       "2  {'scheduledBlockMinutes': 165, 'blockMinutes':...   \n",
       "3  {'scheduledBlockMinutes': 145, 'blockMinutes':...   \n",
       "4                     {'scheduledBlockMinutes': 255}   \n",
       "\n",
       "                                    airportResources  \\\n",
       "0  {'departureTerminal': '3', 'arrivalTerminal': ...   \n",
       "1  {'departureTerminal': '1', 'departureGate': 'B...   \n",
       "2  {'departureTerminal': '3', 'arrivalTerminal': ...   \n",
       "3  {'departureTerminal': '2', 'departureGate': 'A...   \n",
       "4  {'departureTerminal': '3', 'arrivalTerminal': ...   \n",
       "\n",
       "                                     flightEquipment irregularOperations  \\\n",
       "0  {'scheduledEquipmentIataCode': '738', 'actualE...                  []   \n",
       "1  {'scheduledEquipmentIataCode': '738', 'actualE...                  []   \n",
       "2  {'scheduledEquipmentIataCode': '738', 'actualE...                  []   \n",
       "3  {'scheduledEquipmentIataCode': '738', 'actualE...                  []   \n",
       "4  {'scheduledEquipmentIataCode': '738', 'actualE...                  []   \n",
       "\n",
       "  divertedAirportFsCode  \n",
       "0                   NaN  \n",
       "1                   NaN  \n",
       "2                   NaN  \n",
       "3                   NaN  \n",
       "4                   NaN  "
      ]
     },
     "execution_count": 1966,
     "metadata": {},
     "output_type": "execute_result"
    }
   ],
   "source": [
    "\n",
    "flights_df.head()"
   ]
  },
  {
   "cell_type": "code",
   "execution_count": 1967,
   "metadata": {},
   "outputs": [
    {
     "name": "stdout",
     "output_type": "stream",
     "text": [
      "<class 'pandas.core.frame.DataFrame'>\n",
      "RangeIndex: 15907 entries, 0 to 15906\n",
      "Data columns (total 19 columns):\n",
      " #   Column                  Non-Null Count  Dtype \n",
      "---  ------                  --------------  ----- \n",
      " 0   flightId                15907 non-null  int64 \n",
      " 1   carrierFsCode           15907 non-null  object\n",
      " 2   operatingCarrierFsCode  15907 non-null  object\n",
      " 3   primaryCarrierFsCode    15907 non-null  object\n",
      " 4   flightNumber            15907 non-null  object\n",
      " 5   departureAirportFsCode  15907 non-null  object\n",
      " 6   arrivalAirportFsCode    15907 non-null  object\n",
      " 7   departureDate           15907 non-null  object\n",
      " 8   arrivalDate             15907 non-null  object\n",
      " 9   status                  15907 non-null  object\n",
      " 10  schedule                15681 non-null  object\n",
      " 11  operationalTimes        15907 non-null  object\n",
      " 12  codeshares              15907 non-null  object\n",
      " 13  delays                  15907 non-null  object\n",
      " 14  flightDurations         15907 non-null  object\n",
      " 15  airportResources        15907 non-null  object\n",
      " 16  flightEquipment         15907 non-null  object\n",
      " 17  irregularOperations     15907 non-null  object\n",
      " 18  divertedAirportFsCode   32 non-null     object\n",
      "dtypes: int64(1), object(18)\n",
      "memory usage: 2.3+ MB\n"
     ]
    }
   ],
   "source": [
    "flights_df.info()"
   ]
  },
  {
   "cell_type": "code",
   "execution_count": 1968,
   "metadata": {},
   "outputs": [
    {
     "data": {
      "text/html": [
       "<div>\n",
       "<style scoped>\n",
       "    .dataframe tbody tr th:only-of-type {\n",
       "        vertical-align: middle;\n",
       "    }\n",
       "\n",
       "    .dataframe tbody tr th {\n",
       "        vertical-align: top;\n",
       "    }\n",
       "\n",
       "    .dataframe thead th {\n",
       "        text-align: right;\n",
       "    }\n",
       "</style>\n",
       "<table border=\"1\" class=\"dataframe\">\n",
       "  <thead>\n",
       "    <tr style=\"text-align: right;\">\n",
       "      <th></th>\n",
       "      <th>flightId</th>\n",
       "    </tr>\n",
       "  </thead>\n",
       "  <tbody>\n",
       "    <tr>\n",
       "      <th>count</th>\n",
       "      <td>1.590700e+04</td>\n",
       "    </tr>\n",
       "    <tr>\n",
       "      <th>mean</th>\n",
       "      <td>9.163323e+08</td>\n",
       "    </tr>\n",
       "    <tr>\n",
       "      <th>std</th>\n",
       "      <td>1.685094e+08</td>\n",
       "    </tr>\n",
       "    <tr>\n",
       "      <th>min</th>\n",
       "      <td>6.059907e+08</td>\n",
       "    </tr>\n",
       "    <tr>\n",
       "      <th>25%</th>\n",
       "      <td>7.366493e+08</td>\n",
       "    </tr>\n",
       "    <tr>\n",
       "      <th>50%</th>\n",
       "      <td>9.654889e+08</td>\n",
       "    </tr>\n",
       "    <tr>\n",
       "      <th>75%</th>\n",
       "      <td>1.084983e+09</td>\n",
       "    </tr>\n",
       "    <tr>\n",
       "      <th>max</th>\n",
       "      <td>1.155650e+09</td>\n",
       "    </tr>\n",
       "  </tbody>\n",
       "</table>\n",
       "</div>"
      ],
      "text/plain": [
       "           flightId\n",
       "count  1.590700e+04\n",
       "mean   9.163323e+08\n",
       "std    1.685094e+08\n",
       "min    6.059907e+08\n",
       "25%    7.366493e+08\n",
       "50%    9.654889e+08\n",
       "75%    1.084983e+09\n",
       "max    1.155650e+09"
      ]
     },
     "execution_count": 1968,
     "metadata": {},
     "output_type": "execute_result"
    }
   ],
   "source": [
    "flights_df.describe()"
   ]
  },
  {
   "attachments": {},
   "cell_type": "markdown",
   "metadata": {},
   "source": [
    "## Add aircraft data into flights data"
   ]
  },
  {
   "attachments": {},
   "cell_type": "markdown",
   "metadata": {},
   "source": [
    "We can add more information ablur each flight if we merge out air craft data with the aircraft used in the spesific flight\n",
    "\n",
    "the next function add the air craft seats number dictionary as flight feature"
   ]
  },
  {
   "cell_type": "code",
   "execution_count": 1969,
   "metadata": {},
   "outputs": [],
   "source": [
    "def add_aircraft_seats_number_to_flight(flights_df, aircrafts_df):\n",
    "    flights_df[SEATS_FEILD_NAME] = aircrafts_df[SEATS_FEILD_NAME]\n",
    "    return flights_df"
   ]
  },
  {
   "cell_type": "code",
   "execution_count": 1970,
   "metadata": {},
   "outputs": [],
   "source": [
    "# flights_df =  add_aircraft_seats_number_to_flight(flights_df,aircrafts_df)\n",
    "# flights_df"
   ]
  },
  {
   "cell_type": "code",
   "execution_count": 1971,
   "metadata": {},
   "outputs": [],
   "source": [
    "def get_arrivalGateDelayMinutes(delays_dict,feild):\n",
    "    if feild in delays_dict:\n",
    "        return delays_dict[feild]\n",
    "    else:\n",
    "        return 0"
   ]
  },
  {
   "attachments": {},
   "cell_type": "markdown",
   "metadata": {},
   "source": [
    "## Clean the resived tata from th api"
   ]
  },
  {
   "attachments": {},
   "cell_type": "markdown",
   "metadata": {},
   "source": [
    "Calculate the delay time  as sum of gate delay and runway delay\n",
    "if after this calc there is na value we need drop it"
   ]
  },
  {
   "cell_type": "code",
   "execution_count": 1972,
   "metadata": {},
   "outputs": [],
   "source": [
    "def proccess_delay_column(df):\n",
    "    if not 'delays' in df: return df\n",
    "    df['departureRunwayDelayMinutes'] = df['delays'].apply(lambda dict: get_arrivalGateDelayMinutes(dict,'departureRunwayDelayMinutes'))\n",
    "    df['departureGateDelayMinutes'] = df['delays'].apply(lambda dict: get_arrivalGateDelayMinutes(dict,'departureGateDelayMinutes'))\n",
    "    df['arrivalGateDelayMinutes'] = df['delays'].apply(lambda dict: get_arrivalGateDelayMinutes(dict,'arrivalGateDelayMinutes'))\n",
    "    df['arrivalRunwayDelayMinutes'] = df['delays'].apply(lambda dict: get_arrivalGateDelayMinutes(dict,'arrivalRunwayDelayMinutes'))\n",
    "    df['delay_time'] = df['departureRunwayDelayMinutes'] + df['departureGateDelayMinutes'] + df['arrivalGateDelayMinutes'] +  df['arrivalRunwayDelayMinutes']\n",
    "    #df['delay_time']=df['delay_time'].fillna(0)\n",
    "\n",
    "    df = df.drop('departureRunwayDelayMinutes',axis = 1)\n",
    "    df = df.drop('departureGateDelayMinutes',axis = 1)\n",
    "    df = df.drop('arrivalGateDelayMinutes',axis = 1)\n",
    "    df = df.drop('arrivalRunwayDelayMinutes',axis = 1)\n",
    "    df= df.drop('delays',axis = 1)\n",
    "    return df"
   ]
  },
  {
   "cell_type": "code",
   "execution_count": 1973,
   "metadata": {},
   "outputs": [],
   "source": [
    "def get_flightModel(dict):\n",
    "    if 'actualEquipmentIataCode' in dict:\n",
    "        return dict['actualEquipmentIataCode']\n",
    "    elif 'scheduledEquipmentIataCode' in dict:\n",
    "        return dict['scheduledEquipmentIataCode']\n",
    "    return np.nan"
   ]
  },
  {
   "cell_type": "code",
   "execution_count": 1974,
   "metadata": {},
   "outputs": [],
   "source": [
    "def get_tailnumber(dict):\n",
    "    if 'tailNumber' in dict:\n",
    "        return dict['tailNumber']\n",
    "    return np.nan"
   ]
  },
  {
   "cell_type": "code",
   "execution_count": 1975,
   "metadata": {},
   "outputs": [],
   "source": [
    "def get_flight_time(dict):\n",
    "    if 'airMinutes' in dict:\n",
    "        return dict['airMinutes']\n",
    "    return np.nan"
   ]
  },
  {
   "cell_type": "code",
   "execution_count": 1976,
   "metadata": {},
   "outputs": [],
   "source": [
    "def get_departure_terminal(dict):\n",
    "    if 'departureTerminal' in dict:\n",
    "        return dict['departureTerminal']\n",
    "    return np.nan"
   ]
  },
  {
   "cell_type": "code",
   "execution_count": 1977,
   "metadata": {},
   "outputs": [],
   "source": [
    "def get_arival_terminal(dict):\n",
    "    if 'arrivalTerminal' in dict:\n",
    "        return dict['arrivalTerminal']\n",
    "    return np.nan"
   ]
  },
  {
   "cell_type": "code",
   "execution_count": 1978,
   "metadata": {},
   "outputs": [],
   "source": [
    "def get_utc_from_dict(df , col):\n",
    "    if col not in df: return df\n",
    "    df[col] = df[col].apply(lambda x: x['dateUtc'])\n",
    "    df[col] = pd.to_datetime(df[col])\n",
    "    return df"
   ]
  },
  {
   "cell_type": "code",
   "execution_count": 1979,
   "metadata": {},
   "outputs": [],
   "source": [
    "def proccess_date(df,col):\n",
    "    if col not in df: return df\n",
    "    df[col + '_year'] = df[col].dt.year\n",
    "    df[col + '_month'] = df[col].dt.month\n",
    "    df[col + '_day'] = df[col].dt.day\n",
    "    df[col + '_hour'] = df[col].dt.hour\n",
    "    df[col + '_minute'] = df[col].dt.minute\n",
    "    df = df.drop(col,axis=1)\n",
    "    return df"
   ]
  },
  {
   "cell_type": "code",
   "execution_count": 1980,
   "metadata": {},
   "outputs": [],
   "source": [
    "def extract_seat(json_str):\n",
    "    try:\n",
    "        data = json.loads(json_str)\n",
    "        return pd.Series(data)\n",
    "    except:\n",
    "        return np.nan"
   ]
  },
  {
   "cell_type": "code",
   "execution_count": 1981,
   "metadata": {},
   "outputs": [],
   "source": [
    "def extract_seats(dict,class_):\n",
    "    if class_ not in dict: return 0\n",
    "    return dict[class_]"
   ]
  },
  {
   "cell_type": "code",
   "execution_count": 1982,
   "metadata": {},
   "outputs": [],
   "source": [
    "def get_dataframe_after_prossess(df):\n",
    "    df = proccess_delay_column(df)\n",
    "    df = df.drop('status',axis = 1)\n",
    "    df = df.drop('operatingCarrierFsCode',axis = 1)\n",
    "    df = df.drop('primaryCarrierFsCode',axis = 1)\n",
    "    df = df.drop('carrierFsCode',axis = 1)\n",
    "    df = df.drop('flightId',axis = 1)\n",
    "    df = df.drop('codeshares',axis = 1)\n",
    "    df = df.drop('operationalTimes',axis = 1)\n",
    "    df = df.drop('schedule',axis = 1)\n",
    "    df = df.drop('irregularOperations',axis = 1)\n",
    "    df = df.drop('divertedAirportFsCode', axis = 1)\n",
    "    df['aircraft_model'] = df['flightEquipment'].apply(lambda x: get_flightModel(x))\n",
    "    df['tailnumber'] = df['flightEquipment'].apply(lambda x: get_tailnumber(x))\n",
    "    df = df.drop('flightEquipment',axis=1)\n",
    "    df['flights_time'] = df['flightDurations'].apply(lambda x: get_flight_time(x))\n",
    "    df = df.drop('flightDurations',axis = 1)\n",
    "    df['departureTerminal'] = df['airportResources'].apply(lambda x: get_departure_terminal(x))\n",
    "    df['arrivalTerminal'] = df['airportResources'].apply(lambda x: get_arival_terminal(x))\n",
    "    df = df.drop('airportResources',axis=1)\n",
    "    df = get_utc_from_dict(df,'departureDate')\n",
    "    df = get_utc_from_dict(df,'arrivalDate')\n",
    "        \n",
    "    #df = pd.get_dummies(df,'aircraft_model')\n",
    "\n",
    "    return df"
   ]
  },
  {
   "cell_type": "code",
   "execution_count": 1983,
   "metadata": {},
   "outputs": [],
   "source": [
    "flights_df = get_dataframe_after_prossess(flights_df)"
   ]
  },
  {
   "cell_type": "code",
   "execution_count": 1984,
   "metadata": {},
   "outputs": [
    {
     "data": {
      "text/html": [
       "<div>\n",
       "<style scoped>\n",
       "    .dataframe tbody tr th:only-of-type {\n",
       "        vertical-align: middle;\n",
       "    }\n",
       "\n",
       "    .dataframe tbody tr th {\n",
       "        vertical-align: top;\n",
       "    }\n",
       "\n",
       "    .dataframe thead th {\n",
       "        text-align: right;\n",
       "    }\n",
       "</style>\n",
       "<table border=\"1\" class=\"dataframe\">\n",
       "  <thead>\n",
       "    <tr style=\"text-align: right;\">\n",
       "      <th></th>\n",
       "      <th>flightNumber</th>\n",
       "      <th>departureAirportFsCode</th>\n",
       "      <th>arrivalAirportFsCode</th>\n",
       "      <th>departureDate</th>\n",
       "      <th>arrivalDate</th>\n",
       "      <th>delay_time</th>\n",
       "      <th>aircraft_model</th>\n",
       "      <th>tailnumber</th>\n",
       "      <th>flights_time</th>\n",
       "      <th>departureTerminal</th>\n",
       "      <th>arrivalTerminal</th>\n",
       "    </tr>\n",
       "  </thead>\n",
       "  <tbody>\n",
       "    <tr>\n",
       "      <th>0</th>\n",
       "      <td>381</td>\n",
       "      <td>TLV</td>\n",
       "      <td>MXP</td>\n",
       "      <td>2016-06-24 04:45:00+00:00</td>\n",
       "      <td>2016-06-24 09:00:00+00:00</td>\n",
       "      <td>22</td>\n",
       "      <td>738</td>\n",
       "      <td>4X-EKH</td>\n",
       "      <td>204.0</td>\n",
       "      <td>3</td>\n",
       "      <td>1</td>\n",
       "    </tr>\n",
       "    <tr>\n",
       "      <th>1</th>\n",
       "      <td>382</td>\n",
       "      <td>MXP</td>\n",
       "      <td>TLV</td>\n",
       "      <td>2016-06-24 10:05:00+00:00</td>\n",
       "      <td>2016-06-24 13:55:00+00:00</td>\n",
       "      <td>20</td>\n",
       "      <td>737</td>\n",
       "      <td>4X-EKH</td>\n",
       "      <td>213.0</td>\n",
       "      <td>1</td>\n",
       "      <td>3</td>\n",
       "    </tr>\n",
       "    <tr>\n",
       "      <th>2</th>\n",
       "      <td>553</td>\n",
       "      <td>TLV</td>\n",
       "      <td>SOF</td>\n",
       "      <td>2016-06-25 18:30:00+00:00</td>\n",
       "      <td>2016-06-25 21:15:00+00:00</td>\n",
       "      <td>0</td>\n",
       "      <td>738</td>\n",
       "      <td>4X-EKH</td>\n",
       "      <td>133.0</td>\n",
       "      <td>3</td>\n",
       "      <td>T2</td>\n",
       "    </tr>\n",
       "    <tr>\n",
       "      <th>3</th>\n",
       "      <td>554</td>\n",
       "      <td>SOF</td>\n",
       "      <td>TLV</td>\n",
       "      <td>2016-06-25 22:15:00+00:00</td>\n",
       "      <td>2016-06-26 00:40:00+00:00</td>\n",
       "      <td>29</td>\n",
       "      <td>738</td>\n",
       "      <td>4X-EKH</td>\n",
       "      <td>137.0</td>\n",
       "      <td>2</td>\n",
       "      <td>3</td>\n",
       "    </tr>\n",
       "    <tr>\n",
       "      <th>4</th>\n",
       "      <td>381</td>\n",
       "      <td>TLV</td>\n",
       "      <td>MXP</td>\n",
       "      <td>2016-06-26 04:45:00+00:00</td>\n",
       "      <td>2016-06-26 09:00:00+00:00</td>\n",
       "      <td>188</td>\n",
       "      <td>737</td>\n",
       "      <td>4X-EKH</td>\n",
       "      <td>NaN</td>\n",
       "      <td>3</td>\n",
       "      <td>1</td>\n",
       "    </tr>\n",
       "  </tbody>\n",
       "</table>\n",
       "</div>"
      ],
      "text/plain": [
       "  flightNumber departureAirportFsCode arrivalAirportFsCode  \\\n",
       "0          381                    TLV                  MXP   \n",
       "1          382                    MXP                  TLV   \n",
       "2          553                    TLV                  SOF   \n",
       "3          554                    SOF                  TLV   \n",
       "4          381                    TLV                  MXP   \n",
       "\n",
       "              departureDate               arrivalDate  delay_time  \\\n",
       "0 2016-06-24 04:45:00+00:00 2016-06-24 09:00:00+00:00          22   \n",
       "1 2016-06-24 10:05:00+00:00 2016-06-24 13:55:00+00:00          20   \n",
       "2 2016-06-25 18:30:00+00:00 2016-06-25 21:15:00+00:00           0   \n",
       "3 2016-06-25 22:15:00+00:00 2016-06-26 00:40:00+00:00          29   \n",
       "4 2016-06-26 04:45:00+00:00 2016-06-26 09:00:00+00:00         188   \n",
       "\n",
       "  aircraft_model tailnumber  flights_time departureTerminal arrivalTerminal  \n",
       "0            738     4X-EKH         204.0                 3               1  \n",
       "1            737     4X-EKH         213.0                 1               3  \n",
       "2            738     4X-EKH         133.0                 3              T2  \n",
       "3            738     4X-EKH         137.0                 2               3  \n",
       "4            737     4X-EKH           NaN                 3               1  "
      ]
     },
     "execution_count": 1984,
     "metadata": {},
     "output_type": "execute_result"
    }
   ],
   "source": [
    "flights_df.head()"
   ]
  },
  {
   "attachments": {},
   "cell_type": "markdown",
   "metadata": {},
   "source": [
    "### Drop duplicate rows"
   ]
  },
  {
   "cell_type": "code",
   "execution_count": 1985,
   "metadata": {},
   "outputs": [],
   "source": [
    "flights_df = flights_df.drop_duplicates()\n",
    "flights_df = flights_df.dropna()"
   ]
  },
  {
   "cell_type": "code",
   "execution_count": 1986,
   "metadata": {},
   "outputs": [
    {
     "name": "stdout",
     "output_type": "stream",
     "text": [
      "<class 'pandas.core.frame.DataFrame'>\n",
      "Int64Index: 3595 entries, 0 to 15752\n",
      "Data columns (total 11 columns):\n",
      " #   Column                  Non-Null Count  Dtype              \n",
      "---  ------                  --------------  -----              \n",
      " 0   flightNumber            3595 non-null   object             \n",
      " 1   departureAirportFsCode  3595 non-null   object             \n",
      " 2   arrivalAirportFsCode    3595 non-null   object             \n",
      " 3   departureDate           3595 non-null   datetime64[ns, UTC]\n",
      " 4   arrivalDate             3595 non-null   datetime64[ns, UTC]\n",
      " 5   delay_time              3595 non-null   int64              \n",
      " 6   aircraft_model          3595 non-null   object             \n",
      " 7   tailnumber              3595 non-null   object             \n",
      " 8   flights_time            3595 non-null   float64            \n",
      " 9   departureTerminal       3595 non-null   object             \n",
      " 10  arrivalTerminal         3595 non-null   object             \n",
      "dtypes: datetime64[ns, UTC](2), float64(1), int64(1), object(7)\n",
      "memory usage: 337.0+ KB\n"
     ]
    }
   ],
   "source": [
    "flights_df.info()"
   ]
  },
  {
   "attachments": {},
   "cell_type": "markdown",
   "metadata": {},
   "source": [
    "# Add airport location to DF"
   ]
  },
  {
   "attachments": {},
   "cell_type": "markdown",
   "metadata": {},
   "source": [
    "## Load airports json file"
   ]
  },
  {
   "cell_type": "code",
   "execution_count": 1987,
   "metadata": {},
   "outputs": [],
   "source": [
    "with open('airports.json','r') as airports_file:\n",
    "    airports_data = json.load(airports_file)\n",
    "\n",
    "airport_iata = dict()\n",
    "for airport in airports_data:\n",
    "    if 'lat' not in airport or 'lon' not in airport:\n",
    "        continue\n",
    "\n",
    "    airport_iata[airport['iata']] = airport"
   ]
  },
  {
   "attachments": {},
   "cell_type": "markdown",
   "metadata": {},
   "source": [
    "## Append airport lon,lat per flight"
   ]
  },
  {
   "cell_type": "code",
   "execution_count": 1988,
   "metadata": {},
   "outputs": [],
   "source": [
    "def add_airport_loc(df):\n",
    "    df['departureAirportLat'] = df.apply(lambda row: airport_iata[row['departureAirportFsCode']]['lat'], axis=1)\n",
    "    df['departureAirportLon'] = df.apply(lambda row: airport_iata[row['departureAirportFsCode']]['lon'], axis=1)\n",
    "\n",
    "    df['arrivalAirportLat'] = df.apply(lambda row: airport_iata[row['arrivalAirportFsCode']]['lat'], axis=1)\n",
    "    df['arrivalAirportLon'] = df.apply(lambda row: airport_iata[row['arrivalAirportFsCode']]['lon'], axis=1)\n",
    "\n",
    "add_airport_loc(flights_df)"
   ]
  },
  {
   "attachments": {},
   "cell_type": "markdown",
   "metadata": {},
   "source": [
    "# Get weather info"
   ]
  },
  {
   "attachments": {},
   "cell_type": "markdown",
   "metadata": {},
   "source": [
    "## Date util"
   ]
  },
  {
   "cell_type": "code",
   "execution_count": 1989,
   "metadata": {},
   "outputs": [],
   "source": [
    "def round_datetime_to_hour(dt):\n",
    "    # round to the nearest hour\n",
    "    hour_ceil = dt + timedelta(hours=1)\n",
    "    hour_floor = dt.replace(minute=0, second=0, microsecond=0)\n",
    "\n",
    "    # calculate the difference to the ceil and floor hours\n",
    "    diff_ceil = hour_ceil - dt\n",
    "    diff_floor = dt - hour_floor\n",
    "\n",
    "    # round down if closer to the previous hour\n",
    "    if diff_floor < diff_ceil:\n",
    "        dt = hour_floor\n",
    "\n",
    "    return dt"
   ]
  },
  {
   "attachments": {},
   "cell_type": "markdown",
   "metadata": {},
   "source": [
    "## Weather API"
   ]
  },
  {
   "cell_type": "code",
   "execution_count": 1990,
   "metadata": {},
   "outputs": [],
   "source": [
    "from requests import Session\n",
    "\n",
    "_session = Session()\n",
    "\n",
    "def get_weather_info(lat,lon,date: datetime):\n",
    "    req = _session.get('https://archive-api.open-meteo.com/v1/era5',params={'latitude': lat, 'longitude': lon, 'start_date': date.strftime('%Y-%m-%d'), 'end_date': date.strftime('%Y-%m-%d'), 'hourly': 'weathercode'  }, timeout=20)\n",
    "    req.raise_for_status()\n",
    "\n",
    "    res = req.json()\n",
    "    hour_index = res['hourly']['time'].index(round_datetime_to_hour(date).strftime('%Y-%m-%dT%H:%M'))\n",
    "    return res['hourly']['weathercode'][hour_index]\n"
   ]
  },
  {
   "attachments": {},
   "cell_type": "markdown",
   "metadata": {},
   "source": [
    "## Apply weather lookup on df"
   ]
  },
  {
   "cell_type": "code",
   "execution_count": 1991,
   "metadata": {},
   "outputs": [
    {
     "name": "stdout",
     "output_type": "stream",
     "text": [
      "Getting weather\n"
     ]
    }
   ],
   "source": [
    "def add_weather_info(df):\n",
    "    for row in df:\n",
    "        df.at[row.index, 'departureAirportWeather'] = get_weather_info(row['arrivalAirportLat'], row['departureAirportLon'], row['departureDate'])\n",
    "        df.at[row.index, 'arrivalAirportWeather'] = get_weather_info(row['arrivalAirportLat'], row['arrivalAirportLon'], row['arrivalDate'])\n",
    "\n",
    "if not os.path.exists('flights_data_with_weather.json'):\n",
    "    print('Getting weather')\n",
    "    flights_df['departureAirportWeather'] = flights_df.apply(lambda x:get_weather_info(x['departureAirportLat'],x['departureAirportLon'],x['departureDate']),axis=1)\n",
    "    flights_df['arrivalAirportWeather'] = flights_df.apply(lambda x: get_weather_info(x['arrivalAirportLat'],x['arrivalAirportLon'],x['arrivalDate']),axis=1)\n",
    "    flights_df.to_json('flights_data_with_weather.json')\n",
    "else:\n",
    "    data = load_object_from_file('flights_data_with_weather.json')\n",
    "    flights_df = pd.DataFrame(data)"
   ]
  },
  {
   "cell_type": "code",
   "execution_count": null,
   "metadata": {},
   "outputs": [
    {
     "name": "stdout",
     "output_type": "stream",
     "text": [
      "<class 'pandas.core.frame.DataFrame'>\n",
      "Index: 3595 entries, 0 to 15752\n",
      "Data columns (total 17 columns):\n",
      " #   Column                   Non-Null Count  Dtype  \n",
      "---  ------                   --------------  -----  \n",
      " 0   flightNumber             3595 non-null   object \n",
      " 1   departureAirportFsCode   3595 non-null   object \n",
      " 2   arrivalAirportFsCode     3595 non-null   object \n",
      " 3   departureDate            3595 non-null   int64  \n",
      " 4   arrivalDate              3595 non-null   int64  \n",
      " 5   delay_time               3595 non-null   int64  \n",
      " 6   aircraft_model           3595 non-null   object \n",
      " 7   tailnumber               3595 non-null   object \n",
      " 8   flights_time             3595 non-null   float64\n",
      " 9   departureTerminal        3595 non-null   object \n",
      " 10  arrivalTerminal          3595 non-null   object \n",
      " 11  departureAirportLat      3595 non-null   object \n",
      " 12  departureAirportLon      3595 non-null   object \n",
      " 13  arrivalAirportLat        3595 non-null   object \n",
      " 14  arrivalAirportLon        3595 non-null   object \n",
      " 15  departureAirportWeather  3595 non-null   int64  \n",
      " 16  arrivalAirportWeather    3595 non-null   int64  \n",
      "dtypes: float64(1), int64(5), object(11)\n",
      "memory usage: 505.5+ KB\n"
     ]
    }
   ],
   "source": [
    "flights_df.info()"
   ]
  },
  {
   "attachments": {},
   "cell_type": "markdown",
   "metadata": {},
   "source": [
    "## Add more features\n"
   ]
  },
  {
   "attachments": {},
   "cell_type": "markdown",
   "metadata": {},
   "source": [
    "Add \"is_crestian_holiday\""
   ]
  },
  {
   "cell_type": "code",
   "execution_count": null,
   "metadata": {},
   "outputs": [],
   "source": [
    "def add_is_crestian_holiday_column(df):\n",
    "    df['is_crestian_holiday'] = df['departureDate'].apply(is_christian_holiday)\n",
    "    return df"
   ]
  },
  {
   "cell_type": "code",
   "execution_count": null,
   "metadata": {},
   "outputs": [],
   "source": [
    "def add_advanced_features(df):\n",
    "    df = add_is_crestian_holiday_column(df)\n",
    "    return df"
   ]
  },
  {
   "cell_type": "code",
   "execution_count": null,
   "metadata": {},
   "outputs": [
    {
     "name": "stdout",
     "output_type": "stream",
     "text": [
      "1466743500000\n"
     ]
    },
    {
     "ename": "AttributeError",
     "evalue": "'int' object has no attribute 'year'",
     "output_type": "error",
     "traceback": [
      "\u001b[1;31m---------------------------------------------------------------------------\u001b[0m",
      "\u001b[1;31mAttributeError\u001b[0m                            Traceback (most recent call last)",
      "\u001b[1;32m~\\AppData\\Local\\Temp\\ipykernel_22216\\545305581.py\u001b[0m in \u001b[0;36m<module>\u001b[1;34m\u001b[0m\n\u001b[1;32m----> 1\u001b[1;33m \u001b[0mflights_df\u001b[0m \u001b[1;33m=\u001b[0m \u001b[0madd_advanced_features\u001b[0m\u001b[1;33m(\u001b[0m\u001b[0mflights_df\u001b[0m\u001b[1;33m)\u001b[0m\u001b[1;33m\u001b[0m\u001b[1;33m\u001b[0m\u001b[0m\n\u001b[0m",
      "\u001b[1;32m~\\AppData\\Local\\Temp\\ipykernel_22216\\3782289307.py\u001b[0m in \u001b[0;36madd_advanced_features\u001b[1;34m(df)\u001b[0m\n\u001b[0;32m      1\u001b[0m \u001b[1;32mdef\u001b[0m \u001b[0madd_advanced_features\u001b[0m\u001b[1;33m(\u001b[0m\u001b[0mdf\u001b[0m\u001b[1;33m)\u001b[0m\u001b[1;33m:\u001b[0m\u001b[1;33m\u001b[0m\u001b[1;33m\u001b[0m\u001b[0m\n\u001b[1;32m----> 2\u001b[1;33m     \u001b[0mdf\u001b[0m \u001b[1;33m=\u001b[0m \u001b[0madd_is_crestian_holiday_column\u001b[0m\u001b[1;33m(\u001b[0m\u001b[0mdf\u001b[0m\u001b[1;33m)\u001b[0m\u001b[1;33m\u001b[0m\u001b[1;33m\u001b[0m\u001b[0m\n\u001b[0m\u001b[0;32m      3\u001b[0m     \u001b[1;32mreturn\u001b[0m \u001b[0mdf\u001b[0m\u001b[1;33m\u001b[0m\u001b[1;33m\u001b[0m\u001b[0m\n",
      "\u001b[1;32m~\\AppData\\Local\\Temp\\ipykernel_22216\\124357459.py\u001b[0m in \u001b[0;36madd_is_crestian_holiday_column\u001b[1;34m(df)\u001b[0m\n\u001b[0;32m      1\u001b[0m \u001b[1;32mdef\u001b[0m \u001b[0madd_is_crestian_holiday_column\u001b[0m\u001b[1;33m(\u001b[0m\u001b[0mdf\u001b[0m\u001b[1;33m)\u001b[0m\u001b[1;33m:\u001b[0m\u001b[1;33m\u001b[0m\u001b[1;33m\u001b[0m\u001b[0m\n\u001b[1;32m----> 2\u001b[1;33m     \u001b[0mdf\u001b[0m\u001b[1;33m[\u001b[0m\u001b[1;34m'is_crestian_holiday'\u001b[0m\u001b[1;33m]\u001b[0m \u001b[1;33m=\u001b[0m \u001b[0mdf\u001b[0m\u001b[1;33m[\u001b[0m\u001b[1;34m'departureDate'\u001b[0m\u001b[1;33m]\u001b[0m\u001b[1;33m.\u001b[0m\u001b[0mapply\u001b[0m\u001b[1;33m(\u001b[0m\u001b[0mis_christian_holiday\u001b[0m\u001b[1;33m)\u001b[0m\u001b[1;33m\u001b[0m\u001b[1;33m\u001b[0m\u001b[0m\n\u001b[0m\u001b[0;32m      3\u001b[0m     \u001b[1;32mreturn\u001b[0m \u001b[0mdf\u001b[0m\u001b[1;33m\u001b[0m\u001b[1;33m\u001b[0m\u001b[0m\n",
      "\u001b[1;32m~\\AppData\\Local\\Packages\\PythonSoftwareFoundation.Python.3.7_qbz5n2kfra8p0\\LocalCache\\local-packages\\Python37\\site-packages\\pandas\\core\\series.py\u001b[0m in \u001b[0;36mapply\u001b[1;34m(self, func, convert_dtype, args, **kwargs)\u001b[0m\n\u001b[0;32m   4355\u001b[0m         \u001b[0mdtype\u001b[0m\u001b[1;33m:\u001b[0m \u001b[0mfloat64\u001b[0m\u001b[1;33m\u001b[0m\u001b[1;33m\u001b[0m\u001b[0m\n\u001b[0;32m   4356\u001b[0m         \"\"\"\n\u001b[1;32m-> 4357\u001b[1;33m         \u001b[1;32mreturn\u001b[0m \u001b[0mSeriesApply\u001b[0m\u001b[1;33m(\u001b[0m\u001b[0mself\u001b[0m\u001b[1;33m,\u001b[0m \u001b[0mfunc\u001b[0m\u001b[1;33m,\u001b[0m \u001b[0mconvert_dtype\u001b[0m\u001b[1;33m,\u001b[0m \u001b[0margs\u001b[0m\u001b[1;33m,\u001b[0m \u001b[0mkwargs\u001b[0m\u001b[1;33m)\u001b[0m\u001b[1;33m.\u001b[0m\u001b[0mapply\u001b[0m\u001b[1;33m(\u001b[0m\u001b[1;33m)\u001b[0m\u001b[1;33m\u001b[0m\u001b[1;33m\u001b[0m\u001b[0m\n\u001b[0m\u001b[0;32m   4358\u001b[0m \u001b[1;33m\u001b[0m\u001b[0m\n\u001b[0;32m   4359\u001b[0m     def _reduce(\n",
      "\u001b[1;32m~\\AppData\\Local\\Packages\\PythonSoftwareFoundation.Python.3.7_qbz5n2kfra8p0\\LocalCache\\local-packages\\Python37\\site-packages\\pandas\\core\\apply.py\u001b[0m in \u001b[0;36mapply\u001b[1;34m(self)\u001b[0m\n\u001b[0;32m   1041\u001b[0m             \u001b[1;32mreturn\u001b[0m \u001b[0mself\u001b[0m\u001b[1;33m.\u001b[0m\u001b[0mapply_str\u001b[0m\u001b[1;33m(\u001b[0m\u001b[1;33m)\u001b[0m\u001b[1;33m\u001b[0m\u001b[1;33m\u001b[0m\u001b[0m\n\u001b[0;32m   1042\u001b[0m \u001b[1;33m\u001b[0m\u001b[0m\n\u001b[1;32m-> 1043\u001b[1;33m         \u001b[1;32mreturn\u001b[0m \u001b[0mself\u001b[0m\u001b[1;33m.\u001b[0m\u001b[0mapply_standard\u001b[0m\u001b[1;33m(\u001b[0m\u001b[1;33m)\u001b[0m\u001b[1;33m\u001b[0m\u001b[1;33m\u001b[0m\u001b[0m\n\u001b[0m\u001b[0;32m   1044\u001b[0m \u001b[1;33m\u001b[0m\u001b[0m\n\u001b[0;32m   1045\u001b[0m     \u001b[1;32mdef\u001b[0m \u001b[0magg\u001b[0m\u001b[1;33m(\u001b[0m\u001b[0mself\u001b[0m\u001b[1;33m)\u001b[0m\u001b[1;33m:\u001b[0m\u001b[1;33m\u001b[0m\u001b[1;33m\u001b[0m\u001b[0m\n",
      "\u001b[1;32m~\\AppData\\Local\\Packages\\PythonSoftwareFoundation.Python.3.7_qbz5n2kfra8p0\\LocalCache\\local-packages\\Python37\\site-packages\\pandas\\core\\apply.py\u001b[0m in \u001b[0;36mapply_standard\u001b[1;34m(self)\u001b[0m\n\u001b[0;32m   1099\u001b[0m                     \u001b[0mvalues\u001b[0m\u001b[1;33m,\u001b[0m\u001b[1;33m\u001b[0m\u001b[1;33m\u001b[0m\u001b[0m\n\u001b[0;32m   1100\u001b[0m                     \u001b[0mf\u001b[0m\u001b[1;33m,\u001b[0m  \u001b[1;31m# type: ignore[arg-type]\u001b[0m\u001b[1;33m\u001b[0m\u001b[1;33m\u001b[0m\u001b[0m\n\u001b[1;32m-> 1101\u001b[1;33m                     \u001b[0mconvert\u001b[0m\u001b[1;33m=\u001b[0m\u001b[0mself\u001b[0m\u001b[1;33m.\u001b[0m\u001b[0mconvert_dtype\u001b[0m\u001b[1;33m,\u001b[0m\u001b[1;33m\u001b[0m\u001b[1;33m\u001b[0m\u001b[0m\n\u001b[0m\u001b[0;32m   1102\u001b[0m                 )\n\u001b[0;32m   1103\u001b[0m \u001b[1;33m\u001b[0m\u001b[0m\n",
      "\u001b[1;32m~\\AppData\\Local\\Packages\\PythonSoftwareFoundation.Python.3.7_qbz5n2kfra8p0\\LocalCache\\local-packages\\Python37\\site-packages\\pandas\\_libs\\lib.pyx\u001b[0m in \u001b[0;36mpandas._libs.lib.map_infer\u001b[1;34m()\u001b[0m\n",
      "\u001b[1;32m~\\AppData\\Local\\Temp\\ipykernel_22216\\4122092911.py\u001b[0m in \u001b[0;36mis_christian_holiday\u001b[1;34m(date)\u001b[0m\n\u001b[0;32m      1\u001b[0m \u001b[1;32mdef\u001b[0m \u001b[0mis_christian_holiday\u001b[0m\u001b[1;33m(\u001b[0m\u001b[0mdate\u001b[0m\u001b[1;33m)\u001b[0m\u001b[1;33m:\u001b[0m\u001b[1;33m\u001b[0m\u001b[1;33m\u001b[0m\u001b[0m\n\u001b[0;32m      2\u001b[0m     \u001b[0mprint\u001b[0m\u001b[1;33m(\u001b[0m\u001b[0mdate\u001b[0m\u001b[1;33m)\u001b[0m\u001b[1;33m\u001b[0m\u001b[1;33m\u001b[0m\u001b[0m\n\u001b[1;32m----> 3\u001b[1;33m     \u001b[0measter_date\u001b[0m \u001b[1;33m=\u001b[0m \u001b[0measter\u001b[0m\u001b[1;33m(\u001b[0m\u001b[0mdate\u001b[0m\u001b[1;33m.\u001b[0m\u001b[0myear\u001b[0m\u001b[1;33m)\u001b[0m\u001b[1;33m\u001b[0m\u001b[1;33m\u001b[0m\u001b[0m\n\u001b[0m\u001b[0;32m      4\u001b[0m     \u001b[0measter_sunday\u001b[0m \u001b[1;33m=\u001b[0m \u001b[0mdatetime\u001b[0m\u001b[1;33m.\u001b[0m\u001b[0mstrptime\u001b[0m\u001b[1;33m(\u001b[0m\u001b[0measter_date\u001b[0m\u001b[1;33m.\u001b[0m\u001b[0mstrftime\u001b[0m\u001b[1;33m(\u001b[0m\u001b[1;34m'%m/%d/%Y'\u001b[0m\u001b[1;33m)\u001b[0m\u001b[1;33m,\u001b[0m \u001b[1;34m'%m/%d/%Y'\u001b[0m\u001b[1;33m)\u001b[0m\u001b[1;33m.\u001b[0m\u001b[0mdate\u001b[0m\u001b[1;33m(\u001b[0m\u001b[1;33m)\u001b[0m\u001b[1;33m\u001b[0m\u001b[1;33m\u001b[0m\u001b[0m\n\u001b[0;32m      5\u001b[0m     \u001b[0measter_monday\u001b[0m \u001b[1;33m=\u001b[0m \u001b[0measter_sunday\u001b[0m \u001b[1;33m+\u001b[0m \u001b[0mrelativedelta\u001b[0m\u001b[1;33m(\u001b[0m\u001b[0mweekday\u001b[0m\u001b[1;33m=\u001b[0m\u001b[0mMO\u001b[0m\u001b[1;33m)\u001b[0m\u001b[1;33m\u001b[0m\u001b[1;33m\u001b[0m\u001b[0m\n",
      "\u001b[1;31mAttributeError\u001b[0m: 'int' object has no attribute 'year'"
     ]
    }
   ],
   "source": [
    "flights_df = add_advanced_features(flights_df)"
   ]
  },
  {
   "attachments": {},
   "cell_type": "markdown",
   "metadata": {},
   "source": [
    "## Parse Dates"
   ]
  },
  {
   "cell_type": "code",
   "execution_count": null,
   "metadata": {},
   "outputs": [],
   "source": [
    "def parse_dates(df):\n",
    "    df = proccess_date(df,'departureDate')\n",
    "    df = proccess_date(df,'arrivalDate')\n",
    "    return df\n",
    "flights_df = parse_dates(flights_df)"
   ]
  },
  {
   "cell_type": "code",
   "execution_count": null,
   "metadata": {},
   "outputs": [
    {
     "data": {
      "text/html": [
       "<div>\n",
       "<style scoped>\n",
       "    .dataframe tbody tr th:only-of-type {\n",
       "        vertical-align: middle;\n",
       "    }\n",
       "\n",
       "    .dataframe tbody tr th {\n",
       "        vertical-align: top;\n",
       "    }\n",
       "\n",
       "    .dataframe thead th {\n",
       "        text-align: right;\n",
       "    }\n",
       "</style>\n",
       "<table border=\"1\" class=\"dataframe\">\n",
       "  <thead>\n",
       "    <tr style=\"text-align: right;\">\n",
       "      <th></th>\n",
       "      <th>flightNumber</th>\n",
       "      <th>departureAirportFsCode</th>\n",
       "      <th>arrivalAirportFsCode</th>\n",
       "      <th>delay_time</th>\n",
       "      <th>aircraft_model</th>\n",
       "      <th>tailnumber</th>\n",
       "      <th>flights_time</th>\n",
       "      <th>departureTerminal</th>\n",
       "      <th>arrivalTerminal</th>\n",
       "      <th>departureAirportLat</th>\n",
       "      <th>...</th>\n",
       "      <th>departureDate_year</th>\n",
       "      <th>departureDate_month</th>\n",
       "      <th>departureDate_day</th>\n",
       "      <th>departureDate_hour</th>\n",
       "      <th>departureDate_minute</th>\n",
       "      <th>arrivalDate_year</th>\n",
       "      <th>arrivalDate_month</th>\n",
       "      <th>arrivalDate_day</th>\n",
       "      <th>arrivalDate_hour</th>\n",
       "      <th>arrivalDate_minute</th>\n",
       "    </tr>\n",
       "  </thead>\n",
       "  <tbody>\n",
       "    <tr>\n",
       "      <th>0</th>\n",
       "      <td>381</td>\n",
       "      <td>TLV</td>\n",
       "      <td>MXP</td>\n",
       "      <td>22</td>\n",
       "      <td>738</td>\n",
       "      <td>4X-EKH</td>\n",
       "      <td>204.0</td>\n",
       "      <td>3</td>\n",
       "      <td>1</td>\n",
       "      <td>32.000454</td>\n",
       "      <td>...</td>\n",
       "      <td>2016</td>\n",
       "      <td>6</td>\n",
       "      <td>24</td>\n",
       "      <td>4</td>\n",
       "      <td>45</td>\n",
       "      <td>2016</td>\n",
       "      <td>6</td>\n",
       "      <td>24</td>\n",
       "      <td>9</td>\n",
       "      <td>0</td>\n",
       "    </tr>\n",
       "    <tr>\n",
       "      <th>1</th>\n",
       "      <td>382</td>\n",
       "      <td>MXP</td>\n",
       "      <td>TLV</td>\n",
       "      <td>20</td>\n",
       "      <td>737</td>\n",
       "      <td>4X-EKH</td>\n",
       "      <td>213.0</td>\n",
       "      <td>1</td>\n",
       "      <td>3</td>\n",
       "      <td>45.627403</td>\n",
       "      <td>...</td>\n",
       "      <td>2016</td>\n",
       "      <td>6</td>\n",
       "      <td>24</td>\n",
       "      <td>10</td>\n",
       "      <td>5</td>\n",
       "      <td>2016</td>\n",
       "      <td>6</td>\n",
       "      <td>24</td>\n",
       "      <td>13</td>\n",
       "      <td>55</td>\n",
       "    </tr>\n",
       "    <tr>\n",
       "      <th>2</th>\n",
       "      <td>553</td>\n",
       "      <td>TLV</td>\n",
       "      <td>SOF</td>\n",
       "      <td>0</td>\n",
       "      <td>738</td>\n",
       "      <td>4X-EKH</td>\n",
       "      <td>133.0</td>\n",
       "      <td>3</td>\n",
       "      <td>T2</td>\n",
       "      <td>32.000454</td>\n",
       "      <td>...</td>\n",
       "      <td>2016</td>\n",
       "      <td>6</td>\n",
       "      <td>25</td>\n",
       "      <td>18</td>\n",
       "      <td>30</td>\n",
       "      <td>2016</td>\n",
       "      <td>6</td>\n",
       "      <td>25</td>\n",
       "      <td>21</td>\n",
       "      <td>15</td>\n",
       "    </tr>\n",
       "    <tr>\n",
       "      <th>3</th>\n",
       "      <td>554</td>\n",
       "      <td>SOF</td>\n",
       "      <td>TLV</td>\n",
       "      <td>29</td>\n",
       "      <td>738</td>\n",
       "      <td>4X-EKH</td>\n",
       "      <td>137.0</td>\n",
       "      <td>2</td>\n",
       "      <td>3</td>\n",
       "      <td>42.688343</td>\n",
       "      <td>...</td>\n",
       "      <td>2016</td>\n",
       "      <td>6</td>\n",
       "      <td>25</td>\n",
       "      <td>22</td>\n",
       "      <td>15</td>\n",
       "      <td>2016</td>\n",
       "      <td>6</td>\n",
       "      <td>26</td>\n",
       "      <td>0</td>\n",
       "      <td>40</td>\n",
       "    </tr>\n",
       "    <tr>\n",
       "      <th>5</th>\n",
       "      <td>382</td>\n",
       "      <td>MXP</td>\n",
       "      <td>TLV</td>\n",
       "      <td>396</td>\n",
       "      <td>738</td>\n",
       "      <td>4X-EKH</td>\n",
       "      <td>211.0</td>\n",
       "      <td>1</td>\n",
       "      <td>3</td>\n",
       "      <td>45.627403</td>\n",
       "      <td>...</td>\n",
       "      <td>2016</td>\n",
       "      <td>6</td>\n",
       "      <td>26</td>\n",
       "      <td>10</td>\n",
       "      <td>5</td>\n",
       "      <td>2016</td>\n",
       "      <td>6</td>\n",
       "      <td>26</td>\n",
       "      <td>13</td>\n",
       "      <td>55</td>\n",
       "    </tr>\n",
       "  </tbody>\n",
       "</table>\n",
       "<p>5 rows × 26 columns</p>\n",
       "</div>"
      ],
      "text/plain": [
       "  flightNumber departureAirportFsCode arrivalAirportFsCode  delay_time  \\\n",
       "0          381                    TLV                  MXP          22   \n",
       "1          382                    MXP                  TLV          20   \n",
       "2          553                    TLV                  SOF           0   \n",
       "3          554                    SOF                  TLV          29   \n",
       "5          382                    MXP                  TLV         396   \n",
       "\n",
       "  aircraft_model tailnumber  flights_time departureTerminal arrivalTerminal  \\\n",
       "0            738     4X-EKH         204.0                 3               1   \n",
       "1            737     4X-EKH         213.0                 1               3   \n",
       "2            738     4X-EKH         133.0                 3              T2   \n",
       "3            738     4X-EKH         137.0                 2               3   \n",
       "5            738     4X-EKH         211.0                 1               3   \n",
       "\n",
       "  departureAirportLat  ... departureDate_year departureDate_month  \\\n",
       "0           32.000454  ...               2016                   6   \n",
       "1           45.627403  ...               2016                   6   \n",
       "2           32.000454  ...               2016                   6   \n",
       "3           42.688343  ...               2016                   6   \n",
       "5           45.627403  ...               2016                   6   \n",
       "\n",
       "  departureDate_day  departureDate_hour  departureDate_minute  \\\n",
       "0                24                   4                    45   \n",
       "1                24                  10                     5   \n",
       "2                25                  18                    30   \n",
       "3                25                  22                    15   \n",
       "5                26                  10                     5   \n",
       "\n",
       "   arrivalDate_year  arrivalDate_month  arrivalDate_day  arrivalDate_hour  \\\n",
       "0              2016                  6               24                 9   \n",
       "1              2016                  6               24                13   \n",
       "2              2016                  6               25                21   \n",
       "3              2016                  6               26                 0   \n",
       "5              2016                  6               26                13   \n",
       "\n",
       "   arrivalDate_minute  \n",
       "0                   0  \n",
       "1                  55  \n",
       "2                  15  \n",
       "3                  40  \n",
       "5                  55  \n",
       "\n",
       "[5 rows x 26 columns]"
      ]
     },
     "execution_count": 1385,
     "metadata": {},
     "output_type": "execute_result"
    }
   ],
   "source": [
    "flights_df.head()"
   ]
  },
  {
   "attachments": {},
   "cell_type": "markdown",
   "metadata": {},
   "source": [
    "## Fill/Drop missing data"
   ]
  },
  {
   "cell_type": "code",
   "execution_count": null,
   "metadata": {},
   "outputs": [],
   "source": [
    "flights_df[['departureTerminal','arrivalTerminal']] = flights_df[['departureTerminal','arrivalTerminal']].fillna('unknown')"
   ]
  },
  {
   "cell_type": "code",
   "execution_count": null,
   "metadata": {},
   "outputs": [],
   "source": [
    "flights_df['flights_time'] = flights_df['flights_time'].fillna(flights_df['flights_time'].std())"
   ]
  },
  {
   "attachments": {},
   "cell_type": "markdown",
   "metadata": {},
   "source": [
    "## Convert Text to numbers"
   ]
  },
  {
   "cell_type": "code",
   "execution_count": null,
   "metadata": {},
   "outputs": [],
   "source": [
    "def convert_text_to_number(df):\n",
    "    df['departureTerminal'] = df['departureAirportFsCode'] + '_'+ df['departureTerminal']\n",
    "    df['arrivalTerminal'] = df['arrivalAirportFsCode'] + '_'+ df['arrivalTerminal']\n",
    "    return df "
   ]
  },
  {
   "cell_type": "code",
   "execution_count": null,
   "metadata": {},
   "outputs": [
    {
     "data": {
      "text/html": [
       "<div>\n",
       "<style scoped>\n",
       "    .dataframe tbody tr th:only-of-type {\n",
       "        vertical-align: middle;\n",
       "    }\n",
       "\n",
       "    .dataframe tbody tr th {\n",
       "        vertical-align: top;\n",
       "    }\n",
       "\n",
       "    .dataframe thead th {\n",
       "        text-align: right;\n",
       "    }\n",
       "</style>\n",
       "<table border=\"1\" class=\"dataframe\">\n",
       "  <thead>\n",
       "    <tr style=\"text-align: right;\">\n",
       "      <th></th>\n",
       "      <th>flightNumber</th>\n",
       "      <th>departureAirportFsCode</th>\n",
       "      <th>arrivalAirportFsCode</th>\n",
       "      <th>delay_time</th>\n",
       "      <th>aircraft_model</th>\n",
       "      <th>tailnumber</th>\n",
       "      <th>flights_time</th>\n",
       "      <th>departureTerminal</th>\n",
       "      <th>arrivalTerminal</th>\n",
       "      <th>departureAirportLat</th>\n",
       "      <th>...</th>\n",
       "      <th>departureDate_year</th>\n",
       "      <th>departureDate_month</th>\n",
       "      <th>departureDate_day</th>\n",
       "      <th>departureDate_hour</th>\n",
       "      <th>departureDate_minute</th>\n",
       "      <th>arrivalDate_year</th>\n",
       "      <th>arrivalDate_month</th>\n",
       "      <th>arrivalDate_day</th>\n",
       "      <th>arrivalDate_hour</th>\n",
       "      <th>arrivalDate_minute</th>\n",
       "    </tr>\n",
       "  </thead>\n",
       "  <tbody>\n",
       "    <tr>\n",
       "      <th>0</th>\n",
       "      <td>381</td>\n",
       "      <td>TLV</td>\n",
       "      <td>MXP</td>\n",
       "      <td>22</td>\n",
       "      <td>738</td>\n",
       "      <td>4X-EKH</td>\n",
       "      <td>204.0</td>\n",
       "      <td>TLV_3</td>\n",
       "      <td>MXP_1</td>\n",
       "      <td>32.000454</td>\n",
       "      <td>...</td>\n",
       "      <td>2016</td>\n",
       "      <td>6</td>\n",
       "      <td>24</td>\n",
       "      <td>4</td>\n",
       "      <td>45</td>\n",
       "      <td>2016</td>\n",
       "      <td>6</td>\n",
       "      <td>24</td>\n",
       "      <td>9</td>\n",
       "      <td>0</td>\n",
       "    </tr>\n",
       "    <tr>\n",
       "      <th>1</th>\n",
       "      <td>382</td>\n",
       "      <td>MXP</td>\n",
       "      <td>TLV</td>\n",
       "      <td>20</td>\n",
       "      <td>737</td>\n",
       "      <td>4X-EKH</td>\n",
       "      <td>213.0</td>\n",
       "      <td>MXP_1</td>\n",
       "      <td>TLV_3</td>\n",
       "      <td>45.627403</td>\n",
       "      <td>...</td>\n",
       "      <td>2016</td>\n",
       "      <td>6</td>\n",
       "      <td>24</td>\n",
       "      <td>10</td>\n",
       "      <td>5</td>\n",
       "      <td>2016</td>\n",
       "      <td>6</td>\n",
       "      <td>24</td>\n",
       "      <td>13</td>\n",
       "      <td>55</td>\n",
       "    </tr>\n",
       "    <tr>\n",
       "      <th>2</th>\n",
       "      <td>553</td>\n",
       "      <td>TLV</td>\n",
       "      <td>SOF</td>\n",
       "      <td>0</td>\n",
       "      <td>738</td>\n",
       "      <td>4X-EKH</td>\n",
       "      <td>133.0</td>\n",
       "      <td>TLV_3</td>\n",
       "      <td>SOF_T2</td>\n",
       "      <td>32.000454</td>\n",
       "      <td>...</td>\n",
       "      <td>2016</td>\n",
       "      <td>6</td>\n",
       "      <td>25</td>\n",
       "      <td>18</td>\n",
       "      <td>30</td>\n",
       "      <td>2016</td>\n",
       "      <td>6</td>\n",
       "      <td>25</td>\n",
       "      <td>21</td>\n",
       "      <td>15</td>\n",
       "    </tr>\n",
       "    <tr>\n",
       "      <th>3</th>\n",
       "      <td>554</td>\n",
       "      <td>SOF</td>\n",
       "      <td>TLV</td>\n",
       "      <td>29</td>\n",
       "      <td>738</td>\n",
       "      <td>4X-EKH</td>\n",
       "      <td>137.0</td>\n",
       "      <td>SOF_2</td>\n",
       "      <td>TLV_3</td>\n",
       "      <td>42.688343</td>\n",
       "      <td>...</td>\n",
       "      <td>2016</td>\n",
       "      <td>6</td>\n",
       "      <td>25</td>\n",
       "      <td>22</td>\n",
       "      <td>15</td>\n",
       "      <td>2016</td>\n",
       "      <td>6</td>\n",
       "      <td>26</td>\n",
       "      <td>0</td>\n",
       "      <td>40</td>\n",
       "    </tr>\n",
       "    <tr>\n",
       "      <th>5</th>\n",
       "      <td>382</td>\n",
       "      <td>MXP</td>\n",
       "      <td>TLV</td>\n",
       "      <td>396</td>\n",
       "      <td>738</td>\n",
       "      <td>4X-EKH</td>\n",
       "      <td>211.0</td>\n",
       "      <td>MXP_1</td>\n",
       "      <td>TLV_3</td>\n",
       "      <td>45.627403</td>\n",
       "      <td>...</td>\n",
       "      <td>2016</td>\n",
       "      <td>6</td>\n",
       "      <td>26</td>\n",
       "      <td>10</td>\n",
       "      <td>5</td>\n",
       "      <td>2016</td>\n",
       "      <td>6</td>\n",
       "      <td>26</td>\n",
       "      <td>13</td>\n",
       "      <td>55</td>\n",
       "    </tr>\n",
       "    <tr>\n",
       "      <th>...</th>\n",
       "      <td>...</td>\n",
       "      <td>...</td>\n",
       "      <td>...</td>\n",
       "      <td>...</td>\n",
       "      <td>...</td>\n",
       "      <td>...</td>\n",
       "      <td>...</td>\n",
       "      <td>...</td>\n",
       "      <td>...</td>\n",
       "      <td>...</td>\n",
       "      <td>...</td>\n",
       "      <td>...</td>\n",
       "      <td>...</td>\n",
       "      <td>...</td>\n",
       "      <td>...</td>\n",
       "      <td>...</td>\n",
       "      <td>...</td>\n",
       "      <td>...</td>\n",
       "      <td>...</td>\n",
       "      <td>...</td>\n",
       "      <td>...</td>\n",
       "    </tr>\n",
       "    <tr>\n",
       "      <th>15293</th>\n",
       "      <td>351</td>\n",
       "      <td>TLV</td>\n",
       "      <td>MUC</td>\n",
       "      <td>8</td>\n",
       "      <td>739</td>\n",
       "      <td>4X-EHB</td>\n",
       "      <td>233.0</td>\n",
       "      <td>TLV_3</td>\n",
       "      <td>MUC_1</td>\n",
       "      <td>32.000454</td>\n",
       "      <td>...</td>\n",
       "      <td>2016</td>\n",
       "      <td>3</td>\n",
       "      <td>31</td>\n",
       "      <td>14</td>\n",
       "      <td>45</td>\n",
       "      <td>2016</td>\n",
       "      <td>3</td>\n",
       "      <td>31</td>\n",
       "      <td>19</td>\n",
       "      <td>0</td>\n",
       "    </tr>\n",
       "    <tr>\n",
       "      <th>15294</th>\n",
       "      <td>352</td>\n",
       "      <td>MUC</td>\n",
       "      <td>TLV</td>\n",
       "      <td>2</td>\n",
       "      <td>739</td>\n",
       "      <td>4X-EHB</td>\n",
       "      <td>200.0</td>\n",
       "      <td>MUC_1</td>\n",
       "      <td>TLV_3</td>\n",
       "      <td>48.353004</td>\n",
       "      <td>...</td>\n",
       "      <td>2016</td>\n",
       "      <td>3</td>\n",
       "      <td>31</td>\n",
       "      <td>20</td>\n",
       "      <td>5</td>\n",
       "      <td>2016</td>\n",
       "      <td>3</td>\n",
       "      <td>31</td>\n",
       "      <td>23</td>\n",
       "      <td>55</td>\n",
       "    </tr>\n",
       "    <tr>\n",
       "      <th>15649</th>\n",
       "      <td>353</td>\n",
       "      <td>TLV</td>\n",
       "      <td>MUC</td>\n",
       "      <td>7</td>\n",
       "      <td>738</td>\n",
       "      <td>4X-EKI</td>\n",
       "      <td>221.0</td>\n",
       "      <td>TLV_3</td>\n",
       "      <td>MUC_1</td>\n",
       "      <td>32.000454</td>\n",
       "      <td>...</td>\n",
       "      <td>2017</td>\n",
       "      <td>6</td>\n",
       "      <td>23</td>\n",
       "      <td>3</td>\n",
       "      <td>0</td>\n",
       "      <td>2017</td>\n",
       "      <td>6</td>\n",
       "      <td>23</td>\n",
       "      <td>7</td>\n",
       "      <td>15</td>\n",
       "    </tr>\n",
       "    <tr>\n",
       "      <th>15751</th>\n",
       "      <td>321</td>\n",
       "      <td>TLV</td>\n",
       "      <td>MRS</td>\n",
       "      <td>20</td>\n",
       "      <td>738</td>\n",
       "      <td>4X-EKL</td>\n",
       "      <td>259.0</td>\n",
       "      <td>TLV_3</td>\n",
       "      <td>MRS_1</td>\n",
       "      <td>32.000454</td>\n",
       "      <td>...</td>\n",
       "      <td>2016</td>\n",
       "      <td>11</td>\n",
       "      <td>24</td>\n",
       "      <td>4</td>\n",
       "      <td>0</td>\n",
       "      <td>2016</td>\n",
       "      <td>11</td>\n",
       "      <td>24</td>\n",
       "      <td>8</td>\n",
       "      <td>40</td>\n",
       "    </tr>\n",
       "    <tr>\n",
       "      <th>15752</th>\n",
       "      <td>322</td>\n",
       "      <td>MRS</td>\n",
       "      <td>TLV</td>\n",
       "      <td>43</td>\n",
       "      <td>738</td>\n",
       "      <td>4X-EKL</td>\n",
       "      <td>219.0</td>\n",
       "      <td>MRS_1</td>\n",
       "      <td>TLV_3</td>\n",
       "      <td>43.44178</td>\n",
       "      <td>...</td>\n",
       "      <td>2016</td>\n",
       "      <td>11</td>\n",
       "      <td>24</td>\n",
       "      <td>9</td>\n",
       "      <td>45</td>\n",
       "      <td>2016</td>\n",
       "      <td>11</td>\n",
       "      <td>24</td>\n",
       "      <td>13</td>\n",
       "      <td>50</td>\n",
       "    </tr>\n",
       "  </tbody>\n",
       "</table>\n",
       "<p>3595 rows × 26 columns</p>\n",
       "</div>"
      ],
      "text/plain": [
       "      flightNumber departureAirportFsCode arrivalAirportFsCode  delay_time  \\\n",
       "0              381                    TLV                  MXP          22   \n",
       "1              382                    MXP                  TLV          20   \n",
       "2              553                    TLV                  SOF           0   \n",
       "3              554                    SOF                  TLV          29   \n",
       "5              382                    MXP                  TLV         396   \n",
       "...            ...                    ...                  ...         ...   \n",
       "15293          351                    TLV                  MUC           8   \n",
       "15294          352                    MUC                  TLV           2   \n",
       "15649          353                    TLV                  MUC           7   \n",
       "15751          321                    TLV                  MRS          20   \n",
       "15752          322                    MRS                  TLV          43   \n",
       "\n",
       "      aircraft_model tailnumber  flights_time departureTerminal  \\\n",
       "0                738     4X-EKH         204.0             TLV_3   \n",
       "1                737     4X-EKH         213.0             MXP_1   \n",
       "2                738     4X-EKH         133.0             TLV_3   \n",
       "3                738     4X-EKH         137.0             SOF_2   \n",
       "5                738     4X-EKH         211.0             MXP_1   \n",
       "...              ...        ...           ...               ...   \n",
       "15293            739     4X-EHB         233.0             TLV_3   \n",
       "15294            739     4X-EHB         200.0             MUC_1   \n",
       "15649            738     4X-EKI         221.0             TLV_3   \n",
       "15751            738     4X-EKL         259.0             TLV_3   \n",
       "15752            738     4X-EKL         219.0             MRS_1   \n",
       "\n",
       "      arrivalTerminal departureAirportLat  ... departureDate_year  \\\n",
       "0               MXP_1           32.000454  ...               2016   \n",
       "1               TLV_3           45.627403  ...               2016   \n",
       "2              SOF_T2           32.000454  ...               2016   \n",
       "3               TLV_3           42.688343  ...               2016   \n",
       "5               TLV_3           45.627403  ...               2016   \n",
       "...               ...                 ...  ...                ...   \n",
       "15293           MUC_1           32.000454  ...               2016   \n",
       "15294           TLV_3           48.353004  ...               2016   \n",
       "15649           MUC_1           32.000454  ...               2017   \n",
       "15751           MRS_1           32.000454  ...               2016   \n",
       "15752           TLV_3            43.44178  ...               2016   \n",
       "\n",
       "      departureDate_month departureDate_day  departureDate_hour  \\\n",
       "0                       6                24                   4   \n",
       "1                       6                24                  10   \n",
       "2                       6                25                  18   \n",
       "3                       6                25                  22   \n",
       "5                       6                26                  10   \n",
       "...                   ...               ...                 ...   \n",
       "15293                   3                31                  14   \n",
       "15294                   3                31                  20   \n",
       "15649                   6                23                   3   \n",
       "15751                  11                24                   4   \n",
       "15752                  11                24                   9   \n",
       "\n",
       "       departureDate_minute  arrivalDate_year  arrivalDate_month  \\\n",
       "0                        45              2016                  6   \n",
       "1                         5              2016                  6   \n",
       "2                        30              2016                  6   \n",
       "3                        15              2016                  6   \n",
       "5                         5              2016                  6   \n",
       "...                     ...               ...                ...   \n",
       "15293                    45              2016                  3   \n",
       "15294                     5              2016                  3   \n",
       "15649                     0              2017                  6   \n",
       "15751                     0              2016                 11   \n",
       "15752                    45              2016                 11   \n",
       "\n",
       "       arrivalDate_day  arrivalDate_hour  arrivalDate_minute  \n",
       "0                   24                 9                   0  \n",
       "1                   24                13                  55  \n",
       "2                   25                21                  15  \n",
       "3                   26                 0                  40  \n",
       "5                   26                13                  55  \n",
       "...                ...               ...                 ...  \n",
       "15293               31                19                   0  \n",
       "15294               31                23                  55  \n",
       "15649               23                 7                  15  \n",
       "15751               24                 8                  40  \n",
       "15752               24                13                  50  \n",
       "\n",
       "[3595 rows x 26 columns]"
      ]
     },
     "execution_count": 1389,
     "metadata": {},
     "output_type": "execute_result"
    }
   ],
   "source": [
    "flights_df = convert_text_to_number(flights_df)\n",
    "flights_df"
   ]
  },
  {
   "cell_type": "code",
   "execution_count": null,
   "metadata": {},
   "outputs": [
    {
     "data": {
      "text/html": [
       "<div>\n",
       "<style scoped>\n",
       "    .dataframe tbody tr th:only-of-type {\n",
       "        vertical-align: middle;\n",
       "    }\n",
       "\n",
       "    .dataframe tbody tr th {\n",
       "        vertical-align: top;\n",
       "    }\n",
       "\n",
       "    .dataframe thead th {\n",
       "        text-align: right;\n",
       "    }\n",
       "</style>\n",
       "<table border=\"1\" class=\"dataframe\">\n",
       "  <thead>\n",
       "    <tr style=\"text-align: right;\">\n",
       "      <th></th>\n",
       "      <th>delay_time</th>\n",
       "      <th>flights_time</th>\n",
       "      <th>departureAirportWeather</th>\n",
       "      <th>arrivalAirportWeather</th>\n",
       "      <th>is_crestian_holiday</th>\n",
       "      <th>departureDate_year</th>\n",
       "      <th>departureDate_month</th>\n",
       "      <th>departureDate_day</th>\n",
       "      <th>departureDate_hour</th>\n",
       "      <th>departureDate_minute</th>\n",
       "      <th>arrivalDate_year</th>\n",
       "      <th>arrivalDate_month</th>\n",
       "      <th>arrivalDate_day</th>\n",
       "      <th>arrivalDate_hour</th>\n",
       "      <th>arrivalDate_minute</th>\n",
       "    </tr>\n",
       "  </thead>\n",
       "  <tbody>\n",
       "    <tr>\n",
       "      <th>count</th>\n",
       "      <td>3595.000000</td>\n",
       "      <td>3595.000000</td>\n",
       "      <td>3595.000000</td>\n",
       "      <td>3595.000000</td>\n",
       "      <td>3595.000000</td>\n",
       "      <td>3595.000000</td>\n",
       "      <td>3595.000000</td>\n",
       "      <td>3595.000000</td>\n",
       "      <td>3595.000000</td>\n",
       "      <td>3595.000000</td>\n",
       "      <td>3595.000000</td>\n",
       "      <td>3595.000000</td>\n",
       "      <td>3595.000000</td>\n",
       "      <td>3595.000000</td>\n",
       "      <td>3595.000000</td>\n",
       "    </tr>\n",
       "    <tr>\n",
       "      <th>mean</th>\n",
       "      <td>47.293463</td>\n",
       "      <td>423.587761</td>\n",
       "      <td>7.457858</td>\n",
       "      <td>7.613908</td>\n",
       "      <td>0.012796</td>\n",
       "      <td>2019.775800</td>\n",
       "      <td>6.813074</td>\n",
       "      <td>16.137413</td>\n",
       "      <td>13.296245</td>\n",
       "      <td>19.936022</td>\n",
       "      <td>2019.777191</td>\n",
       "      <td>6.812517</td>\n",
       "      <td>16.046175</td>\n",
       "      <td>11.214465</td>\n",
       "      <td>26.382476</td>\n",
       "    </tr>\n",
       "    <tr>\n",
       "      <th>std</th>\n",
       "      <td>116.504651</td>\n",
       "      <td>217.120621</td>\n",
       "      <td>17.500110</td>\n",
       "      <td>17.785090</td>\n",
       "      <td>0.112407</td>\n",
       "      <td>2.556719</td>\n",
       "      <td>3.451645</td>\n",
       "      <td>9.145064</td>\n",
       "      <td>6.952448</td>\n",
       "      <td>17.049596</td>\n",
       "      <td>2.555806</td>\n",
       "      <td>3.452743</td>\n",
       "      <td>9.156956</td>\n",
       "      <td>5.917952</td>\n",
       "      <td>18.621296</td>\n",
       "    </tr>\n",
       "    <tr>\n",
       "      <th>min</th>\n",
       "      <td>0.000000</td>\n",
       "      <td>62.000000</td>\n",
       "      <td>0.000000</td>\n",
       "      <td>0.000000</td>\n",
       "      <td>0.000000</td>\n",
       "      <td>2015.000000</td>\n",
       "      <td>1.000000</td>\n",
       "      <td>1.000000</td>\n",
       "      <td>0.000000</td>\n",
       "      <td>0.000000</td>\n",
       "      <td>2015.000000</td>\n",
       "      <td>1.000000</td>\n",
       "      <td>1.000000</td>\n",
       "      <td>0.000000</td>\n",
       "      <td>0.000000</td>\n",
       "    </tr>\n",
       "    <tr>\n",
       "      <th>25%</th>\n",
       "      <td>3.000000</td>\n",
       "      <td>237.000000</td>\n",
       "      <td>0.000000</td>\n",
       "      <td>0.000000</td>\n",
       "      <td>0.000000</td>\n",
       "      <td>2017.000000</td>\n",
       "      <td>4.000000</td>\n",
       "      <td>8.000000</td>\n",
       "      <td>7.000000</td>\n",
       "      <td>0.000000</td>\n",
       "      <td>2017.000000</td>\n",
       "      <td>4.000000</td>\n",
       "      <td>8.000000</td>\n",
       "      <td>8.000000</td>\n",
       "      <td>10.000000</td>\n",
       "    </tr>\n",
       "    <tr>\n",
       "      <th>50%</th>\n",
       "      <td>18.000000</td>\n",
       "      <td>285.000000</td>\n",
       "      <td>1.000000</td>\n",
       "      <td>1.000000</td>\n",
       "      <td>0.000000</td>\n",
       "      <td>2021.000000</td>\n",
       "      <td>7.000000</td>\n",
       "      <td>16.000000</td>\n",
       "      <td>14.000000</td>\n",
       "      <td>20.000000</td>\n",
       "      <td>2021.000000</td>\n",
       "      <td>7.000000</td>\n",
       "      <td>16.000000</td>\n",
       "      <td>11.000000</td>\n",
       "      <td>25.000000</td>\n",
       "    </tr>\n",
       "    <tr>\n",
       "      <th>75%</th>\n",
       "      <td>52.000000</td>\n",
       "      <td>640.500000</td>\n",
       "      <td>2.000000</td>\n",
       "      <td>2.000000</td>\n",
       "      <td>0.000000</td>\n",
       "      <td>2022.000000</td>\n",
       "      <td>10.000000</td>\n",
       "      <td>24.000000</td>\n",
       "      <td>20.000000</td>\n",
       "      <td>30.000000</td>\n",
       "      <td>2022.000000</td>\n",
       "      <td>10.000000</td>\n",
       "      <td>24.000000</td>\n",
       "      <td>15.000000</td>\n",
       "      <td>45.000000</td>\n",
       "    </tr>\n",
       "    <tr>\n",
       "      <th>max</th>\n",
       "      <td>2951.000000</td>\n",
       "      <td>956.000000</td>\n",
       "      <td>73.000000</td>\n",
       "      <td>75.000000</td>\n",
       "      <td>1.000000</td>\n",
       "      <td>2023.000000</td>\n",
       "      <td>12.000000</td>\n",
       "      <td>31.000000</td>\n",
       "      <td>23.000000</td>\n",
       "      <td>55.000000</td>\n",
       "      <td>2023.000000</td>\n",
       "      <td>12.000000</td>\n",
       "      <td>31.000000</td>\n",
       "      <td>23.000000</td>\n",
       "      <td>55.000000</td>\n",
       "    </tr>\n",
       "  </tbody>\n",
       "</table>\n",
       "</div>"
      ],
      "text/plain": [
       "        delay_time  flights_time  departureAirportWeather  \\\n",
       "count  3595.000000   3595.000000              3595.000000   \n",
       "mean     47.293463    423.587761                 7.457858   \n",
       "std     116.504651    217.120621                17.500110   \n",
       "min       0.000000     62.000000                 0.000000   \n",
       "25%       3.000000    237.000000                 0.000000   \n",
       "50%      18.000000    285.000000                 1.000000   \n",
       "75%      52.000000    640.500000                 2.000000   \n",
       "max    2951.000000    956.000000                73.000000   \n",
       "\n",
       "       arrivalAirportWeather  is_crestian_holiday  departureDate_year  \\\n",
       "count            3595.000000          3595.000000         3595.000000   \n",
       "mean                7.613908             0.012796         2019.775800   \n",
       "std                17.785090             0.112407            2.556719   \n",
       "min                 0.000000             0.000000         2015.000000   \n",
       "25%                 0.000000             0.000000         2017.000000   \n",
       "50%                 1.000000             0.000000         2021.000000   \n",
       "75%                 2.000000             0.000000         2022.000000   \n",
       "max                75.000000             1.000000         2023.000000   \n",
       "\n",
       "       departureDate_month  departureDate_day  departureDate_hour  \\\n",
       "count          3595.000000        3595.000000         3595.000000   \n",
       "mean              6.813074          16.137413           13.296245   \n",
       "std               3.451645           9.145064            6.952448   \n",
       "min               1.000000           1.000000            0.000000   \n",
       "25%               4.000000           8.000000            7.000000   \n",
       "50%               7.000000          16.000000           14.000000   \n",
       "75%              10.000000          24.000000           20.000000   \n",
       "max              12.000000          31.000000           23.000000   \n",
       "\n",
       "       departureDate_minute  arrivalDate_year  arrivalDate_month  \\\n",
       "count           3595.000000       3595.000000        3595.000000   \n",
       "mean              19.936022       2019.777191           6.812517   \n",
       "std               17.049596          2.555806           3.452743   \n",
       "min                0.000000       2015.000000           1.000000   \n",
       "25%                0.000000       2017.000000           4.000000   \n",
       "50%               20.000000       2021.000000           7.000000   \n",
       "75%               30.000000       2022.000000          10.000000   \n",
       "max               55.000000       2023.000000          12.000000   \n",
       "\n",
       "       arrivalDate_day  arrivalDate_hour  arrivalDate_minute  \n",
       "count      3595.000000       3595.000000         3595.000000  \n",
       "mean         16.046175         11.214465           26.382476  \n",
       "std           9.156956          5.917952           18.621296  \n",
       "min           1.000000          0.000000            0.000000  \n",
       "25%           8.000000          8.000000           10.000000  \n",
       "50%          16.000000         11.000000           25.000000  \n",
       "75%          24.000000         15.000000           45.000000  \n",
       "max          31.000000         23.000000           55.000000  "
      ]
     },
     "execution_count": 1390,
     "metadata": {},
     "output_type": "execute_result"
    }
   ],
   "source": [
    "flights_df.describe()"
   ]
  },
  {
   "attachments": {},
   "cell_type": "markdown",
   "metadata": {},
   "source": [
    "## Data visualization"
   ]
  },
  {
   "attachments": {},
   "cell_type": "markdown",
   "metadata": {},
   "source": [
    "### View Columns correlation"
   ]
  },
  {
   "cell_type": "code",
   "execution_count": null,
   "metadata": {},
   "outputs": [
    {
     "data": {
      "text/plain": [
       "<AxesSubplot:>"
      ]
     },
     "execution_count": 1391,
     "metadata": {},
     "output_type": "execute_result"
    },
    {
     "data": {
      "image/png": "[encoded data removed]",
      "text/plain": [
       "<Figure size 640x480 with 2 Axes>"
      ]
     },
     "metadata": {},
     "output_type": "display_data"
    }
   ],
   "source": [
    "sns.heatmap(flights_df.corr())"
   ]
  },
  {
   "attachments": {},
   "cell_type": "markdown",
   "metadata": {},
   "source": [
    "we can see that there is no correlation between out columns to flight delay.\n",
    "We thing that if we change out date presentation we maby can see some corelation\n",
    "\n",
    "We will use date in year instad of our current way that use 3 separate columns"
   ]
  },
  {
   "attachments": {},
   "cell_type": "markdown",
   "metadata": {},
   "source": [
    "## Change Date presentatuin"
   ]
  },
  {
   "cell_type": "code",
   "execution_count": null,
   "metadata": {},
   "outputs": [],
   "source": [
    "def dayes_in_month(month,year):\n",
    "    return calendar.monthrange(year, month)[1]"
   ]
  },
  {
   "cell_type": "code",
   "execution_count": null,
   "metadata": {},
   "outputs": [],
   "source": [
    "def get_day_in_year(year,mnt : pd.Series,day):\n",
    "    daysList = []\n",
    "    for i,x in enumerate(mnt.tolist()):\n",
    "        days=0\n",
    "        y = year.tolist()[i]\n",
    "        for m in range(1,mnt.tolist()[i]):\n",
    "            days = days + dayes_in_month(m,y)\n",
    "        days = days + day.tolist()[i]\n",
    "        daysList.append(days)\n",
    "    return pd.Series(daysList)\n",
    "\n"
   ]
  },
  {
   "cell_type": "code",
   "execution_count": null,
   "metadata": {},
   "outputs": [],
   "source": [
    "def convert_days_columns_to_day_in_year(df,col):\n",
    "    df[col + '_day_in_year'] = get_day_in_year(df[col+'_year'],df[col+'_month'],df[col+'_day'])\n",
    "\n",
    "    # df = df.drop(col+'_month',axis = 1)\n",
    "    # df = df.drop(col+'_day',axis = 1)\n",
    "\n",
    "    return df"
   ]
  },
  {
   "cell_type": "code",
   "execution_count": null,
   "metadata": {},
   "outputs": [],
   "source": [
    "def convert_all_days_columns_to_day_in_year(df):\n",
    "    df = convert_days_columns_to_day_in_year(df,'departureDate')\n",
    "    df = convert_days_columns_to_day_in_year(df,'arrivalDate')\n",
    "    return df"
   ]
  },
  {
   "cell_type": "code",
   "execution_count": null,
   "metadata": {},
   "outputs": [],
   "source": [
    "flights_df = convert_all_days_columns_to_day_in_year(flights_df)"
   ]
  },
  {
   "attachments": {},
   "cell_type": "markdown",
   "metadata": {},
   "source": [
    "Now we check if there is any correlation"
   ]
  },
  {
   "cell_type": "code",
   "execution_count": null,
   "metadata": {},
   "outputs": [
    {
     "data": {
      "text/plain": [
       "<AxesSubplot:>"
      ]
     },
     "execution_count": 1397,
     "metadata": {},
     "output_type": "execute_result"
    },
    {
     "data": {
      "image/png": "[encoded data removed]",
      "text/plain": [
       "<Figure size 640x480 with 2 Axes>"
      ]
     },
     "metadata": {},
     "output_type": "display_data"
    }
   ],
   "source": [
    "sns.heatmap(flights_df.corr(),annot=True)"
   ]
  },
  {
   "attachments": {},
   "cell_type": "markdown",
   "metadata": {},
   "source": [
    "# Data Visualization"
   ]
  },
  {
   "attachments": {},
   "cell_type": "markdown",
   "metadata": {},
   "source": [
    "Scatter plot"
   ]
  },
  {
   "cell_type": "code",
   "execution_count": null,
   "metadata": {},
   "outputs": [],
   "source": [
    "# pd.plotting.scatter_matrix(flights_df, figsize=(10, 10), diagonal='kde')\n",
    "# plt.show()"
   ]
  },
  {
   "attachments": {},
   "cell_type": "markdown",
   "metadata": {},
   "source": [
    "## FLights count per year"
   ]
  },
  {
   "cell_type": "code",
   "execution_count": null,
   "metadata": {},
   "outputs": [
    {
     "data": {
      "text/plain": [
       "<AxesSubplot:xlabel='departureDate_year', ylabel='count'>"
      ]
     },
     "execution_count": 1399,
     "metadata": {},
     "output_type": "execute_result"
    },
    {
     "data": {
      "image/png": "[encoded data removed]",
      "text/plain": [
       "<Figure size 640x480 with 1 Axes>"
      ]
     },
     "metadata": {},
     "output_type": "display_data"
    }
   ],
   "source": [
    "sns.countplot(data = flights_df , x='departureDate_year')"
   ]
  },
  {
   "attachments": {},
   "cell_type": "markdown",
   "metadata": {},
   "source": [
    "we can see that in 2020 and 2021 the number of flights was segnificantly lower then other years,\n",
    "we can guess that happend due to covid 19 pandemics.\n",
    "To avoid this pandemic from affect out model we will drop data from thouse years."
   ]
  },
  {
   "attachments": {},
   "cell_type": "markdown",
   "metadata": {},
   "source": [
    "## Flights count per aircraft"
   ]
  },
  {
   "cell_type": "code",
   "execution_count": null,
   "metadata": {},
   "outputs": [
    {
     "data": {
      "text/plain": [
       "<AxesSubplot:xlabel='tailnumber', ylabel='count'>"
      ]
     },
     "execution_count": 1400,
     "metadata": {},
     "output_type": "execute_result"
    },
    {
     "data": {
      "image/png": "[encoded data removed]",
      "text/plain": [
       "<Figure size 640x480 with 1 Axes>"
      ]
     },
     "metadata": {},
     "output_type": "display_data"
    }
   ],
   "source": [
    "sns.set(font_scale=0.5)\n",
    "sns.countplot(data = flights_df , x='tailnumber')"
   ]
  },
  {
   "attachments": {},
   "cell_type": "markdown",
   "metadata": {},
   "source": [
    "## Delay time per aircraft"
   ]
  },
  {
   "cell_type": "code",
   "execution_count": null,
   "metadata": {},
   "outputs": [
    {
     "data": {
      "text/plain": [
       "<AxesSubplot:xlabel='tailnumber', ylabel='delay_time'>"
      ]
     },
     "execution_count": 1401,
     "metadata": {},
     "output_type": "execute_result"
    },
    {
     "data": {
      "image/png": "[encoded data removed]",
      "text/plain": [
       "<Figure size 640x480 with 1 Axes>"
      ]
     },
     "metadata": {},
     "output_type": "display_data"
    }
   ],
   "source": [
    "sns.barplot(data = flights_df,x = 'tailnumber', y = 'delay_time')"
   ]
  },
  {
   "attachments": {},
   "cell_type": "markdown",
   "metadata": {},
   "source": [
    "## Avarage delay time per year"
   ]
  },
  {
   "cell_type": "code",
   "execution_count": null,
   "metadata": {},
   "outputs": [
    {
     "data": {
      "text/plain": [
       "<AxesSubplot:xlabel='departureDate_year', ylabel='delay_time'>"
      ]
     },
     "execution_count": 1402,
     "metadata": {},
     "output_type": "execute_result"
    },
    {
     "data": {
      "image/png": "[encoded data removed]",
      "text/plain": [
       "<Figure size 640x480 with 1 Axes>"
      ]
     },
     "metadata": {},
     "output_type": "display_data"
    }
   ],
   "source": [
    "sns.barplot(data = flights_df , x='departureDate_year',y='delay_time')"
   ]
  },
  {
   "attachments": {},
   "cell_type": "markdown",
   "metadata": {},
   "source": [
    "## Delays per day in the year"
   ]
  },
  {
   "attachments": {},
   "cell_type": "markdown",
   "metadata": {},
   "source": [
    "We want to see if there is some connection between the day in the year and the delay time"
   ]
  },
  {
   "cell_type": "code",
   "execution_count": null,
   "metadata": {},
   "outputs": [
    {
     "data": {
      "image/png": "[encoded data removed]",
      "text/plain": [
       "<Figure size 640x480 with 1 Axes>"
      ]
     },
     "metadata": {},
     "output_type": "display_data"
    }
   ],
   "source": [
    "plt.scatter(x=flights_df['departureDate_day_in_year'],y=flights_df['delay_time'],c='r',label='Flight Time')\n",
    "#plt.scatter(x=flights_df['Newspaper'],y=flights_df['delay_time'],c='k',marker='*',label='')\n",
    "plt.legend(numpoints=1,loc=4)\n",
    "plt.xlabel('flight time (minutes)')\n",
    "plt.ylabel('Delay time')\n",
    "plt.show()"
   ]
  },
  {
   "attachments": {},
   "cell_type": "markdown",
   "metadata": {},
   "source": [
    "## View the correlation between flight time to delay time"
   ]
  },
  {
   "cell_type": "code",
   "execution_count": null,
   "metadata": {},
   "outputs": [
    {
     "data": {
      "image/png": "[encoded data removed]",
      "text/plain": [
       "<Figure size 640x480 with 1 Axes>"
      ]
     },
     "metadata": {},
     "output_type": "display_data"
    }
   ],
   "source": [
    "plt.scatter(x=flights_df['flights_time'],y=flights_df['delay_time'],c='r',label='Flight Time')\n",
    "#plt.scatter(x=flights_df['Newspaper'],y=flights_df['delay_time'],c='k',marker='*',label='')\n",
    "plt.legend(numpoints=1,loc=4)\n",
    "plt.xlabel('flight time (minutes)')\n",
    "plt.ylabel('Delay time')\n",
    "plt.show()"
   ]
  },
  {
   "attachments": {},
   "cell_type": "markdown",
   "metadata": {},
   "source": [
    "# Manage outlayers\n"
   ]
  },
  {
   "cell_type": "code",
   "execution_count": null,
   "metadata": {},
   "outputs": [
    {
     "data": {
      "text/html": [
       "<div>\n",
       "<style scoped>\n",
       "    .dataframe tbody tr th:only-of-type {\n",
       "        vertical-align: middle;\n",
       "    }\n",
       "\n",
       "    .dataframe tbody tr th {\n",
       "        vertical-align: top;\n",
       "    }\n",
       "\n",
       "    .dataframe thead th {\n",
       "        text-align: right;\n",
       "    }\n",
       "</style>\n",
       "<table border=\"1\" class=\"dataframe\">\n",
       "  <thead>\n",
       "    <tr style=\"text-align: right;\">\n",
       "      <th></th>\n",
       "      <th>delay_time</th>\n",
       "      <th>flights_time</th>\n",
       "      <th>departureAirportWeather</th>\n",
       "      <th>arrivalAirportWeather</th>\n",
       "      <th>is_crestian_holiday</th>\n",
       "      <th>departureDate_year</th>\n",
       "      <th>departureDate_hour</th>\n",
       "      <th>departureDate_minute</th>\n",
       "      <th>arrivalDate_year</th>\n",
       "      <th>arrivalDate_hour</th>\n",
       "      <th>arrivalDate_minute</th>\n",
       "      <th>departureDate_day_in_year</th>\n",
       "      <th>arrivalDate_day_in_year</th>\n",
       "    </tr>\n",
       "  </thead>\n",
       "  <tbody>\n",
       "    <tr>\n",
       "      <th>count</th>\n",
       "      <td>3595.000000</td>\n",
       "      <td>3595.000000</td>\n",
       "      <td>3595.000000</td>\n",
       "      <td>3595.000000</td>\n",
       "      <td>3595.000000</td>\n",
       "      <td>3595.000000</td>\n",
       "      <td>3595.000000</td>\n",
       "      <td>3595.000000</td>\n",
       "      <td>3595.000000</td>\n",
       "      <td>3595.000000</td>\n",
       "      <td>3595.000000</td>\n",
       "      <td>2764.000000</td>\n",
       "      <td>2764.000000</td>\n",
       "    </tr>\n",
       "    <tr>\n",
       "      <th>mean</th>\n",
       "      <td>47.293463</td>\n",
       "      <td>423.587761</td>\n",
       "      <td>7.457858</td>\n",
       "      <td>7.613908</td>\n",
       "      <td>0.012796</td>\n",
       "      <td>2019.775800</td>\n",
       "      <td>13.296245</td>\n",
       "      <td>19.936022</td>\n",
       "      <td>2019.777191</td>\n",
       "      <td>11.214465</td>\n",
       "      <td>26.382476</td>\n",
       "      <td>195.744935</td>\n",
       "      <td>195.612518</td>\n",
       "    </tr>\n",
       "    <tr>\n",
       "      <th>std</th>\n",
       "      <td>116.504651</td>\n",
       "      <td>217.120621</td>\n",
       "      <td>17.500110</td>\n",
       "      <td>17.785090</td>\n",
       "      <td>0.112407</td>\n",
       "      <td>2.556719</td>\n",
       "      <td>6.952448</td>\n",
       "      <td>17.049596</td>\n",
       "      <td>2.555806</td>\n",
       "      <td>5.917952</td>\n",
       "      <td>18.621296</td>\n",
       "      <td>106.157555</td>\n",
       "      <td>106.243096</td>\n",
       "    </tr>\n",
       "    <tr>\n",
       "      <th>min</th>\n",
       "      <td>0.000000</td>\n",
       "      <td>62.000000</td>\n",
       "      <td>0.000000</td>\n",
       "      <td>0.000000</td>\n",
       "      <td>0.000000</td>\n",
       "      <td>2015.000000</td>\n",
       "      <td>0.000000</td>\n",
       "      <td>0.000000</td>\n",
       "      <td>2015.000000</td>\n",
       "      <td>0.000000</td>\n",
       "      <td>0.000000</td>\n",
       "      <td>1.000000</td>\n",
       "      <td>1.000000</td>\n",
       "    </tr>\n",
       "    <tr>\n",
       "      <th>25%</th>\n",
       "      <td>3.000000</td>\n",
       "      <td>237.000000</td>\n",
       "      <td>0.000000</td>\n",
       "      <td>0.000000</td>\n",
       "      <td>0.000000</td>\n",
       "      <td>2017.000000</td>\n",
       "      <td>7.000000</td>\n",
       "      <td>0.000000</td>\n",
       "      <td>2017.000000</td>\n",
       "      <td>8.000000</td>\n",
       "      <td>10.000000</td>\n",
       "      <td>105.000000</td>\n",
       "      <td>104.000000</td>\n",
       "    </tr>\n",
       "    <tr>\n",
       "      <th>50%</th>\n",
       "      <td>18.000000</td>\n",
       "      <td>285.000000</td>\n",
       "      <td>1.000000</td>\n",
       "      <td>1.000000</td>\n",
       "      <td>0.000000</td>\n",
       "      <td>2021.000000</td>\n",
       "      <td>14.000000</td>\n",
       "      <td>20.000000</td>\n",
       "      <td>2021.000000</td>\n",
       "      <td>11.000000</td>\n",
       "      <td>25.000000</td>\n",
       "      <td>199.500000</td>\n",
       "      <td>200.000000</td>\n",
       "    </tr>\n",
       "    <tr>\n",
       "      <th>75%</th>\n",
       "      <td>52.000000</td>\n",
       "      <td>640.500000</td>\n",
       "      <td>2.000000</td>\n",
       "      <td>2.000000</td>\n",
       "      <td>0.000000</td>\n",
       "      <td>2022.000000</td>\n",
       "      <td>20.000000</td>\n",
       "      <td>30.000000</td>\n",
       "      <td>2022.000000</td>\n",
       "      <td>15.000000</td>\n",
       "      <td>45.000000</td>\n",
       "      <td>293.000000</td>\n",
       "      <td>293.000000</td>\n",
       "    </tr>\n",
       "    <tr>\n",
       "      <th>max</th>\n",
       "      <td>2951.000000</td>\n",
       "      <td>956.000000</td>\n",
       "      <td>73.000000</td>\n",
       "      <td>75.000000</td>\n",
       "      <td>1.000000</td>\n",
       "      <td>2023.000000</td>\n",
       "      <td>23.000000</td>\n",
       "      <td>55.000000</td>\n",
       "      <td>2023.000000</td>\n",
       "      <td>23.000000</td>\n",
       "      <td>55.000000</td>\n",
       "      <td>365.000000</td>\n",
       "      <td>365.000000</td>\n",
       "    </tr>\n",
       "  </tbody>\n",
       "</table>\n",
       "</div>"
      ],
      "text/plain": [
       "        delay_time  flights_time  departureAirportWeather  \\\n",
       "count  3595.000000   3595.000000              3595.000000   \n",
       "mean     47.293463    423.587761                 7.457858   \n",
       "std     116.504651    217.120621                17.500110   \n",
       "min       0.000000     62.000000                 0.000000   \n",
       "25%       3.000000    237.000000                 0.000000   \n",
       "50%      18.000000    285.000000                 1.000000   \n",
       "75%      52.000000    640.500000                 2.000000   \n",
       "max    2951.000000    956.000000                73.000000   \n",
       "\n",
       "       arrivalAirportWeather  is_crestian_holiday  departureDate_year  \\\n",
       "count            3595.000000          3595.000000         3595.000000   \n",
       "mean                7.613908             0.012796         2019.775800   \n",
       "std                17.785090             0.112407            2.556719   \n",
       "min                 0.000000             0.000000         2015.000000   \n",
       "25%                 0.000000             0.000000         2017.000000   \n",
       "50%                 1.000000             0.000000         2021.000000   \n",
       "75%                 2.000000             0.000000         2022.000000   \n",
       "max                75.000000             1.000000         2023.000000   \n",
       "\n",
       "       departureDate_hour  departureDate_minute  arrivalDate_year  \\\n",
       "count         3595.000000           3595.000000       3595.000000   \n",
       "mean            13.296245             19.936022       2019.777191   \n",
       "std              6.952448             17.049596          2.555806   \n",
       "min              0.000000              0.000000       2015.000000   \n",
       "25%              7.000000              0.000000       2017.000000   \n",
       "50%             14.000000             20.000000       2021.000000   \n",
       "75%             20.000000             30.000000       2022.000000   \n",
       "max             23.000000             55.000000       2023.000000   \n",
       "\n",
       "       arrivalDate_hour  arrivalDate_minute  departureDate_day_in_year  \\\n",
       "count       3595.000000         3595.000000                2764.000000   \n",
       "mean          11.214465           26.382476                 195.744935   \n",
       "std            5.917952           18.621296                 106.157555   \n",
       "min            0.000000            0.000000                   1.000000   \n",
       "25%            8.000000           10.000000                 105.000000   \n",
       "50%           11.000000           25.000000                 199.500000   \n",
       "75%           15.000000           45.000000                 293.000000   \n",
       "max           23.000000           55.000000                 365.000000   \n",
       "\n",
       "       arrivalDate_day_in_year  \n",
       "count              2764.000000  \n",
       "mean                195.612518  \n",
       "std                 106.243096  \n",
       "min                   1.000000  \n",
       "25%                 104.000000  \n",
       "50%                 200.000000  \n",
       "75%                 293.000000  \n",
       "max                 365.000000  "
      ]
     },
     "execution_count": 1405,
     "metadata": {},
     "output_type": "execute_result"
    }
   ],
   "source": [
    "flights_df.describe()"
   ]
  },
  {
   "cell_type": "code",
   "execution_count": null,
   "metadata": {},
   "outputs": [
    {
     "data": {
      "image/png": "[encoded data removed]",
      "text/plain": [
       "<Figure size 640x480 with 1 Axes>"
      ]
     },
     "metadata": {},
     "output_type": "display_data"
    }
   ],
   "source": [
    "# Create a figure and axis\n",
    "fig, ax = plt.subplots()\n",
    "\n",
    "# Create a boxplot\n",
    "ax.boxplot(flights_df['delay_time'])\n",
    "\n",
    "# Add labels and title\n",
    "ax.set_xlabel('Data')\n",
    "ax.set_ylabel('Values')\n",
    "ax.set_title('Boxplot Example')\n",
    "\n",
    "# Show the plot\n",
    "plt.show()"
   ]
  },
  {
   "cell_type": "code",
   "execution_count": null,
   "metadata": {},
   "outputs": [
    {
     "ename": "TypeError",
     "evalue": "unsupported operand type(s) for -: 'str' and 'str'",
     "output_type": "error",
     "traceback": [
      "\u001b[1;31m---------------------------------------------------------------------------\u001b[0m",
      "\u001b[1;31mTypeError\u001b[0m                                 Traceback (most recent call last)",
      "\u001b[1;32m~\\AppData\\Local\\Packages\\PythonSoftwareFoundation.Python.3.7_qbz5n2kfra8p0\\LocalCache\\local-packages\\Python37\\site-packages\\pandas\\core\\ops\\array_ops.py\u001b[0m in \u001b[0;36m_na_arithmetic_op\u001b[1;34m(left, right, op, is_cmp)\u001b[0m\n\u001b[0;32m    165\u001b[0m     \u001b[1;32mtry\u001b[0m\u001b[1;33m:\u001b[0m\u001b[1;33m\u001b[0m\u001b[1;33m\u001b[0m\u001b[0m\n\u001b[1;32m--> 166\u001b[1;33m         \u001b[0mresult\u001b[0m \u001b[1;33m=\u001b[0m \u001b[0mfunc\u001b[0m\u001b[1;33m(\u001b[0m\u001b[0mleft\u001b[0m\u001b[1;33m,\u001b[0m \u001b[0mright\u001b[0m\u001b[1;33m)\u001b[0m\u001b[1;33m\u001b[0m\u001b[1;33m\u001b[0m\u001b[0m\n\u001b[0m\u001b[0;32m    167\u001b[0m     \u001b[1;32mexcept\u001b[0m \u001b[0mTypeError\u001b[0m\u001b[1;33m:\u001b[0m\u001b[1;33m\u001b[0m\u001b[1;33m\u001b[0m\u001b[0m\n",
      "\u001b[1;32m~\\AppData\\Local\\Packages\\PythonSoftwareFoundation.Python.3.7_qbz5n2kfra8p0\\LocalCache\\local-packages\\Python37\\site-packages\\pandas\\core\\computation\\expressions.py\u001b[0m in \u001b[0;36mevaluate\u001b[1;34m(op, a, b, use_numexpr)\u001b[0m\n\u001b[0;32m    238\u001b[0m             \u001b[1;31m# error: \"None\" not callable\u001b[0m\u001b[1;33m\u001b[0m\u001b[1;33m\u001b[0m\u001b[1;33m\u001b[0m\u001b[0m\n\u001b[1;32m--> 239\u001b[1;33m             \u001b[1;32mreturn\u001b[0m \u001b[0m_evaluate\u001b[0m\u001b[1;33m(\u001b[0m\u001b[0mop\u001b[0m\u001b[1;33m,\u001b[0m \u001b[0mop_str\u001b[0m\u001b[1;33m,\u001b[0m \u001b[0ma\u001b[0m\u001b[1;33m,\u001b[0m \u001b[0mb\u001b[0m\u001b[1;33m)\u001b[0m  \u001b[1;31m# type: ignore[misc]\u001b[0m\u001b[1;33m\u001b[0m\u001b[1;33m\u001b[0m\u001b[0m\n\u001b[0m\u001b[0;32m    240\u001b[0m     \u001b[1;32mreturn\u001b[0m \u001b[0m_evaluate_standard\u001b[0m\u001b[1;33m(\u001b[0m\u001b[0mop\u001b[0m\u001b[1;33m,\u001b[0m \u001b[0mop_str\u001b[0m\u001b[1;33m,\u001b[0m \u001b[0ma\u001b[0m\u001b[1;33m,\u001b[0m \u001b[0mb\u001b[0m\u001b[1;33m)\u001b[0m\u001b[1;33m\u001b[0m\u001b[1;33m\u001b[0m\u001b[0m\n",
      "\u001b[1;32m~\\AppData\\Local\\Packages\\PythonSoftwareFoundation.Python.3.7_qbz5n2kfra8p0\\LocalCache\\local-packages\\Python37\\site-packages\\pandas\\core\\computation\\expressions.py\u001b[0m in \u001b[0;36m_evaluate_standard\u001b[1;34m(op, op_str, a, b)\u001b[0m\n\u001b[0;32m     68\u001b[0m         \u001b[0m_store_test_result\u001b[0m\u001b[1;33m(\u001b[0m\u001b[1;32mFalse\u001b[0m\u001b[1;33m)\u001b[0m\u001b[1;33m\u001b[0m\u001b[1;33m\u001b[0m\u001b[0m\n\u001b[1;32m---> 69\u001b[1;33m     \u001b[1;32mreturn\u001b[0m \u001b[0mop\u001b[0m\u001b[1;33m(\u001b[0m\u001b[0ma\u001b[0m\u001b[1;33m,\u001b[0m \u001b[0mb\u001b[0m\u001b[1;33m)\u001b[0m\u001b[1;33m\u001b[0m\u001b[1;33m\u001b[0m\u001b[0m\n\u001b[0m\u001b[0;32m     70\u001b[0m \u001b[1;33m\u001b[0m\u001b[0m\n",
      "\u001b[1;31mTypeError\u001b[0m: unsupported operand type(s) for -: 'str' and 'float'",
      "\nDuring handling of the above exception, another exception occurred:\n",
      "\u001b[1;31mTypeError\u001b[0m                                 Traceback (most recent call last)",
      "\u001b[1;32m~\\AppData\\Local\\Temp\\ipykernel_22216\\2038603061.py\u001b[0m in \u001b[0;36m<module>\u001b[1;34m\u001b[0m\n\u001b[0;32m      3\u001b[0m \u001b[0mIQR\u001b[0m \u001b[1;33m=\u001b[0m \u001b[0mQ3\u001b[0m \u001b[1;33m-\u001b[0m \u001b[0mQ1\u001b[0m\u001b[1;33m\u001b[0m\u001b[1;33m\u001b[0m\u001b[0m\n\u001b[0;32m      4\u001b[0m \u001b[1;33m\u001b[0m\u001b[0m\n\u001b[1;32m----> 5\u001b[1;33m \u001b[0mflight_df\u001b[0m \u001b[1;33m=\u001b[0m \u001b[0mflights_df\u001b[0m \u001b[1;33m-\u001b[0m \u001b[0mflights_df\u001b[0m\u001b[1;33m[\u001b[0m\u001b[1;33m(\u001b[0m\u001b[0mflights_df\u001b[0m\u001b[1;33m[\u001b[0m\u001b[1;34m\"delay_time\"\u001b[0m\u001b[1;33m]\u001b[0m \u001b[1;33m<\u001b[0m \u001b[0mQ1\u001b[0m \u001b[1;33m-\u001b[0m \u001b[1;36m1.5\u001b[0m\u001b[1;33m*\u001b[0m\u001b[0mIQR\u001b[0m\u001b[1;33m)\u001b[0m \u001b[1;33m|\u001b[0m \u001b[1;33m(\u001b[0m\u001b[0mflights_df\u001b[0m\u001b[1;33m[\u001b[0m\u001b[1;34m\"delay_time\"\u001b[0m\u001b[1;33m]\u001b[0m \u001b[1;33m>\u001b[0m \u001b[0mQ3\u001b[0m \u001b[1;33m+\u001b[0m \u001b[1;36m1.5\u001b[0m\u001b[1;33m*\u001b[0m\u001b[0mIQR\u001b[0m \u001b[1;33m)\u001b[0m\u001b[1;33m]\u001b[0m\u001b[1;33m\u001b[0m\u001b[1;33m\u001b[0m\u001b[0m\n\u001b[0m",
      "\u001b[1;32m~\\AppData\\Local\\Packages\\PythonSoftwareFoundation.Python.3.7_qbz5n2kfra8p0\\LocalCache\\local-packages\\Python37\\site-packages\\pandas\\core\\ops\\common.py\u001b[0m in \u001b[0;36mnew_method\u001b[1;34m(self, other)\u001b[0m\n\u001b[0;32m     67\u001b[0m         \u001b[0mother\u001b[0m \u001b[1;33m=\u001b[0m \u001b[0mitem_from_zerodim\u001b[0m\u001b[1;33m(\u001b[0m\u001b[0mother\u001b[0m\u001b[1;33m)\u001b[0m\u001b[1;33m\u001b[0m\u001b[1;33m\u001b[0m\u001b[0m\n\u001b[0;32m     68\u001b[0m \u001b[1;33m\u001b[0m\u001b[0m\n\u001b[1;32m---> 69\u001b[1;33m         \u001b[1;32mreturn\u001b[0m \u001b[0mmethod\u001b[0m\u001b[1;33m(\u001b[0m\u001b[0mself\u001b[0m\u001b[1;33m,\u001b[0m \u001b[0mother\u001b[0m\u001b[1;33m)\u001b[0m\u001b[1;33m\u001b[0m\u001b[1;33m\u001b[0m\u001b[0m\n\u001b[0m\u001b[0;32m     70\u001b[0m \u001b[1;33m\u001b[0m\u001b[0m\n\u001b[0;32m     71\u001b[0m     \u001b[1;32mreturn\u001b[0m \u001b[0mnew_method\u001b[0m\u001b[1;33m\u001b[0m\u001b[1;33m\u001b[0m\u001b[0m\n",
      "\u001b[1;32m~\\AppData\\Local\\Packages\\PythonSoftwareFoundation.Python.3.7_qbz5n2kfra8p0\\LocalCache\\local-packages\\Python37\\site-packages\\pandas\\core\\arraylike.py\u001b[0m in \u001b[0;36m__sub__\u001b[1;34m(self, other)\u001b[0m\n\u001b[0;32m     98\u001b[0m     \u001b[1;33m@\u001b[0m\u001b[0munpack_zerodim_and_defer\u001b[0m\u001b[1;33m(\u001b[0m\u001b[1;34m\"__sub__\"\u001b[0m\u001b[1;33m)\u001b[0m\u001b[1;33m\u001b[0m\u001b[1;33m\u001b[0m\u001b[0m\n\u001b[0;32m     99\u001b[0m     \u001b[1;32mdef\u001b[0m \u001b[0m__sub__\u001b[0m\u001b[1;33m(\u001b[0m\u001b[0mself\u001b[0m\u001b[1;33m,\u001b[0m \u001b[0mother\u001b[0m\u001b[1;33m)\u001b[0m\u001b[1;33m:\u001b[0m\u001b[1;33m\u001b[0m\u001b[1;33m\u001b[0m\u001b[0m\n\u001b[1;32m--> 100\u001b[1;33m         \u001b[1;32mreturn\u001b[0m \u001b[0mself\u001b[0m\u001b[1;33m.\u001b[0m\u001b[0m_arith_method\u001b[0m\u001b[1;33m(\u001b[0m\u001b[0mother\u001b[0m\u001b[1;33m,\u001b[0m \u001b[0moperator\u001b[0m\u001b[1;33m.\u001b[0m\u001b[0msub\u001b[0m\u001b[1;33m)\u001b[0m\u001b[1;33m\u001b[0m\u001b[1;33m\u001b[0m\u001b[0m\n\u001b[0m\u001b[0;32m    101\u001b[0m \u001b[1;33m\u001b[0m\u001b[0m\n\u001b[0;32m    102\u001b[0m     \u001b[1;33m@\u001b[0m\u001b[0munpack_zerodim_and_defer\u001b[0m\u001b[1;33m(\u001b[0m\u001b[1;34m\"__rsub__\"\u001b[0m\u001b[1;33m)\u001b[0m\u001b[1;33m\u001b[0m\u001b[1;33m\u001b[0m\u001b[0m\n",
      "\u001b[1;32m~\\AppData\\Local\\Packages\\PythonSoftwareFoundation.Python.3.7_qbz5n2kfra8p0\\LocalCache\\local-packages\\Python37\\site-packages\\pandas\\core\\frame.py\u001b[0m in \u001b[0;36m_arith_method\u001b[1;34m(self, other, op)\u001b[0m\n\u001b[0;32m   6864\u001b[0m         \u001b[0mself\u001b[0m\u001b[1;33m,\u001b[0m \u001b[0mother\u001b[0m \u001b[1;33m=\u001b[0m \u001b[0mops\u001b[0m\u001b[1;33m.\u001b[0m\u001b[0malign_method_FRAME\u001b[0m\u001b[1;33m(\u001b[0m\u001b[0mself\u001b[0m\u001b[1;33m,\u001b[0m \u001b[0mother\u001b[0m\u001b[1;33m,\u001b[0m \u001b[0maxis\u001b[0m\u001b[1;33m,\u001b[0m \u001b[0mflex\u001b[0m\u001b[1;33m=\u001b[0m\u001b[1;32mTrue\u001b[0m\u001b[1;33m,\u001b[0m \u001b[0mlevel\u001b[0m\u001b[1;33m=\u001b[0m\u001b[1;32mNone\u001b[0m\u001b[1;33m)\u001b[0m\u001b[1;33m\u001b[0m\u001b[1;33m\u001b[0m\u001b[0m\n\u001b[0;32m   6865\u001b[0m \u001b[1;33m\u001b[0m\u001b[0m\n\u001b[1;32m-> 6866\u001b[1;33m         \u001b[0mnew_data\u001b[0m \u001b[1;33m=\u001b[0m \u001b[0mself\u001b[0m\u001b[1;33m.\u001b[0m\u001b[0m_dispatch_frame_op\u001b[0m\u001b[1;33m(\u001b[0m\u001b[0mother\u001b[0m\u001b[1;33m,\u001b[0m \u001b[0mop\u001b[0m\u001b[1;33m,\u001b[0m \u001b[0maxis\u001b[0m\u001b[1;33m=\u001b[0m\u001b[0maxis\u001b[0m\u001b[1;33m)\u001b[0m\u001b[1;33m\u001b[0m\u001b[1;33m\u001b[0m\u001b[0m\n\u001b[0m\u001b[0;32m   6867\u001b[0m         \u001b[1;32mreturn\u001b[0m \u001b[0mself\u001b[0m\u001b[1;33m.\u001b[0m\u001b[0m_construct_result\u001b[0m\u001b[1;33m(\u001b[0m\u001b[0mnew_data\u001b[0m\u001b[1;33m)\u001b[0m\u001b[1;33m\u001b[0m\u001b[1;33m\u001b[0m\u001b[0m\n\u001b[0;32m   6868\u001b[0m \u001b[1;33m\u001b[0m\u001b[0m\n",
      "\u001b[1;32m~\\AppData\\Local\\Packages\\PythonSoftwareFoundation.Python.3.7_qbz5n2kfra8p0\\LocalCache\\local-packages\\Python37\\site-packages\\pandas\\core\\frame.py\u001b[0m in \u001b[0;36m_dispatch_frame_op\u001b[1;34m(self, right, func, axis)\u001b[0m\n\u001b[0;32m   6911\u001b[0m                     \u001b[1;31m# \"BlockManager\"\u001b[0m\u001b[1;33m\u001b[0m\u001b[1;33m\u001b[0m\u001b[1;33m\u001b[0m\u001b[0m\n\u001b[0;32m   6912\u001b[0m                     \u001b[0mright\u001b[0m\u001b[1;33m.\u001b[0m\u001b[0m_mgr\u001b[0m\u001b[1;33m,\u001b[0m  \u001b[1;31m# type: ignore[arg-type]\u001b[0m\u001b[1;33m\u001b[0m\u001b[1;33m\u001b[0m\u001b[0m\n\u001b[1;32m-> 6913\u001b[1;33m                     \u001b[0marray_op\u001b[0m\u001b[1;33m,\u001b[0m\u001b[1;33m\u001b[0m\u001b[1;33m\u001b[0m\u001b[0m\n\u001b[0m\u001b[0;32m   6914\u001b[0m                 )\n\u001b[0;32m   6915\u001b[0m             \u001b[1;32mreturn\u001b[0m \u001b[0mtype\u001b[0m\u001b[1;33m(\u001b[0m\u001b[0mself\u001b[0m\u001b[1;33m)\u001b[0m\u001b[1;33m(\u001b[0m\u001b[0mbm\u001b[0m\u001b[1;33m)\u001b[0m\u001b[1;33m\u001b[0m\u001b[1;33m\u001b[0m\u001b[0m\n",
      "\u001b[1;32m~\\AppData\\Local\\Packages\\PythonSoftwareFoundation.Python.3.7_qbz5n2kfra8p0\\LocalCache\\local-packages\\Python37\\site-packages\\pandas\\core\\internals\\managers.py\u001b[0m in \u001b[0;36moperate_blockwise\u001b[1;34m(self, other, array_op)\u001b[0m\n\u001b[0;32m   1301\u001b[0m         \u001b[0mApply\u001b[0m \u001b[0marray_op\u001b[0m \u001b[0mblockwise\u001b[0m \u001b[1;32mwith\u001b[0m \u001b[0manother\u001b[0m \u001b[1;33m(\u001b[0m\u001b[0maligned\u001b[0m\u001b[1;33m)\u001b[0m \u001b[0mBlockManager\u001b[0m\u001b[1;33m.\u001b[0m\u001b[1;33m\u001b[0m\u001b[1;33m\u001b[0m\u001b[0m\n\u001b[0;32m   1302\u001b[0m         \"\"\"\n\u001b[1;32m-> 1303\u001b[1;33m         \u001b[1;32mreturn\u001b[0m \u001b[0moperate_blockwise\u001b[0m\u001b[1;33m(\u001b[0m\u001b[0mself\u001b[0m\u001b[1;33m,\u001b[0m \u001b[0mother\u001b[0m\u001b[1;33m,\u001b[0m \u001b[0marray_op\u001b[0m\u001b[1;33m)\u001b[0m\u001b[1;33m\u001b[0m\u001b[1;33m\u001b[0m\u001b[0m\n\u001b[0m\u001b[0;32m   1304\u001b[0m \u001b[1;33m\u001b[0m\u001b[0m\n\u001b[0;32m   1305\u001b[0m     \u001b[1;32mdef\u001b[0m \u001b[0m_equal_values\u001b[0m\u001b[1;33m(\u001b[0m\u001b[0mself\u001b[0m\u001b[1;33m:\u001b[0m \u001b[0mBlockManager\u001b[0m\u001b[1;33m,\u001b[0m \u001b[0mother\u001b[0m\u001b[1;33m:\u001b[0m \u001b[0mBlockManager\u001b[0m\u001b[1;33m)\u001b[0m \u001b[1;33m->\u001b[0m \u001b[0mbool\u001b[0m\u001b[1;33m:\u001b[0m\u001b[1;33m\u001b[0m\u001b[1;33m\u001b[0m\u001b[0m\n",
      "\u001b[1;32m~\\AppData\\Local\\Packages\\PythonSoftwareFoundation.Python.3.7_qbz5n2kfra8p0\\LocalCache\\local-packages\\Python37\\site-packages\\pandas\\core\\internals\\ops.py\u001b[0m in \u001b[0;36moperate_blockwise\u001b[1;34m(left, right, array_op)\u001b[0m\n\u001b[0;32m     55\u001b[0m     \u001b[0mres_blks\u001b[0m\u001b[1;33m:\u001b[0m \u001b[0mlist\u001b[0m\u001b[1;33m[\u001b[0m\u001b[0mBlock\u001b[0m\u001b[1;33m]\u001b[0m \u001b[1;33m=\u001b[0m \u001b[1;33m[\u001b[0m\u001b[1;33m]\u001b[0m\u001b[1;33m\u001b[0m\u001b[1;33m\u001b[0m\u001b[0m\n\u001b[0;32m     56\u001b[0m     \u001b[1;32mfor\u001b[0m \u001b[0mlvals\u001b[0m\u001b[1;33m,\u001b[0m \u001b[0mrvals\u001b[0m\u001b[1;33m,\u001b[0m \u001b[0mlocs\u001b[0m\u001b[1;33m,\u001b[0m \u001b[0mleft_ea\u001b[0m\u001b[1;33m,\u001b[0m \u001b[0mright_ea\u001b[0m\u001b[1;33m,\u001b[0m \u001b[0mrblk\u001b[0m \u001b[1;32min\u001b[0m \u001b[0m_iter_block_pairs\u001b[0m\u001b[1;33m(\u001b[0m\u001b[0mleft\u001b[0m\u001b[1;33m,\u001b[0m \u001b[0mright\u001b[0m\u001b[1;33m)\u001b[0m\u001b[1;33m:\u001b[0m\u001b[1;33m\u001b[0m\u001b[1;33m\u001b[0m\u001b[0m\n\u001b[1;32m---> 57\u001b[1;33m         \u001b[0mres_values\u001b[0m \u001b[1;33m=\u001b[0m \u001b[0marray_op\u001b[0m\u001b[1;33m(\u001b[0m\u001b[0mlvals\u001b[0m\u001b[1;33m,\u001b[0m \u001b[0mrvals\u001b[0m\u001b[1;33m)\u001b[0m\u001b[1;33m\u001b[0m\u001b[1;33m\u001b[0m\u001b[0m\n\u001b[0m\u001b[0;32m     58\u001b[0m         \u001b[1;32mif\u001b[0m \u001b[0mleft_ea\u001b[0m \u001b[1;32mand\u001b[0m \u001b[1;32mnot\u001b[0m \u001b[0mright_ea\u001b[0m \u001b[1;32mand\u001b[0m \u001b[0mhasattr\u001b[0m\u001b[1;33m(\u001b[0m\u001b[0mres_values\u001b[0m\u001b[1;33m,\u001b[0m \u001b[1;34m\"reshape\"\u001b[0m\u001b[1;33m)\u001b[0m\u001b[1;33m:\u001b[0m\u001b[1;33m\u001b[0m\u001b[1;33m\u001b[0m\u001b[0m\n\u001b[0;32m     59\u001b[0m             \u001b[0mres_values\u001b[0m \u001b[1;33m=\u001b[0m \u001b[0mres_values\u001b[0m\u001b[1;33m.\u001b[0m\u001b[0mreshape\u001b[0m\u001b[1;33m(\u001b[0m\u001b[1;36m1\u001b[0m\u001b[1;33m,\u001b[0m \u001b[1;33m-\u001b[0m\u001b[1;36m1\u001b[0m\u001b[1;33m)\u001b[0m\u001b[1;33m\u001b[0m\u001b[1;33m\u001b[0m\u001b[0m\n",
      "\u001b[1;32m~\\AppData\\Local\\Packages\\PythonSoftwareFoundation.Python.3.7_qbz5n2kfra8p0\\LocalCache\\local-packages\\Python37\\site-packages\\pandas\\core\\ops\\array_ops.py\u001b[0m in \u001b[0;36marithmetic_op\u001b[1;34m(left, right, op)\u001b[0m\n\u001b[0;32m    222\u001b[0m         \u001b[0m_bool_arith_check\u001b[0m\u001b[1;33m(\u001b[0m\u001b[0mop\u001b[0m\u001b[1;33m,\u001b[0m \u001b[0mleft\u001b[0m\u001b[1;33m,\u001b[0m \u001b[0mright\u001b[0m\u001b[1;33m)\u001b[0m\u001b[1;33m\u001b[0m\u001b[1;33m\u001b[0m\u001b[0m\n\u001b[0;32m    223\u001b[0m \u001b[1;33m\u001b[0m\u001b[0m\n\u001b[1;32m--> 224\u001b[1;33m         \u001b[0mres_values\u001b[0m \u001b[1;33m=\u001b[0m \u001b[0m_na_arithmetic_op\u001b[0m\u001b[1;33m(\u001b[0m\u001b[0mleft\u001b[0m\u001b[1;33m,\u001b[0m \u001b[0mright\u001b[0m\u001b[1;33m,\u001b[0m \u001b[0mop\u001b[0m\u001b[1;33m)\u001b[0m\u001b[1;33m\u001b[0m\u001b[1;33m\u001b[0m\u001b[0m\n\u001b[0m\u001b[0;32m    225\u001b[0m \u001b[1;33m\u001b[0m\u001b[0m\n\u001b[0;32m    226\u001b[0m     \u001b[1;32mreturn\u001b[0m \u001b[0mres_values\u001b[0m\u001b[1;33m\u001b[0m\u001b[1;33m\u001b[0m\u001b[0m\n",
      "\u001b[1;32m~\\AppData\\Local\\Packages\\PythonSoftwareFoundation.Python.3.7_qbz5n2kfra8p0\\LocalCache\\local-packages\\Python37\\site-packages\\pandas\\core\\ops\\array_ops.py\u001b[0m in \u001b[0;36m_na_arithmetic_op\u001b[1;34m(left, right, op, is_cmp)\u001b[0m\n\u001b[0;32m    171\u001b[0m             \u001b[1;31m# Don't do this for comparisons, as that will handle complex numbers\u001b[0m\u001b[1;33m\u001b[0m\u001b[1;33m\u001b[0m\u001b[1;33m\u001b[0m\u001b[0m\n\u001b[0;32m    172\u001b[0m             \u001b[1;31m#  incorrectly, see GH#32047\u001b[0m\u001b[1;33m\u001b[0m\u001b[1;33m\u001b[0m\u001b[1;33m\u001b[0m\u001b[0m\n\u001b[1;32m--> 173\u001b[1;33m             \u001b[0mresult\u001b[0m \u001b[1;33m=\u001b[0m \u001b[0m_masked_arith_op\u001b[0m\u001b[1;33m(\u001b[0m\u001b[0mleft\u001b[0m\u001b[1;33m,\u001b[0m \u001b[0mright\u001b[0m\u001b[1;33m,\u001b[0m \u001b[0mop\u001b[0m\u001b[1;33m)\u001b[0m\u001b[1;33m\u001b[0m\u001b[1;33m\u001b[0m\u001b[0m\n\u001b[0m\u001b[0;32m    174\u001b[0m         \u001b[1;32melse\u001b[0m\u001b[1;33m:\u001b[0m\u001b[1;33m\u001b[0m\u001b[1;33m\u001b[0m\u001b[0m\n\u001b[0;32m    175\u001b[0m             \u001b[1;32mraise\u001b[0m\u001b[1;33m\u001b[0m\u001b[1;33m\u001b[0m\u001b[0m\n",
      "\u001b[1;32m~\\AppData\\Local\\Packages\\PythonSoftwareFoundation.Python.3.7_qbz5n2kfra8p0\\LocalCache\\local-packages\\Python37\\site-packages\\pandas\\core\\ops\\array_ops.py\u001b[0m in \u001b[0;36m_masked_arith_op\u001b[1;34m(x, y, op)\u001b[0m\n\u001b[0;32m    110\u001b[0m         \u001b[1;31m# See GH#5284, GH#5035, GH#19448 for historical reference\u001b[0m\u001b[1;33m\u001b[0m\u001b[1;33m\u001b[0m\u001b[1;33m\u001b[0m\u001b[0m\n\u001b[0;32m    111\u001b[0m         \u001b[1;32mif\u001b[0m \u001b[0mmask\u001b[0m\u001b[1;33m.\u001b[0m\u001b[0many\u001b[0m\u001b[1;33m(\u001b[0m\u001b[1;33m)\u001b[0m\u001b[1;33m:\u001b[0m\u001b[1;33m\u001b[0m\u001b[1;33m\u001b[0m\u001b[0m\n\u001b[1;32m--> 112\u001b[1;33m             \u001b[0mresult\u001b[0m\u001b[1;33m[\u001b[0m\u001b[0mmask\u001b[0m\u001b[1;33m]\u001b[0m \u001b[1;33m=\u001b[0m \u001b[0mop\u001b[0m\u001b[1;33m(\u001b[0m\u001b[0mxrav\u001b[0m\u001b[1;33m[\u001b[0m\u001b[0mmask\u001b[0m\u001b[1;33m]\u001b[0m\u001b[1;33m,\u001b[0m \u001b[0myrav\u001b[0m\u001b[1;33m[\u001b[0m\u001b[0mmask\u001b[0m\u001b[1;33m]\u001b[0m\u001b[1;33m)\u001b[0m\u001b[1;33m\u001b[0m\u001b[1;33m\u001b[0m\u001b[0m\n\u001b[0m\u001b[0;32m    113\u001b[0m \u001b[1;33m\u001b[0m\u001b[0m\n\u001b[0;32m    114\u001b[0m     \u001b[1;32melse\u001b[0m\u001b[1;33m:\u001b[0m\u001b[1;33m\u001b[0m\u001b[1;33m\u001b[0m\u001b[0m\n",
      "\u001b[1;31mTypeError\u001b[0m: unsupported operand type(s) for -: 'str' and 'str'"
     ]
    }
   ],
   "source": [
    "Q1 = np.percentile(flights_df[\"delay_time\"], 25)\n",
    "Q3 = np.percentile(flights_df[\"delay_time\"], 75)\n",
    "IQR = Q3 - Q1\n",
    "\n",
    "flight_df = flights_df - flights_df[(flights_df[\"delay_time\"] < Q1 - 1.5*IQR) | (flights_df[\"delay_time\"] > Q3 + 1.5*IQR )]"
   ]
  },
  {
   "attachments": {},
   "cell_type": "markdown",
   "metadata": {},
   "source": [
    "# Convert categprial string values to int"
   ]
  },
  {
   "cell_type": "code",
   "execution_count": null,
   "metadata": {},
   "outputs": [],
   "source": [
    "# def convert_categorials_to_bin(df , cols):\n",
    "#     return pd.get_dummies( df,columns= cols)"
   ]
  },
  {
   "cell_type": "code",
   "execution_count": null,
   "metadata": {},
   "outputs": [],
   "source": [
    "# flights_df = convert_categorials_to_bin(flights_df,['departureAirportFsCode','arrivalAirportFsCode','tailnumber','aircraft_model','departureTerminal','arrivalTerminal'])"
   ]
  },
  {
   "cell_type": "code",
   "execution_count": null,
   "metadata": {},
   "outputs": [],
   "source": [
    "def transfer_str_to_numeric_vals(dataset,cols):\n",
    "\n",
    "    for c in cols:\n",
    "        dataset[c]=pd.factorize(dataset[c])[0]\n",
    "    return dataset"
   ]
  },
  {
   "cell_type": "code",
   "execution_count": null,
   "metadata": {},
   "outputs": [],
   "source": [
    "flight_df = transfer_str_to_numeric_vals(flights_df,['departureAirportFsCode','arrivalAirportFsCode','tailnumber','aircraft_model','departureTerminal','arrivalTerminal'])"
   ]
  },
  {
   "cell_type": "code",
   "execution_count": null,
   "metadata": {},
   "outputs": [],
   "source": [
    "flight_df = flights_df.dropna()"
   ]
  },
  {
   "cell_type": "code",
   "execution_count": null,
   "metadata": {},
   "outputs": [
    {
     "data": {
      "text/html": [
       "<div>\n",
       "<style scoped>\n",
       "    .dataframe tbody tr th:only-of-type {\n",
       "        vertical-align: middle;\n",
       "    }\n",
       "\n",
       "    .dataframe tbody tr th {\n",
       "        vertical-align: top;\n",
       "    }\n",
       "\n",
       "    .dataframe thead th {\n",
       "        text-align: right;\n",
       "    }\n",
       "</style>\n",
       "<table border=\"1\" class=\"dataframe\">\n",
       "  <thead>\n",
       "    <tr style=\"text-align: right;\">\n",
       "      <th></th>\n",
       "      <th>flightNumber</th>\n",
       "      <th>departureAirportFsCode</th>\n",
       "      <th>arrivalAirportFsCode</th>\n",
       "      <th>delay_time</th>\n",
       "      <th>aircraft_model</th>\n",
       "      <th>tailnumber</th>\n",
       "      <th>flights_time</th>\n",
       "      <th>departureTerminal</th>\n",
       "      <th>arrivalTerminal</th>\n",
       "      <th>departureAirportLat</th>\n",
       "      <th>...</th>\n",
       "      <th>arrivalAirportWeather</th>\n",
       "      <th>is_crestian_holiday</th>\n",
       "      <th>departureDate_year</th>\n",
       "      <th>departureDate_hour</th>\n",
       "      <th>departureDate_minute</th>\n",
       "      <th>arrivalDate_year</th>\n",
       "      <th>arrivalDate_hour</th>\n",
       "      <th>arrivalDate_minute</th>\n",
       "      <th>departureDate_day_in_year</th>\n",
       "      <th>arrivalDate_day_in_year</th>\n",
       "    </tr>\n",
       "  </thead>\n",
       "  <tbody>\n",
       "    <tr>\n",
       "      <th>0</th>\n",
       "      <td>381</td>\n",
       "      <td>0</td>\n",
       "      <td>0</td>\n",
       "      <td>22</td>\n",
       "      <td>0</td>\n",
       "      <td>0</td>\n",
       "      <td>204.0</td>\n",
       "      <td>0</td>\n",
       "      <td>0</td>\n",
       "      <td>32.000454</td>\n",
       "      <td>...</td>\n",
       "      <td>0</td>\n",
       "      <td>0</td>\n",
       "      <td>2016</td>\n",
       "      <td>4</td>\n",
       "      <td>45</td>\n",
       "      <td>2016</td>\n",
       "      <td>9</td>\n",
       "      <td>0</td>\n",
       "      <td>176.0</td>\n",
       "      <td>176.0</td>\n",
       "    </tr>\n",
       "    <tr>\n",
       "      <th>1</th>\n",
       "      <td>382</td>\n",
       "      <td>1</td>\n",
       "      <td>1</td>\n",
       "      <td>20</td>\n",
       "      <td>1</td>\n",
       "      <td>0</td>\n",
       "      <td>213.0</td>\n",
       "      <td>1</td>\n",
       "      <td>1</td>\n",
       "      <td>45.627403</td>\n",
       "      <td>...</td>\n",
       "      <td>0</td>\n",
       "      <td>0</td>\n",
       "      <td>2016</td>\n",
       "      <td>10</td>\n",
       "      <td>5</td>\n",
       "      <td>2016</td>\n",
       "      <td>13</td>\n",
       "      <td>55</td>\n",
       "      <td>176.0</td>\n",
       "      <td>176.0</td>\n",
       "    </tr>\n",
       "    <tr>\n",
       "      <th>2</th>\n",
       "      <td>553</td>\n",
       "      <td>0</td>\n",
       "      <td>2</td>\n",
       "      <td>0</td>\n",
       "      <td>0</td>\n",
       "      <td>0</td>\n",
       "      <td>133.0</td>\n",
       "      <td>0</td>\n",
       "      <td>2</td>\n",
       "      <td>32.000454</td>\n",
       "      <td>...</td>\n",
       "      <td>0</td>\n",
       "      <td>0</td>\n",
       "      <td>2016</td>\n",
       "      <td>18</td>\n",
       "      <td>30</td>\n",
       "      <td>2016</td>\n",
       "      <td>21</td>\n",
       "      <td>15</td>\n",
       "      <td>177.0</td>\n",
       "      <td>177.0</td>\n",
       "    </tr>\n",
       "    <tr>\n",
       "      <th>3</th>\n",
       "      <td>554</td>\n",
       "      <td>2</td>\n",
       "      <td>1</td>\n",
       "      <td>29</td>\n",
       "      <td>0</td>\n",
       "      <td>0</td>\n",
       "      <td>137.0</td>\n",
       "      <td>2</td>\n",
       "      <td>1</td>\n",
       "      <td>42.688343</td>\n",
       "      <td>...</td>\n",
       "      <td>0</td>\n",
       "      <td>0</td>\n",
       "      <td>2016</td>\n",
       "      <td>22</td>\n",
       "      <td>15</td>\n",
       "      <td>2016</td>\n",
       "      <td>0</td>\n",
       "      <td>40</td>\n",
       "      <td>177.0</td>\n",
       "      <td>178.0</td>\n",
       "    </tr>\n",
       "    <tr>\n",
       "      <th>5</th>\n",
       "      <td>382</td>\n",
       "      <td>1</td>\n",
       "      <td>1</td>\n",
       "      <td>396</td>\n",
       "      <td>0</td>\n",
       "      <td>0</td>\n",
       "      <td>211.0</td>\n",
       "      <td>1</td>\n",
       "      <td>1</td>\n",
       "      <td>45.627403</td>\n",
       "      <td>...</td>\n",
       "      <td>0</td>\n",
       "      <td>0</td>\n",
       "      <td>2016</td>\n",
       "      <td>10</td>\n",
       "      <td>5</td>\n",
       "      <td>2016</td>\n",
       "      <td>13</td>\n",
       "      <td>55</td>\n",
       "      <td>179.0</td>\n",
       "      <td>179.0</td>\n",
       "    </tr>\n",
       "  </tbody>\n",
       "</table>\n",
       "<p>5 rows × 24 columns</p>\n",
       "</div>"
      ],
      "text/plain": [
       "  flightNumber  departureAirportFsCode  arrivalAirportFsCode  delay_time  \\\n",
       "0          381                       0                     0          22   \n",
       "1          382                       1                     1          20   \n",
       "2          553                       0                     2           0   \n",
       "3          554                       2                     1          29   \n",
       "5          382                       1                     1         396   \n",
       "\n",
       "   aircraft_model  tailnumber  flights_time  departureTerminal  \\\n",
       "0               0           0         204.0                  0   \n",
       "1               1           0         213.0                  1   \n",
       "2               0           0         133.0                  0   \n",
       "3               0           0         137.0                  2   \n",
       "5               0           0         211.0                  1   \n",
       "\n",
       "   arrivalTerminal departureAirportLat  ... arrivalAirportWeather  \\\n",
       "0                0           32.000454  ...                     0   \n",
       "1                1           45.627403  ...                     0   \n",
       "2                2           32.000454  ...                     0   \n",
       "3                1           42.688343  ...                     0   \n",
       "5                1           45.627403  ...                     0   \n",
       "\n",
       "  is_crestian_holiday departureDate_year  departureDate_hour  \\\n",
       "0                   0               2016                   4   \n",
       "1                   0               2016                  10   \n",
       "2                   0               2016                  18   \n",
       "3                   0               2016                  22   \n",
       "5                   0               2016                  10   \n",
       "\n",
       "   departureDate_minute  arrivalDate_year  arrivalDate_hour  \\\n",
       "0                    45              2016                 9   \n",
       "1                     5              2016                13   \n",
       "2                    30              2016                21   \n",
       "3                    15              2016                 0   \n",
       "5                     5              2016                13   \n",
       "\n",
       "   arrivalDate_minute  departureDate_day_in_year  arrivalDate_day_in_year  \n",
       "0                   0                      176.0                    176.0  \n",
       "1                  55                      176.0                    176.0  \n",
       "2                  15                      177.0                    177.0  \n",
       "3                  40                      177.0                    178.0  \n",
       "5                  55                      179.0                    179.0  \n",
       "\n",
       "[5 rows x 24 columns]"
      ]
     },
     "execution_count": 1414,
     "metadata": {},
     "output_type": "execute_result"
    }
   ],
   "source": [
    "flight_df.head()"
   ]
  },
  {
   "attachments": {},
   "cell_type": "markdown",
   "metadata": {},
   "source": [
    "# Choosing Machine Lerning Model"
   ]
  },
  {
   "attachments": {},
   "cell_type": "markdown",
   "metadata": {},
   "source": [
    "We are trying to predict contineus value so we will choose Liniar regresion"
   ]
  },
  {
   "attachments": {},
   "cell_type": "markdown",
   "metadata": {},
   "source": [
    "## Build liniar regresion model"
   ]
  },
  {
   "cell_type": "code",
   "execution_count": null,
   "metadata": {},
   "outputs": [],
   "source": [
    "def train_liniar_reg_model(df,label):\n",
    "    x_scaler = MinMaxScaler()\n",
    "    y_scaler = MinMaxScaler()\n",
    "    X=df.drop(label,axis=1)\n",
    "    y= df[label]\n",
    "\n",
    "    x_scaled = x_scaler.fit_transform(X)\n",
    "    y_scaled = y_scaler.fit_transform(y.values.reshape(-1, 1))\n",
    "\n",
    "    X_train, X_test, y_train, y_test = train_test_split(x_scaled, y_scaled, test_size=0.2, random_state=42)\n",
    "    lr_model = linear_model = LinearRegression()\n",
    "    lr_model.fit(X_train, y_train)\n",
    "\n",
    "\n",
    "    return x_scaler,y_scaler,lr_model,X_test,y_test\n",
    "    "
   ]
  },
  {
   "cell_type": "code",
   "execution_count": null,
   "metadata": {},
   "outputs": [],
   "source": [
    "x_scaler,y_scaler,lr_model,X_test,y_test = train_liniar_reg_model(flight_df.dropna(),'delay_time')"
   ]
  },
  {
   "attachments": {},
   "cell_type": "markdown",
   "metadata": {},
   "source": [
    "## הערכץ ביצועים למודל ריגרסיה ליניארית"
   ]
  },
  {
   "cell_type": "code",
   "execution_count": null,
   "metadata": {},
   "outputs": [],
   "source": [
    "y_pred = lr_model.predict(X_test)\n",
    "#y_pred = y_scaler.inverse_transform(y_pred)\n",
    "#y_test = y_scaler.inverse_transform(y_test)\n",
    "mse = mean_squared_error(y_test, y_pred)"
   ]
  },
  {
   "cell_type": "code",
   "execution_count": null,
   "metadata": {},
   "outputs": [
    {
     "data": {
      "text/plain": [
       "0.001154340541208619"
      ]
     },
     "execution_count": 1454,
     "metadata": {},
     "output_type": "execute_result"
    }
   ],
   "source": [
    "mse"
   ]
  },
  {
   "cell_type": "code",
   "execution_count": null,
   "metadata": {},
   "outputs": [
    {
     "name": "stderr",
     "output_type": "stream",
     "text": [
      "C:\\Users\\rongo\\AppData\\Local\\Packages\\PythonSoftwareFoundation.Python.3.7_qbz5n2kfra8p0\\LocalCache\\local-packages\\Python37\\site-packages\\sklearn\\model_selection\\_validation.py:372: FitFailedWarning: \n",
      "5 fits failed out of a total of 5.\n",
      "The score on these train-test partitions for these parameters will be set to nan.\n",
      "If these failures are not expected, you can try to debug them by setting error_score='raise'.\n",
      "\n",
      "Below are more details about the failures:\n",
      "--------------------------------------------------------------------------------\n",
      "5 fits failed with the following error:\n",
      "Traceback (most recent call last):\n",
      "  File \"C:\\Users\\rongo\\AppData\\Local\\Packages\\PythonSoftwareFoundation.Python.3.7_qbz5n2kfra8p0\\LocalCache\\local-packages\\Python37\\site-packages\\sklearn\\model_selection\\_validation.py\", line 680, in _fit_and_score\n",
      "    estimator.fit(X_train, y_train, **fit_params)\n",
      "  File \"C:\\Users\\rongo\\AppData\\Local\\Packages\\PythonSoftwareFoundation.Python.3.7_qbz5n2kfra8p0\\LocalCache\\local-packages\\Python37\\site-packages\\sklearn\\linear_model\\_base.py\", line 663, in fit\n",
      "    X, y, accept_sparse=accept_sparse, y_numeric=True, multi_output=True\n",
      "  File \"C:\\Users\\rongo\\AppData\\Local\\Packages\\PythonSoftwareFoundation.Python.3.7_qbz5n2kfra8p0\\LocalCache\\local-packages\\Python37\\site-packages\\sklearn\\base.py\", line 581, in _validate_data\n",
      "    X, y = check_X_y(X, y, **check_params)\n",
      "  File \"C:\\Users\\rongo\\AppData\\Local\\Packages\\PythonSoftwareFoundation.Python.3.7_qbz5n2kfra8p0\\LocalCache\\local-packages\\Python37\\site-packages\\sklearn\\utils\\validation.py\", line 976, in check_X_y\n",
      "    estimator=estimator,\n",
      "  File \"C:\\Users\\rongo\\AppData\\Local\\Packages\\PythonSoftwareFoundation.Python.3.7_qbz5n2kfra8p0\\LocalCache\\local-packages\\Python37\\site-packages\\sklearn\\utils\\validation.py\", line 800, in check_array\n",
      "    _assert_all_finite(array, allow_nan=force_all_finite == \"allow-nan\")\n",
      "  File \"C:\\Users\\rongo\\AppData\\Local\\Packages\\PythonSoftwareFoundation.Python.3.7_qbz5n2kfra8p0\\LocalCache\\local-packages\\Python37\\site-packages\\sklearn\\utils\\validation.py\", line 116, in _assert_all_finite\n",
      "    type_err, msg_dtype if msg_dtype is not None else X.dtype\n",
      "ValueError: Input contains NaN, infinity or a value too large for dtype('float64').\n",
      "\n",
      "  warnings.warn(some_fits_failed_message, FitFailedWarning)\n"
     ]
    },
    {
     "data": {
      "text/plain": [
       "nan"
      ]
     },
     "execution_count": 1455,
     "metadata": {},
     "output_type": "execute_result"
    }
   ],
   "source": [
    "def get_cross_val_score(df,label):\n",
    "    x=df.drop(label,axis=1)\n",
    "    y= df[label]\n",
    "    return cross_val_score(lr_model, x, y, cv=5, scoring='r2').mean()\n",
    "get_cross_val_score(flight_df,'delay_time')\n"
   ]
  },
  {
   "cell_type": "code",
   "execution_count": null,
   "metadata": {},
   "outputs": [
    {
     "data": {
      "image/png": "[encoded data removed]",
      "text/plain": [
       "<Figure size 640x480 with 1 Axes>"
      ]
     },
     "metadata": {},
     "output_type": "display_data"
    }
   ],
   "source": [
    "y_pred = y_scaler.inverse_transform(y_pred)\n",
    "y_test = y_scaler.inverse_transform(y_test)\n",
    "plt.scatter(y_test, y_pred)\n",
    "plt.plot([y_test.min(), y_test.max()], [y_test.min(), y_test.max()], 'k--', lw=2)  # Regression line\n",
    "plt.xlabel('Actual Values')\n",
    "plt.ylabel('Predicted Values')\n",
    "plt.title('Scatter Plot of Actual vs. Predicted')\n",
    "plt.show()\n",
    "\n",
    "\n",
    "\n",
    "\n",
    "\n"
   ]
  },
  {
   "attachments": {},
   "cell_type": "markdown",
   "metadata": {},
   "source": [
    "# Try other models to improve our preformance"
   ]
  },
  {
   "attachments": {},
   "cell_type": "markdown",
   "metadata": {},
   "source": [
    "We can convert our problem to classification problem by convert \"delay_time\" column to binds\n",
    "then use Random forest model"
   ]
  },
  {
   "attachments": {},
   "cell_type": "markdown",
   "metadata": {},
   "source": [
    "## Convert flight_delay to binds"
   ]
  },
  {
   "cell_type": "code",
   "execution_count": null,
   "metadata": {},
   "outputs": [],
   "source": [
    "def convert_col_to_bins(df,col):\n",
    "    bins = [i + 20 for i in range(100)]\n",
    "    print(np.digitize(df[col], bins) -1)\n",
    "    df[col] = np.digitize(df[col], bins) -1\n",
    "    return df\n"
   ]
  },
  {
   "attachments": {},
   "cell_type": "markdown",
   "metadata": {},
   "source": [
    "## Build Random forest mpdel"
   ]
  },
  {
   "cell_type": "code",
   "execution_count": null,
   "metadata": {},
   "outputs": [],
   "source": [
    "def train_random_forest_tree_model(df,label):\n",
    "    X_train, X_test, y_train, y_test = train_test_split(df.drop(label,axis=1), df[label], test_size=0.2, random_state=42)\n",
    "    rf_model = RandomForestClassifier(n_estimators=100, random_state=42)\n",
    "    rf_model.fit(X_train, y_train)\n",
    "    return X_test,y_test,rf_model\n",
    "    "
   ]
  },
  {
   "cell_type": "code",
   "execution_count": null,
   "metadata": {},
   "outputs": [
    {
     "ename": "ValueError",
     "evalue": "Input contains NaN, infinity or a value too large for dtype('float32').",
     "output_type": "error",
     "traceback": [
      "\u001b[1;31m---------------------------------------------------------------------------\u001b[0m",
      "\u001b[1;31mValueError\u001b[0m                                Traceback (most recent call last)",
      "\u001b[1;32m~\\AppData\\Local\\Temp\\ipykernel_8972\\280612069.py\u001b[0m in \u001b[0;36m<module>\u001b[1;34m\u001b[0m\n\u001b[1;32m----> 1\u001b[1;33m \u001b[0mX_test\u001b[0m\u001b[1;33m,\u001b[0m\u001b[0my_test\u001b[0m\u001b[1;33m,\u001b[0m\u001b[0mrf_model\u001b[0m \u001b[1;33m=\u001b[0m \u001b[0mtrain_random_forest_tree_model\u001b[0m\u001b[1;33m(\u001b[0m\u001b[0mscaled_flights_df\u001b[0m\u001b[1;33m,\u001b[0m\u001b[1;34m'delay_time'\u001b[0m\u001b[1;33m)\u001b[0m\u001b[1;33m\u001b[0m\u001b[1;33m\u001b[0m\u001b[0m\n\u001b[0m",
      "\u001b[1;32m~\\AppData\\Local\\Temp\\ipykernel_8972\\2335024428.py\u001b[0m in \u001b[0;36mtrain_random_forest_tree_model\u001b[1;34m(df, label)\u001b[0m\n\u001b[0;32m      2\u001b[0m     \u001b[0mX_train\u001b[0m\u001b[1;33m,\u001b[0m \u001b[0mX_test\u001b[0m\u001b[1;33m,\u001b[0m \u001b[0my_train\u001b[0m\u001b[1;33m,\u001b[0m \u001b[0my_test\u001b[0m \u001b[1;33m=\u001b[0m \u001b[0mtrain_test_split\u001b[0m\u001b[1;33m(\u001b[0m\u001b[0mdf\u001b[0m\u001b[1;33m.\u001b[0m\u001b[0mdrop\u001b[0m\u001b[1;33m(\u001b[0m\u001b[0mlabel\u001b[0m\u001b[1;33m,\u001b[0m\u001b[0maxis\u001b[0m\u001b[1;33m=\u001b[0m\u001b[1;36m1\u001b[0m\u001b[1;33m)\u001b[0m\u001b[1;33m,\u001b[0m \u001b[0mdf\u001b[0m\u001b[1;33m[\u001b[0m\u001b[0mlabel\u001b[0m\u001b[1;33m]\u001b[0m\u001b[1;33m,\u001b[0m \u001b[0mtest_size\u001b[0m\u001b[1;33m=\u001b[0m\u001b[1;36m0.2\u001b[0m\u001b[1;33m,\u001b[0m \u001b[0mrandom_state\u001b[0m\u001b[1;33m=\u001b[0m\u001b[1;36m42\u001b[0m\u001b[1;33m)\u001b[0m\u001b[1;33m\u001b[0m\u001b[1;33m\u001b[0m\u001b[0m\n\u001b[0;32m      3\u001b[0m     \u001b[0mrf_model\u001b[0m \u001b[1;33m=\u001b[0m \u001b[0mRandomForestClassifier\u001b[0m\u001b[1;33m(\u001b[0m\u001b[0mn_estimators\u001b[0m\u001b[1;33m=\u001b[0m\u001b[1;36m100\u001b[0m\u001b[1;33m,\u001b[0m \u001b[0mrandom_state\u001b[0m\u001b[1;33m=\u001b[0m\u001b[1;36m42\u001b[0m\u001b[1;33m)\u001b[0m\u001b[1;33m\u001b[0m\u001b[1;33m\u001b[0m\u001b[0m\n\u001b[1;32m----> 4\u001b[1;33m     \u001b[0mrf_model\u001b[0m\u001b[1;33m.\u001b[0m\u001b[0mfit\u001b[0m\u001b[1;33m(\u001b[0m\u001b[0mX_train\u001b[0m\u001b[1;33m,\u001b[0m \u001b[0my_train\u001b[0m\u001b[1;33m)\u001b[0m\u001b[1;33m\u001b[0m\u001b[1;33m\u001b[0m\u001b[0m\n\u001b[0m\u001b[0;32m      5\u001b[0m     \u001b[1;32mreturn\u001b[0m \u001b[0mX_test\u001b[0m\u001b[1;33m,\u001b[0m\u001b[0my_test\u001b[0m\u001b[1;33m,\u001b[0m\u001b[0mrf_model\u001b[0m\u001b[1;33m\u001b[0m\u001b[1;33m\u001b[0m\u001b[0m\n\u001b[0;32m      6\u001b[0m \u001b[1;33m\u001b[0m\u001b[0m\n",
      "\u001b[1;32m~\\AppData\\Local\\Packages\\PythonSoftwareFoundation.Python.3.7_qbz5n2kfra8p0\\LocalCache\\local-packages\\Python37\\site-packages\\sklearn\\ensemble\\_forest.py\u001b[0m in \u001b[0;36mfit\u001b[1;34m(self, X, y, sample_weight)\u001b[0m\n\u001b[0;32m    326\u001b[0m             \u001b[1;32mraise\u001b[0m \u001b[0mValueError\u001b[0m\u001b[1;33m(\u001b[0m\u001b[1;34m\"sparse multilabel-indicator for y is not supported.\"\u001b[0m\u001b[1;33m)\u001b[0m\u001b[1;33m\u001b[0m\u001b[1;33m\u001b[0m\u001b[0m\n\u001b[0;32m    327\u001b[0m         X, y = self._validate_data(\n\u001b[1;32m--> 328\u001b[1;33m             \u001b[0mX\u001b[0m\u001b[1;33m,\u001b[0m \u001b[0my\u001b[0m\u001b[1;33m,\u001b[0m \u001b[0mmulti_output\u001b[0m\u001b[1;33m=\u001b[0m\u001b[1;32mTrue\u001b[0m\u001b[1;33m,\u001b[0m \u001b[0maccept_sparse\u001b[0m\u001b[1;33m=\u001b[0m\u001b[1;34m\"csc\"\u001b[0m\u001b[1;33m,\u001b[0m \u001b[0mdtype\u001b[0m\u001b[1;33m=\u001b[0m\u001b[0mDTYPE\u001b[0m\u001b[1;33m\u001b[0m\u001b[1;33m\u001b[0m\u001b[0m\n\u001b[0m\u001b[0;32m    329\u001b[0m         )\n\u001b[0;32m    330\u001b[0m         \u001b[1;32mif\u001b[0m \u001b[0msample_weight\u001b[0m \u001b[1;32mis\u001b[0m \u001b[1;32mnot\u001b[0m \u001b[1;32mNone\u001b[0m\u001b[1;33m:\u001b[0m\u001b[1;33m\u001b[0m\u001b[1;33m\u001b[0m\u001b[0m\n",
      "\u001b[1;32m~\\AppData\\Local\\Packages\\PythonSoftwareFoundation.Python.3.7_qbz5n2kfra8p0\\LocalCache\\local-packages\\Python37\\site-packages\\sklearn\\base.py\u001b[0m in \u001b[0;36m_validate_data\u001b[1;34m(self, X, y, reset, validate_separately, **check_params)\u001b[0m\n\u001b[0;32m    579\u001b[0m                 \u001b[0my\u001b[0m \u001b[1;33m=\u001b[0m \u001b[0mcheck_array\u001b[0m\u001b[1;33m(\u001b[0m\u001b[0my\u001b[0m\u001b[1;33m,\u001b[0m \u001b[1;33m**\u001b[0m\u001b[0mcheck_y_params\u001b[0m\u001b[1;33m)\u001b[0m\u001b[1;33m\u001b[0m\u001b[1;33m\u001b[0m\u001b[0m\n\u001b[0;32m    580\u001b[0m             \u001b[1;32melse\u001b[0m\u001b[1;33m:\u001b[0m\u001b[1;33m\u001b[0m\u001b[1;33m\u001b[0m\u001b[0m\n\u001b[1;32m--> 581\u001b[1;33m                 \u001b[0mX\u001b[0m\u001b[1;33m,\u001b[0m \u001b[0my\u001b[0m \u001b[1;33m=\u001b[0m \u001b[0mcheck_X_y\u001b[0m\u001b[1;33m(\u001b[0m\u001b[0mX\u001b[0m\u001b[1;33m,\u001b[0m \u001b[0my\u001b[0m\u001b[1;33m,\u001b[0m \u001b[1;33m**\u001b[0m\u001b[0mcheck_params\u001b[0m\u001b[1;33m)\u001b[0m\u001b[1;33m\u001b[0m\u001b[1;33m\u001b[0m\u001b[0m\n\u001b[0m\u001b[0;32m    582\u001b[0m             \u001b[0mout\u001b[0m \u001b[1;33m=\u001b[0m \u001b[0mX\u001b[0m\u001b[1;33m,\u001b[0m \u001b[0my\u001b[0m\u001b[1;33m\u001b[0m\u001b[1;33m\u001b[0m\u001b[0m\n\u001b[0;32m    583\u001b[0m \u001b[1;33m\u001b[0m\u001b[0m\n",
      "\u001b[1;32m~\\AppData\\Local\\Packages\\PythonSoftwareFoundation.Python.3.7_qbz5n2kfra8p0\\LocalCache\\local-packages\\Python37\\site-packages\\sklearn\\utils\\validation.py\u001b[0m in \u001b[0;36mcheck_X_y\u001b[1;34m(X, y, accept_sparse, accept_large_sparse, dtype, order, copy, force_all_finite, ensure_2d, allow_nd, multi_output, ensure_min_samples, ensure_min_features, y_numeric, estimator)\u001b[0m\n\u001b[0;32m    974\u001b[0m         \u001b[0mensure_min_samples\u001b[0m\u001b[1;33m=\u001b[0m\u001b[0mensure_min_samples\u001b[0m\u001b[1;33m,\u001b[0m\u001b[1;33m\u001b[0m\u001b[1;33m\u001b[0m\u001b[0m\n\u001b[0;32m    975\u001b[0m         \u001b[0mensure_min_features\u001b[0m\u001b[1;33m=\u001b[0m\u001b[0mensure_min_features\u001b[0m\u001b[1;33m,\u001b[0m\u001b[1;33m\u001b[0m\u001b[1;33m\u001b[0m\u001b[0m\n\u001b[1;32m--> 976\u001b[1;33m         \u001b[0mestimator\u001b[0m\u001b[1;33m=\u001b[0m\u001b[0mestimator\u001b[0m\u001b[1;33m,\u001b[0m\u001b[1;33m\u001b[0m\u001b[1;33m\u001b[0m\u001b[0m\n\u001b[0m\u001b[0;32m    977\u001b[0m     )\n\u001b[0;32m    978\u001b[0m \u001b[1;33m\u001b[0m\u001b[0m\n",
      "\u001b[1;32m~\\AppData\\Local\\Packages\\PythonSoftwareFoundation.Python.3.7_qbz5n2kfra8p0\\LocalCache\\local-packages\\Python37\\site-packages\\sklearn\\utils\\validation.py\u001b[0m in \u001b[0;36mcheck_array\u001b[1;34m(array, accept_sparse, accept_large_sparse, dtype, order, copy, force_all_finite, ensure_2d, allow_nd, ensure_min_samples, ensure_min_features, estimator)\u001b[0m\n\u001b[0;32m    798\u001b[0m \u001b[1;33m\u001b[0m\u001b[0m\n\u001b[0;32m    799\u001b[0m         \u001b[1;32mif\u001b[0m \u001b[0mforce_all_finite\u001b[0m\u001b[1;33m:\u001b[0m\u001b[1;33m\u001b[0m\u001b[1;33m\u001b[0m\u001b[0m\n\u001b[1;32m--> 800\u001b[1;33m             \u001b[0m_assert_all_finite\u001b[0m\u001b[1;33m(\u001b[0m\u001b[0marray\u001b[0m\u001b[1;33m,\u001b[0m \u001b[0mallow_nan\u001b[0m\u001b[1;33m=\u001b[0m\u001b[0mforce_all_finite\u001b[0m \u001b[1;33m==\u001b[0m \u001b[1;34m\"allow-nan\"\u001b[0m\u001b[1;33m)\u001b[0m\u001b[1;33m\u001b[0m\u001b[1;33m\u001b[0m\u001b[0m\n\u001b[0m\u001b[0;32m    801\u001b[0m \u001b[1;33m\u001b[0m\u001b[0m\n\u001b[0;32m    802\u001b[0m     \u001b[1;32mif\u001b[0m \u001b[0mensure_min_samples\u001b[0m \u001b[1;33m>\u001b[0m \u001b[1;36m0\u001b[0m\u001b[1;33m:\u001b[0m\u001b[1;33m\u001b[0m\u001b[1;33m\u001b[0m\u001b[0m\n",
      "\u001b[1;32m~\\AppData\\Local\\Packages\\PythonSoftwareFoundation.Python.3.7_qbz5n2kfra8p0\\LocalCache\\local-packages\\Python37\\site-packages\\sklearn\\utils\\validation.py\u001b[0m in \u001b[0;36m_assert_all_finite\u001b[1;34m(X, allow_nan, msg_dtype)\u001b[0m\n\u001b[0;32m    114\u001b[0m             raise ValueError(\n\u001b[0;32m    115\u001b[0m                 msg_err.format(\n\u001b[1;32m--> 116\u001b[1;33m                     \u001b[0mtype_err\u001b[0m\u001b[1;33m,\u001b[0m \u001b[0mmsg_dtype\u001b[0m \u001b[1;32mif\u001b[0m \u001b[0mmsg_dtype\u001b[0m \u001b[1;32mis\u001b[0m \u001b[1;32mnot\u001b[0m \u001b[1;32mNone\u001b[0m \u001b[1;32melse\u001b[0m \u001b[0mX\u001b[0m\u001b[1;33m.\u001b[0m\u001b[0mdtype\u001b[0m\u001b[1;33m\u001b[0m\u001b[1;33m\u001b[0m\u001b[0m\n\u001b[0m\u001b[0;32m    117\u001b[0m                 )\n\u001b[0;32m    118\u001b[0m             )\n",
      "\u001b[1;31mValueError\u001b[0m: Input contains NaN, infinity or a value too large for dtype('float32')."
     ]
    }
   ],
   "source": [
    "X_test,y_test,rf_model = train_random_forest_tree_model(scaled_flights_df,'delay_time')"
   ]
  },
  {
   "attachments": {},
   "cell_type": "markdown",
   "metadata": {},
   "source": [
    "## Hyper parameter tuning"
   ]
  },
  {
   "cell_type": "code",
   "execution_count": null,
   "metadata": {},
   "outputs": [],
   "source": []
  },
  {
   "attachments": {},
   "cell_type": "markdown",
   "metadata": {},
   "source": [
    "## הערכת ביצועים למודל random forest"
   ]
  },
  {
   "cell_type": "code",
   "execution_count": null,
   "metadata": {},
   "outputs": [],
   "source": []
  },
  {
   "attachments": {},
   "cell_type": "markdown",
   "metadata": {},
   "source": [
    "# Compare between 2 models"
   ]
  },
  {
   "cell_type": "code",
   "execution_count": null,
   "metadata": {},
   "outputs": [],
   "source": []
  }
 ],
 "metadata": {
  "kernelspec": {
   "display_name": "Python 3",
   "language": "python",
   "name": "python3"
  },
  "language_info": {
   "codemirror_mode": {
    "name": "ipython",
    "version": 3
   },
   "file_extension": ".py",
   "mimetype": "text/x-python",
   "name": "python",
   "nbconvert_exporter": "python",
   "pygments_lexer": "ipython3",
   "version": "3.7.9"
  },
  "orig_nbformat": 4
 },
 "nbformat": 4,
 "nbformat_minor": 2
}
