{
 "cells": [
  {
   "attachments": {},
   "cell_type": "markdown",
   "metadata": {},
   "source": [
    "# Data science Project"
   ]
  },
  {
   "attachments": {},
   "cell_type": "markdown",
   "metadata": {},
   "source": [
    "## Intro\n",
    "\n",
    "In this project we going to explor data about ELAL's flight history.\n",
    "The perpose is to explor if we can to predict if ELAL's flight will delayd or canceld\n",
    "\n"
   ]
  },
  {
   "attachments": {},
   "cell_type": "markdown",
   "metadata": {},
   "source": [
    "### Imports"
   ]
  },
  {
   "cell_type": "code",
   "execution_count": 706,
   "metadata": {},
   "outputs": [],
   "source": [
    "import requests\n",
    "import json\n",
    "import pandas as pd\n",
    "import numpy as np\n",
    "from datetime import datetime, timedelta\n",
    "from bs4 import BeautifulSoup\n",
    "import seaborn as sns\n",
    "import os\n",
    "import time\n",
    "from time import sleep\n",
    "from dateutil.relativedelta import relativedelta, MO\n",
    "from dateutil.easter import easter\n",
    "import jewish\n",
    "import calendar\n",
    "import matplotlib.pyplot as plt\n",
    "from sklearn import linear_model\n",
    "from sklearn.preprocessing import StandardScaler\n",
    "from sklearn.preprocessing import MinMaxScaler\n",
    "from sklearn.ensemble import RandomForestClassifier\n",
    "from sklearn.model_selection import train_test_split\n",
    "from sklearn.metrics import accuracy_score\n",
    "from sklearn.linear_model import LinearRegression\n",
    "from sklearn.model_selection import train_test_split\n",
    "from sklearn.metrics import mean_squared_error\n",
    "from sklearn.model_selection import cross_val_score\n",
    "%matplotlib inline  \n",
    "# Credit to https://github.com/emosenkis/jewish/blob/master/LICENSE"
   ]
  },
  {
   "attachments": {},
   "cell_type": "markdown",
   "metadata": {},
   "source": [
    "### Const Varibles"
   ]
  },
  {
   "cell_type": "code",
   "execution_count": 707,
   "metadata": {},
   "outputs": [],
   "source": [
    "BASE_URL='https://api.flightstats.com/flex/flightstatus/historical/rest/v3/json/'\n",
    "\n",
    "\n",
    "# APP_KEY='1073eea843b49ef65cd3dedce57340e0'\n",
    "# APP_ID='a55ccedd'\n",
    "\n",
    "# APP_KEY='9981b617cba5bb3f32d90ba0da4e2af4'\n",
    "# APP_ID='65c679ae'\n",
    "\n",
    "# APP_KEY= '9fb822148287f2805212cc61c199d8f8'\n",
    "# APP_ID = 'd7585437'\n",
    "\n",
    "# APP_KEY = 'eca188e5f3d730ee5d28907112889342'\n",
    "# APP_ID = '4176580c'\n",
    "\n",
    "# APP_KEY = '37512902d28a8deac5ec0325e9f40a56'\n",
    "# APP_ID = 'bfeb4319'\n",
    "\n",
    "APP_KEY = '838de104ed9b72554e810d417ec8f528'\n",
    "APP_ID = '62e0f779'\n",
    "\n",
    "ElAl_AIRCRAFTS_WEB_URL = 'https://www.elal.com/heb/about-elal/our-fleet/all-aircraft'\n",
    "FLIGHTEAR_Base_URL = 'https://www.flightera.net/en/planes/'\n",
    "\n",
    "AIRCRAFTS_DATA_FILE = 'aircrafts.json'\n",
    "FLIGHT_Data_FILE = 'flights_data.json'\n",
    "FLIGHTS_SCAN_METADATA_FILE = 'flights_scan_metadata.json'\n",
    "\n",
    "TAIL_NUMBER_FEILD_NAME = 'tail_number'\n",
    "FIRST_FLIGHT_DATE_FEILD_NAME = 'first_flight_date'\n",
    "LAST_FLIGHT_DATE_FEILD_NAME = 'last-flight_date'\n",
    "SEATS_FEILD_NAME = 'seats'\n",
    "LAST_SCANNED__DATE_FEILD_NAME = 'last_scanned_date'\n"
   ]
  },
  {
   "attachments": {},
   "cell_type": "markdown",
   "metadata": {},
   "source": [
    "## General files and json functions"
   ]
  },
  {
   "attachments": {},
   "cell_type": "markdown",
   "metadata": {},
   "source": [
    "Functions that store and loads data from files"
   ]
  },
  {
   "cell_type": "code",
   "execution_count": 708,
   "metadata": {},
   "outputs": [],
   "source": [
    "def store_object_to_file(file_name,data):\n",
    "    with open(file_name, 'w') as outfile:\n",
    "        json.dump(data, outfile)"
   ]
  },
  {
   "cell_type": "code",
   "execution_count": 709,
   "metadata": {},
   "outputs": [],
   "source": [
    "def load_object_from_file(filename):\n",
    "    if(not os.path.exists(filename)):\n",
    "        return None\n",
    "    with open(filename) as f:\n",
    "        return json.load(f)"
   ]
  },
  {
   "cell_type": "code",
   "execution_count": 710,
   "metadata": {},
   "outputs": [],
   "source": [
    "def store_data_to_aircrafts_file(tailnumber,feild_name,data):\n",
    "    aircrafts_list = load_object_from_file(AIRCRAFTS_DATA_FILE)\n",
    "    if(not aircrafts_list):\n",
    "        aircrafts_list = []\n",
    "    for i,aircraft in enumerate(aircrafts_list):\n",
    "        if(tailnumber == aircraft[TAIL_NUMBER_FEILD_NAME]):\n",
    "            aircrafts_list[i][feild_name] = data\n",
    "            store_object_to_file(AIRCRAFTS_DATA_FILE,aircrafts_list)\n",
    "            return"
   ]
  },
  {
   "cell_type": "code",
   "execution_count": 711,
   "metadata": {},
   "outputs": [],
   "source": [
    "def load_data_from_aircrafts_file(tailnumber,feild_name):\n",
    "    if(not os.path.exists(AIRCRAFTS_DATA_FILE)):\n",
    "        return None\n",
    "    aircrafts_list = load_object_from_file(AIRCRAFTS_DATA_FILE)\n",
    "    for aircraft in aircrafts_list:\n",
    "        if(tailnumber == aircraft[TAIL_NUMBER_FEILD_NAME]):\n",
    "            if feild_name in aircraft:\n",
    "                return aircraft[feild_name]\n",
    "            else:\n",
    "                return None"
   ]
  },
  {
   "attachments": {},
   "cell_type": "markdown",
   "metadata": {},
   "source": [
    "## Dates and holidays calculations"
   ]
  },
  {
   "attachments": {},
   "cell_type": "markdown",
   "metadata": {},
   "source": [
    "Mounths dictianery used to translate month name to numbrr"
   ]
  },
  {
   "cell_type": "code",
   "execution_count": 712,
   "metadata": {},
   "outputs": [],
   "source": [
    "months = {\n",
    "        'jan': 1,\n",
    "        'feb': 2,\n",
    "        'mar': 3,\n",
    "        'apr':4,\n",
    "         'may':5,\n",
    "         'jun':6,\n",
    "         'jul':7,\n",
    "         'aug':8,\n",
    "         'sep':9,\n",
    "         'oct':10,\n",
    "         'nov':11,\n",
    "         'dec':12\n",
    "        }\n"
   ]
  },
  {
   "attachments": {},
   "cell_type": "markdown",
   "metadata": {},
   "source": [
    "Check if some date is crestian holiday"
   ]
  },
  {
   "cell_type": "code",
   "execution_count": 713,
   "metadata": {},
   "outputs": [],
   "source": [
    "def is_christian_holiday(date):\n",
    "    easter_date = easter(date.year)\n",
    "    easter_sunday = datetime.strptime(easter_date.strftime('%m/%d/%Y'), '%m/%d/%Y').date()\n",
    "    easter_monday = easter_sunday + relativedelta(weekday=MO)\n",
    "    good_friday = easter_sunday - relativedelta(days=2)\n",
    "    christmas_day = datetime(year=date.year, month=12, day=25).date()\n",
    "    holidays = [easter_sunday, easter_monday, good_friday, christmas_day]\n",
    "    return int(date in holidays)"
   ]
  },
  {
   "cell_type": "code",
   "execution_count": 714,
   "metadata": {},
   "outputs": [],
   "source": [
    "def is_jewish_holiday(date):\n",
    "    jewish_date = jewish.JewishDate.from_date(date)\n",
    "\n",
    "    #rosh hashana\n",
    "    if(jewish_date.day == 1 and jewish_date.month == 1): return 1\n",
    "    #yom kipur\n",
    "    if(jewish_date.day == 10 and jewish_date.month == 1): return 1\n",
    "    #sukot\n",
    "    if(jewish_date.month == 1 and (jewish_date.day >= 16 and jewish_date.day <= 21)): return 1\n",
    "    #hanuka\n",
    "    if(jewish_date.month == 3 and (jewish_date.day >= 23 and jewish_date.day <= 29)): return 1\n",
    "    #passover\n",
    "    if(jewish_date.month == 7 and (jewish_date.day >= 14 and jewish_date.day <= 22)): return 1\n",
    "\n",
    "    return 0\n",
    "\n"
   ]
  },
  {
   "attachments": {},
   "cell_type": "markdown",
   "metadata": {},
   "source": [
    "### API functions"
   ]
  },
  {
   "cell_type": "code",
   "execution_count": 715,
   "metadata": {},
   "outputs": [],
   "source": [
    "# \"BASE URL + flight/status/tailNumber/4x-ELA/2015/1/1?appId=b1aa7a60&appKey=ed14bb251c167a18733cccbf86105175\"\n",
    "\n",
    "def get_Flight_by_date_and_tail_number(date,tail_number, days_per_request):\n",
    "    formatted_date = date.strftime(\"%Y/%m/%d\")\n",
    "\n",
    "    #URL = BASE_URL + 'flight/status/tailNumber/' + tail_number + '/' + formatted_date + '?appId=' + APP_KEY + '&appKey=' + API_KEY\n",
    "    URL = BASE_URL+'flight/status/tailNumber/'+tail_number+'/'+formatted_date+'?appId='+APP_ID+'&appKey='+APP_KEY+'&numDays=30'#+str(days_per_request)\n",
    "    response = requests.get(URL)\n",
    "    json_res =  response.json()\n",
    "    if 'flightStatuses' in json_res: return json_res['flightStatuses'] , None\n",
    "    if('error' in json_res): return None , json_res['error']\n",
    "    return None, json_res[0]\n"
   ]
  },
  {
   "attachments": {},
   "cell_type": "markdown",
   "metadata": {},
   "source": [
    "test the api"
   ]
  },
  {
   "cell_type": "code",
   "execution_count": 716,
   "metadata": {},
   "outputs": [],
   "source": [
    "# res = get_Flight_by_date_and_tail_number(datetime(2017,9,28),'4X-EDA',days_per_request=30)\n",
    "# res"
   ]
  },
  {
   "attachments": {},
   "cell_type": "markdown",
   "metadata": {},
   "source": [
    "## Get information that we need before start to send api requests"
   ]
  },
  {
   "attachments": {},
   "cell_type": "markdown",
   "metadata": {},
   "source": [
    "To send this API request we have to know the aircradt tail number\n",
    "we will get this informaition from elal web side via crouling"
   ]
  },
  {
   "cell_type": "code",
   "execution_count": 717,
   "metadata": {},
   "outputs": [],
   "source": [
    "elal_web_res = requests.get(ElAl_AIRCRAFTS_WEB_URL)"
   ]
  },
  {
   "cell_type": "code",
   "execution_count": 718,
   "metadata": {},
   "outputs": [],
   "source": [
    "\n",
    "elal_soup = BeautifulSoup(elal_web_res.content)"
   ]
  },
  {
   "attachments": {},
   "cell_type": "markdown",
   "metadata": {},
   "source": [
    "Define functios that clean the data\n",
    "\n",
    "\n",
    "The format of right israeli tail number is '4X-' and 3 letters\n",
    "like: '$X-ABC'"
   ]
  },
  {
   "cell_type": "code",
   "execution_count": 719,
   "metadata": {},
   "outputs": [],
   "source": [
    "def clean_tail_numberst(tail_number):\n",
    "    tail_number = tail_number.upper()\n",
    "    first_instance_of_4x = tail_number.find('4X-')\n",
    "    new_tail_number = tail_number[first_instance_of_4x:first_instance_of_4x+6]\n",
    "    return new_tail_number\n",
    "\n"
   ]
  },
  {
   "cell_type": "code",
   "execution_count": 720,
   "metadata": {},
   "outputs": [],
   "source": [
    "def clean_aircraft_name(name):\n",
    "    return str(name.replace('\\u200b',''))"
   ]
  },
  {
   "cell_type": "code",
   "execution_count": 721,
   "metadata": {},
   "outputs": [],
   "source": [
    "def clean_model(model):\n",
    "    model = model.strip()\n",
    "    return model[3:]"
   ]
  },
  {
   "attachments": {},
   "cell_type": "markdown",
   "metadata": {},
   "source": [
    "Define function that return list of aircraft with ther usefull data"
   ]
  },
  {
   "cell_type": "code",
   "execution_count": 722,
   "metadata": {},
   "outputs": [],
   "source": [
    "def get_basic_aircrafts_data_list():\n",
    "    if(os.path.exists(AIRCRAFTS_DATA_FILE)):\n",
    "        return load_object_from_file(AIRCRAFTS_DATA_FILE)\n",
    "    \n",
    "    aircrafts_list=[]\n",
    "    tables_list = elal_soup.find_all('tbody')\n",
    "    headers_list = elal_soup.find_all('span',class_ = 'mat-content')\n",
    "    for j,table in enumerate(tables_list):\n",
    "        rows_list = table.findAll('tr')\n",
    "        for row in rows_list[1:]:\n",
    "            cells_list = row.findAll('td')\n",
    "            for i,cell in enumerate(cells_list[1::2]):\n",
    "                aircraft_object = {}\n",
    "                aircraft_object['tail_number'] = clean_tail_numberst(cell.get_text())\n",
    "                aircraft_object['model'] = clean_model(headers_list[j].get_text())\n",
    "                aircraft_object['name'] = clean_aircraft_name(cells_list[i].get_text())\n",
    "                aircrafts_list.append(aircraft_object) \n",
    "\n",
    "    if (not os.path.exists(AIRCRAFTS_DATA_FILE)):\n",
    "        store_object_to_file(AIRCRAFTS_DATA_FILE,aircrafts_list)   \n",
    "    return aircrafts_list\n",
    "\n",
    "#basic_data\n",
    "\n"
   ]
  },
  {
   "attachments": {},
   "cell_type": "markdown",
   "metadata": {},
   "source": [
    "### Get more Advanced information about aircraft that not exost in ELAL website "
   ]
  },
  {
   "attachments": {},
   "cell_type": "markdown",
   "metadata": {},
   "source": [
    "this dictianery store soap object about each aircraft\n",
    "it use to lower the http get request to flightera website becaue it will block us if we try to request each time we want more information about the same aircraft"
   ]
  },
  {
   "cell_type": "code",
   "execution_count": 723,
   "metadata": {},
   "outputs": [],
   "source": [
    "flightEra_soaps_dict = {}"
   ]
  },
  {
   "attachments": {},
   "cell_type": "markdown",
   "metadata": {},
   "source": [
    "Define function that get flightera soap object of spesific air craft\n",
    "\n",
    "if we also have soap object about this aircraft in the dict we just need to return it\n",
    "else, we create http request, convert it to soap object and store it to the dist. then return it"
   ]
  },
  {
   "cell_type": "code",
   "execution_count": null,
   "metadata": {},
   "outputs": [],
   "source": []
  },
  {
   "cell_type": "code",
   "execution_count": 724,
   "metadata": {},
   "outputs": [],
   "source": [
    "def get_flghtera_soap_by_tail_number(tail_number): \n",
    "    if (tail_number.lower() not in flightEra_soaps_dict):       \n",
    "        URL = FLIGHTEAR_Base_URL + tail_number\n",
    "        flightera_response = requests.get(URL)\n",
    "        if (not flightera_response.status_code == 200):\n",
    "            print('Error resived data about '+tail_number+' from FLightera web sit, error code: ' + str(flightera_response.status_code))\n",
    "            return None\n",
    "        flightEra_soaps_dict[tail_number] =  BeautifulSoup(flightera_response.content)\n",
    "    \n",
    "    return flightEra_soaps_dict[tail_number]"
   ]
  },
  {
   "cell_type": "code",
   "execution_count": 725,
   "metadata": {},
   "outputs": [
    {
     "name": "stdout",
     "output_type": "stream",
     "text": [
      "Error resived data about 4x-elk from FLightera web sit, error code: 403\n"
     ]
    }
   ],
   "source": [
    "x = get_flghtera_soap_by_tail_number('4x-elk')\n",
    "x"
   ]
  },
  {
   "attachments": {},
   "cell_type": "markdown",
   "metadata": {},
   "source": [
    "## Get first  and last filght date"
   ]
  },
  {
   "attachments": {},
   "cell_type": "markdown",
   "metadata": {},
   "source": [
    "we neet to get the first time that specific aircrat fly.\n",
    "this information help us to reduse the api request we need to do because eithout it we will need to create requests for evwry day in pre known dates range and if we know the first and last flights date of the aircraft we can short the dates range"
   ]
  },
  {
   "attachments": {},
   "cell_type": "markdown",
   "metadata": {},
   "source": [
    "### Get first flight date"
   ]
  },
  {
   "cell_type": "code",
   "execution_count": 726,
   "metadata": {},
   "outputs": [],
   "source": [
    "def get_first_flight_date_from_Cache(tail_number):\n",
    "    return load_data_from_aircrafts_file(tail_number,FIRST_FLIGHT_DATE_FEILD_NAME)"
   ]
  },
  {
   "cell_type": "code",
   "execution_count": 727,
   "metadata": {},
   "outputs": [],
   "source": [
    "def store_first_flight_date_data(tail_number,first_flight_date):\n",
    "    store_data_to_aircrafts_file(tail_number,FIRST_FLIGHT_DATE_FEILD_NAME,first_flight_date)"
   ]
  },
  {
   "cell_type": "code",
   "execution_count": 728,
   "metadata": {},
   "outputs": [],
   "source": [
    "def clean_first_flight_dtate_string(date_str):\n",
    "    clean_str = date_str.replace('\\n', '')\n",
    "    clean_str = clean_str.strip()\n",
    "    clean_str = clean_str[:clean_str.find('(')]\n",
    "    clean_str = clean_str.strip()\n",
    "    return clean_str"
   ]
  },
  {
   "cell_type": "code",
   "execution_count": 729,
   "metadata": {},
   "outputs": [],
   "source": [
    "def convert_daytime_to_dict(date):\n",
    "    if (date == None):\n",
    "         return None\n",
    "    return {\n",
    "        'year' : date.year,\n",
    "        'month' : date.month,\n",
    "        'day' : date.day\n",
    "    }"
   ]
  },
  {
   "cell_type": "code",
   "execution_count": 730,
   "metadata": {},
   "outputs": [],
   "source": [
    "def get_first_flight_date_by_crowling(tail_number):\n",
    "    aircraft_soap = get_flghtera_soap_by_tail_number(tail_number.lower())\n",
    "    if(not aircraft_soap): \n",
    "        return None\n",
    "    try:\n",
    "        for td in aircraft_soap.find_all('td'):\n",
    "            if(td.get_text().find('years ago') != -1):\n",
    "                date_string = td.get_text()\n",
    "        date_string = clean_first_flight_dtate_string(date_string)\n",
    "        month , year = date_string.split(' ')\n",
    "        return convert_daytime_to_dict(datetime(int(year),int(months[month.lower()]),27))\n",
    "    except:\n",
    "        return None\n",
    "    return None"
   ]
  },
  {
   "cell_type": "code",
   "execution_count": 731,
   "metadata": {},
   "outputs": [],
   "source": [
    "def get_first_flight_date_by_tailnnumber(tail_number):\n",
    "    cashed_data = get_first_flight_date_from_Cache(tail_number)\n",
    "    \n",
    "    if(cashed_data):\n",
    "        return cashed_data\n",
    "    else: \n",
    "        first_flight_date_data = get_first_flight_date_by_crowling(tail_number)\n",
    "        if(first_flight_date_data):\n",
    "            store_first_flight_date_data(tail_number,first_flight_date_data)\n",
    "            return first_flight_date_data\n",
    "        return None"
   ]
  },
  {
   "attachments": {},
   "cell_type": "markdown",
   "metadata": {},
   "source": [
    "### Get Last flight date"
   ]
  },
  {
   "cell_type": "code",
   "execution_count": 732,
   "metadata": {},
   "outputs": [],
   "source": [
    "def get_last_flight_date_from_Cache(tail_number):\n",
    "    return load_data_from_aircrafts_file(tail_number,LAST_FLIGHT_DATE_FEILD_NAME)"
   ]
  },
  {
   "cell_type": "code",
   "execution_count": 733,
   "metadata": {},
   "outputs": [],
   "source": [
    "def store_last_flight_date_data(tail_number,last_flight_date):\n",
    "    store_data_to_aircrafts_file(tail_number,LAST_FLIGHT_DATE_FEILD_NAME,last_flight_date)"
   ]
  },
  {
   "cell_type": "code",
   "execution_count": 734,
   "metadata": {},
   "outputs": [],
   "source": [
    "def clean_last_flight_month(mnt):\n",
    "    mnt = mnt.replace('\\t','')\n",
    "    mnt = mnt.strip()\n",
    "    mnt = mnt[:3]\n",
    "    return mnt.lower()"
   ]
  },
  {
   "cell_type": "code",
   "execution_count": 735,
   "metadata": {},
   "outputs": [],
   "source": [
    "def get_last_flight_date_by_crowling(tail_number):\n",
    "    aircraft_soap = get_flghtera_soap_by_tail_number(tail_number.lower())\n",
    "    if(not aircraft_soap): return None\n",
    "    try:\n",
    "        year = int(aircraft_soap.find('body').find_all('div',class_='sm:px-6')[4].find_all('dt')[0].get_text())\n",
    "        month = aircraft_soap.find('body').find_all('div',class_='sm:px-6')[4].find_all('dl')[0].find_all('dd')[0].find_all('div')[0].get_text()\n",
    "        month = clean_last_flight_month(month)\n",
    "        \n",
    "        last_flight_date = datetime(year,months[month],1)\n",
    "        return convert_daytime_to_dict(last_flight_date)\n",
    "    except:\n",
    "        return None\n",
    "    return None"
   ]
  },
  {
   "cell_type": "code",
   "execution_count": 736,
   "metadata": {},
   "outputs": [],
   "source": [
    "def get_last_flight_date_by_tailnnumber(tail_number):\n",
    "    cashed_data = get_last_flight_date_from_Cache(tail_number)\n",
    "    if(cashed_data): return cashed_data\n",
    "    else: \n",
    "        last_flight_date_data = get_last_flight_date_by_crowling(tail_number)\n",
    "        if(last_flight_date_data):\n",
    "            store_last_flight_date_data(tail_number,last_flight_date_data)\n",
    "            return last_flight_date_data\n",
    "        return None"
   ]
  },
  {
   "attachments": {},
   "cell_type": "markdown",
   "metadata": {},
   "source": [
    "## Get number of seats per aircraft"
   ]
  },
  {
   "attachments": {},
   "cell_type": "markdown",
   "metadata": {},
   "source": [
    "this information can be usefull to predict the dilay time of flight"
   ]
  },
  {
   "cell_type": "code",
   "execution_count": 737,
   "metadata": {},
   "outputs": [],
   "source": [
    "def store_seats_data(tail_number,seats_object):\n",
    "    store_data_to_aircrafts_file(tail_number,SEATS_FEILD_NAME,seats_object)"
   ]
  },
  {
   "cell_type": "code",
   "execution_count": 738,
   "metadata": {},
   "outputs": [],
   "source": [
    "def get_seats_from_Cache(tail_number):\n",
    "    return load_data_from_aircrafts_file(tail_number,SEATS_FEILD_NAME)"
   ]
  },
  {
   "cell_type": "code",
   "execution_count": 739,
   "metadata": {},
   "outputs": [],
   "source": [
    "def get_seats_by_crowling(tail_number):\n",
    "    aircraft_soap = get_flghtera_soap_by_tail_number(tail_number.lower())\n",
    "    aircraft_seat_object = {}\n",
    "    strings = []\n",
    "    try:\n",
    "        for td in aircraft_soap.find_all('td'):\n",
    "            if(td.get_text().find('seats') != -1):\n",
    "                strings = td.get_text().split('\\n')\n",
    "                \n",
    "    except:\n",
    "        return None\n",
    "    i=0\n",
    "    for i,s in enumerate(strings):\n",
    "        if(s.find('seats') != -1):\n",
    "            break\n",
    "    for content in strings[i+1:-1]:\n",
    "        seat , class_ = content.split(' ')\n",
    "        aircraft_seat_object[class_] = str(seat)\n",
    "        print(aircraft_seat_object)\n",
    "\n",
    "    return aircraft_seat_object\n",
    "    "
   ]
  },
  {
   "cell_type": "code",
   "execution_count": 740,
   "metadata": {},
   "outputs": [],
   "source": [
    "def get_seats_by_tail_number(tail_number):\n",
    "    cashed_data = get_seats_from_Cache(tail_number)\n",
    "    if(cashed_data): return cashed_data\n",
    "    else: \n",
    "        seats_data = get_seats_by_crowling(tail_number)\n",
    "        if(seats_data):\n",
    "            store_seats_data(tail_number,seats_data)\n",
    "            return seats_data\n",
    "        return None\n",
    "        "
   ]
  },
  {
   "attachments": {},
   "cell_type": "markdown",
   "metadata": {},
   "source": [
    "### Last scanned date"
   ]
  },
  {
   "attachments": {},
   "cell_type": "markdown",
   "metadata": {},
   "source": [
    "we store the last scanned date,\n",
    "this date is the last date from all the days this air craft was active that we know the flight history of.\n",
    "\n",
    "for example if the aircraft is active from 1/1/2017 untill today and last scanned date is 1/3/2017 it's mean we have all the flights of this aircraft from 1/1/2017 to 1/3/2017.\n",
    "\n",
    "this information help us to avoid duplicate flights in our dataset and minimize the number of api requests"
   ]
  },
  {
   "cell_type": "code",
   "execution_count": 741,
   "metadata": {},
   "outputs": [],
   "source": [
    "def get_last_scanned_date_from_Cache(tail_number):\n",
    "    return load_data_from_aircrafts_file(tail_number,LAST_SCANNED__DATE_FEILD_NAME)\n",
    "    "
   ]
  },
  {
   "cell_type": "code",
   "execution_count": 742,
   "metadata": {},
   "outputs": [],
   "source": [
    "def get_last_scanned_date_of_aircraft(tail_number):\n",
    "    cashed_data = get_last_scanned_date_from_Cache(tail_number)\n",
    "    if(cashed_data): return cashed_data\n",
    "    else: \n",
    "        last_scanned_date = load_data_from_aircrafts_file(tail_number,FIRST_FLIGHT_DATE_FEILD_NAME) \n",
    "        if(last_scanned_date):\n",
    "            store_data_to_aircrafts_file(tail_number,LAST_SCANNED__DATE_FEILD_NAME,last_scanned_date)\n",
    "            return last_scanned_date\n",
    "        return None"
   ]
  },
  {
   "attachments": {},
   "cell_type": "markdown",
   "metadata": {},
   "source": [
    "## Put all this data togeter"
   ]
  },
  {
   "attachments": {},
   "cell_type": "markdown",
   "metadata": {},
   "source": [
    "Define function that get advanced information about eace air crafr\n",
    "this function call to every function that can add information about spesific aircraft"
   ]
  },
  {
   "cell_type": "code",
   "execution_count": 743,
   "metadata": {},
   "outputs": [],
   "source": [
    "def get_aircrafts_full_information():\n",
    "    if (os.path.exists(AIRCRAFTS_DATA_FILE)):\n",
    "        return load_object_from_file(AIRCRAFTS_DATA_FILE)\n",
    "    \n",
    "    aircrafts_list = get_basic_aircrafts_data_list()\n",
    "    for aircraft in aircrafts_list:\n",
    "        #Add first flight date information\n",
    "        first_flght_date_data = get_first_flight_date_by_tailnnumber(aircraft[TAIL_NUMBER_FEILD_NAME])\n",
    "        if(first_flght_date_data):\n",
    "            aircraft[FIRST_FLIGHT_DATE_FEILD_NAME] = first_flght_date_data\n",
    "\n",
    "        #Add last flight date information\n",
    "        last_flght_date_data = get_last_flight_date_by_tailnnumber(aircraft[TAIL_NUMBER_FEILD_NAME])\n",
    "        if(last_flght_date_data):\n",
    "            aircraft[LAST_FLIGHT_DATE_FEILD_NAME] = last_flght_date_data\n",
    "\n",
    "        #Add seats to airplanes data\n",
    "        seats_data = get_seats_by_tail_number(aircraft[TAIL_NUMBER_FEILD_NAME])\n",
    "        if(seats_data):\n",
    "            aircraft[SEATS_FEILD_NAME] = seats_data\n",
    "        \n",
    "        last_scanned_daate = get_last_scanned_date_of_aircraft(aircraft[TAIL_NUMBER_FEILD_NAME])\n",
    "        if(last_scanned_daate):\n",
    "            aircraft[LAST_SCANNED__DATE_FEILD_NAME] = last_scanned_daate\n",
    "\n",
    "\n",
    "    store_object_to_file(AIRCRAFTS_DATA_FILE,aircrafts_list)\n",
    "    return aircrafts_list\n"
   ]
  },
  {
   "attachments": {},
   "cell_type": "markdown",
   "metadata": {},
   "source": [
    "We will add one more feild to the aircraft data that contain the last data that the API Checked"
   ]
  },
  {
   "attachments": {},
   "cell_type": "markdown",
   "metadata": {},
   "source": [
    "## Preview our aircrafts data"
   ]
  },
  {
   "cell_type": "code",
   "execution_count": 744,
   "metadata": {},
   "outputs": [
    {
     "ename": "OSError",
     "evalue": "[Errno 22] Invalid argument: 'aircrafts.json'",
     "output_type": "error",
     "traceback": [
      "\u001b[1;31m---------------------------------------------------------------------------\u001b[0m",
      "\u001b[1;31mOSError\u001b[0m                                   Traceback (most recent call last)",
      "\u001b[1;32m~\\AppData\\Local\\Temp\\ipykernel_8972\\2071124871.py\u001b[0m in \u001b[0;36m<module>\u001b[1;34m\u001b[0m\n\u001b[0;32m      3\u001b[0m     \u001b[0mdf\u001b[0m \u001b[1;33m=\u001b[0m \u001b[0mpd\u001b[0m\u001b[1;33m.\u001b[0m\u001b[0mDataFrame\u001b[0m\u001b[1;33m(\u001b[0m\u001b[0maircrafts_list\u001b[0m\u001b[1;33m)\u001b[0m\u001b[1;33m\u001b[0m\u001b[1;33m\u001b[0m\u001b[0m\n\u001b[0;32m      4\u001b[0m     \u001b[1;32mreturn\u001b[0m \u001b[0mdf\u001b[0m\u001b[1;33m\u001b[0m\u001b[1;33m\u001b[0m\u001b[0m\n\u001b[1;32m----> 5\u001b[1;33m \u001b[0maircrafts_df\u001b[0m \u001b[1;33m=\u001b[0m \u001b[0mget_airrcrafts_data_as_dataframe\u001b[0m\u001b[1;33m(\u001b[0m\u001b[1;33m)\u001b[0m\u001b[1;33m\u001b[0m\u001b[1;33m\u001b[0m\u001b[0m\n\u001b[0m\u001b[0;32m      6\u001b[0m \u001b[0maircrafts_df\u001b[0m\u001b[1;33m\u001b[0m\u001b[1;33m\u001b[0m\u001b[0m\n",
      "\u001b[1;32m~\\AppData\\Local\\Temp\\ipykernel_8972\\2071124871.py\u001b[0m in \u001b[0;36mget_airrcrafts_data_as_dataframe\u001b[1;34m()\u001b[0m\n\u001b[0;32m      1\u001b[0m \u001b[1;32mdef\u001b[0m \u001b[0mget_airrcrafts_data_as_dataframe\u001b[0m\u001b[1;33m(\u001b[0m\u001b[1;33m)\u001b[0m\u001b[1;33m:\u001b[0m\u001b[1;33m\u001b[0m\u001b[1;33m\u001b[0m\u001b[0m\n\u001b[1;32m----> 2\u001b[1;33m     \u001b[0maircrafts_list\u001b[0m \u001b[1;33m=\u001b[0m \u001b[0mget_aircrafts_full_information\u001b[0m\u001b[1;33m(\u001b[0m\u001b[1;33m)\u001b[0m\u001b[1;33m\u001b[0m\u001b[1;33m\u001b[0m\u001b[0m\n\u001b[0m\u001b[0;32m      3\u001b[0m     \u001b[0mdf\u001b[0m \u001b[1;33m=\u001b[0m \u001b[0mpd\u001b[0m\u001b[1;33m.\u001b[0m\u001b[0mDataFrame\u001b[0m\u001b[1;33m(\u001b[0m\u001b[0maircrafts_list\u001b[0m\u001b[1;33m)\u001b[0m\u001b[1;33m\u001b[0m\u001b[1;33m\u001b[0m\u001b[0m\n\u001b[0;32m      4\u001b[0m     \u001b[1;32mreturn\u001b[0m \u001b[0mdf\u001b[0m\u001b[1;33m\u001b[0m\u001b[1;33m\u001b[0m\u001b[0m\n\u001b[0;32m      5\u001b[0m \u001b[0maircrafts_df\u001b[0m \u001b[1;33m=\u001b[0m \u001b[0mget_airrcrafts_data_as_dataframe\u001b[0m\u001b[1;33m(\u001b[0m\u001b[1;33m)\u001b[0m\u001b[1;33m\u001b[0m\u001b[1;33m\u001b[0m\u001b[0m\n",
      "\u001b[1;32m~\\AppData\\Local\\Temp\\ipykernel_8972\\3661833610.py\u001b[0m in \u001b[0;36mget_aircrafts_full_information\u001b[1;34m()\u001b[0m\n\u001b[0;32m      3\u001b[0m         \u001b[1;32mreturn\u001b[0m \u001b[0mload_object_from_file\u001b[0m\u001b[1;33m(\u001b[0m\u001b[0mAIRCRAFTS_DATA_FILE\u001b[0m\u001b[1;33m)\u001b[0m\u001b[1;33m\u001b[0m\u001b[1;33m\u001b[0m\u001b[0m\n\u001b[0;32m      4\u001b[0m \u001b[1;33m\u001b[0m\u001b[0m\n\u001b[1;32m----> 5\u001b[1;33m     \u001b[0maircrafts_list\u001b[0m \u001b[1;33m=\u001b[0m \u001b[0mget_basic_aircrafts_data_list\u001b[0m\u001b[1;33m(\u001b[0m\u001b[1;33m)\u001b[0m\u001b[1;33m\u001b[0m\u001b[1;33m\u001b[0m\u001b[0m\n\u001b[0m\u001b[0;32m      6\u001b[0m     \u001b[1;32mfor\u001b[0m \u001b[0maircraft\u001b[0m \u001b[1;32min\u001b[0m \u001b[0maircrafts_list\u001b[0m\u001b[1;33m:\u001b[0m\u001b[1;33m\u001b[0m\u001b[1;33m\u001b[0m\u001b[0m\n\u001b[0;32m      7\u001b[0m         \u001b[1;31m#Add first flight date information\u001b[0m\u001b[1;33m\u001b[0m\u001b[1;33m\u001b[0m\u001b[1;33m\u001b[0m\u001b[0m\n",
      "\u001b[1;32m~\\AppData\\Local\\Temp\\ipykernel_8972\\595168971.py\u001b[0m in \u001b[0;36mget_basic_aircrafts_data_list\u001b[1;34m()\u001b[0m\n\u001b[0;32m     18\u001b[0m \u001b[1;33m\u001b[0m\u001b[0m\n\u001b[0;32m     19\u001b[0m     \u001b[1;32mif\u001b[0m \u001b[1;33m(\u001b[0m\u001b[1;32mnot\u001b[0m \u001b[0mos\u001b[0m\u001b[1;33m.\u001b[0m\u001b[0mpath\u001b[0m\u001b[1;33m.\u001b[0m\u001b[0mexists\u001b[0m\u001b[1;33m(\u001b[0m\u001b[0mAIRCRAFTS_DATA_FILE\u001b[0m\u001b[1;33m)\u001b[0m\u001b[1;33m)\u001b[0m\u001b[1;33m:\u001b[0m\u001b[1;33m\u001b[0m\u001b[1;33m\u001b[0m\u001b[0m\n\u001b[1;32m---> 20\u001b[1;33m         \u001b[0mstore_object_to_file\u001b[0m\u001b[1;33m(\u001b[0m\u001b[0mAIRCRAFTS_DATA_FILE\u001b[0m\u001b[1;33m,\u001b[0m\u001b[0maircrafts_list\u001b[0m\u001b[1;33m)\u001b[0m\u001b[1;33m\u001b[0m\u001b[1;33m\u001b[0m\u001b[0m\n\u001b[0m\u001b[0;32m     21\u001b[0m     \u001b[1;32mreturn\u001b[0m \u001b[0maircrafts_list\u001b[0m\u001b[1;33m\u001b[0m\u001b[1;33m\u001b[0m\u001b[0m\n\u001b[0;32m     22\u001b[0m \u001b[1;33m\u001b[0m\u001b[0m\n",
      "\u001b[1;32m~\\AppData\\Local\\Temp\\ipykernel_8972\\4027005358.py\u001b[0m in \u001b[0;36mstore_object_to_file\u001b[1;34m(file_name, data)\u001b[0m\n\u001b[0;32m      1\u001b[0m \u001b[1;32mdef\u001b[0m \u001b[0mstore_object_to_file\u001b[0m\u001b[1;33m(\u001b[0m\u001b[0mfile_name\u001b[0m\u001b[1;33m,\u001b[0m\u001b[0mdata\u001b[0m\u001b[1;33m)\u001b[0m\u001b[1;33m:\u001b[0m\u001b[1;33m\u001b[0m\u001b[1;33m\u001b[0m\u001b[0m\n\u001b[1;32m----> 2\u001b[1;33m     \u001b[1;32mwith\u001b[0m \u001b[0mopen\u001b[0m\u001b[1;33m(\u001b[0m\u001b[0mfile_name\u001b[0m\u001b[1;33m,\u001b[0m \u001b[1;34m'w'\u001b[0m\u001b[1;33m)\u001b[0m \u001b[1;32mas\u001b[0m \u001b[0moutfile\u001b[0m\u001b[1;33m:\u001b[0m\u001b[1;33m\u001b[0m\u001b[1;33m\u001b[0m\u001b[0m\n\u001b[0m\u001b[0;32m      3\u001b[0m         \u001b[0mjson\u001b[0m\u001b[1;33m.\u001b[0m\u001b[0mdump\u001b[0m\u001b[1;33m(\u001b[0m\u001b[0mdata\u001b[0m\u001b[1;33m,\u001b[0m \u001b[0moutfile\u001b[0m\u001b[1;33m)\u001b[0m\u001b[1;33m\u001b[0m\u001b[1;33m\u001b[0m\u001b[0m\n",
      "\u001b[1;31mOSError\u001b[0m: [Errno 22] Invalid argument: 'aircrafts.json'"
     ]
    }
   ],
   "source": [
    "def get_airrcrafts_data_as_dataframe():\n",
    "    aircrafts_list = get_aircrafts_full_information()\n",
    "    df = pd.DataFrame(aircrafts_list)\n",
    "    return df\n",
    "aircrafts_df = get_airrcrafts_data_as_dataframe()\n",
    "aircrafts_df"
   ]
  },
  {
   "attachments": {},
   "cell_type": "markdown",
   "metadata": {},
   "source": [
    "## Start to collect data about flight "
   ]
  },
  {
   "attachments": {},
   "cell_type": "markdown",
   "metadata": {},
   "source": [
    "Define function that collect data about aircraft between 2 dates"
   ]
  },
  {
   "attachments": {},
   "cell_type": "markdown",
   "metadata": {},
   "source": [
    "we use date as dict in the formate:\n",
    "{\n",
    "    'year' : YYYY,\n",
    "    'month' : MM,\n",
    "    'day' : DD\n",
    "}"
   ]
  },
  {
   "cell_type": "code",
   "execution_count": null,
   "metadata": {},
   "outputs": [],
   "source": [
    "def get_dates_between(start_date, end_date):\n",
    "    delta = end_date - start_date      \n",
    "    date_list = []                     \n",
    "    \n",
    "    for i in range(delta.days + 1):     \n",
    "        date_list.append(start_date + timedelta(days=i))   \n",
    "    \n",
    "    return date_list"
   ]
  },
  {
   "cell_type": "code",
   "execution_count": null,
   "metadata": {},
   "outputs": [],
   "source": [
    "def get_aircraft_flights_from_api(tail_number,max_number_of_days,days_per_request,limit_date = None,):\n",
    "    aircrafts_list = get_aircrafts_full_information()\n",
    "    flights_list = []\n",
    "    if(os.path.exists(FLIGHT_Data_FILE)):\n",
    "        flights_list = load_object_from_file(FLIGHT_Data_FILE)\n",
    "    print('Collectiong '+tail_number+' flights')\n",
    "    for aircraft in aircrafts_list:\n",
    "        if(aircraft[TAIL_NUMBER_FEILD_NAME] == tail_number):\n",
    "            first_flight_date_dict = None\n",
    "            last_flight_date_dict = None\n",
    "            first_flight_date = datetime(2000,1,27)\n",
    "            last_flight_date = datetime.today()\n",
    "            \n",
    "            if(LAST_SCANNED__DATE_FEILD_NAME in aircraft):\n",
    "                first_flight_date_dict = aircraft[LAST_SCANNED__DATE_FEILD_NAME]\n",
    "\n",
    "            if(limit_date):\n",
    "                last_flight_date = limit_date\n",
    "\n",
    "            elif(LAST_FLIGHT_DATE_FEILD_NAME in aircraft):\n",
    "                last_flight_date_dict = aircraft[LAST_FLIGHT_DATE_FEILD_NAME]\n",
    "\n",
    "            if(first_flight_date_dict):\n",
    "                first_flight_date = datetime(int(first_flight_date_dict['year']), int(first_flight_date_dict['month']),int(first_flight_date_dict['day']) )\n",
    "            \n",
    "            if(last_flight_date_dict):\n",
    "                last_flight_date = datetime(int(last_flight_date_dict['year']),int(last_flight_date_dict['month']),int(last_flight_date_dict['day']) )\n",
    "            for current_date in (get_dates_between(first_flight_date,last_flight_date)[:max_number_of_days:days_per_request]):\n",
    "                #print(tail_number+' '+str(current_date))\n",
    "                new_flights , error = get_Flight_by_date_and_tail_number(current_date,tail_number.upper(),days_per_request)\n",
    "                if(new_flights != None):\n",
    "                    flights_list = load_object_from_file(FLIGHT_Data_FILE)\n",
    "                    flights_list.extend(new_flights)\n",
    "                    store_data_to_aircrafts_file(aircraft[TAIL_NUMBER_FEILD_NAME],LAST_SCANNED__DATE_FEILD_NAME,convert_daytime_to_dict(current_date + timedelta(1)))\n",
    "                    store_object_to_file(FLIGHT_Data_FILE,flights_list)\n",
    "                else:\n",
    "                    store_object_to_file(FLIGHT_Data_FILE,flights_list)\n",
    "                    return flights_list , error\n",
    "                    \n",
    "            return flights_list , error\n",
    "\n"
   ]
  },
  {
   "cell_type": "code",
   "execution_count": null,
   "metadata": {},
   "outputs": [],
   "source": [
    "def get_all_aricrafts_flights(max_number_of_days,days_per_request):\n",
    "    aircrafts_list = get_aircrafts_full_information()\n",
    "    for aircraft in aircrafts_list:\n",
    "        flights , error =get_aircraft_flights_from_api(aircraft[TAIL_NUMBER_FEILD_NAME],max_number_of_days,days_per_request)\n",
    "        if(error):\n",
    "            print(error)\n",
    "            break\n",
    "    return load_object_from_file(FLIGHT_Data_FILE)"
   ]
  },
  {
   "cell_type": "code",
   "execution_count": null,
   "metadata": {},
   "outputs": [],
   "source": [
    "# for i in range(1):\n",
    "#     flights_list = get_all_aricrafts_flights(max_number_of_days=30,days_per_request=30)\n",
    "#     len(flights_list)"
   ]
  },
  {
   "cell_type": "code",
   "execution_count": null,
   "metadata": {},
   "outputs": [],
   "source": [
    "# t = load_object_from_file(AIRCRAFTS_DATA_FILE)\n",
    "# for ac in t:\n",
    "#     ac[LAST_SCANNED__DATE_FEILD_NAME] = ac[FIRST_FLIGHT_DATE_FEILD_NAME]\n",
    "# store_object_to_file(AIRCRAFTS_DATA_FILE,t)"
   ]
  },
  {
   "attachments": {},
   "cell_type": "markdown",
   "metadata": {},
   "source": [
    "# Data Exporation"
   ]
  },
  {
   "attachments": {},
   "cell_type": "markdown",
   "metadata": {},
   "source": [
    "## Intert all flights data into dataframe"
   ]
  },
  {
   "cell_type": "code",
   "execution_count": null,
   "metadata": {},
   "outputs": [],
   "source": [
    "def get_flights_dataframe():\n",
    "    flights = load_object_from_file(FLIGHT_Data_FILE)\n",
    "    return pd.DataFrame(flights)\n"
   ]
  },
  {
   "attachments": {},
   "cell_type": "markdown",
   "metadata": {},
   "source": [
    "## Preview the fights data"
   ]
  },
  {
   "cell_type": "code",
   "execution_count": null,
   "metadata": {},
   "outputs": [],
   "source": [
    "flights_df = get_flights_dataframe()"
   ]
  },
  {
   "cell_type": "code",
   "execution_count": null,
   "metadata": {},
   "outputs": [
    {
     "data": {
      "text/html": [
       "<div>\n",
       "<style scoped>\n",
       "    .dataframe tbody tr th:only-of-type {\n",
       "        vertical-align: middle;\n",
       "    }\n",
       "\n",
       "    .dataframe tbody tr th {\n",
       "        vertical-align: top;\n",
       "    }\n",
       "\n",
       "    .dataframe thead th {\n",
       "        text-align: right;\n",
       "    }\n",
       "</style>\n",
       "<table border=\"1\" class=\"dataframe\">\n",
       "  <thead>\n",
       "    <tr style=\"text-align: right;\">\n",
       "      <th></th>\n",
       "      <th>flightId</th>\n",
       "      <th>carrierFsCode</th>\n",
       "      <th>operatingCarrierFsCode</th>\n",
       "      <th>primaryCarrierFsCode</th>\n",
       "      <th>flightNumber</th>\n",
       "      <th>departureAirportFsCode</th>\n",
       "      <th>arrivalAirportFsCode</th>\n",
       "      <th>departureDate</th>\n",
       "      <th>arrivalDate</th>\n",
       "      <th>status</th>\n",
       "      <th>schedule</th>\n",
       "      <th>operationalTimes</th>\n",
       "      <th>codeshares</th>\n",
       "      <th>delays</th>\n",
       "      <th>flightDurations</th>\n",
       "      <th>airportResources</th>\n",
       "      <th>flightEquipment</th>\n",
       "      <th>irregularOperations</th>\n",
       "      <th>divertedAirportFsCode</th>\n",
       "    </tr>\n",
       "  </thead>\n",
       "  <tbody>\n",
       "    <tr>\n",
       "      <th>0</th>\n",
       "      <td>733567496</td>\n",
       "      <td>LY</td>\n",
       "      <td>LY</td>\n",
       "      <td>LY</td>\n",
       "      <td>381</td>\n",
       "      <td>TLV</td>\n",
       "      <td>MXP</td>\n",
       "      <td>{'dateUtc': '2016-06-24T04:45:00.000Z', 'dateL...</td>\n",
       "      <td>{'dateUtc': '2016-06-24T09:00:00.000Z', 'dateL...</td>\n",
       "      <td>L</td>\n",
       "      <td>{'flightType': 'J', 'serviceClasses': 'RJY', '...</td>\n",
       "      <td>{'publishedDeparture': {'dateUtc': '2016-06-24...</td>\n",
       "      <td>[{'fsCode': 'AA', 'flightNumber': '8385', 'rel...</td>\n",
       "      <td>{'arrivalGateDelayMinutes': 22}</td>\n",
       "      <td>{'scheduledBlockMinutes': 255, 'airMinutes': 2...</td>\n",
       "      <td>{'departureTerminal': '3', 'arrivalTerminal': ...</td>\n",
       "      <td>{'scheduledEquipmentIataCode': '738', 'actualE...</td>\n",
       "      <td>[]</td>\n",
       "      <td>NaN</td>\n",
       "    </tr>\n",
       "    <tr>\n",
       "      <th>1</th>\n",
       "      <td>733541284</td>\n",
       "      <td>LY</td>\n",
       "      <td>LY</td>\n",
       "      <td>LY</td>\n",
       "      <td>382</td>\n",
       "      <td>MXP</td>\n",
       "      <td>TLV</td>\n",
       "      <td>{'dateUtc': '2016-06-24T10:05:00.000Z', 'dateL...</td>\n",
       "      <td>{'dateUtc': '2016-06-24T13:55:00.000Z', 'dateL...</td>\n",
       "      <td>L</td>\n",
       "      <td>{'flightType': 'J', 'serviceClasses': 'RJY', '...</td>\n",
       "      <td>{'publishedDeparture': {'dateUtc': '2016-06-24...</td>\n",
       "      <td>[]</td>\n",
       "      <td>{'departureGateDelayMinutes': 20}</td>\n",
       "      <td>{'scheduledBlockMinutes': 230, 'airMinutes': 2...</td>\n",
       "      <td>{'departureTerminal': '1', 'departureGate': 'B...</td>\n",
       "      <td>{'scheduledEquipmentIataCode': '738', 'actualE...</td>\n",
       "      <td>[]</td>\n",
       "      <td>NaN</td>\n",
       "    </tr>\n",
       "    <tr>\n",
       "      <th>2</th>\n",
       "      <td>734066084</td>\n",
       "      <td>LY</td>\n",
       "      <td>LY</td>\n",
       "      <td>LY</td>\n",
       "      <td>553</td>\n",
       "      <td>TLV</td>\n",
       "      <td>SOF</td>\n",
       "      <td>{'dateUtc': '2016-06-25T18:30:00.000Z', 'dateL...</td>\n",
       "      <td>{'dateUtc': '2016-06-25T21:15:00.000Z', 'dateL...</td>\n",
       "      <td>L</td>\n",
       "      <td>{'flightType': 'J', 'serviceClasses': 'RJY', '...</td>\n",
       "      <td>{'publishedDeparture': {'dateUtc': '2016-06-25...</td>\n",
       "      <td>[]</td>\n",
       "      <td>{}</td>\n",
       "      <td>{'scheduledBlockMinutes': 165, 'blockMinutes':...</td>\n",
       "      <td>{'departureTerminal': '3', 'arrivalTerminal': ...</td>\n",
       "      <td>{'scheduledEquipmentIataCode': '738', 'actualE...</td>\n",
       "      <td>[]</td>\n",
       "      <td>NaN</td>\n",
       "    </tr>\n",
       "    <tr>\n",
       "      <th>3</th>\n",
       "      <td>734572239</td>\n",
       "      <td>LY</td>\n",
       "      <td>LY</td>\n",
       "      <td>LY</td>\n",
       "      <td>554</td>\n",
       "      <td>SOF</td>\n",
       "      <td>TLV</td>\n",
       "      <td>{'dateUtc': '2016-06-25T22:15:00.000Z', 'dateL...</td>\n",
       "      <td>{'dateUtc': '2016-06-26T00:40:00.000Z', 'dateL...</td>\n",
       "      <td>L</td>\n",
       "      <td>{'flightType': 'J', 'serviceClasses': 'RJY', '...</td>\n",
       "      <td>{'publishedDeparture': {'dateUtc': '2016-06-25...</td>\n",
       "      <td>[]</td>\n",
       "      <td>{'departureGateDelayMinutes': 3, 'arrivalGateD...</td>\n",
       "      <td>{'scheduledBlockMinutes': 145, 'blockMinutes':...</td>\n",
       "      <td>{'departureTerminal': '2', 'departureGate': 'A...</td>\n",
       "      <td>{'scheduledEquipmentIataCode': '738', 'actualE...</td>\n",
       "      <td>[]</td>\n",
       "      <td>NaN</td>\n",
       "    </tr>\n",
       "    <tr>\n",
       "      <th>4</th>\n",
       "      <td>734577241</td>\n",
       "      <td>LY</td>\n",
       "      <td>LY</td>\n",
       "      <td>LY</td>\n",
       "      <td>381</td>\n",
       "      <td>TLV</td>\n",
       "      <td>MXP</td>\n",
       "      <td>{'dateUtc': '2016-06-26T04:45:00.000Z', 'dateL...</td>\n",
       "      <td>{'dateUtc': '2016-06-26T09:00:00.000Z', 'dateL...</td>\n",
       "      <td>L</td>\n",
       "      <td>{'flightType': 'J', 'serviceClasses': 'RJY', '...</td>\n",
       "      <td>{'publishedDeparture': {'dateUtc': '2016-06-26...</td>\n",
       "      <td>[{'fsCode': 'AA', 'flightNumber': '8385', 'rel...</td>\n",
       "      <td>{'arrivalGateDelayMinutes': 188}</td>\n",
       "      <td>{'scheduledBlockMinutes': 255}</td>\n",
       "      <td>{'departureTerminal': '3', 'arrivalTerminal': ...</td>\n",
       "      <td>{'scheduledEquipmentIataCode': '738', 'actualE...</td>\n",
       "      <td>[]</td>\n",
       "      <td>NaN</td>\n",
       "    </tr>\n",
       "  </tbody>\n",
       "</table>\n",
       "</div>"
      ],
      "text/plain": [
       "    flightId carrierFsCode operatingCarrierFsCode primaryCarrierFsCode  \\\n",
       "0  733567496            LY                     LY                   LY   \n",
       "1  733541284            LY                     LY                   LY   \n",
       "2  734066084            LY                     LY                   LY   \n",
       "3  734572239            LY                     LY                   LY   \n",
       "4  734577241            LY                     LY                   LY   \n",
       "\n",
       "  flightNumber departureAirportFsCode arrivalAirportFsCode  \\\n",
       "0          381                    TLV                  MXP   \n",
       "1          382                    MXP                  TLV   \n",
       "2          553                    TLV                  SOF   \n",
       "3          554                    SOF                  TLV   \n",
       "4          381                    TLV                  MXP   \n",
       "\n",
       "                                       departureDate  \\\n",
       "0  {'dateUtc': '2016-06-24T04:45:00.000Z', 'dateL...   \n",
       "1  {'dateUtc': '2016-06-24T10:05:00.000Z', 'dateL...   \n",
       "2  {'dateUtc': '2016-06-25T18:30:00.000Z', 'dateL...   \n",
       "3  {'dateUtc': '2016-06-25T22:15:00.000Z', 'dateL...   \n",
       "4  {'dateUtc': '2016-06-26T04:45:00.000Z', 'dateL...   \n",
       "\n",
       "                                         arrivalDate status  \\\n",
       "0  {'dateUtc': '2016-06-24T09:00:00.000Z', 'dateL...      L   \n",
       "1  {'dateUtc': '2016-06-24T13:55:00.000Z', 'dateL...      L   \n",
       "2  {'dateUtc': '2016-06-25T21:15:00.000Z', 'dateL...      L   \n",
       "3  {'dateUtc': '2016-06-26T00:40:00.000Z', 'dateL...      L   \n",
       "4  {'dateUtc': '2016-06-26T09:00:00.000Z', 'dateL...      L   \n",
       "\n",
       "                                            schedule  \\\n",
       "0  {'flightType': 'J', 'serviceClasses': 'RJY', '...   \n",
       "1  {'flightType': 'J', 'serviceClasses': 'RJY', '...   \n",
       "2  {'flightType': 'J', 'serviceClasses': 'RJY', '...   \n",
       "3  {'flightType': 'J', 'serviceClasses': 'RJY', '...   \n",
       "4  {'flightType': 'J', 'serviceClasses': 'RJY', '...   \n",
       "\n",
       "                                    operationalTimes  \\\n",
       "0  {'publishedDeparture': {'dateUtc': '2016-06-24...   \n",
       "1  {'publishedDeparture': {'dateUtc': '2016-06-24...   \n",
       "2  {'publishedDeparture': {'dateUtc': '2016-06-25...   \n",
       "3  {'publishedDeparture': {'dateUtc': '2016-06-25...   \n",
       "4  {'publishedDeparture': {'dateUtc': '2016-06-26...   \n",
       "\n",
       "                                          codeshares  \\\n",
       "0  [{'fsCode': 'AA', 'flightNumber': '8385', 'rel...   \n",
       "1                                                 []   \n",
       "2                                                 []   \n",
       "3                                                 []   \n",
       "4  [{'fsCode': 'AA', 'flightNumber': '8385', 'rel...   \n",
       "\n",
       "                                              delays  \\\n",
       "0                    {'arrivalGateDelayMinutes': 22}   \n",
       "1                  {'departureGateDelayMinutes': 20}   \n",
       "2                                                 {}   \n",
       "3  {'departureGateDelayMinutes': 3, 'arrivalGateD...   \n",
       "4                   {'arrivalGateDelayMinutes': 188}   \n",
       "\n",
       "                                     flightDurations  \\\n",
       "0  {'scheduledBlockMinutes': 255, 'airMinutes': 2...   \n",
       "1  {'scheduledBlockMinutes': 230, 'airMinutes': 2...   \n",
       "2  {'scheduledBlockMinutes': 165, 'blockMinutes':...   \n",
       "3  {'scheduledBlockMinutes': 145, 'blockMinutes':...   \n",
       "4                     {'scheduledBlockMinutes': 255}   \n",
       "\n",
       "                                    airportResources  \\\n",
       "0  {'departureTerminal': '3', 'arrivalTerminal': ...   \n",
       "1  {'departureTerminal': '1', 'departureGate': 'B...   \n",
       "2  {'departureTerminal': '3', 'arrivalTerminal': ...   \n",
       "3  {'departureTerminal': '2', 'departureGate': 'A...   \n",
       "4  {'departureTerminal': '3', 'arrivalTerminal': ...   \n",
       "\n",
       "                                     flightEquipment irregularOperations  \\\n",
       "0  {'scheduledEquipmentIataCode': '738', 'actualE...                  []   \n",
       "1  {'scheduledEquipmentIataCode': '738', 'actualE...                  []   \n",
       "2  {'scheduledEquipmentIataCode': '738', 'actualE...                  []   \n",
       "3  {'scheduledEquipmentIataCode': '738', 'actualE...                  []   \n",
       "4  {'scheduledEquipmentIataCode': '738', 'actualE...                  []   \n",
       "\n",
       "  divertedAirportFsCode  \n",
       "0                   NaN  \n",
       "1                   NaN  \n",
       "2                   NaN  \n",
       "3                   NaN  \n",
       "4                   NaN  "
      ]
     },
     "execution_count": 548,
     "metadata": {},
     "output_type": "execute_result"
    }
   ],
   "source": [
    "\n",
    "flights_df.head()"
   ]
  },
  {
   "cell_type": "code",
   "execution_count": null,
   "metadata": {},
   "outputs": [
    {
     "name": "stdout",
     "output_type": "stream",
     "text": [
      "<class 'pandas.core.frame.DataFrame'>\n",
      "RangeIndex: 15907 entries, 0 to 15906\n",
      "Data columns (total 19 columns):\n",
      " #   Column                  Non-Null Count  Dtype \n",
      "---  ------                  --------------  ----- \n",
      " 0   flightId                15907 non-null  int64 \n",
      " 1   carrierFsCode           15907 non-null  object\n",
      " 2   operatingCarrierFsCode  15907 non-null  object\n",
      " 3   primaryCarrierFsCode    15907 non-null  object\n",
      " 4   flightNumber            15907 non-null  object\n",
      " 5   departureAirportFsCode  15907 non-null  object\n",
      " 6   arrivalAirportFsCode    15907 non-null  object\n",
      " 7   departureDate           15907 non-null  object\n",
      " 8   arrivalDate             15907 non-null  object\n",
      " 9   status                  15907 non-null  object\n",
      " 10  schedule                15681 non-null  object\n",
      " 11  operationalTimes        15907 non-null  object\n",
      " 12  codeshares              15907 non-null  object\n",
      " 13  delays                  15907 non-null  object\n",
      " 14  flightDurations         15907 non-null  object\n",
      " 15  airportResources        15907 non-null  object\n",
      " 16  flightEquipment         15907 non-null  object\n",
      " 17  irregularOperations     15907 non-null  object\n",
      " 18  divertedAirportFsCode   32 non-null     object\n",
      "dtypes: int64(1), object(18)\n",
      "memory usage: 2.3+ MB\n"
     ]
    }
   ],
   "source": [
    "flights_df.info()"
   ]
  },
  {
   "cell_type": "code",
   "execution_count": null,
   "metadata": {},
   "outputs": [
    {
     "data": {
      "text/html": [
       "<div>\n",
       "<style scoped>\n",
       "    .dataframe tbody tr th:only-of-type {\n",
       "        vertical-align: middle;\n",
       "    }\n",
       "\n",
       "    .dataframe tbody tr th {\n",
       "        vertical-align: top;\n",
       "    }\n",
       "\n",
       "    .dataframe thead th {\n",
       "        text-align: right;\n",
       "    }\n",
       "</style>\n",
       "<table border=\"1\" class=\"dataframe\">\n",
       "  <thead>\n",
       "    <tr style=\"text-align: right;\">\n",
       "      <th></th>\n",
       "      <th>flightId</th>\n",
       "    </tr>\n",
       "  </thead>\n",
       "  <tbody>\n",
       "    <tr>\n",
       "      <th>count</th>\n",
       "      <td>1.590700e+04</td>\n",
       "    </tr>\n",
       "    <tr>\n",
       "      <th>mean</th>\n",
       "      <td>9.163323e+08</td>\n",
       "    </tr>\n",
       "    <tr>\n",
       "      <th>std</th>\n",
       "      <td>1.685094e+08</td>\n",
       "    </tr>\n",
       "    <tr>\n",
       "      <th>min</th>\n",
       "      <td>6.059907e+08</td>\n",
       "    </tr>\n",
       "    <tr>\n",
       "      <th>25%</th>\n",
       "      <td>7.366493e+08</td>\n",
       "    </tr>\n",
       "    <tr>\n",
       "      <th>50%</th>\n",
       "      <td>9.654889e+08</td>\n",
       "    </tr>\n",
       "    <tr>\n",
       "      <th>75%</th>\n",
       "      <td>1.084983e+09</td>\n",
       "    </tr>\n",
       "    <tr>\n",
       "      <th>max</th>\n",
       "      <td>1.155650e+09</td>\n",
       "    </tr>\n",
       "  </tbody>\n",
       "</table>\n",
       "</div>"
      ],
      "text/plain": [
       "           flightId\n",
       "count  1.590700e+04\n",
       "mean   9.163323e+08\n",
       "std    1.685094e+08\n",
       "min    6.059907e+08\n",
       "25%    7.366493e+08\n",
       "50%    9.654889e+08\n",
       "75%    1.084983e+09\n",
       "max    1.155650e+09"
      ]
     },
     "execution_count": 550,
     "metadata": {},
     "output_type": "execute_result"
    }
   ],
   "source": [
    "flights_df.describe()"
   ]
  },
  {
   "attachments": {},
   "cell_type": "markdown",
   "metadata": {},
   "source": [
    "## Add aircraft data into flights data"
   ]
  },
  {
   "attachments": {},
   "cell_type": "markdown",
   "metadata": {},
   "source": [
    "We can add more information ablur each flight if we merge out air craft data with the aircraft used in the spesific flight\n",
    "\n",
    "the next function add the air craft seats number dictionary as flight feature"
   ]
  },
  {
   "cell_type": "code",
   "execution_count": null,
   "metadata": {},
   "outputs": [],
   "source": [
    "def add_aircraft_seats_number_to_flight(flights_df, aircrafts_df):\n",
    "    flights_df[SEATS_FEILD_NAME] = aircrafts_df[SEATS_FEILD_NAME]\n",
    "    return flights_df"
   ]
  },
  {
   "cell_type": "code",
   "execution_count": null,
   "metadata": {},
   "outputs": [],
   "source": [
    "# flights_df =  add_aircraft_seats_number_to_flight(flights_df,aircrafts_df)\n",
    "# flights_df"
   ]
  },
  {
   "cell_type": "code",
   "execution_count": null,
   "metadata": {},
   "outputs": [],
   "source": [
    "def get_arrivalGateDelayMinutes(delays_dict,feild):\n",
    "    if feild in delays_dict:\n",
    "        return delays_dict[feild]\n",
    "    else:\n",
    "        return 0"
   ]
  },
  {
   "attachments": {},
   "cell_type": "markdown",
   "metadata": {},
   "source": [
    "## Clean the resived tata from th api"
   ]
  },
  {
   "attachments": {},
   "cell_type": "markdown",
   "metadata": {},
   "source": [
    "Calculate the delay time  as sum of gate delay and runway delay\n",
    "if after this calc there is na value we need drop it"
   ]
  },
  {
   "cell_type": "code",
   "execution_count": null,
   "metadata": {},
   "outputs": [],
   "source": [
    "def proccess_delay_column(df):\n",
    "    if not 'delays' in df: return df\n",
    "    df['departureRunwayDelayMinutes'] = df['delays'].apply(lambda dict: get_arrivalGateDelayMinutes(dict,'departureRunwayDelayMinutes'))\n",
    "    df['departureGateDelayMinutes'] = df['delays'].apply(lambda dict: get_arrivalGateDelayMinutes(dict,'departureGateDelayMinutes'))\n",
    "    df['arrivalGateDelayMinutes'] = df['delays'].apply(lambda dict: get_arrivalGateDelayMinutes(dict,'arrivalGateDelayMinutes'))\n",
    "    df['arrivalRunwayDelayMinutes'] = df['delays'].apply(lambda dict: get_arrivalGateDelayMinutes(dict,'arrivalRunwayDelayMinutes'))\n",
    "    df['delay_time'] = df['departureRunwayDelayMinutes'] + df['departureGateDelayMinutes'] + df['arrivalGateDelayMinutes'] +  df['arrivalRunwayDelayMinutes']\n",
    "    #df['delay_time']=df['delay_time'].fillna(0)\n",
    "\n",
    "    df = df.drop('departureRunwayDelayMinutes',axis = 1)\n",
    "    df = df.drop('departureGateDelayMinutes',axis = 1)\n",
    "    df = df.drop('arrivalGateDelayMinutes',axis = 1)\n",
    "    df = df.drop('arrivalRunwayDelayMinutes',axis = 1)\n",
    "    df= df.drop('delays',axis = 1)\n",
    "    return df"
   ]
  },
  {
   "cell_type": "code",
   "execution_count": null,
   "metadata": {},
   "outputs": [],
   "source": [
    "def get_flightModel(dict):\n",
    "    if 'actualEquipmentIataCode' in dict:\n",
    "        return dict['actualEquipmentIataCode']\n",
    "    elif 'scheduledEquipmentIataCode' in dict:\n",
    "        return dict['scheduledEquipmentIataCode']\n",
    "    return np.nan"
   ]
  },
  {
   "cell_type": "code",
   "execution_count": null,
   "metadata": {},
   "outputs": [],
   "source": [
    "def get_tailnumber(dict):\n",
    "    if 'tailNumber' in dict:\n",
    "        return dict['tailNumber']\n",
    "    return np.nan"
   ]
  },
  {
   "cell_type": "code",
   "execution_count": null,
   "metadata": {},
   "outputs": [],
   "source": [
    "def get_flight_time(dict):\n",
    "    if 'airMinutes' in dict:\n",
    "        return dict['airMinutes']\n",
    "    return np.nan"
   ]
  },
  {
   "cell_type": "code",
   "execution_count": null,
   "metadata": {},
   "outputs": [],
   "source": [
    "def get_departure_terminal(dict):\n",
    "    if 'departureTerminal' in dict:\n",
    "        return dict['departureTerminal']\n",
    "    return np.nan"
   ]
  },
  {
   "cell_type": "code",
   "execution_count": null,
   "metadata": {},
   "outputs": [],
   "source": [
    "def get_arival_terminal(dict):\n",
    "    if 'arrivalTerminal' in dict:\n",
    "        return dict['arrivalTerminal']\n",
    "    return np.nan"
   ]
  },
  {
   "cell_type": "code",
   "execution_count": null,
   "metadata": {},
   "outputs": [],
   "source": [
    "def get_utc_from_dict(df , col):\n",
    "    if col not in df: return df\n",
    "    df[col] = df[col].apply(lambda x: x['dateUtc'])\n",
    "    df[col] = pd.to_datetime(df[col])\n",
    "    return df"
   ]
  },
  {
   "cell_type": "code",
   "execution_count": null,
   "metadata": {},
   "outputs": [],
   "source": [
    "def proccess_date(df,col):\n",
    "    if col not in df: return df\n",
    "    df[col + '_year'] = df[col].dt.year\n",
    "    df[col + '_month'] = df[col].dt.month\n",
    "    df[col + '_day'] = df[col].dt.day\n",
    "    df[col + '_hour'] = df[col].dt.hour\n",
    "    df[col + '_minute'] = df[col].dt.minute\n",
    "    df = df.drop(col,axis=1)\n",
    "    return df"
   ]
  },
  {
   "cell_type": "code",
   "execution_count": null,
   "metadata": {},
   "outputs": [],
   "source": [
    "def extract_seat(json_str):\n",
    "    try:\n",
    "        data = json.loads(json_str)\n",
    "        return pd.Series(data)\n",
    "    except:\n",
    "        return np.nan"
   ]
  },
  {
   "cell_type": "code",
   "execution_count": null,
   "metadata": {},
   "outputs": [],
   "source": [
    "def extract_seats(dict,class_):\n",
    "    if class_ not in dict: return 0\n",
    "    return dict[class_]"
   ]
  },
  {
   "cell_type": "code",
   "execution_count": null,
   "metadata": {},
   "outputs": [],
   "source": [
    "def get_dataframe_after_prossess(df):\n",
    "    df = proccess_delay_column(df)\n",
    "    df = df.drop('status',axis = 1)\n",
    "    df = df.drop('operatingCarrierFsCode',axis = 1)\n",
    "    df = df.drop('primaryCarrierFsCode',axis = 1)\n",
    "    df = df.drop('carrierFsCode',axis = 1)\n",
    "    df = df.drop('flightId',axis = 1)\n",
    "    df = df.drop('codeshares',axis = 1)\n",
    "    df = df.drop('operationalTimes',axis = 1)\n",
    "    df = df.drop('schedule',axis = 1)\n",
    "    df = df.drop('irregularOperations',axis = 1)\n",
    "    df = df.drop('divertedAirportFsCode', axis = 1)\n",
    "    df['aircraft_model'] = df['flightEquipment'].apply(lambda x: get_flightModel(x))\n",
    "    df['tailnumber'] = df['flightEquipment'].apply(lambda x: get_tailnumber(x))\n",
    "    df = df.drop('flightEquipment',axis=1)\n",
    "    df['flights_time'] = df['flightDurations'].apply(lambda x: get_flight_time(x))\n",
    "    df = df.drop('flightDurations',axis = 1)\n",
    "    df['departureTerminal'] = df['airportResources'].apply(lambda x: get_departure_terminal(x))\n",
    "    df['arrivalTerminal'] = df['airportResources'].apply(lambda x: get_arival_terminal(x))\n",
    "    df = df.drop('airportResources',axis=1)\n",
    "    df = get_utc_from_dict(df,'departureDate')\n",
    "    df = get_utc_from_dict(df,'arrivalDate')\n",
    "    #df = pd.get_dummies(df,'aircraft_model')\n",
    "\n",
    "    return df"
   ]
  },
  {
   "cell_type": "code",
   "execution_count": null,
   "metadata": {},
   "outputs": [],
   "source": [
    "flights_df = get_dataframe_after_prossess(flights_df)"
   ]
  },
  {
   "attachments": {},
   "cell_type": "markdown",
   "metadata": {},
   "source": [
    "# Add airport location to DF"
   ]
  },
  {
   "attachments": {},
   "cell_type": "markdown",
   "metadata": {},
   "source": [
    "## Load airports json file"
   ]
  },
  {
   "cell_type": "code",
   "execution_count": null,
   "metadata": {},
   "outputs": [],
   "source": [
    "with open('airports.json','r') as airports_file:\n",
    "    airports_data = json.load(airports_file)\n",
    "\n",
    "airport_iata = dict()\n",
    "for airport in airports_data:\n",
    "    if 'lat' not in airport or 'lon' not in airport:\n",
    "        continue\n",
    "\n",
    "    airport_iata[airport['iata']] = airport"
   ]
  },
  {
   "attachments": {},
   "cell_type": "markdown",
   "metadata": {},
   "source": [
    "## Append airport lon,lat per flight"
   ]
  },
  {
   "cell_type": "code",
   "execution_count": null,
   "metadata": {},
   "outputs": [],
   "source": [
    "def add_airport_loc(df):\n",
    "    df['departureAirportLat'] = df.apply(lambda row: airport_iata[row['departureAirportFsCode']]['lat'], axis=1)\n",
    "    df['departureAirportLon'] = df.apply(lambda row: airport_iata[row['departureAirportFsCode']]['lon'], axis=1)\n",
    "\n",
    "    df['arrivalAirportLat'] = df.apply(lambda row: airport_iata[row['arrivalAirportFsCode']]['lat'], axis=1)\n",
    "    df['arrivalAirportLon'] = df.apply(lambda row: airport_iata[row['arrivalAirportFsCode']]['lon'], axis=1)\n",
    "\n",
    "add_airport_loc(flights_df)"
   ]
  },
  {
   "attachments": {},
   "cell_type": "markdown",
   "metadata": {},
   "source": [
    "# Get weather info"
   ]
  },
  {
   "attachments": {},
   "cell_type": "markdown",
   "metadata": {},
   "source": [
    "## Date util"
   ]
  },
  {
   "cell_type": "code",
   "execution_count": null,
   "metadata": {},
   "outputs": [],
   "source": [
    "def round_datetime_to_hour(dt):\n",
    "    # round to the nearest hour\n",
    "    hour_ceil = dt + timedelta(hours=1)\n",
    "    hour_floor = dt.replace(minute=0, second=0, microsecond=0)\n",
    "\n",
    "    # calculate the difference to the ceil and floor hours\n",
    "    diff_ceil = hour_ceil - dt\n",
    "    diff_floor = dt - hour_floor\n",
    "\n",
    "    # round down if closer to the previous hour\n",
    "    if diff_floor < diff_ceil:\n",
    "        dt = hour_floor\n",
    "\n",
    "    return dt"
   ]
  },
  {
   "attachments": {},
   "cell_type": "markdown",
   "metadata": {},
   "source": [
    "## Weather API"
   ]
  },
  {
   "cell_type": "code",
   "execution_count": null,
   "metadata": {},
   "outputs": [],
   "source": [
    "def get_weather_info(lat,lon,date: datetime):\n",
    "    return 0\n",
    "    req = requests.get('https://archive-api.open-meteo.com/v1/era5',params={'latitude': lat, 'longitude': lon, 'start_date': date.strftime('%Y-%m-%d'), 'end_date': date.strftime('%Y-%m-%d'), 'hourly': 'temperature_2m'  })\n",
    "    req.raise_for_status()\n",
    "\n",
    "    res = req.json()\n",
    "    hour_index = res['hourly']['time'].index(round_datetime_to_hour(date).strftime('%Y-%m-%dT%H:%M'))\n",
    "    return res['hourly']['temperature_2m'][hour_index]\n"
   ]
  },
  {
   "attachments": {},
   "cell_type": "markdown",
   "metadata": {},
   "source": [
    "## Apply weather lookup on df"
   ]
  },
  {
   "cell_type": "code",
   "execution_count": null,
   "metadata": {},
   "outputs": [],
   "source": [
    "def add_weather_info(df):\n",
    "    df['departureAirportWeather'] = df.apply(lambda row: get_weather_info(row['departureAirportLat'],row['departureAirportLon'],row['departureDate']), axis=1) \n",
    "    sleep(1)\n",
    "    df['arrivalAirportWeather'] = df.apply(lambda row: get_weather_info(row['arrivalAirportLat'],row['arrivalAirportLon'],row['arrivalDate']), axis=1) \n",
    "    sleep(1)\n",
    "    return df\n",
    "\n",
    "flights_df = add_weather_info(flights_df)"
   ]
  },
  {
   "attachments": {},
   "cell_type": "markdown",
   "metadata": {},
   "source": [
    "## Add more features\n"
   ]
  },
  {
   "attachments": {},
   "cell_type": "markdown",
   "metadata": {},
   "source": [
    "Add \"is_crestian_holiday\""
   ]
  },
  {
   "cell_type": "code",
   "execution_count": null,
   "metadata": {},
   "outputs": [],
   "source": [
    "def add_is_crestian_holiday_column(df):\n",
    "    df['is_crestian_holiday'] = df['departureDate'].apply(is_christian_holiday)\n",
    "    return df"
   ]
  },
  {
   "cell_type": "code",
   "execution_count": null,
   "metadata": {},
   "outputs": [],
   "source": [
    "def add_advanced_features(df):\n",
    "    df = add_is_crestian_holiday_column(df)\n",
    "    return df"
   ]
  },
  {
   "cell_type": "code",
   "execution_count": null,
   "metadata": {},
   "outputs": [
    {
     "name": "stderr",
     "output_type": "stream",
     "text": [
      "C:\\Users\\rongo\\AppData\\Local\\Packages\\PythonSoftwareFoundation.Python.3.7_qbz5n2kfra8p0\\LocalCache\\local-packages\\Python37\\site-packages\\ipykernel_launcher.py:8: FutureWarning: Comparison of Timestamp with datetime.date is deprecated in order to match the standard library behavior.  In a future version these will be considered non-comparable.Use 'ts == pd.Timestamp(date)' or 'ts.date() == date' instead.\n",
      "  \n"
     ]
    }
   ],
   "source": [
    "flights_df = add_advanced_features(flights_df)"
   ]
  },
  {
   "attachments": {},
   "cell_type": "markdown",
   "metadata": {},
   "source": [
    "## Parse Dates"
   ]
  },
  {
   "cell_type": "code",
   "execution_count": null,
   "metadata": {},
   "outputs": [],
   "source": [
    "def parse_dates(df):\n",
    "    df = proccess_date(df,'departureDate')\n",
    "    df = proccess_date(df,'arrivalDate')\n",
    "    return df\n",
    "flights_df = parse_dates(flights_df)"
   ]
  },
  {
   "cell_type": "code",
   "execution_count": null,
   "metadata": {},
   "outputs": [
    {
     "data": {
      "text/html": [
       "<div>\n",
       "<style scoped>\n",
       "    .dataframe tbody tr th:only-of-type {\n",
       "        vertical-align: middle;\n",
       "    }\n",
       "\n",
       "    .dataframe tbody tr th {\n",
       "        vertical-align: top;\n",
       "    }\n",
       "\n",
       "    .dataframe thead th {\n",
       "        text-align: right;\n",
       "    }\n",
       "</style>\n",
       "<table border=\"1\" class=\"dataframe\">\n",
       "  <thead>\n",
       "    <tr style=\"text-align: right;\">\n",
       "      <th></th>\n",
       "      <th>flightNumber</th>\n",
       "      <th>departureAirportFsCode</th>\n",
       "      <th>arrivalAirportFsCode</th>\n",
       "      <th>delay_time</th>\n",
       "      <th>aircraft_model</th>\n",
       "      <th>tailnumber</th>\n",
       "      <th>flights_time</th>\n",
       "      <th>departureTerminal</th>\n",
       "      <th>arrivalTerminal</th>\n",
       "      <th>departureAirportLat</th>\n",
       "      <th>...</th>\n",
       "      <th>departureDate_year</th>\n",
       "      <th>departureDate_month</th>\n",
       "      <th>departureDate_day</th>\n",
       "      <th>departureDate_hour</th>\n",
       "      <th>departureDate_minute</th>\n",
       "      <th>arrivalDate_year</th>\n",
       "      <th>arrivalDate_month</th>\n",
       "      <th>arrivalDate_day</th>\n",
       "      <th>arrivalDate_hour</th>\n",
       "      <th>arrivalDate_minute</th>\n",
       "    </tr>\n",
       "  </thead>\n",
       "  <tbody>\n",
       "    <tr>\n",
       "      <th>0</th>\n",
       "      <td>381</td>\n",
       "      <td>TLV</td>\n",
       "      <td>MXP</td>\n",
       "      <td>22</td>\n",
       "      <td>738</td>\n",
       "      <td>4X-EKH</td>\n",
       "      <td>204.0</td>\n",
       "      <td>3</td>\n",
       "      <td>1</td>\n",
       "      <td>32.000454</td>\n",
       "      <td>...</td>\n",
       "      <td>2016</td>\n",
       "      <td>6</td>\n",
       "      <td>24</td>\n",
       "      <td>4</td>\n",
       "      <td>45</td>\n",
       "      <td>2016</td>\n",
       "      <td>6</td>\n",
       "      <td>24</td>\n",
       "      <td>9</td>\n",
       "      <td>0</td>\n",
       "    </tr>\n",
       "    <tr>\n",
       "      <th>1</th>\n",
       "      <td>382</td>\n",
       "      <td>MXP</td>\n",
       "      <td>TLV</td>\n",
       "      <td>20</td>\n",
       "      <td>737</td>\n",
       "      <td>4X-EKH</td>\n",
       "      <td>213.0</td>\n",
       "      <td>1</td>\n",
       "      <td>3</td>\n",
       "      <td>45.627403</td>\n",
       "      <td>...</td>\n",
       "      <td>2016</td>\n",
       "      <td>6</td>\n",
       "      <td>24</td>\n",
       "      <td>10</td>\n",
       "      <td>5</td>\n",
       "      <td>2016</td>\n",
       "      <td>6</td>\n",
       "      <td>24</td>\n",
       "      <td>13</td>\n",
       "      <td>55</td>\n",
       "    </tr>\n",
       "    <tr>\n",
       "      <th>2</th>\n",
       "      <td>553</td>\n",
       "      <td>TLV</td>\n",
       "      <td>SOF</td>\n",
       "      <td>0</td>\n",
       "      <td>738</td>\n",
       "      <td>4X-EKH</td>\n",
       "      <td>133.0</td>\n",
       "      <td>3</td>\n",
       "      <td>T2</td>\n",
       "      <td>32.000454</td>\n",
       "      <td>...</td>\n",
       "      <td>2016</td>\n",
       "      <td>6</td>\n",
       "      <td>25</td>\n",
       "      <td>18</td>\n",
       "      <td>30</td>\n",
       "      <td>2016</td>\n",
       "      <td>6</td>\n",
       "      <td>25</td>\n",
       "      <td>21</td>\n",
       "      <td>15</td>\n",
       "    </tr>\n",
       "    <tr>\n",
       "      <th>3</th>\n",
       "      <td>554</td>\n",
       "      <td>SOF</td>\n",
       "      <td>TLV</td>\n",
       "      <td>29</td>\n",
       "      <td>738</td>\n",
       "      <td>4X-EKH</td>\n",
       "      <td>137.0</td>\n",
       "      <td>2</td>\n",
       "      <td>3</td>\n",
       "      <td>42.688343</td>\n",
       "      <td>...</td>\n",
       "      <td>2016</td>\n",
       "      <td>6</td>\n",
       "      <td>25</td>\n",
       "      <td>22</td>\n",
       "      <td>15</td>\n",
       "      <td>2016</td>\n",
       "      <td>6</td>\n",
       "      <td>26</td>\n",
       "      <td>0</td>\n",
       "      <td>40</td>\n",
       "    </tr>\n",
       "    <tr>\n",
       "      <th>4</th>\n",
       "      <td>381</td>\n",
       "      <td>TLV</td>\n",
       "      <td>MXP</td>\n",
       "      <td>188</td>\n",
       "      <td>737</td>\n",
       "      <td>4X-EKH</td>\n",
       "      <td>NaN</td>\n",
       "      <td>3</td>\n",
       "      <td>1</td>\n",
       "      <td>32.000454</td>\n",
       "      <td>...</td>\n",
       "      <td>2016</td>\n",
       "      <td>6</td>\n",
       "      <td>26</td>\n",
       "      <td>4</td>\n",
       "      <td>45</td>\n",
       "      <td>2016</td>\n",
       "      <td>6</td>\n",
       "      <td>26</td>\n",
       "      <td>9</td>\n",
       "      <td>0</td>\n",
       "    </tr>\n",
       "  </tbody>\n",
       "</table>\n",
       "<p>5 rows × 26 columns</p>\n",
       "</div>"
      ],
      "text/plain": [
       "  flightNumber departureAirportFsCode arrivalAirportFsCode  delay_time  \\\n",
       "0          381                    TLV                  MXP          22   \n",
       "1          382                    MXP                  TLV          20   \n",
       "2          553                    TLV                  SOF           0   \n",
       "3          554                    SOF                  TLV          29   \n",
       "4          381                    TLV                  MXP         188   \n",
       "\n",
       "  aircraft_model tailnumber  flights_time departureTerminal arrivalTerminal  \\\n",
       "0            738     4X-EKH         204.0                 3               1   \n",
       "1            737     4X-EKH         213.0                 1               3   \n",
       "2            738     4X-EKH         133.0                 3              T2   \n",
       "3            738     4X-EKH         137.0                 2               3   \n",
       "4            737     4X-EKH           NaN                 3               1   \n",
       "\n",
       "  departureAirportLat  ... departureDate_year departureDate_month  \\\n",
       "0           32.000454  ...               2016                   6   \n",
       "1           45.627403  ...               2016                   6   \n",
       "2           32.000454  ...               2016                   6   \n",
       "3           42.688343  ...               2016                   6   \n",
       "4           32.000454  ...               2016                   6   \n",
       "\n",
       "  departureDate_day  departureDate_hour  departureDate_minute  \\\n",
       "0                24                   4                    45   \n",
       "1                24                  10                     5   \n",
       "2                25                  18                    30   \n",
       "3                25                  22                    15   \n",
       "4                26                   4                    45   \n",
       "\n",
       "   arrivalDate_year  arrivalDate_month  arrivalDate_day  arrivalDate_hour  \\\n",
       "0              2016                  6               24                 9   \n",
       "1              2016                  6               24                13   \n",
       "2              2016                  6               25                21   \n",
       "3              2016                  6               26                 0   \n",
       "4              2016                  6               26                 9   \n",
       "\n",
       "   arrivalDate_minute  \n",
       "0                   0  \n",
       "1                  55  \n",
       "2                  15  \n",
       "3                  40  \n",
       "4                   0  \n",
       "\n",
       "[5 rows x 26 columns]"
      ]
     },
     "execution_count": 575,
     "metadata": {},
     "output_type": "execute_result"
    }
   ],
   "source": [
    "flights_df.head()"
   ]
  },
  {
   "attachments": {},
   "cell_type": "markdown",
   "metadata": {},
   "source": [
    "## Fill/Drop missing data"
   ]
  },
  {
   "cell_type": "code",
   "execution_count": null,
   "metadata": {},
   "outputs": [],
   "source": [
    "flights_df[['departureTerminal','arrivalTerminal']] = flights_df[['departureTerminal','arrivalTerminal']].fillna('unknown')"
   ]
  },
  {
   "cell_type": "code",
   "execution_count": null,
   "metadata": {},
   "outputs": [],
   "source": [
    "flights_df['flights_time'] = flights_df['flights_time'].fillna(flights_df['flights_time'].std())"
   ]
  },
  {
   "attachments": {},
   "cell_type": "markdown",
   "metadata": {},
   "source": [
    "### Drop duplicate rows"
   ]
  },
  {
   "cell_type": "code",
   "execution_count": null,
   "metadata": {},
   "outputs": [],
   "source": [
    "flights_df = flights_df.drop_duplicates()\n",
    "flights_df = flights_df.dropna()"
   ]
  },
  {
   "cell_type": "code",
   "execution_count": null,
   "metadata": {},
   "outputs": [
    {
     "name": "stdout",
     "output_type": "stream",
     "text": [
      "<class 'pandas.core.frame.DataFrame'>\n",
      "Int64Index: 4786 entries, 0 to 15752\n",
      "Data columns (total 26 columns):\n",
      " #   Column                   Non-Null Count  Dtype  \n",
      "---  ------                   --------------  -----  \n",
      " 0   flightNumber             4786 non-null   object \n",
      " 1   departureAirportFsCode   4786 non-null   object \n",
      " 2   arrivalAirportFsCode     4786 non-null   object \n",
      " 3   delay_time               4786 non-null   int64  \n",
      " 4   aircraft_model           4786 non-null   object \n",
      " 5   tailnumber               4786 non-null   object \n",
      " 6   flights_time             4786 non-null   float64\n",
      " 7   departureTerminal        4786 non-null   object \n",
      " 8   arrivalTerminal          4786 non-null   object \n",
      " 9   departureAirportLat      4786 non-null   object \n",
      " 10  departureAirportLon      4786 non-null   object \n",
      " 11  arrivalAirportLat        4786 non-null   object \n",
      " 12  arrivalAirportLon        4786 non-null   object \n",
      " 13  departureAirportWeather  4786 non-null   int64  \n",
      " 14  arrivalAirportWeather    4786 non-null   int64  \n",
      " 15  is_crestian_holiday      4786 non-null   int64  \n",
      " 16  departureDate_year       4786 non-null   int64  \n",
      " 17  departureDate_month      4786 non-null   int64  \n",
      " 18  departureDate_day        4786 non-null   int64  \n",
      " 19  departureDate_hour       4786 non-null   int64  \n",
      " 20  departureDate_minute     4786 non-null   int64  \n",
      " 21  arrivalDate_year         4786 non-null   int64  \n",
      " 22  arrivalDate_month        4786 non-null   int64  \n",
      " 23  arrivalDate_day          4786 non-null   int64  \n",
      " 24  arrivalDate_hour         4786 non-null   int64  \n",
      " 25  arrivalDate_minute       4786 non-null   int64  \n",
      "dtypes: float64(1), int64(14), object(11)\n",
      "memory usage: 1009.5+ KB\n"
     ]
    }
   ],
   "source": [
    "flights_df.info()"
   ]
  },
  {
   "attachments": {},
   "cell_type": "markdown",
   "metadata": {},
   "source": [
    "## Convert Text to numbers"
   ]
  },
  {
   "cell_type": "code",
   "execution_count": null,
   "metadata": {},
   "outputs": [],
   "source": [
    "def convert_text_to_number(df):\n",
    "    df['departureTerminal'] = df['departureAirportFsCode'] + '_'+ df['departureTerminal']\n",
    "    df['arrivalTerminal'] = df['arrivalAirportFsCode'] + '_'+ df['arrivalTerminal']\n",
    "    return df "
   ]
  },
  {
   "cell_type": "code",
   "execution_count": null,
   "metadata": {},
   "outputs": [
    {
     "data": {
      "text/html": [
       "<div>\n",
       "<style scoped>\n",
       "    .dataframe tbody tr th:only-of-type {\n",
       "        vertical-align: middle;\n",
       "    }\n",
       "\n",
       "    .dataframe tbody tr th {\n",
       "        vertical-align: top;\n",
       "    }\n",
       "\n",
       "    .dataframe thead th {\n",
       "        text-align: right;\n",
       "    }\n",
       "</style>\n",
       "<table border=\"1\" class=\"dataframe\">\n",
       "  <thead>\n",
       "    <tr style=\"text-align: right;\">\n",
       "      <th></th>\n",
       "      <th>flightNumber</th>\n",
       "      <th>departureAirportFsCode</th>\n",
       "      <th>arrivalAirportFsCode</th>\n",
       "      <th>delay_time</th>\n",
       "      <th>aircraft_model</th>\n",
       "      <th>tailnumber</th>\n",
       "      <th>flights_time</th>\n",
       "      <th>departureTerminal</th>\n",
       "      <th>arrivalTerminal</th>\n",
       "      <th>departureAirportLat</th>\n",
       "      <th>...</th>\n",
       "      <th>departureDate_year</th>\n",
       "      <th>departureDate_month</th>\n",
       "      <th>departureDate_day</th>\n",
       "      <th>departureDate_hour</th>\n",
       "      <th>departureDate_minute</th>\n",
       "      <th>arrivalDate_year</th>\n",
       "      <th>arrivalDate_month</th>\n",
       "      <th>arrivalDate_day</th>\n",
       "      <th>arrivalDate_hour</th>\n",
       "      <th>arrivalDate_minute</th>\n",
       "    </tr>\n",
       "  </thead>\n",
       "  <tbody>\n",
       "    <tr>\n",
       "      <th>0</th>\n",
       "      <td>381</td>\n",
       "      <td>TLV</td>\n",
       "      <td>MXP</td>\n",
       "      <td>22</td>\n",
       "      <td>738</td>\n",
       "      <td>4X-EKH</td>\n",
       "      <td>204.000000</td>\n",
       "      <td>TLV_3</td>\n",
       "      <td>MXP_1</td>\n",
       "      <td>32.000454</td>\n",
       "      <td>...</td>\n",
       "      <td>2016</td>\n",
       "      <td>6</td>\n",
       "      <td>24</td>\n",
       "      <td>4</td>\n",
       "      <td>45</td>\n",
       "      <td>2016</td>\n",
       "      <td>6</td>\n",
       "      <td>24</td>\n",
       "      <td>9</td>\n",
       "      <td>0</td>\n",
       "    </tr>\n",
       "    <tr>\n",
       "      <th>1</th>\n",
       "      <td>382</td>\n",
       "      <td>MXP</td>\n",
       "      <td>TLV</td>\n",
       "      <td>20</td>\n",
       "      <td>737</td>\n",
       "      <td>4X-EKH</td>\n",
       "      <td>213.000000</td>\n",
       "      <td>MXP_1</td>\n",
       "      <td>TLV_3</td>\n",
       "      <td>45.627403</td>\n",
       "      <td>...</td>\n",
       "      <td>2016</td>\n",
       "      <td>6</td>\n",
       "      <td>24</td>\n",
       "      <td>10</td>\n",
       "      <td>5</td>\n",
       "      <td>2016</td>\n",
       "      <td>6</td>\n",
       "      <td>24</td>\n",
       "      <td>13</td>\n",
       "      <td>55</td>\n",
       "    </tr>\n",
       "    <tr>\n",
       "      <th>2</th>\n",
       "      <td>553</td>\n",
       "      <td>TLV</td>\n",
       "      <td>SOF</td>\n",
       "      <td>0</td>\n",
       "      <td>738</td>\n",
       "      <td>4X-EKH</td>\n",
       "      <td>133.000000</td>\n",
       "      <td>TLV_3</td>\n",
       "      <td>SOF_T2</td>\n",
       "      <td>32.000454</td>\n",
       "      <td>...</td>\n",
       "      <td>2016</td>\n",
       "      <td>6</td>\n",
       "      <td>25</td>\n",
       "      <td>18</td>\n",
       "      <td>30</td>\n",
       "      <td>2016</td>\n",
       "      <td>6</td>\n",
       "      <td>25</td>\n",
       "      <td>21</td>\n",
       "      <td>15</td>\n",
       "    </tr>\n",
       "    <tr>\n",
       "      <th>3</th>\n",
       "      <td>554</td>\n",
       "      <td>SOF</td>\n",
       "      <td>TLV</td>\n",
       "      <td>29</td>\n",
       "      <td>738</td>\n",
       "      <td>4X-EKH</td>\n",
       "      <td>137.000000</td>\n",
       "      <td>SOF_2</td>\n",
       "      <td>TLV_3</td>\n",
       "      <td>42.688343</td>\n",
       "      <td>...</td>\n",
       "      <td>2016</td>\n",
       "      <td>6</td>\n",
       "      <td>25</td>\n",
       "      <td>22</td>\n",
       "      <td>15</td>\n",
       "      <td>2016</td>\n",
       "      <td>6</td>\n",
       "      <td>26</td>\n",
       "      <td>0</td>\n",
       "      <td>40</td>\n",
       "    </tr>\n",
       "    <tr>\n",
       "      <th>4</th>\n",
       "      <td>381</td>\n",
       "      <td>TLV</td>\n",
       "      <td>MXP</td>\n",
       "      <td>188</td>\n",
       "      <td>737</td>\n",
       "      <td>4X-EKH</td>\n",
       "      <td>212.832148</td>\n",
       "      <td>TLV_3</td>\n",
       "      <td>MXP_1</td>\n",
       "      <td>32.000454</td>\n",
       "      <td>...</td>\n",
       "      <td>2016</td>\n",
       "      <td>6</td>\n",
       "      <td>26</td>\n",
       "      <td>4</td>\n",
       "      <td>45</td>\n",
       "      <td>2016</td>\n",
       "      <td>6</td>\n",
       "      <td>26</td>\n",
       "      <td>9</td>\n",
       "      <td>0</td>\n",
       "    </tr>\n",
       "    <tr>\n",
       "      <th>...</th>\n",
       "      <td>...</td>\n",
       "      <td>...</td>\n",
       "      <td>...</td>\n",
       "      <td>...</td>\n",
       "      <td>...</td>\n",
       "      <td>...</td>\n",
       "      <td>...</td>\n",
       "      <td>...</td>\n",
       "      <td>...</td>\n",
       "      <td>...</td>\n",
       "      <td>...</td>\n",
       "      <td>...</td>\n",
       "      <td>...</td>\n",
       "      <td>...</td>\n",
       "      <td>...</td>\n",
       "      <td>...</td>\n",
       "      <td>...</td>\n",
       "      <td>...</td>\n",
       "      <td>...</td>\n",
       "      <td>...</td>\n",
       "      <td>...</td>\n",
       "    </tr>\n",
       "    <tr>\n",
       "      <th>15649</th>\n",
       "      <td>353</td>\n",
       "      <td>TLV</td>\n",
       "      <td>MUC</td>\n",
       "      <td>7</td>\n",
       "      <td>738</td>\n",
       "      <td>4X-EKI</td>\n",
       "      <td>221.000000</td>\n",
       "      <td>TLV_3</td>\n",
       "      <td>MUC_1</td>\n",
       "      <td>32.000454</td>\n",
       "      <td>...</td>\n",
       "      <td>2017</td>\n",
       "      <td>6</td>\n",
       "      <td>23</td>\n",
       "      <td>3</td>\n",
       "      <td>0</td>\n",
       "      <td>2017</td>\n",
       "      <td>6</td>\n",
       "      <td>23</td>\n",
       "      <td>7</td>\n",
       "      <td>15</td>\n",
       "    </tr>\n",
       "    <tr>\n",
       "      <th>15685</th>\n",
       "      <td>2431</td>\n",
       "      <td>TLV</td>\n",
       "      <td>LCA</td>\n",
       "      <td>13</td>\n",
       "      <td>738</td>\n",
       "      <td>4X-EKT</td>\n",
       "      <td>42.000000</td>\n",
       "      <td>TLV_1</td>\n",
       "      <td>LCA_unknown</td>\n",
       "      <td>32.000454</td>\n",
       "      <td>...</td>\n",
       "      <td>2016</td>\n",
       "      <td>11</td>\n",
       "      <td>24</td>\n",
       "      <td>13</td>\n",
       "      <td>30</td>\n",
       "      <td>2016</td>\n",
       "      <td>11</td>\n",
       "      <td>24</td>\n",
       "      <td>14</td>\n",
       "      <td>40</td>\n",
       "    </tr>\n",
       "    <tr>\n",
       "      <th>15686</th>\n",
       "      <td>2432</td>\n",
       "      <td>LCA</td>\n",
       "      <td>TLV</td>\n",
       "      <td>7</td>\n",
       "      <td>738</td>\n",
       "      <td>4X-EKT</td>\n",
       "      <td>44.000000</td>\n",
       "      <td>LCA_unknown</td>\n",
       "      <td>TLV_3</td>\n",
       "      <td>34.880867</td>\n",
       "      <td>...</td>\n",
       "      <td>2016</td>\n",
       "      <td>11</td>\n",
       "      <td>24</td>\n",
       "      <td>15</td>\n",
       "      <td>40</td>\n",
       "      <td>2016</td>\n",
       "      <td>11</td>\n",
       "      <td>24</td>\n",
       "      <td>16</td>\n",
       "      <td>45</td>\n",
       "    </tr>\n",
       "    <tr>\n",
       "      <th>15751</th>\n",
       "      <td>321</td>\n",
       "      <td>TLV</td>\n",
       "      <td>MRS</td>\n",
       "      <td>20</td>\n",
       "      <td>738</td>\n",
       "      <td>4X-EKL</td>\n",
       "      <td>259.000000</td>\n",
       "      <td>TLV_3</td>\n",
       "      <td>MRS_1</td>\n",
       "      <td>32.000454</td>\n",
       "      <td>...</td>\n",
       "      <td>2016</td>\n",
       "      <td>11</td>\n",
       "      <td>24</td>\n",
       "      <td>4</td>\n",
       "      <td>0</td>\n",
       "      <td>2016</td>\n",
       "      <td>11</td>\n",
       "      <td>24</td>\n",
       "      <td>8</td>\n",
       "      <td>40</td>\n",
       "    </tr>\n",
       "    <tr>\n",
       "      <th>15752</th>\n",
       "      <td>322</td>\n",
       "      <td>MRS</td>\n",
       "      <td>TLV</td>\n",
       "      <td>43</td>\n",
       "      <td>738</td>\n",
       "      <td>4X-EKL</td>\n",
       "      <td>219.000000</td>\n",
       "      <td>MRS_1</td>\n",
       "      <td>TLV_3</td>\n",
       "      <td>43.44178</td>\n",
       "      <td>...</td>\n",
       "      <td>2016</td>\n",
       "      <td>11</td>\n",
       "      <td>24</td>\n",
       "      <td>9</td>\n",
       "      <td>45</td>\n",
       "      <td>2016</td>\n",
       "      <td>11</td>\n",
       "      <td>24</td>\n",
       "      <td>13</td>\n",
       "      <td>50</td>\n",
       "    </tr>\n",
       "  </tbody>\n",
       "</table>\n",
       "<p>4786 rows × 26 columns</p>\n",
       "</div>"
      ],
      "text/plain": [
       "      flightNumber departureAirportFsCode arrivalAirportFsCode  delay_time  \\\n",
       "0              381                    TLV                  MXP          22   \n",
       "1              382                    MXP                  TLV          20   \n",
       "2              553                    TLV                  SOF           0   \n",
       "3              554                    SOF                  TLV          29   \n",
       "4              381                    TLV                  MXP         188   \n",
       "...            ...                    ...                  ...         ...   \n",
       "15649          353                    TLV                  MUC           7   \n",
       "15685         2431                    TLV                  LCA          13   \n",
       "15686         2432                    LCA                  TLV           7   \n",
       "15751          321                    TLV                  MRS          20   \n",
       "15752          322                    MRS                  TLV          43   \n",
       "\n",
       "      aircraft_model tailnumber  flights_time departureTerminal  \\\n",
       "0                738     4X-EKH    204.000000             TLV_3   \n",
       "1                737     4X-EKH    213.000000             MXP_1   \n",
       "2                738     4X-EKH    133.000000             TLV_3   \n",
       "3                738     4X-EKH    137.000000             SOF_2   \n",
       "4                737     4X-EKH    212.832148             TLV_3   \n",
       "...              ...        ...           ...               ...   \n",
       "15649            738     4X-EKI    221.000000             TLV_3   \n",
       "15685            738     4X-EKT     42.000000             TLV_1   \n",
       "15686            738     4X-EKT     44.000000       LCA_unknown   \n",
       "15751            738     4X-EKL    259.000000             TLV_3   \n",
       "15752            738     4X-EKL    219.000000             MRS_1   \n",
       "\n",
       "      arrivalTerminal departureAirportLat  ... departureDate_year  \\\n",
       "0               MXP_1           32.000454  ...               2016   \n",
       "1               TLV_3           45.627403  ...               2016   \n",
       "2              SOF_T2           32.000454  ...               2016   \n",
       "3               TLV_3           42.688343  ...               2016   \n",
       "4               MXP_1           32.000454  ...               2016   \n",
       "...               ...                 ...  ...                ...   \n",
       "15649           MUC_1           32.000454  ...               2017   \n",
       "15685     LCA_unknown           32.000454  ...               2016   \n",
       "15686           TLV_3           34.880867  ...               2016   \n",
       "15751           MRS_1           32.000454  ...               2016   \n",
       "15752           TLV_3            43.44178  ...               2016   \n",
       "\n",
       "      departureDate_month departureDate_day  departureDate_hour  \\\n",
       "0                       6                24                   4   \n",
       "1                       6                24                  10   \n",
       "2                       6                25                  18   \n",
       "3                       6                25                  22   \n",
       "4                       6                26                   4   \n",
       "...                   ...               ...                 ...   \n",
       "15649                   6                23                   3   \n",
       "15685                  11                24                  13   \n",
       "15686                  11                24                  15   \n",
       "15751                  11                24                   4   \n",
       "15752                  11                24                   9   \n",
       "\n",
       "       departureDate_minute  arrivalDate_year  arrivalDate_month  \\\n",
       "0                        45              2016                  6   \n",
       "1                         5              2016                  6   \n",
       "2                        30              2016                  6   \n",
       "3                        15              2016                  6   \n",
       "4                        45              2016                  6   \n",
       "...                     ...               ...                ...   \n",
       "15649                     0              2017                  6   \n",
       "15685                    30              2016                 11   \n",
       "15686                    40              2016                 11   \n",
       "15751                     0              2016                 11   \n",
       "15752                    45              2016                 11   \n",
       "\n",
       "       arrivalDate_day  arrivalDate_hour  arrivalDate_minute  \n",
       "0                   24                 9                   0  \n",
       "1                   24                13                  55  \n",
       "2                   25                21                  15  \n",
       "3                   26                 0                  40  \n",
       "4                   26                 9                   0  \n",
       "...                ...               ...                 ...  \n",
       "15649               23                 7                  15  \n",
       "15685               24                14                  40  \n",
       "15686               24                16                  45  \n",
       "15751               24                 8                  40  \n",
       "15752               24                13                  50  \n",
       "\n",
       "[4786 rows x 26 columns]"
      ]
     },
     "execution_count": 582,
     "metadata": {},
     "output_type": "execute_result"
    }
   ],
   "source": [
    "flights_df = convert_text_to_number(flights_df)\n",
    "flights_df"
   ]
  },
  {
   "cell_type": "code",
   "execution_count": null,
   "metadata": {},
   "outputs": [
    {
     "data": {
      "text/html": [
       "<div>\n",
       "<style scoped>\n",
       "    .dataframe tbody tr th:only-of-type {\n",
       "        vertical-align: middle;\n",
       "    }\n",
       "\n",
       "    .dataframe tbody tr th {\n",
       "        vertical-align: top;\n",
       "    }\n",
       "\n",
       "    .dataframe thead th {\n",
       "        text-align: right;\n",
       "    }\n",
       "</style>\n",
       "<table border=\"1\" class=\"dataframe\">\n",
       "  <thead>\n",
       "    <tr style=\"text-align: right;\">\n",
       "      <th></th>\n",
       "      <th>delay_time</th>\n",
       "      <th>flights_time</th>\n",
       "      <th>departureAirportWeather</th>\n",
       "      <th>arrivalAirportWeather</th>\n",
       "      <th>is_crestian_holiday</th>\n",
       "      <th>departureDate_year</th>\n",
       "      <th>departureDate_month</th>\n",
       "      <th>departureDate_day</th>\n",
       "      <th>departureDate_hour</th>\n",
       "      <th>departureDate_minute</th>\n",
       "      <th>arrivalDate_year</th>\n",
       "      <th>arrivalDate_month</th>\n",
       "      <th>arrivalDate_day</th>\n",
       "      <th>arrivalDate_hour</th>\n",
       "      <th>arrivalDate_minute</th>\n",
       "    </tr>\n",
       "  </thead>\n",
       "  <tbody>\n",
       "    <tr>\n",
       "      <th>count</th>\n",
       "      <td>4786.000000</td>\n",
       "      <td>4786.000000</td>\n",
       "      <td>4786.0</td>\n",
       "      <td>4786.0</td>\n",
       "      <td>4786.000000</td>\n",
       "      <td>4786.000000</td>\n",
       "      <td>4786.000000</td>\n",
       "      <td>4786.000000</td>\n",
       "      <td>4786.000000</td>\n",
       "      <td>4786.000000</td>\n",
       "      <td>4786.000000</td>\n",
       "      <td>4786.000000</td>\n",
       "      <td>4786.000000</td>\n",
       "      <td>4786.000000</td>\n",
       "      <td>4786.000000</td>\n",
       "    </tr>\n",
       "    <tr>\n",
       "      <th>mean</th>\n",
       "      <td>45.118471</td>\n",
       "      <td>394.278044</td>\n",
       "      <td>0.0</td>\n",
       "      <td>0.0</td>\n",
       "      <td>0.012537</td>\n",
       "      <td>2019.546176</td>\n",
       "      <td>6.701421</td>\n",
       "      <td>16.218763</td>\n",
       "      <td>12.987046</td>\n",
       "      <td>20.936064</td>\n",
       "      <td>2019.547430</td>\n",
       "      <td>6.701421</td>\n",
       "      <td>16.132888</td>\n",
       "      <td>11.167363</td>\n",
       "      <td>26.764522</td>\n",
       "    </tr>\n",
       "    <tr>\n",
       "      <th>std</th>\n",
       "      <td>114.381371</td>\n",
       "      <td>221.679278</td>\n",
       "      <td>0.0</td>\n",
       "      <td>0.0</td>\n",
       "      <td>0.111274</td>\n",
       "      <td>2.680020</td>\n",
       "      <td>3.486961</td>\n",
       "      <td>9.043907</td>\n",
       "      <td>6.788108</td>\n",
       "      <td>17.727311</td>\n",
       "      <td>2.679686</td>\n",
       "      <td>3.488339</td>\n",
       "      <td>9.059555</td>\n",
       "      <td>6.003011</td>\n",
       "      <td>18.450293</td>\n",
       "    </tr>\n",
       "    <tr>\n",
       "      <th>min</th>\n",
       "      <td>0.000000</td>\n",
       "      <td>26.000000</td>\n",
       "      <td>0.0</td>\n",
       "      <td>0.0</td>\n",
       "      <td>0.000000</td>\n",
       "      <td>2015.000000</td>\n",
       "      <td>1.000000</td>\n",
       "      <td>1.000000</td>\n",
       "      <td>0.000000</td>\n",
       "      <td>0.000000</td>\n",
       "      <td>2015.000000</td>\n",
       "      <td>1.000000</td>\n",
       "      <td>1.000000</td>\n",
       "      <td>0.000000</td>\n",
       "      <td>0.000000</td>\n",
       "    </tr>\n",
       "    <tr>\n",
       "      <th>25%</th>\n",
       "      <td>2.000000</td>\n",
       "      <td>223.000000</td>\n",
       "      <td>0.0</td>\n",
       "      <td>0.0</td>\n",
       "      <td>0.000000</td>\n",
       "      <td>2017.000000</td>\n",
       "      <td>4.000000</td>\n",
       "      <td>8.000000</td>\n",
       "      <td>7.000000</td>\n",
       "      <td>5.000000</td>\n",
       "      <td>2017.000000</td>\n",
       "      <td>4.000000</td>\n",
       "      <td>8.000000</td>\n",
       "      <td>7.000000</td>\n",
       "      <td>10.000000</td>\n",
       "    </tr>\n",
       "    <tr>\n",
       "      <th>50%</th>\n",
       "      <td>16.000000</td>\n",
       "      <td>271.000000</td>\n",
       "      <td>0.0</td>\n",
       "      <td>0.0</td>\n",
       "      <td>0.000000</td>\n",
       "      <td>2021.000000</td>\n",
       "      <td>7.000000</td>\n",
       "      <td>17.000000</td>\n",
       "      <td>14.000000</td>\n",
       "      <td>20.000000</td>\n",
       "      <td>2021.000000</td>\n",
       "      <td>7.000000</td>\n",
       "      <td>16.000000</td>\n",
       "      <td>11.000000</td>\n",
       "      <td>30.000000</td>\n",
       "    </tr>\n",
       "    <tr>\n",
       "      <th>75%</th>\n",
       "      <td>49.000000</td>\n",
       "      <td>610.000000</td>\n",
       "      <td>0.0</td>\n",
       "      <td>0.0</td>\n",
       "      <td>0.000000</td>\n",
       "      <td>2022.000000</td>\n",
       "      <td>10.000000</td>\n",
       "      <td>24.000000</td>\n",
       "      <td>19.000000</td>\n",
       "      <td>31.500000</td>\n",
       "      <td>2022.000000</td>\n",
       "      <td>10.000000</td>\n",
       "      <td>24.000000</td>\n",
       "      <td>16.000000</td>\n",
       "      <td>45.000000</td>\n",
       "    </tr>\n",
       "    <tr>\n",
       "      <th>max</th>\n",
       "      <td>2951.000000</td>\n",
       "      <td>956.000000</td>\n",
       "      <td>0.0</td>\n",
       "      <td>0.0</td>\n",
       "      <td>1.000000</td>\n",
       "      <td>2023.000000</td>\n",
       "      <td>12.000000</td>\n",
       "      <td>31.000000</td>\n",
       "      <td>23.000000</td>\n",
       "      <td>57.000000</td>\n",
       "      <td>2023.000000</td>\n",
       "      <td>12.000000</td>\n",
       "      <td>31.000000</td>\n",
       "      <td>23.000000</td>\n",
       "      <td>59.000000</td>\n",
       "    </tr>\n",
       "  </tbody>\n",
       "</table>\n",
       "</div>"
      ],
      "text/plain": [
       "        delay_time  flights_time  departureAirportWeather  \\\n",
       "count  4786.000000   4786.000000                   4786.0   \n",
       "mean     45.118471    394.278044                      0.0   \n",
       "std     114.381371    221.679278                      0.0   \n",
       "min       0.000000     26.000000                      0.0   \n",
       "25%       2.000000    223.000000                      0.0   \n",
       "50%      16.000000    271.000000                      0.0   \n",
       "75%      49.000000    610.000000                      0.0   \n",
       "max    2951.000000    956.000000                      0.0   \n",
       "\n",
       "       arrivalAirportWeather  is_crestian_holiday  departureDate_year  \\\n",
       "count                 4786.0          4786.000000         4786.000000   \n",
       "mean                     0.0             0.012537         2019.546176   \n",
       "std                      0.0             0.111274            2.680020   \n",
       "min                      0.0             0.000000         2015.000000   \n",
       "25%                      0.0             0.000000         2017.000000   \n",
       "50%                      0.0             0.000000         2021.000000   \n",
       "75%                      0.0             0.000000         2022.000000   \n",
       "max                      0.0             1.000000         2023.000000   \n",
       "\n",
       "       departureDate_month  departureDate_day  departureDate_hour  \\\n",
       "count          4786.000000        4786.000000         4786.000000   \n",
       "mean              6.701421          16.218763           12.987046   \n",
       "std               3.486961           9.043907            6.788108   \n",
       "min               1.000000           1.000000            0.000000   \n",
       "25%               4.000000           8.000000            7.000000   \n",
       "50%               7.000000          17.000000           14.000000   \n",
       "75%              10.000000          24.000000           19.000000   \n",
       "max              12.000000          31.000000           23.000000   \n",
       "\n",
       "       departureDate_minute  arrivalDate_year  arrivalDate_month  \\\n",
       "count           4786.000000       4786.000000        4786.000000   \n",
       "mean              20.936064       2019.547430           6.701421   \n",
       "std               17.727311          2.679686           3.488339   \n",
       "min                0.000000       2015.000000           1.000000   \n",
       "25%                5.000000       2017.000000           4.000000   \n",
       "50%               20.000000       2021.000000           7.000000   \n",
       "75%               31.500000       2022.000000          10.000000   \n",
       "max               57.000000       2023.000000          12.000000   \n",
       "\n",
       "       arrivalDate_day  arrivalDate_hour  arrivalDate_minute  \n",
       "count      4786.000000       4786.000000         4786.000000  \n",
       "mean         16.132888         11.167363           26.764522  \n",
       "std           9.059555          6.003011           18.450293  \n",
       "min           1.000000          0.000000            0.000000  \n",
       "25%           8.000000          7.000000           10.000000  \n",
       "50%          16.000000         11.000000           30.000000  \n",
       "75%          24.000000         16.000000           45.000000  \n",
       "max          31.000000         23.000000           59.000000  "
      ]
     },
     "execution_count": 583,
     "metadata": {},
     "output_type": "execute_result"
    }
   ],
   "source": [
    "flights_df.describe()"
   ]
  },
  {
   "attachments": {},
   "cell_type": "markdown",
   "metadata": {},
   "source": [
    "## Data visualization"
   ]
  },
  {
   "attachments": {},
   "cell_type": "markdown",
   "metadata": {},
   "source": [
    "### View Columns correlation"
   ]
  },
  {
   "cell_type": "code",
   "execution_count": null,
   "metadata": {},
   "outputs": [
    {
     "data": {
      "text/plain": [
       "<AxesSubplot:>"
      ]
     },
     "execution_count": 584,
     "metadata": {},
     "output_type": "execute_result"
    },
    {
     "data": {
      "image/png": "[encoded data removed]",
      "text/plain": [
       "<Figure size 640x480 with 2 Axes>"
      ]
     },
     "metadata": {},
     "output_type": "display_data"
    }
   ],
   "source": [
    "sns.heatmap(flights_df.corr())"
   ]
  },
  {
   "attachments": {},
   "cell_type": "markdown",
   "metadata": {},
   "source": [
    "we can see that there is no correlation between out columns to flight delay.\n",
    "We thing that if we change out date presentation we maby can see some corelation\n",
    "\n",
    "We will use date in year instad of our current way that use 3 separate columns"
   ]
  },
  {
   "attachments": {},
   "cell_type": "markdown",
   "metadata": {},
   "source": [
    "## Change Date presentatuin"
   ]
  },
  {
   "cell_type": "code",
   "execution_count": null,
   "metadata": {},
   "outputs": [],
   "source": [
    "def dayes_in_month(month,year):\n",
    "    return calendar.monthrange(year, month)[1]"
   ]
  },
  {
   "cell_type": "code",
   "execution_count": null,
   "metadata": {},
   "outputs": [],
   "source": [
    "def get_day_in_year(year,mnt : pd.Series,day):\n",
    "    daysList = []\n",
    "    for i,x in enumerate(mnt.tolist()):\n",
    "        days=0\n",
    "        y = year.tolist()[i]\n",
    "        for m in range(1,mnt.tolist()[i]):\n",
    "            days = days + dayes_in_month(m,y)\n",
    "        days = days + day.tolist()[i]\n",
    "        daysList.append(days)\n",
    "    return pd.Series(daysList)\n",
    "\n"
   ]
  },
  {
   "cell_type": "code",
   "execution_count": null,
   "metadata": {},
   "outputs": [],
   "source": [
    "def convert_days_columns_to_day_in_year(df,col):\n",
    "    df[col + '_day_in_year'] = get_day_in_year(df[col+'_year'],df[col+'_month'],df[col+'_day'])\n",
    "\n",
    "    df = df.drop(col+'_month',axis = 1)\n",
    "    df = df.drop(col+'_day',axis = 1)\n",
    "\n",
    "    return df"
   ]
  },
  {
   "cell_type": "code",
   "execution_count": null,
   "metadata": {},
   "outputs": [],
   "source": [
    "def convert_all_days_columns_to_day_in_year(df):\n",
    "    df = convert_days_columns_to_day_in_year(df,'departureDate')\n",
    "    df = convert_days_columns_to_day_in_year(df,'arrivalDate')\n",
    "    return df"
   ]
  },
  {
   "cell_type": "code",
   "execution_count": null,
   "metadata": {},
   "outputs": [],
   "source": [
    "flights_df = convert_all_days_columns_to_day_in_year(flights_df)"
   ]
  },
  {
   "attachments": {},
   "cell_type": "markdown",
   "metadata": {},
   "source": [
    "Now we check if there is any correlation"
   ]
  },
  {
   "cell_type": "code",
   "execution_count": null,
   "metadata": {},
   "outputs": [
    {
     "data": {
      "text/plain": [
       "<AxesSubplot:>"
      ]
     },
     "execution_count": 590,
     "metadata": {},
     "output_type": "execute_result"
    },
    {
     "data": {
      "image/png": "[encoded data removed]",
      "text/plain": [
       "<Figure size 640x480 with 2 Axes>"
      ]
     },
     "metadata": {},
     "output_type": "display_data"
    }
   ],
   "source": [
    "sns.heatmap(flights_df.corr(),annot=True)"
   ]
  },
  {
   "attachments": {},
   "cell_type": "markdown",
   "metadata": {},
   "source": [
    "# Data Visualization"
   ]
  },
  {
   "attachments": {},
   "cell_type": "markdown",
   "metadata": {},
   "source": [
    "Scatter plot"
   ]
  },
  {
   "cell_type": "code",
   "execution_count": null,
   "metadata": {},
   "outputs": [],
   "source": [
    "# pd.plotting.scatter_matrix(flights_df, figsize=(10, 10), diagonal='kde')\n",
    "# plt.show()"
   ]
  },
  {
   "attachments": {},
   "cell_type": "markdown",
   "metadata": {},
   "source": [
    "## FLights count per year"
   ]
  },
  {
   "cell_type": "code",
   "execution_count": null,
   "metadata": {},
   "outputs": [
    {
     "data": {
      "text/plain": [
       "<AxesSubplot:xlabel='departureDate_year', ylabel='count'>"
      ]
     },
     "execution_count": 592,
     "metadata": {},
     "output_type": "execute_result"
    },
    {
     "data": {
      "image/png": "[encoded data removed]",
      "text/plain": [
       "<Figure size 640x480 with 1 Axes>"
      ]
     },
     "metadata": {},
     "output_type": "display_data"
    }
   ],
   "source": [
    "sns.countplot(data = flights_df , x='departureDate_year')"
   ]
  },
  {
   "attachments": {},
   "cell_type": "markdown",
   "metadata": {},
   "source": [
    "we can see that in 2020 and 2021 the number of flights was segnificantly lower then other years,\n",
    "we can guess that happend due to covid 19 pandemics.\n",
    "To avoid this pandemic from affect out model we will drop data from thouse years."
   ]
  },
  {
   "attachments": {},
   "cell_type": "markdown",
   "metadata": {},
   "source": [
    "## Flights count per aircraft"
   ]
  },
  {
   "cell_type": "code",
   "execution_count": null,
   "metadata": {},
   "outputs": [
    {
     "data": {
      "text/plain": [
       "<AxesSubplot:xlabel='tailnumber', ylabel='count'>"
      ]
     },
     "execution_count": 593,
     "metadata": {},
     "output_type": "execute_result"
    },
    {
     "data": {
      "image/png": "[encoded data removed]",
      "text/plain": [
       "<Figure size 640x480 with 1 Axes>"
      ]
     },
     "metadata": {},
     "output_type": "display_data"
    }
   ],
   "source": [
    "sns.set(font_scale=0.5)\n",
    "sns.countplot(data = flights_df , x='tailnumber')"
   ]
  },
  {
   "attachments": {},
   "cell_type": "markdown",
   "metadata": {},
   "source": [
    "## Delay time per aircraft"
   ]
  },
  {
   "cell_type": "code",
   "execution_count": null,
   "metadata": {},
   "outputs": [
    {
     "data": {
      "text/plain": [
       "<AxesSubplot:xlabel='tailnumber', ylabel='delay_time'>"
      ]
     },
     "execution_count": 594,
     "metadata": {},
     "output_type": "execute_result"
    },
    {
     "data": {
      "image/png": "[encoded data removed]",
      "text/plain": [
       "<Figure size 640x480 with 1 Axes>"
      ]
     },
     "metadata": {},
     "output_type": "display_data"
    }
   ],
   "source": [
    "sns.barplot(data = flights_df,x = 'tailnumber', y = 'delay_time')"
   ]
  },
  {
   "attachments": {},
   "cell_type": "markdown",
   "metadata": {},
   "source": [
    "## Avarage delay time per year"
   ]
  },
  {
   "cell_type": "code",
   "execution_count": null,
   "metadata": {},
   "outputs": [
    {
     "data": {
      "text/plain": [
       "<AxesSubplot:xlabel='departureDate_year', ylabel='delay_time'>"
      ]
     },
     "execution_count": 595,
     "metadata": {},
     "output_type": "execute_result"
    },
    {
     "data": {
      "image/png": "[encoded data removed]",
      "text/plain": [
       "<Figure size 640x480 with 1 Axes>"
      ]
     },
     "metadata": {},
     "output_type": "display_data"
    }
   ],
   "source": [
    "sns.barplot(data = flights_df , x='departureDate_year',y='delay_time')"
   ]
  },
  {
   "attachments": {},
   "cell_type": "markdown",
   "metadata": {},
   "source": [
    "## Delays per day in the year"
   ]
  },
  {
   "attachments": {},
   "cell_type": "markdown",
   "metadata": {},
   "source": [
    "We want to see if there is some connection between the day in the year and the delay time"
   ]
  },
  {
   "cell_type": "code",
   "execution_count": null,
   "metadata": {},
   "outputs": [
    {
     "data": {
      "image/png": "[encoded data removed]",
      "text/plain": [
       "<Figure size 640x480 with 1 Axes>"
      ]
     },
     "metadata": {},
     "output_type": "display_data"
    }
   ],
   "source": [
    "plt.scatter(x=flights_df['departureDate_day_in_year'],y=flights_df['delay_time'],c='r',label='Flight Time')\n",
    "#plt.scatter(x=flights_df['Newspaper'],y=flights_df['delay_time'],c='k',marker='*',label='')\n",
    "plt.legend(numpoints=1,loc=4)\n",
    "plt.xlabel('flight time (minutes)')\n",
    "plt.ylabel('Delay time')\n",
    "plt.show()"
   ]
  },
  {
   "attachments": {},
   "cell_type": "markdown",
   "metadata": {},
   "source": [
    "# Manage outlayers\n"
   ]
  },
  {
   "cell_type": "code",
   "execution_count": null,
   "metadata": {},
   "outputs": [
    {
     "data": {
      "text/html": [
       "<div>\n",
       "<style scoped>\n",
       "    .dataframe tbody tr th:only-of-type {\n",
       "        vertical-align: middle;\n",
       "    }\n",
       "\n",
       "    .dataframe tbody tr th {\n",
       "        vertical-align: top;\n",
       "    }\n",
       "\n",
       "    .dataframe thead th {\n",
       "        text-align: right;\n",
       "    }\n",
       "</style>\n",
       "<table border=\"1\" class=\"dataframe\">\n",
       "  <thead>\n",
       "    <tr style=\"text-align: right;\">\n",
       "      <th></th>\n",
       "      <th>delay_time</th>\n",
       "      <th>flights_time</th>\n",
       "      <th>departureAirportWeather</th>\n",
       "      <th>arrivalAirportWeather</th>\n",
       "      <th>is_crestian_holiday</th>\n",
       "      <th>departureDate_year</th>\n",
       "      <th>departureDate_hour</th>\n",
       "      <th>departureDate_minute</th>\n",
       "      <th>arrivalDate_year</th>\n",
       "      <th>arrivalDate_hour</th>\n",
       "      <th>arrivalDate_minute</th>\n",
       "      <th>departureDate_day_in_year</th>\n",
       "      <th>arrivalDate_day_in_year</th>\n",
       "    </tr>\n",
       "  </thead>\n",
       "  <tbody>\n",
       "    <tr>\n",
       "      <th>count</th>\n",
       "      <td>4786.000000</td>\n",
       "      <td>4786.000000</td>\n",
       "      <td>4786.0</td>\n",
       "      <td>4786.0</td>\n",
       "      <td>4786.000000</td>\n",
       "      <td>4786.000000</td>\n",
       "      <td>4786.000000</td>\n",
       "      <td>4786.000000</td>\n",
       "      <td>4786.000000</td>\n",
       "      <td>4786.000000</td>\n",
       "      <td>4786.000000</td>\n",
       "      <td>4487.000000</td>\n",
       "      <td>4487.000000</td>\n",
       "    </tr>\n",
       "    <tr>\n",
       "      <th>mean</th>\n",
       "      <td>45.118471</td>\n",
       "      <td>394.278044</td>\n",
       "      <td>0.0</td>\n",
       "      <td>0.0</td>\n",
       "      <td>0.012537</td>\n",
       "      <td>2019.546176</td>\n",
       "      <td>12.987046</td>\n",
       "      <td>20.936064</td>\n",
       "      <td>2019.547430</td>\n",
       "      <td>11.167363</td>\n",
       "      <td>26.764522</td>\n",
       "      <td>187.827947</td>\n",
       "      <td>187.789169</td>\n",
       "    </tr>\n",
       "    <tr>\n",
       "      <th>std</th>\n",
       "      <td>114.381371</td>\n",
       "      <td>221.679278</td>\n",
       "      <td>0.0</td>\n",
       "      <td>0.0</td>\n",
       "      <td>0.111274</td>\n",
       "      <td>2.680020</td>\n",
       "      <td>6.788108</td>\n",
       "      <td>17.727311</td>\n",
       "      <td>2.679686</td>\n",
       "      <td>6.003011</td>\n",
       "      <td>18.450293</td>\n",
       "      <td>104.272267</td>\n",
       "      <td>104.298645</td>\n",
       "    </tr>\n",
       "    <tr>\n",
       "      <th>min</th>\n",
       "      <td>0.000000</td>\n",
       "      <td>26.000000</td>\n",
       "      <td>0.0</td>\n",
       "      <td>0.0</td>\n",
       "      <td>0.000000</td>\n",
       "      <td>2015.000000</td>\n",
       "      <td>0.000000</td>\n",
       "      <td>0.000000</td>\n",
       "      <td>2015.000000</td>\n",
       "      <td>0.000000</td>\n",
       "      <td>0.000000</td>\n",
       "      <td>1.000000</td>\n",
       "      <td>1.000000</td>\n",
       "    </tr>\n",
       "    <tr>\n",
       "      <th>25%</th>\n",
       "      <td>2.000000</td>\n",
       "      <td>223.000000</td>\n",
       "      <td>0.0</td>\n",
       "      <td>0.0</td>\n",
       "      <td>0.000000</td>\n",
       "      <td>2017.000000</td>\n",
       "      <td>7.000000</td>\n",
       "      <td>5.000000</td>\n",
       "      <td>2017.000000</td>\n",
       "      <td>7.000000</td>\n",
       "      <td>10.000000</td>\n",
       "      <td>98.500000</td>\n",
       "      <td>98.000000</td>\n",
       "    </tr>\n",
       "    <tr>\n",
       "      <th>50%</th>\n",
       "      <td>16.000000</td>\n",
       "      <td>271.000000</td>\n",
       "      <td>0.0</td>\n",
       "      <td>0.0</td>\n",
       "      <td>0.000000</td>\n",
       "      <td>2021.000000</td>\n",
       "      <td>14.000000</td>\n",
       "      <td>20.000000</td>\n",
       "      <td>2021.000000</td>\n",
       "      <td>11.000000</td>\n",
       "      <td>30.000000</td>\n",
       "      <td>189.000000</td>\n",
       "      <td>189.000000</td>\n",
       "    </tr>\n",
       "    <tr>\n",
       "      <th>75%</th>\n",
       "      <td>49.000000</td>\n",
       "      <td>610.000000</td>\n",
       "      <td>0.0</td>\n",
       "      <td>0.0</td>\n",
       "      <td>0.000000</td>\n",
       "      <td>2022.000000</td>\n",
       "      <td>19.000000</td>\n",
       "      <td>31.500000</td>\n",
       "      <td>2022.000000</td>\n",
       "      <td>16.000000</td>\n",
       "      <td>45.000000</td>\n",
       "      <td>283.000000</td>\n",
       "      <td>282.000000</td>\n",
       "    </tr>\n",
       "    <tr>\n",
       "      <th>max</th>\n",
       "      <td>2951.000000</td>\n",
       "      <td>956.000000</td>\n",
       "      <td>0.0</td>\n",
       "      <td>0.0</td>\n",
       "      <td>1.000000</td>\n",
       "      <td>2023.000000</td>\n",
       "      <td>23.000000</td>\n",
       "      <td>57.000000</td>\n",
       "      <td>2023.000000</td>\n",
       "      <td>23.000000</td>\n",
       "      <td>59.000000</td>\n",
       "      <td>365.000000</td>\n",
       "      <td>365.000000</td>\n",
       "    </tr>\n",
       "  </tbody>\n",
       "</table>\n",
       "</div>"
      ],
      "text/plain": [
       "        delay_time  flights_time  departureAirportWeather  \\\n",
       "count  4786.000000   4786.000000                   4786.0   \n",
       "mean     45.118471    394.278044                      0.0   \n",
       "std     114.381371    221.679278                      0.0   \n",
       "min       0.000000     26.000000                      0.0   \n",
       "25%       2.000000    223.000000                      0.0   \n",
       "50%      16.000000    271.000000                      0.0   \n",
       "75%      49.000000    610.000000                      0.0   \n",
       "max    2951.000000    956.000000                      0.0   \n",
       "\n",
       "       arrivalAirportWeather  is_crestian_holiday  departureDate_year  \\\n",
       "count                 4786.0          4786.000000         4786.000000   \n",
       "mean                     0.0             0.012537         2019.546176   \n",
       "std                      0.0             0.111274            2.680020   \n",
       "min                      0.0             0.000000         2015.000000   \n",
       "25%                      0.0             0.000000         2017.000000   \n",
       "50%                      0.0             0.000000         2021.000000   \n",
       "75%                      0.0             0.000000         2022.000000   \n",
       "max                      0.0             1.000000         2023.000000   \n",
       "\n",
       "       departureDate_hour  departureDate_minute  arrivalDate_year  \\\n",
       "count         4786.000000           4786.000000       4786.000000   \n",
       "mean            12.987046             20.936064       2019.547430   \n",
       "std              6.788108             17.727311          2.679686   \n",
       "min              0.000000              0.000000       2015.000000   \n",
       "25%              7.000000              5.000000       2017.000000   \n",
       "50%             14.000000             20.000000       2021.000000   \n",
       "75%             19.000000             31.500000       2022.000000   \n",
       "max             23.000000             57.000000       2023.000000   \n",
       "\n",
       "       arrivalDate_hour  arrivalDate_minute  departureDate_day_in_year  \\\n",
       "count       4786.000000         4786.000000                4487.000000   \n",
       "mean          11.167363           26.764522                 187.827947   \n",
       "std            6.003011           18.450293                 104.272267   \n",
       "min            0.000000            0.000000                   1.000000   \n",
       "25%            7.000000           10.000000                  98.500000   \n",
       "50%           11.000000           30.000000                 189.000000   \n",
       "75%           16.000000           45.000000                 283.000000   \n",
       "max           23.000000           59.000000                 365.000000   \n",
       "\n",
       "       arrivalDate_day_in_year  \n",
       "count              4487.000000  \n",
       "mean                187.789169  \n",
       "std                 104.298645  \n",
       "min                   1.000000  \n",
       "25%                  98.000000  \n",
       "50%                 189.000000  \n",
       "75%                 282.000000  \n",
       "max                 365.000000  "
      ]
     },
     "execution_count": 597,
     "metadata": {},
     "output_type": "execute_result"
    }
   ],
   "source": [
    "flights_df.describe()"
   ]
  },
  {
   "attachments": {},
   "cell_type": "markdown",
   "metadata": {},
   "source": [
    "# Convert categprial string values to int"
   ]
  },
  {
   "cell_type": "code",
   "execution_count": null,
   "metadata": {},
   "outputs": [],
   "source": [
    "# def convert_categorials_to_bin(df , cols):\n",
    "#     return pd.get_dummies( df,columns= cols)"
   ]
  },
  {
   "cell_type": "code",
   "execution_count": null,
   "metadata": {},
   "outputs": [],
   "source": [
    "# flights_df = convert_categorials_to_bin(flights_df,['departureAirportFsCode','arrivalAirportFsCode','tailnumber','aircraft_model','departureTerminal','arrivalTerminal'])"
   ]
  },
  {
   "cell_type": "code",
   "execution_count": null,
   "metadata": {},
   "outputs": [],
   "source": [
    "def transfer_str_to_numeric_vals(dataset):\n",
    "    labels, levels = pd.factorize(dataset[['departureAirportFsCode','arrivalAirportFsCode','tailnumber','aircraft_model','departureTerminal','arrivalTerminal']])\n",
    "    dataset[['departureAirportFsCode','arrivalAirportFsCode','tailnumber','aircraft_model','departureTerminal','arrivalTerminal']] = labels\n",
    "    return dataset"
   ]
  },
  {
   "cell_type": "code",
   "execution_count": null,
   "metadata": {},
   "outputs": [],
   "source": [
    "flight_df = transfer_str_to_numeric_vals(flights_df)"
   ]
  },
  {
   "cell_type": "code",
   "execution_count": null,
   "metadata": {},
   "outputs": [],
   "source": [
    "flight_df = flights_df.dropna()"
   ]
  },
  {
   "cell_type": "code",
   "execution_count": null,
   "metadata": {},
   "outputs": [],
   "source": [
    "flight_df.head()"
   ]
  },
  {
   "attachments": {},
   "cell_type": "markdown",
   "metadata": {},
   "source": [
    "# Choosing Machine Lerning Model"
   ]
  },
  {
   "attachments": {},
   "cell_type": "markdown",
   "metadata": {},
   "source": [
    "We are trying to predict contineus value so we will choose Liniar regresion"
   ]
  },
  {
   "attachments": {},
   "cell_type": "markdown",
   "metadata": {},
   "source": [
    "## Build liniar regresion model"
   ]
  },
  {
   "cell_type": "code",
   "execution_count": null,
   "metadata": {},
   "outputs": [],
   "source": [
    "def train_liniar_reg_model(df,label):\n",
    "    scaler = MinMaxScaler()\n",
    "    X=df.drop(label,axis=1)\n",
    "    y= df[label]\n",
    "\n",
    "    x_scaled = scaler.fit_transform(X)\n",
    "    y_scaled = scaler.fit_transform(y.values.reshape(-1, 1))\n",
    "\n",
    "    X_train, X_test, y_train, y_test = train_test_split(x_scaled, y_scaled, test_size=0.2, random_state=42)\n",
    "    lr_model = linear_model = LinearRegression()\n",
    "    lr_model.fit(X_train, y_train)\n",
    "\n",
    "    y_pred = lr_model.predict(X_test)\n",
    "\n",
    "    return X_test,y_test,lr_model,scaler\n",
    "    "
   ]
  },
  {
   "cell_type": "code",
   "execution_count": null,
   "metadata": {},
   "outputs": [],
   "source": [
    "X_test,y_test,model,scaler = train_liniar_reg_model(flight_df.dropna(),'delay_time')"
   ]
  },
  {
   "attachments": {},
   "cell_type": "markdown",
   "metadata": {},
   "source": [
    "## הערכץ ביצועים למודל ריגרסיה ליניארית"
   ]
  },
  {
   "cell_type": "code",
   "execution_count": null,
   "metadata": {},
   "outputs": [],
   "source": [
    "y_pred = model.predict(X_test)\n",
    "#y_pred = scaler.inverse_transform(y_pred)\n",
    "#y_test = scaler.inverse_transform(y_test)\n",
    "mse = mean_squared_error(y_test, y_pred)"
   ]
  },
  {
   "cell_type": "code",
   "execution_count": null,
   "metadata": {},
   "outputs": [
    {
     "data": {
      "text/plain": [
       "1.0243411772765014e+17"
      ]
     },
     "execution_count": 623,
     "metadata": {},
     "output_type": "execute_result"
    }
   ],
   "source": [
    "mse"
   ]
  },
  {
   "cell_type": "code",
   "execution_count": null,
   "metadata": {},
   "outputs": [
    {
     "data": {
      "text/plain": [
       "-2.0699110237182104e+16"
      ]
     },
     "execution_count": 626,
     "metadata": {},
     "output_type": "execute_result"
    }
   ],
   "source": [
    "def get_cross_val_score(df,label):\n",
    "    x=df.drop(label,axis=1)\n",
    "    y= df[label]\n",
    "    return cross_val_score(model, x, y, cv=5, scoring='r2').mean()\n",
    "get_cross_val_score(flight_df,'delay_time')\n"
   ]
  },
  {
   "cell_type": "code",
   "execution_count": null,
   "metadata": {},
   "outputs": [
    {
     "ename": "TypeError",
     "evalue": "expected 1D vector for x",
     "output_type": "error",
     "traceback": [
      "\u001b[1;31m---------------------------------------------------------------------------\u001b[0m",
      "\u001b[1;31mTypeError\u001b[0m                                 Traceback (most recent call last)",
      "\u001b[1;32m~\\AppData\\Local\\Temp\\ipykernel_8972\\2522374117.py\u001b[0m in \u001b[0;36m<module>\u001b[1;34m\u001b[0m\n\u001b[0;32m      6\u001b[0m \u001b[1;33m\u001b[0m\u001b[0m\n\u001b[0;32m      7\u001b[0m \u001b[1;31m# Calculate the regression line\u001b[0m\u001b[1;33m\u001b[0m\u001b[1;33m\u001b[0m\u001b[1;33m\u001b[0m\u001b[0m\n\u001b[1;32m----> 8\u001b[1;33m \u001b[0mslope\u001b[0m\u001b[1;33m,\u001b[0m \u001b[0mintercept\u001b[0m \u001b[1;33m=\u001b[0m \u001b[0mnp\u001b[0m\u001b[1;33m.\u001b[0m\u001b[0mpolyfit\u001b[0m\u001b[1;33m(\u001b[0m\u001b[0my_test\u001b[0m\u001b[1;33m,\u001b[0m \u001b[0my_pred\u001b[0m\u001b[1;33m,\u001b[0m \u001b[1;36m1\u001b[0m\u001b[1;33m)\u001b[0m\u001b[1;33m\u001b[0m\u001b[1;33m\u001b[0m\u001b[0m\n\u001b[0m\u001b[0;32m      9\u001b[0m \u001b[0mregression_line\u001b[0m \u001b[1;33m=\u001b[0m \u001b[0mslope\u001b[0m \u001b[1;33m*\u001b[0m \u001b[0my_test\u001b[0m \u001b[1;33m+\u001b[0m \u001b[0mintercept\u001b[0m\u001b[1;33m\u001b[0m\u001b[1;33m\u001b[0m\u001b[0m\n\u001b[0;32m     10\u001b[0m \u001b[1;33m\u001b[0m\u001b[0m\n",
      "\u001b[1;32m<__array_function__ internals>\u001b[0m in \u001b[0;36mpolyfit\u001b[1;34m(*args, **kwargs)\u001b[0m\n",
      "\u001b[1;32m~\\AppData\\Local\\Packages\\PythonSoftwareFoundation.Python.3.7_qbz5n2kfra8p0\\LocalCache\\local-packages\\Python37\\site-packages\\numpy\\lib\\polynomial.py\u001b[0m in \u001b[0;36mpolyfit\u001b[1;34m(x, y, deg, rcond, full, w, cov)\u001b[0m\n\u001b[0;32m    626\u001b[0m         \u001b[1;32mraise\u001b[0m \u001b[0mValueError\u001b[0m\u001b[1;33m(\u001b[0m\u001b[1;34m\"expected deg >= 0\"\u001b[0m\u001b[1;33m)\u001b[0m\u001b[1;33m\u001b[0m\u001b[1;33m\u001b[0m\u001b[0m\n\u001b[0;32m    627\u001b[0m     \u001b[1;32mif\u001b[0m \u001b[0mx\u001b[0m\u001b[1;33m.\u001b[0m\u001b[0mndim\u001b[0m \u001b[1;33m!=\u001b[0m \u001b[1;36m1\u001b[0m\u001b[1;33m:\u001b[0m\u001b[1;33m\u001b[0m\u001b[1;33m\u001b[0m\u001b[0m\n\u001b[1;32m--> 628\u001b[1;33m         \u001b[1;32mraise\u001b[0m \u001b[0mTypeError\u001b[0m\u001b[1;33m(\u001b[0m\u001b[1;34m\"expected 1D vector for x\"\u001b[0m\u001b[1;33m)\u001b[0m\u001b[1;33m\u001b[0m\u001b[1;33m\u001b[0m\u001b[0m\n\u001b[0m\u001b[0;32m    629\u001b[0m     \u001b[1;32mif\u001b[0m \u001b[0mx\u001b[0m\u001b[1;33m.\u001b[0m\u001b[0msize\u001b[0m \u001b[1;33m==\u001b[0m \u001b[1;36m0\u001b[0m\u001b[1;33m:\u001b[0m\u001b[1;33m\u001b[0m\u001b[1;33m\u001b[0m\u001b[0m\n\u001b[0;32m    630\u001b[0m         \u001b[1;32mraise\u001b[0m \u001b[0mTypeError\u001b[0m\u001b[1;33m(\u001b[0m\u001b[1;34m\"expected non-empty vector for x\"\u001b[0m\u001b[1;33m)\u001b[0m\u001b[1;33m\u001b[0m\u001b[1;33m\u001b[0m\u001b[0m\n",
      "\u001b[1;31mTypeError\u001b[0m: expected 1D vector for x"
     ]
    },
    {
     "data": {
      "image/png": "[encoded data removed]",
      "text/plain": [
       "<Figure size 640x480 with 1 Axes>"
      ]
     },
     "metadata": {},
     "output_type": "display_data"
    }
   ],
   "source": [
    "plt.scatter(y_test, y_pred)\n",
    "plt.xlabel(\"Actual Values\")\n",
    "plt.ylabel(\"Predicted Values\")\n",
    "plt.title(\"Linear Regression - Actual vs. Predicted\")\n",
    "\n",
    "\n",
    "# Calculate the regression line\n",
    "slope, intercept = np.polyfit(y_test, y_pred, 1)\n",
    "regression_line = slope * y_test + intercept\n",
    "\n",
    "# Plot the regression line\n",
    "plt.plot(y_test, regression_line, color='red')\n",
    "plt.show()"
   ]
  },
  {
   "attachments": {},
   "cell_type": "markdown",
   "metadata": {},
   "source": [
    "# Try other models to improve our preformance"
   ]
  },
  {
   "attachments": {},
   "cell_type": "markdown",
   "metadata": {},
   "source": [
    "We can convert our problem to classification problem by convert \"delay_time\" column to binds\n",
    "then use Random forest model"
   ]
  },
  {
   "attachments": {},
   "cell_type": "markdown",
   "metadata": {},
   "source": [
    "## Convert flight_delay to binds"
   ]
  },
  {
   "cell_type": "code",
   "execution_count": null,
   "metadata": {},
   "outputs": [],
   "source": [
    "def convert_col_to_bins(df,col):\n",
    "    bins = [i + 20 for i in range(100)]\n",
    "    print(np.digitize(df[col], bins) -1)\n",
    "    df[col] = np.digitize(df[col], bins) -1\n",
    "    return df\n"
   ]
  },
  {
   "attachments": {},
   "cell_type": "markdown",
   "metadata": {},
   "source": [
    "## Build Random forest mpdel"
   ]
  },
  {
   "cell_type": "code",
   "execution_count": null,
   "metadata": {},
   "outputs": [],
   "source": [
    "def train_random_forest_tree_model(df,label):\n",
    "    X_train, X_test, y_train, y_test = train_test_split(df.drop(label,axis=1), df[label], test_size=0.2, random_state=42)\n",
    "    rf_model = RandomForestClassifier(n_estimators=100, random_state=42)\n",
    "    rf_model.fit(X_train, y_train)\n",
    "    return X_test,y_test,rf_model\n",
    "    "
   ]
  },
  {
   "cell_type": "code",
   "execution_count": null,
   "metadata": {},
   "outputs": [
    {
     "ename": "ValueError",
     "evalue": "Input contains NaN, infinity or a value too large for dtype('float32').",
     "output_type": "error",
     "traceback": [
      "\u001b[1;31m---------------------------------------------------------------------------\u001b[0m",
      "\u001b[1;31mValueError\u001b[0m                                Traceback (most recent call last)",
      "\u001b[1;32m~\\AppData\\Local\\Temp\\ipykernel_8972\\280612069.py\u001b[0m in \u001b[0;36m<module>\u001b[1;34m\u001b[0m\n\u001b[1;32m----> 1\u001b[1;33m \u001b[0mX_test\u001b[0m\u001b[1;33m,\u001b[0m\u001b[0my_test\u001b[0m\u001b[1;33m,\u001b[0m\u001b[0mrf_model\u001b[0m \u001b[1;33m=\u001b[0m \u001b[0mtrain_random_forest_tree_model\u001b[0m\u001b[1;33m(\u001b[0m\u001b[0mscaled_flights_df\u001b[0m\u001b[1;33m,\u001b[0m\u001b[1;34m'delay_time'\u001b[0m\u001b[1;33m)\u001b[0m\u001b[1;33m\u001b[0m\u001b[1;33m\u001b[0m\u001b[0m\n\u001b[0m",
      "\u001b[1;32m~\\AppData\\Local\\Temp\\ipykernel_8972\\2335024428.py\u001b[0m in \u001b[0;36mtrain_random_forest_tree_model\u001b[1;34m(df, label)\u001b[0m\n\u001b[0;32m      2\u001b[0m     \u001b[0mX_train\u001b[0m\u001b[1;33m,\u001b[0m \u001b[0mX_test\u001b[0m\u001b[1;33m,\u001b[0m \u001b[0my_train\u001b[0m\u001b[1;33m,\u001b[0m \u001b[0my_test\u001b[0m \u001b[1;33m=\u001b[0m \u001b[0mtrain_test_split\u001b[0m\u001b[1;33m(\u001b[0m\u001b[0mdf\u001b[0m\u001b[1;33m.\u001b[0m\u001b[0mdrop\u001b[0m\u001b[1;33m(\u001b[0m\u001b[0mlabel\u001b[0m\u001b[1;33m,\u001b[0m\u001b[0maxis\u001b[0m\u001b[1;33m=\u001b[0m\u001b[1;36m1\u001b[0m\u001b[1;33m)\u001b[0m\u001b[1;33m,\u001b[0m \u001b[0mdf\u001b[0m\u001b[1;33m[\u001b[0m\u001b[0mlabel\u001b[0m\u001b[1;33m]\u001b[0m\u001b[1;33m,\u001b[0m \u001b[0mtest_size\u001b[0m\u001b[1;33m=\u001b[0m\u001b[1;36m0.2\u001b[0m\u001b[1;33m,\u001b[0m \u001b[0mrandom_state\u001b[0m\u001b[1;33m=\u001b[0m\u001b[1;36m42\u001b[0m\u001b[1;33m)\u001b[0m\u001b[1;33m\u001b[0m\u001b[1;33m\u001b[0m\u001b[0m\n\u001b[0;32m      3\u001b[0m     \u001b[0mrf_model\u001b[0m \u001b[1;33m=\u001b[0m \u001b[0mRandomForestClassifier\u001b[0m\u001b[1;33m(\u001b[0m\u001b[0mn_estimators\u001b[0m\u001b[1;33m=\u001b[0m\u001b[1;36m100\u001b[0m\u001b[1;33m,\u001b[0m \u001b[0mrandom_state\u001b[0m\u001b[1;33m=\u001b[0m\u001b[1;36m42\u001b[0m\u001b[1;33m)\u001b[0m\u001b[1;33m\u001b[0m\u001b[1;33m\u001b[0m\u001b[0m\n\u001b[1;32m----> 4\u001b[1;33m     \u001b[0mrf_model\u001b[0m\u001b[1;33m.\u001b[0m\u001b[0mfit\u001b[0m\u001b[1;33m(\u001b[0m\u001b[0mX_train\u001b[0m\u001b[1;33m,\u001b[0m \u001b[0my_train\u001b[0m\u001b[1;33m)\u001b[0m\u001b[1;33m\u001b[0m\u001b[1;33m\u001b[0m\u001b[0m\n\u001b[0m\u001b[0;32m      5\u001b[0m     \u001b[1;32mreturn\u001b[0m \u001b[0mX_test\u001b[0m\u001b[1;33m,\u001b[0m\u001b[0my_test\u001b[0m\u001b[1;33m,\u001b[0m\u001b[0mrf_model\u001b[0m\u001b[1;33m\u001b[0m\u001b[1;33m\u001b[0m\u001b[0m\n\u001b[0;32m      6\u001b[0m \u001b[1;33m\u001b[0m\u001b[0m\n",
      "\u001b[1;32m~\\AppData\\Local\\Packages\\PythonSoftwareFoundation.Python.3.7_qbz5n2kfra8p0\\LocalCache\\local-packages\\Python37\\site-packages\\sklearn\\ensemble\\_forest.py\u001b[0m in \u001b[0;36mfit\u001b[1;34m(self, X, y, sample_weight)\u001b[0m\n\u001b[0;32m    326\u001b[0m             \u001b[1;32mraise\u001b[0m \u001b[0mValueError\u001b[0m\u001b[1;33m(\u001b[0m\u001b[1;34m\"sparse multilabel-indicator for y is not supported.\"\u001b[0m\u001b[1;33m)\u001b[0m\u001b[1;33m\u001b[0m\u001b[1;33m\u001b[0m\u001b[0m\n\u001b[0;32m    327\u001b[0m         X, y = self._validate_data(\n\u001b[1;32m--> 328\u001b[1;33m             \u001b[0mX\u001b[0m\u001b[1;33m,\u001b[0m \u001b[0my\u001b[0m\u001b[1;33m,\u001b[0m \u001b[0mmulti_output\u001b[0m\u001b[1;33m=\u001b[0m\u001b[1;32mTrue\u001b[0m\u001b[1;33m,\u001b[0m \u001b[0maccept_sparse\u001b[0m\u001b[1;33m=\u001b[0m\u001b[1;34m\"csc\"\u001b[0m\u001b[1;33m,\u001b[0m \u001b[0mdtype\u001b[0m\u001b[1;33m=\u001b[0m\u001b[0mDTYPE\u001b[0m\u001b[1;33m\u001b[0m\u001b[1;33m\u001b[0m\u001b[0m\n\u001b[0m\u001b[0;32m    329\u001b[0m         )\n\u001b[0;32m    330\u001b[0m         \u001b[1;32mif\u001b[0m \u001b[0msample_weight\u001b[0m \u001b[1;32mis\u001b[0m \u001b[1;32mnot\u001b[0m \u001b[1;32mNone\u001b[0m\u001b[1;33m:\u001b[0m\u001b[1;33m\u001b[0m\u001b[1;33m\u001b[0m\u001b[0m\n",
      "\u001b[1;32m~\\AppData\\Local\\Packages\\PythonSoftwareFoundation.Python.3.7_qbz5n2kfra8p0\\LocalCache\\local-packages\\Python37\\site-packages\\sklearn\\base.py\u001b[0m in \u001b[0;36m_validate_data\u001b[1;34m(self, X, y, reset, validate_separately, **check_params)\u001b[0m\n\u001b[0;32m    579\u001b[0m                 \u001b[0my\u001b[0m \u001b[1;33m=\u001b[0m \u001b[0mcheck_array\u001b[0m\u001b[1;33m(\u001b[0m\u001b[0my\u001b[0m\u001b[1;33m,\u001b[0m \u001b[1;33m**\u001b[0m\u001b[0mcheck_y_params\u001b[0m\u001b[1;33m)\u001b[0m\u001b[1;33m\u001b[0m\u001b[1;33m\u001b[0m\u001b[0m\n\u001b[0;32m    580\u001b[0m             \u001b[1;32melse\u001b[0m\u001b[1;33m:\u001b[0m\u001b[1;33m\u001b[0m\u001b[1;33m\u001b[0m\u001b[0m\n\u001b[1;32m--> 581\u001b[1;33m                 \u001b[0mX\u001b[0m\u001b[1;33m,\u001b[0m \u001b[0my\u001b[0m \u001b[1;33m=\u001b[0m \u001b[0mcheck_X_y\u001b[0m\u001b[1;33m(\u001b[0m\u001b[0mX\u001b[0m\u001b[1;33m,\u001b[0m \u001b[0my\u001b[0m\u001b[1;33m,\u001b[0m \u001b[1;33m**\u001b[0m\u001b[0mcheck_params\u001b[0m\u001b[1;33m)\u001b[0m\u001b[1;33m\u001b[0m\u001b[1;33m\u001b[0m\u001b[0m\n\u001b[0m\u001b[0;32m    582\u001b[0m             \u001b[0mout\u001b[0m \u001b[1;33m=\u001b[0m \u001b[0mX\u001b[0m\u001b[1;33m,\u001b[0m \u001b[0my\u001b[0m\u001b[1;33m\u001b[0m\u001b[1;33m\u001b[0m\u001b[0m\n\u001b[0;32m    583\u001b[0m \u001b[1;33m\u001b[0m\u001b[0m\n",
      "\u001b[1;32m~\\AppData\\Local\\Packages\\PythonSoftwareFoundation.Python.3.7_qbz5n2kfra8p0\\LocalCache\\local-packages\\Python37\\site-packages\\sklearn\\utils\\validation.py\u001b[0m in \u001b[0;36mcheck_X_y\u001b[1;34m(X, y, accept_sparse, accept_large_sparse, dtype, order, copy, force_all_finite, ensure_2d, allow_nd, multi_output, ensure_min_samples, ensure_min_features, y_numeric, estimator)\u001b[0m\n\u001b[0;32m    974\u001b[0m         \u001b[0mensure_min_samples\u001b[0m\u001b[1;33m=\u001b[0m\u001b[0mensure_min_samples\u001b[0m\u001b[1;33m,\u001b[0m\u001b[1;33m\u001b[0m\u001b[1;33m\u001b[0m\u001b[0m\n\u001b[0;32m    975\u001b[0m         \u001b[0mensure_min_features\u001b[0m\u001b[1;33m=\u001b[0m\u001b[0mensure_min_features\u001b[0m\u001b[1;33m,\u001b[0m\u001b[1;33m\u001b[0m\u001b[1;33m\u001b[0m\u001b[0m\n\u001b[1;32m--> 976\u001b[1;33m         \u001b[0mestimator\u001b[0m\u001b[1;33m=\u001b[0m\u001b[0mestimator\u001b[0m\u001b[1;33m,\u001b[0m\u001b[1;33m\u001b[0m\u001b[1;33m\u001b[0m\u001b[0m\n\u001b[0m\u001b[0;32m    977\u001b[0m     )\n\u001b[0;32m    978\u001b[0m \u001b[1;33m\u001b[0m\u001b[0m\n",
      "\u001b[1;32m~\\AppData\\Local\\Packages\\PythonSoftwareFoundation.Python.3.7_qbz5n2kfra8p0\\LocalCache\\local-packages\\Python37\\site-packages\\sklearn\\utils\\validation.py\u001b[0m in \u001b[0;36mcheck_array\u001b[1;34m(array, accept_sparse, accept_large_sparse, dtype, order, copy, force_all_finite, ensure_2d, allow_nd, ensure_min_samples, ensure_min_features, estimator)\u001b[0m\n\u001b[0;32m    798\u001b[0m \u001b[1;33m\u001b[0m\u001b[0m\n\u001b[0;32m    799\u001b[0m         \u001b[1;32mif\u001b[0m \u001b[0mforce_all_finite\u001b[0m\u001b[1;33m:\u001b[0m\u001b[1;33m\u001b[0m\u001b[1;33m\u001b[0m\u001b[0m\n\u001b[1;32m--> 800\u001b[1;33m             \u001b[0m_assert_all_finite\u001b[0m\u001b[1;33m(\u001b[0m\u001b[0marray\u001b[0m\u001b[1;33m,\u001b[0m \u001b[0mallow_nan\u001b[0m\u001b[1;33m=\u001b[0m\u001b[0mforce_all_finite\u001b[0m \u001b[1;33m==\u001b[0m \u001b[1;34m\"allow-nan\"\u001b[0m\u001b[1;33m)\u001b[0m\u001b[1;33m\u001b[0m\u001b[1;33m\u001b[0m\u001b[0m\n\u001b[0m\u001b[0;32m    801\u001b[0m \u001b[1;33m\u001b[0m\u001b[0m\n\u001b[0;32m    802\u001b[0m     \u001b[1;32mif\u001b[0m \u001b[0mensure_min_samples\u001b[0m \u001b[1;33m>\u001b[0m \u001b[1;36m0\u001b[0m\u001b[1;33m:\u001b[0m\u001b[1;33m\u001b[0m\u001b[1;33m\u001b[0m\u001b[0m\n",
      "\u001b[1;32m~\\AppData\\Local\\Packages\\PythonSoftwareFoundation.Python.3.7_qbz5n2kfra8p0\\LocalCache\\local-packages\\Python37\\site-packages\\sklearn\\utils\\validation.py\u001b[0m in \u001b[0;36m_assert_all_finite\u001b[1;34m(X, allow_nan, msg_dtype)\u001b[0m\n\u001b[0;32m    114\u001b[0m             raise ValueError(\n\u001b[0;32m    115\u001b[0m                 msg_err.format(\n\u001b[1;32m--> 116\u001b[1;33m                     \u001b[0mtype_err\u001b[0m\u001b[1;33m,\u001b[0m \u001b[0mmsg_dtype\u001b[0m \u001b[1;32mif\u001b[0m \u001b[0mmsg_dtype\u001b[0m \u001b[1;32mis\u001b[0m \u001b[1;32mnot\u001b[0m \u001b[1;32mNone\u001b[0m \u001b[1;32melse\u001b[0m \u001b[0mX\u001b[0m\u001b[1;33m.\u001b[0m\u001b[0mdtype\u001b[0m\u001b[1;33m\u001b[0m\u001b[1;33m\u001b[0m\u001b[0m\n\u001b[0m\u001b[0;32m    117\u001b[0m                 )\n\u001b[0;32m    118\u001b[0m             )\n",
      "\u001b[1;31mValueError\u001b[0m: Input contains NaN, infinity or a value too large for dtype('float32')."
     ]
    }
   ],
   "source": [
    "X_test,y_test,rf_model = train_random_forest_tree_model(scaled_flights_df,'delay_time')"
   ]
  },
  {
   "attachments": {},
   "cell_type": "markdown",
   "metadata": {},
   "source": [
    "## Hyper parameter tuning"
   ]
  },
  {
   "cell_type": "code",
   "execution_count": null,
   "metadata": {},
   "outputs": [],
   "source": []
  },
  {
   "attachments": {},
   "cell_type": "markdown",
   "metadata": {},
   "source": [
    "## הערכת ביצועים למודל random forest"
   ]
  },
  {
   "cell_type": "code",
   "execution_count": null,
   "metadata": {},
   "outputs": [],
   "source": []
  },
  {
   "attachments": {},
   "cell_type": "markdown",
   "metadata": {},
   "source": [
    "# Compare between 2 models"
   ]
  },
  {
   "cell_type": "code",
   "execution_count": null,
   "metadata": {},
   "outputs": [],
   "source": []
  }
 ],
 "metadata": {
  "kernelspec": {
   "display_name": "Python 3",
   "language": "python",
   "name": "python3"
  },
  "language_info": {
   "codemirror_mode": {
    "name": "ipython",
    "version": 3
   },
   "file_extension": ".py",
   "mimetype": "text/x-python",
   "name": "python",
   "nbconvert_exporter": "python",
   "pygments_lexer": "ipython3",
   "version": "3.7.9"
  },
  "orig_nbformat": 4
 },
 "nbformat": 4,
 "nbformat_minor": 2
}
